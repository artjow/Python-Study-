{
  "nbformat": 4,
  "nbformat_minor": 0,
  "metadata": {
    "colab": {
      "name": "useful function.ipynb",
      "provenance": [],
      "authorship_tag": "ABX9TyNZipcwAxrMLQmGrLiIDdQk",
      "include_colab_link": true
    },
    "kernelspec": {
      "name": "python3",
      "display_name": "Python 3"
    }
  },
  "cells": [
    {
      "cell_type": "markdown",
      "metadata": {
        "id": "view-in-github",
        "colab_type": "text"
      },
      "source": [
        "<a href=\"https://colab.research.google.com/github/chohyungrae/Python-Study-/blob/master/useful_function.ipynb\" target=\"_parent\"><img src=\"https://colab.research.google.com/assets/colab-badge.svg\" alt=\"Open In Colab\"/></a>"
      ]
    },
    {
      "cell_type": "code",
      "metadata": {
        "colab": {
          "base_uri": "https://localhost:8080/"
        },
        "id": "M7sv2QEc5aVW",
        "outputId": "9bcc78a2-268a-4294-9216-cd33b7300734"
      },
      "source": [
        "#type()함수\r\n",
        "#type을 알려주는 함수\r\n",
        "a=[10,20,30,40,50]\r\n",
        "b=(10,20,30,40,50)\r\n",
        "c={\"Kim\":90, \"LEE\":80}\r\n",
        "d='Seoul, Korea'\r\n",
        "e=[[100,200],[300,400],[500,600]]\r\n",
        "   \r\n",
        "print(type(a), type(b), type(c), type(d), type(e))"
      ],
      "execution_count": 11,
      "outputs": [
        {
          "output_type": "stream",
          "text": [
            "<class 'list'> <class 'tuple'> <class 'dict'> <class 'str'> <class 'list'>\n"
          ],
          "name": "stdout"
        }
      ]
    },
    {
      "cell_type": "code",
      "metadata": {
        "colab": {
          "base_uri": "https://localhost:8080/"
        },
        "id": "6muCvBXE6VI3",
        "outputId": "882313ce-bbaf-4b64-98e5-e6c4ffeced32"
      },
      "source": [
        "print(len(a), len(b), len(c), len(d), len(e)) # len 입력데이터의 길이"
      ],
      "execution_count": 12,
      "outputs": [
        {
          "output_type": "stream",
          "text": [
            "5 5 2 12 3\n"
          ],
          "name": "stdout"
        }
      ]
    },
    {
      "cell_type": "code",
      "metadata": {
        "colab": {
          "base_uri": "https://localhost:8080/"
        },
        "id": "bNotcLYQ7KoZ",
        "outputId": "ac24b69c-2f15-4071-f797-ac2f6f7afa9a"
      },
      "source": [
        "# list(data)는 입력data를 리스트로 만들어 리턴하는 함수\r\n",
        "a='Hello'\r\n",
        "b={\"Kim\":90, \"LEE\":80}\r\n",
        "print(list(a), list(b.keys()), list(b.values()), list(b. items()))"
      ],
      "execution_count": 22,
      "outputs": [
        {
          "output_type": "stream",
          "text": [
            "['H', 'e', 'l', 'l', 'o'] ['Kim', 'LEE'] [90, 80] [('Kim', 90), ('LEE', 80)]\n"
          ],
          "name": "stdout"
        }
      ]
    },
    {
      "cell_type": "code",
      "metadata": {
        "colab": {
          "base_uri": "https://localhost:8080/",
          "height": 36
        },
        "id": "qOH40eWn7bYc",
        "outputId": "28dcb4c2-4810-41ce-c834-093344070c6d"
      },
      "source": [
        "#str(data)은 입력되는 data를 문자열로 변환하여 리턴하는 함수\r\n",
        "str(3.14)"
      ],
      "execution_count": 23,
      "outputs": [
        {
          "output_type": "execute_result",
          "data": {
            "application/vnd.google.colaboratory.intrinsic+json": {
              "type": "string"
            },
            "text/plain": [
              "'3.14'"
            ]
          },
          "metadata": {
            "tags": []
          },
          "execution_count": 23
        }
      ]
    },
    {
      "cell_type": "code",
      "metadata": {
        "colab": {
          "base_uri": "https://localhost:8080/",
          "height": 36
        },
        "id": "aa3ySOQ3_-na",
        "outputId": "bd11fddd-4858-43b2-b191-c7ad80d87b1a"
      },
      "source": [
        "str('100')"
      ],
      "execution_count": 24,
      "outputs": [
        {
          "output_type": "execute_result",
          "data": {
            "application/vnd.google.colaboratory.intrinsic+json": {
              "type": "string"
            },
            "text/plain": [
              "'100'"
            ]
          },
          "metadata": {
            "tags": []
          },
          "execution_count": 24
        }
      ]
    },
    {
      "cell_type": "code",
      "metadata": {
        "colab": {
          "base_uri": "https://localhost:8080/",
          "height": 36
        },
        "id": "cwK8mX9GABDL",
        "outputId": "9eca8dfe-ce4f-4f27-e386-65c37c0eae27"
      },
      "source": [
        "str([1,2,3])"
      ],
      "execution_count": 25,
      "outputs": [
        {
          "output_type": "execute_result",
          "data": {
            "application/vnd.google.colaboratory.intrinsic+json": {
              "type": "string"
            },
            "text/plain": [
              "'[1, 2, 3]'"
            ]
          },
          "metadata": {
            "tags": []
          },
          "execution_count": 25
        }
      ]
    },
    {
      "cell_type": "code",
      "metadata": {
        "colab": {
          "base_uri": "https://localhost:8080/"
        },
        "id": "BuzfXFL1AD2z",
        "outputId": "3c0805d7-df4f-415f-b4ad-fbf63e692f54"
      },
      "source": [
        "# int(data)는 문자열 형태로 입력되는 숫자나 소수점이 있는 숫자등을 정수로 리턴하는 함수\r\n",
        "int('100')"
      ],
      "execution_count": 26,
      "outputs": [
        {
          "output_type": "execute_result",
          "data": {
            "text/plain": [
              "100"
            ]
          },
          "metadata": {
            "tags": []
          },
          "execution_count": 26
        }
      ]
    },
    {
      "cell_type": "code",
      "metadata": {
        "colab": {
          "base_uri": "https://localhost:8080/"
        },
        "id": "tRYArjL8APf-",
        "outputId": "5b9b95c0-96d4-4bd9-c9a3-3a661ff5782b"
      },
      "source": [
        "int(3.14)"
      ],
      "execution_count": 27,
      "outputs": [
        {
          "output_type": "execute_result",
          "data": {
            "text/plain": [
              "3"
            ]
          },
          "metadata": {
            "tags": []
          },
          "execution_count": 27
        }
      ]
    },
    {
      "cell_type": "code",
      "metadata": {
        "id": "oxrmsQiMARlo"
      },
      "source": [
        ""
      ],
      "execution_count": null,
      "outputs": []
    }
  ]
}