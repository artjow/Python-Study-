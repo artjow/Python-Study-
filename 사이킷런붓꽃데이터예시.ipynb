{
  "nbformat": 4,
  "nbformat_minor": 0,
  "metadata": {
    "colab": {
      "name": "사이킷런붓꽃데이터예시.ipynb",
      "provenance": [],
      "authorship_tag": "ABX9TyPJ6hMDdvybPxLuUGLKbDuN",
      "include_colab_link": true
    },
    "kernelspec": {
      "name": "python3",
      "display_name": "Python 3"
    }
  },
  "cells": [
    {
      "cell_type": "markdown",
      "metadata": {
        "id": "view-in-github",
        "colab_type": "text"
      },
      "source": [
        "<a href=\"https://colab.research.google.com/github/chohyungrae/Python-Study-/blob/master/%EC%82%AC%EC%9D%B4%ED%82%B7%EB%9F%B0%EB%B6%93%EA%BD%83%EB%8D%B0%EC%9D%B4%ED%84%B0%EC%98%88%EC%8B%9C.ipynb\" target=\"_parent\"><img src=\"https://colab.research.google.com/assets/colab-badge.svg\" alt=\"Open In Colab\"/></a>"
      ]
    },
    {
      "cell_type": "markdown",
      "metadata": {
        "id": "pahco7D-72pt"
      },
      "source": [
        "사이킷런 라이브러리에 기본적으로 내장돼 있는 데이터 중 하나인 붓꽃 데이터를 이용한 예시를 통해 알아보도록 하겠습니다."
      ]
    },
    {
      "cell_type": "code",
      "metadata": {
        "colab": {
          "base_uri": "https://localhost:8080/"
        },
        "id": "rW4bmqwk6vgB",
        "outputId": "4a490ef0-3fbf-47bd-9b99-8da1d6c0b47e"
      },
      "source": [
        "from sklearn.datasets import load_iris\r\n",
        "from sklearn.model_selection import train_test_split\r\n",
        "\r\n",
        "iris_dataset = load_iris()\r\n",
        "target = iris_dataset['target']    # label\r\n",
        "\r\n",
        "# train/test 데이터 분리\r\n",
        "train_input, test_input, train_label, test_label = train_test_split(iris_dataset['data'],\r\n",
        "                                                                    target,\r\n",
        "                                                                    test_size = 0.25,   # test data의 비율\r\n",
        "                                                                    random_state=42)    # random seed 값\r\n",
        "# 지도학습 모델 중 k-nn모델\r\n",
        "from sklearn.neighbors import KNeighborsClassifier\r\n",
        "knn = KNeighborsClassifier(n_neighbors = 1)\r\n",
        "\r\n",
        "knn.fit(train_input, train_label)    # 분류기 모델에 학습 데이터와 label 데이터 적용\r\n",
        "predict_label = knn.predict(test_input)    # 분류기 모델의 결과 예측\r\n",
        "\r\n",
        "import numpy as np\r\n",
        "print('test accuracy {:.2f}'.format(np.mean(test_label == predict_label)))   # 정확도 출력 1\r\n",
        "\r\n",
        "from sklearn.metrics import accuracy_score\r\n",
        "print('test accuracy {:.2f}'.format(accuracy_score(test_label, predict_label)))    # 정확도 출력 2\r\n",
        "\r\n",
        "# 비지도학습 모델 중 k-means 모델\r\n",
        "from sklearn.cluster import KMeans\r\n",
        "k_means = KMeans(n_clusters=3)\r\n",
        "\r\n",
        "k_means.fit(train_input)\r\n",
        "predict_cluster = k_means.predict(test_input)\r\n",
        "print(predict_cluster)\r\n",
        "\r\n",
        "# 단, 군집의 순서와 label의 값은 다를 수 있음, 예를 들어 0번째 군집에 라벨1인 데이터들이 주로 분포할 수 있음\r\n",
        "print(\"0 cluster:\", train_label[k_means.labels_ == 0])\r\n",
        "print(\"1 cluster:\", train_label[k_means.labels_ == 1])\r\n",
        "print(\"2 cluster:\", train_label[k_means.labels_ == 2])"
      ],
      "execution_count": 2,
      "outputs": [
        {
          "output_type": "stream",
          "text": [
            "test accuracy 1.00\n",
            "test accuracy 1.00\n",
            "[0 1 2 0 0 1 0 2 0 0 2 1 1 1 1 0 2 0 0 2 1 0 1 2 2 2 2 2 1 1 1 1 0 1 1 0 0\n",
            " 1]\n",
            "0 cluster: [2 1 1 1 2 1 1 1 1 1 2 1 1 1 2 2 2 1 1 1 1 1 2 1 1 1 1 2 1 1 1 2 1 1 1 1 1\n",
            " 1 1 1 1 1 1 2 2 1 2 1]\n",
            "1 cluster: [0 0 0 0 0 0 0 0 0 0 0 0 0 0 0 0 0 0 0 0 0 0 0 0 0 0 0 0 0 0 0 0 0 0 0]\n",
            "2 cluster: [2 2 2 2 2 2 2 1 2 2 2 2 2 2 2 1 2 2 2 2 2 2 2 2 1 2 2 2 2]\n"
          ],
          "name": "stdout"
        }
      ]
    },
    {
      "cell_type": "code",
      "metadata": {
        "id": "SDR_V8RJ6xOX"
      },
      "source": [
        ""
      ],
      "execution_count": null,
      "outputs": []
    }
  ]
}