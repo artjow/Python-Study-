{
  "nbformat": 4,
  "nbformat_minor": 0,
  "metadata": {
    "colab": {
      "name": "텐서플로어Eager Execution (즉시 실행 모드).ipynb",
      "provenance": [],
      "authorship_tag": "ABX9TyMzpVwuDq72fUaKZsPLevSC",
      "include_colab_link": true
    },
    "kernelspec": {
      "name": "python3",
      "display_name": "Python 3"
    }
  },
  "cells": [
    {
      "cell_type": "markdown",
      "metadata": {
        "id": "view-in-github",
        "colab_type": "text"
      },
      "source": [
        "<a href=\"https://colab.research.google.com/github/chohyungrae/Python-Study-/blob/master/%ED%85%90%EC%84%9C%ED%94%8C%EB%A1%9C%EC%96%B4Eager_Execution_(%EC%A6%89%EC%8B%9C_%EC%8B%A4%ED%96%89_%EB%AA%A8%EB%93%9C).ipynb\" target=\"_parent\"><img src=\"https://colab.research.google.com/assets/colab-badge.svg\" alt=\"Open In Colab\"/></a>"
      ]
    },
    {
      "cell_type": "markdown",
      "metadata": {
        "id": "xaC9RTl1lDh6"
      },
      "source": [
        "https://www.youtube.com/watch?v=YglrA-qoKa4&list=PLS8gIc2q83OhM0RTktKDitgZGX5dHo7Vs&index=4"
      ]
    },
    {
      "cell_type": "code",
      "metadata": {
        "colab": {
          "base_uri": "https://localhost:8080/",
          "height": 36
        },
        "id": "moG9l5c8ipYt",
        "outputId": "720dc1af-5f7e-47b4-d104-81d75fd9e962"
      },
      "source": [
        "import tensorflow as tf\r\n",
        "\r\n",
        "tf.__version__\r\n"
      ],
      "execution_count": 1,
      "outputs": [
        {
          "output_type": "execute_result",
          "data": {
            "application/vnd.google.colaboratory.intrinsic+json": {
              "type": "string"
            },
            "text/plain": [
              "'2.4.1'"
            ]
          },
          "metadata": {
            "tags": []
          },
          "execution_count": 1
        }
      ]
    },
    {
      "cell_type": "code",
      "metadata": {
        "colab": {
          "base_uri": "https://localhost:8080/"
        },
        "id": "j2Zcm6StixaW",
        "outputId": "4afc7768-8959-479f-de2c-4cfadf61bb2c"
      },
      "source": [
        "\r\n",
        "a = tf.constant(1.0)\r\n",
        "b = tf.constant(2.0)\r\n",
        "\r\n",
        "c = a + b\r\n",
        "\r\n",
        "print(c.numpy())    # Eager Execution"
      ],
      "execution_count": 2,
      "outputs": [
        {
          "output_type": "stream",
          "text": [
            "3.0\n"
          ],
          "name": "stdout"
        }
      ]
    },
    {
      "cell_type": "code",
      "metadata": {
        "colab": {
          "base_uri": "https://localhost:8080/"
        },
        "id": "Cdfm7mk1i0Tu",
        "outputId": "9a3b59c9-7db7-4732-b94e-025e08a371cf"
      },
      "source": [
        "W = tf.Variable(tf.random.normal([1]))  # 가우시안 분포\r\n",
        "print('initial W = ', W.numpy())\r\n",
        "print('=======')\r\n",
        "\r\n",
        "# session 생성 없이 즉시 실행 (Eager Execution)\r\n",
        "# numpy() 메서드 사용하면 numpy 값을 리턴해줌\r\n",
        "\r\n",
        "for step in range(2):\r\n",
        "    W = W + 1.0\r\n",
        "    print('step = ', step, ', W = ', W.numpy())"
      ],
      "execution_count": 5,
      "outputs": [
        {
          "output_type": "stream",
          "text": [
            "initial W =  [-0.54836696]\n",
            "=======\n",
            "step =  0 , W =  [0.45163304]\n",
            "step =  1 , W =  [1.451633]\n"
          ],
          "name": "stdout"
        }
      ]
    },
    {
      "cell_type": "code",
      "metadata": {
        "colab": {
          "base_uri": "https://localhost:8080/"
        },
        "id": "WC8BPnJyi2wH",
        "outputId": "98716025-fcb1-412c-ea37-d19bdabfb596"
      },
      "source": [
        "\r\n",
        "a = tf.constant(1.0)\r\n",
        "b = tf.constant(3.0)\r\n",
        "\r\n",
        "# 함수 정의\r\n",
        "def tensor_sum(x, y):\r\n",
        "    return x + y\r\n",
        "\r\n",
        "result = tensor_sum(a, b)\r\n",
        "\r\n",
        "print(type(result))\r\n",
        "print(result.numpy())"
      ],
      "execution_count": 4,
      "outputs": [
        {
          "output_type": "stream",
          "text": [
            "<class 'tensorflow.python.framework.ops.EagerTensor'>\n",
            "4.0\n"
          ],
          "name": "stdout"
        }
      ]
    }
  ]
}