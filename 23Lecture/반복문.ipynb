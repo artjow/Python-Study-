{
  "nbformat": 4,
  "nbformat_minor": 0,
  "metadata": {
    "colab": {
      "name": "반복문.ipynb",
      "provenance": []
    },
    "kernelspec": {
      "name": "python3",
      "display_name": "Python 3"
    }
  },
  "cells": [
    {
      "cell_type": "markdown",
      "metadata": {
        "id": "Vq__8WJwp1B_",
        "colab_type": "text"
      },
      "source": [
        "참조; https://wikidocs.net/11107"
      ]
    },
    {
      "cell_type": "markdown",
      "metadata": {
        "id": "3XKPC7Cof2bp",
        "colab_type": "text"
      },
      "source": [
        "### **반복문**\n",
        "1) whlie문\n",
        "\n",
        "\n",
        "*   해당 조건이 참인 경우 반복해서 수행하는 함수이다.\n",
        "\n"
      ]
    },
    {
      "cell_type": "code",
      "metadata": {
        "id": "aaCUKEcBgklo",
        "colab_type": "code",
        "colab": {}
      },
      "source": [
        "# whlle 구조\n",
        "> while < 조건문 >:\n",
        "        < 수행할 문장1 >  \n",
        "        < 수행할 문장2 >  \n",
        "        < 수행할 문장3 > "
      ],
      "execution_count": null,
      "outputs": []
    },
    {
      "cell_type": "code",
      "metadata": {
        "id": "c0AfWseig0rv",
        "colab_type": "code",
        "colab": {}
      },
      "source": [
        "#< 예문 > : 값은 ?번과 같습니다. 10회 출력하는 코드를 작성하라.( 단, 숫자는 출력할때마다 변해야한다. )"
      ],
      "execution_count": 2,
      "outputs": []
    },
    {
      "cell_type": "code",
      "metadata": {
        "id": "yERRIQbpg-PY",
        "colab_type": "code",
        "colab": {
          "base_uri": "https://localhost:8080/",
          "height": 223
        },
        "outputId": "197d3236-1172-47c1-e63d-8912e4028307"
      },
      "source": [
        "aa = 0\n",
        "# 변수 값이 10보다 \n",
        "# 많아질때까지 반복해라\n",
        "while aa < 10:\n",
        "    aa = aa + 1\n",
        "    print(\"값은 %d번과 같습니다.\"% aa)\n",
        "    if aa == 10:\n",
        "        print(\"종료 합니다.\")\n",
        "# 결과 값 :\n",
        "# 값은 1번과 같습니다.\n",
        "# 값은 2번과 같습니다.\n",
        "      # 생 략\n",
        "# 종료 합니다.\n",
        "\n",
        "#* 반복할 때 마다 +1씩 누적 적용되고 최종적으로 10보다 많아지면 if조건을 거짓으로 인식되어 빠져나가게 된다."
      ],
      "execution_count": 4,
      "outputs": [
        {
          "output_type": "stream",
          "text": [
            "값은 1번과 같습니다.\n",
            "값은 2번과 같습니다.\n",
            "값은 3번과 같습니다.\n",
            "값은 4번과 같습니다.\n",
            "값은 5번과 같습니다.\n",
            "값은 6번과 같습니다.\n",
            "값은 7번과 같습니다.\n",
            "값은 8번과 같습니다.\n",
            "값은 9번과 같습니다.\n",
            "값은 10번과 같습니다.\n",
            "종료 합니다.\n"
          ],
          "name": "stdout"
        }
      ]
    },
    {
      "cell_type": "markdown",
      "metadata": {
        "id": "xcKakdUahcE0",
        "colab_type": "text"
      },
      "source": [
        "**2) while문 수행 방법**\n",
        "\n",
        "보조 제어문( break, contlnue )\n",
        "\n",
        "*   break(끝내기) : 조건문을 완전히 빠져나가는 역할을 하는 제어문이다.\n",
        "*   contlnue(계속 실행) : 조건에 맞지 않는 경우, 조건문으로 다시 돌아가는 역할을 하는 제어문이다.\n",
        "\n",
        "\n"
      ]
    },
    {
      "cell_type": "code",
      "metadata": {
        "id": "ZKr8vYpBln9A",
        "colab_type": "code",
        "colab": {}
      },
      "source": [
        "# < 예문 > : 1 ~ 10까지 숫자 중 홀수만 출력해라."
      ],
      "execution_count": null,
      "outputs": []
    },
    {
      "cell_type": "code",
      "metadata": {
        "id": "JgQs0TfclqZV",
        "colab_type": "code",
        "colab": {
          "base_uri": "https://localhost:8080/",
          "height": 111
        },
        "outputId": "84ccac21-df60-4616-e6c9-67a6b7f07942"
      },
      "source": [
        "i = 0\n",
        "# 변수값이 10보다 작은 동안은\n",
        "while i < 10:\n",
        "    # i변수 값에 1만큼 증가한다.\n",
        "    i = i+1\n",
        "    # 변수 값을 나누었을때 a가 짝수,\n",
        "    # 참 이면 cuntinue문장을 수행한다.\n",
        "    if i % 2 == 0: continue\n",
        "    # 하지만 짝수라면 해당 조건을\n",
        "    # 수행하지 않고 빠져 나온다.\n",
        "    print(i) "
      ],
      "execution_count": 5,
      "outputs": [
        {
          "output_type": "stream",
          "text": [
            "1\n",
            "3\n",
            "5\n",
            "7\n",
            "9\n"
          ],
          "name": "stdout"
        }
      ]
    },
    {
      "cell_type": "markdown",
      "metadata": {
        "id": "UERtJu6OmDJ8",
        "colab_type": "text"
      },
      "source": [
        "**3) 무한 루프**\n",
        "\n",
        "구조=>\n",
        "*   while True: \n",
        "\n",
        "   * 조건문이 참(True)이기 때문에 항상 참이 된다.\n"
      ]
    },
    {
      "cell_type": "code",
      "metadata": {
        "id": "T2c4v-OJmgte",
        "colab_type": "code",
        "colab": {}
      },
      "source": [
        "a = 1\n",
        "# 변수 값이 0보다 큰 경우\n",
        "while a>0:\n",
        "    # 해당 값을 출력한다.\n",
        "    print(\"%d 입니다.\"%a)  \n",
        "\n",
        "# 결과 값 :1 입니다.∞\n",
        "# 1이 0보다 크다는 참이기 때문에 \n",
        "# 해당 문자열을 계속 반복 출력한다.  \n"
      ],
      "execution_count": null,
      "outputs": []
    },
    {
      "cell_type": "markdown",
      "metadata": {
        "id": "xllNfx59dhll",
        "colab_type": "text"
      },
      "source": [
        "### **for 문**\n",
        "for 문은 리스트(list)와 같은 순서형(sequence) 자료를 이용해서 원하는 명령을 반복할 때 쓰인다.\n",
        "\n",
        "\n"
      ]
    },
    {
      "cell_type": "code",
      "metadata": {
        "id": "CVCXGZggnn-r",
        "colab_type": "code",
        "colab": {}
      },
      "source": [
        "# for 구조\n",
        "  for 변수 in 리스트(튜플, 문자열):\n",
        "          < 실행할 문장1 >\n",
        "          < 실행할 문장2 >"
      ],
      "execution_count": null,
      "outputs": []
    },
    {
      "cell_type": "code",
      "metadata": {
        "id": "qv_g4bGwn006",
        "colab_type": "code",
        "colab": {}
      },
      "source": [
        "# 문제) 리스트 값을 for문 이용하여 순서대로 출력하는 코드를 작성해라."
      ],
      "execution_count": null,
      "outputs": []
    },
    {
      "cell_type": "code",
      "metadata": {
        "id": "NvP6hKj4n3tS",
        "colab_type": "code",
        "colab": {
          "base_uri": "https://localhost:8080/",
          "height": 73
        },
        "outputId": "7be3cf6c-5f59-4f5f-8e8d-40024a129d45"
      },
      "source": [
        "list = [\"c\",\"d\",\"d\"]\n",
        "for i in list:\n",
        "    print(i)\n",
        "# 요소에 수 만큼 반복문을 수행한다.   "
      ],
      "execution_count": 13,
      "outputs": [
        {
          "output_type": "stream",
          "text": [
            "c\n",
            "d\n",
            "d\n"
          ],
          "name": "stdout"
        }
      ]
    },
    {
      "cell_type": "markdown",
      "metadata": {
        "id": "f5Y_bCWioDT5",
        "colab_type": "text"
      },
      "source": [
        "**for문 수행 방법)**\n",
        "\n",
        "if문(조건문), continue(계속 실행)제어문 사용.\n",
        "\n",
        "문제) 5명 수험생이 시험 보았다. 점수 60점 넘으면 합격, 그렇지 않으면 불합격이다. 라는 코드를 작성하시오."
      ]
    },
    {
      "cell_type": "code",
      "metadata": {
        "id": "fqNsQoDAoM1x",
        "colab_type": "code",
        "colab": {
          "base_uri": "https://localhost:8080/",
          "height": 73
        },
        "outputId": "9c91576b-cc1a-4748-b8c5-f2e49c63e480"
      },
      "source": [
        "a = [90, 25, 67, 45, 80]\n",
        "n = 0\n",
        "for i in a:\n",
        "    n = n + 1\n",
        "    if i<60: continue\n",
        "    print(\"%d번 수험생 합격입니다.\"%n)"
      ],
      "execution_count": 14,
      "outputs": [
        {
          "output_type": "stream",
          "text": [
            "1번 수험생 합격입니다.\n",
            "3번 수험생 합격입니다.\n",
            "5번 수험생 합격입니다.\n"
          ],
          "name": "stdout"
        }
      ]
    },
    {
      "cell_type": "code",
      "metadata": {
        "id": "42m4okhpogpC",
        "colab_type": "code",
        "colab": {
          "base_uri": "https://localhost:8080/",
          "height": 55
        },
        "outputId": "593830ae-095a-412e-ca54-a7a0f4b611c7"
      },
      "source": [
        "#튜플 사용한 for문 활용\n",
        "aa = [(\"a\",\"b\"),(\"d\",\"r\")]\n",
        "for (i,j) in aa:\n",
        "    print(i+j)\n"
      ],
      "execution_count": 15,
      "outputs": [
        {
          "output_type": "stream",
          "text": [
            "ab\n",
            "dr\n"
          ],
          "name": "stdout"
        }
      ]
    },
    {
      "cell_type": "code",
      "metadata": {
        "id": "gJYgFOF5oszR",
        "colab_type": "code",
        "colab": {}
      },
      "source": [
        "#for문 range 함수 활용\n",
        "\n",
        "문제) for문, range함수 이용하여 2 ~ 9단까지 결과 값을 출력해라."
      ],
      "execution_count": null,
      "outputs": []
    },
    {
      "cell_type": "code",
      "metadata": {
        "id": "19DPkn-UoxdE",
        "colab_type": "code",
        "colab": {
          "base_uri": "https://localhost:8080/",
          "height": 167
        },
        "outputId": "9d2060cd-13ba-4a1b-d221-bd6e58d59f21"
      },
      "source": [
        "for i in range(2,10):\n",
        "    for i2 in range(1, 10):\n",
        "        print(i*i2, end=\" \") \n",
        "    print(\"\") "
      ],
      "execution_count": 16,
      "outputs": [
        {
          "output_type": "stream",
          "text": [
            "2 4 6 8 10 12 14 16 18 \n",
            "3 6 9 12 15 18 21 24 27 \n",
            "4 8 12 16 20 24 28 32 36 \n",
            "5 10 15 20 25 30 35 40 45 \n",
            "6 12 18 24 30 36 42 48 54 \n",
            "7 14 21 28 35 42 49 56 63 \n",
            "8 16 24 32 40 48 56 64 72 \n",
            "9 18 27 36 45 54 63 72 81 \n"
          ],
          "name": "stdout"
        }
      ]
    },
    {
      "cell_type": "code",
      "metadata": {
        "id": "oe943CkEo8HY",
        "colab_type": "code",
        "colab": {}
      },
      "source": [
        "'''\n",
        "range함수 : 0부터 해당 숫자 미만 값을 포함하는 객체를 만들어 준다.\n",
        "( 인수 첫번째는 시작, 두번째는 숫자 미만까지, 세번째는 해당 숫자만큼 증가를 의미한다. )\n",
        "\n",
        "len함수 : 리스트 내 요소의 개수를 돌려주는 함수이다.\n",
        "\n",
        "end함수 : 다음 줄로 넘어가지 않고 그줄에 계속 출력하기 위해 사용한다.\n",
        "'''"
      ],
      "execution_count": null,
      "outputs": []
    },
    {
      "cell_type": "markdown",
      "metadata": {
        "id": "JqN7gvGlpGaR",
        "colab_type": "text"
      },
      "source": [
        "**리스트 내포 이용한 for 활용**\n",
        "\n",
        "< 구조 >\n",
        "\n",
        "[ 표현식 for 항목 반복가능한 객체 if 조건 ]"
      ]
    },
    {
      "cell_type": "code",
      "metadata": {
        "id": "S2sYL4lopR9P",
        "colab_type": "code",
        "colab": {}
      },
      "source": [
        "# 문제) 2 ~ 9단까지 구구단 결과 값 출력하는 코드를 작성해라."
      ],
      "execution_count": null,
      "outputs": []
    },
    {
      "cell_type": "code",
      "metadata": {
        "id": "uaMUTSf9pUjQ",
        "colab_type": "code",
        "colab": {
          "base_uri": "https://localhost:8080/",
          "height": 56
        },
        "outputId": "120c4c0c-7634-4d2d-be7a-eea4565bea65"
      },
      "source": [
        "gg = [i*i2 for i in range(2,10)\n",
        "for i2 in range(1,10)]\n",
        "print(gg)"
      ],
      "execution_count": 17,
      "outputs": [
        {
          "output_type": "stream",
          "text": [
            "[2, 4, 6, 8, 10, 12, 14, 16, 18, 3, 6, 9, 12, 15, 18, 21, 24, 27, 4, 8, 12, 16, 20, 24, 28, 32, 36, 5, 10, 15, 20, 25, 30, 35, 40, 45, 6, 12, 18, 24, 30, 36, 42, 48, 54, 7, 14, 21, 28, 35, 42, 49, 56, 63, 8, 16, 24, 32, 40, 48, 56, 64, 72, 9, 18, 27, 36, 45, 54, 63, 72, 81]\n"
          ],
          "name": "stdout"
        }
      ]
    },
    {
      "cell_type": "code",
      "metadata": {
        "id": "-ZixBNUVpcLX",
        "colab_type": "code",
        "colab": {}
      },
      "source": [
        "#문제) 리스트 값에 5배 곱한 값을 출력하는 코드를 작성해라."
      ],
      "execution_count": null,
      "outputs": []
    },
    {
      "cell_type": "code",
      "metadata": {
        "id": "jMZ3U-64penx",
        "colab_type": "code",
        "colab": {
          "base_uri": "https://localhost:8080/",
          "height": 36
        },
        "outputId": "c1e42062-acf0-42f8-8261-57f6df709cda"
      },
      "source": [
        "a = [1,2,3,4]\n",
        "result=[num * 5 for num in a]\n",
        "print(result)"
      ],
      "execution_count": 18,
      "outputs": [
        {
          "output_type": "stream",
          "text": [
            "[5, 10, 15, 20]\n"
          ],
          "name": "stdout"
        }
      ]
    },
    {
      "cell_type": "markdown",
      "metadata": {
        "id": "jaKUgAdkpnpf",
        "colab_type": "text"
      },
      "source": [
        "그밖에 반복문도 else 사용이 가능하다. ( 단, 루프를 다 돌고 난 뒤에 수행한다. )"
      ]
    },
    {
      "cell_type": "code",
      "metadata": {
        "id": "AnFZZITfpp8I",
        "colab_type": "code",
        "colab": {}
      },
      "source": [
        ""
      ],
      "execution_count": null,
      "outputs": []
    },
    {
      "cell_type": "code",
      "metadata": {
        "id": "CpM-A3NfdqKl",
        "colab_type": "code",
        "colab": {
          "base_uri": "https://localhost:8080/",
          "height": 92
        },
        "outputId": "06feb1cd-a806-4def-a92f-4c3c1e20ab0f"
      },
      "source": [
        "family = ['mother', 'father', 'gentleman', 'sexy lady']\n",
        "for x in family:                 # family라는 리스트의 각각의 항목 x에 대하여:\n",
        " print('%s %d' % (x, len(x)))    # x와 x의 길이를 출력하라.\n"
      ],
      "execution_count": null,
      "outputs": [
        {
          "output_type": "stream",
          "text": [
            "mother 6\n",
            "father 6\n",
            "gentleman 9\n",
            "sexy lady 9\n"
          ],
          "name": "stdout"
        }
      ]
    },
    {
      "cell_type": "markdown",
      "metadata": {
        "id": "LiEluiBxeQmk",
        "colab_type": "text"
      },
      "source": [
        "# **range()**\n",
        "range는 범위라는 뜻.\n",
        "- 어떤 정수를 인자로 주면 그 범위 안의 정수들을 만들어준다."
      ]
    },
    {
      "cell_type": "code",
      "metadata": {
        "id": "eVWgXXSReigD",
        "colab_type": "code",
        "colab": {
          "base_uri": "https://localhost:8080/",
          "height": 36
        },
        "outputId": "0c777f8c-10a0-447f-b27f-c8a900fb8b3d"
      },
      "source": [
        "range(2, 7)         # 파이썬 2\n",
        "\n",
        "list(range(2, 7))   # 파이썬 3"
      ],
      "execution_count": null,
      "outputs": [
        {
          "output_type": "execute_result",
          "data": {
            "text/plain": [
              "[2, 3, 4, 5, 6]"
            ]
          },
          "metadata": {
            "tags": []
          },
          "execution_count": 3
        }
      ]
    },
    {
      "cell_type": "code",
      "metadata": {
        "id": "uQC9cEbhevA-",
        "colab_type": "code",
        "colab": {
          "base_uri": "https://localhost:8080/",
          "height": 92
        },
        "outputId": "9430ba5f-f50f-4041-c104-39f98933280d"
      },
      "source": [
        "# for 문에 range()를 사용할 수 있다.\n",
        "\n",
        "a = [4, 5, 6, 7]\n",
        "for i in a:\n",
        "  print(i)"
      ],
      "execution_count": null,
      "outputs": [
        {
          "output_type": "stream",
          "text": [
            "4\n",
            "5\n",
            "6\n",
            "7\n"
          ],
          "name": "stdout"
        }
      ]
    },
    {
      "cell_type": "code",
      "metadata": {
        "id": "laLyfDOEe9Xr",
        "colab_type": "code",
        "colab": {
          "base_uri": "https://localhost:8080/",
          "height": 92
        },
        "outputId": "054c5a62-b0c7-4913-f299-58781a09c0cd"
      },
      "source": [
        "# 위 예를 range()변환하면\n",
        "for i in range(4, 8):\n",
        "  print(i)"
      ],
      "execution_count": null,
      "outputs": [
        {
          "output_type": "stream",
          "text": [
            "4\n",
            "5\n",
            "6\n",
            "7\n"
          ],
          "name": "stdout"
        }
      ]
    }
  ]
}