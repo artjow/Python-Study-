{
  "nbformat": 4,
  "nbformat_minor": 0,
  "metadata": {
    "colab": {
      "name": "사전자료형.ipynb",
      "provenance": [],
      "collapsed_sections": [],
      "include_colab_link": true
    },
    "kernelspec": {
      "name": "python3",
      "display_name": "Python 3"
    }
  },
  "cells": [
    {
      "cell_type": "markdown",
      "metadata": {
        "id": "view-in-github",
        "colab_type": "text"
      },
      "source": [
        "<a href=\"https://colab.research.google.com/github/chohyungrae/Python-Study-/blob/master/%EC%82%AC%EC%A0%84%EC%9E%90%EB%A3%8C%ED%98%95.ipynb\" target=\"_parent\"><img src=\"https://colab.research.google.com/assets/colab-badge.svg\" alt=\"Open In Colab\"/></a>"
      ]
    },
    {
      "cell_type": "code",
      "metadata": {
        "id": "ZXh717CihFEF",
        "colab": {
          "base_uri": "https://localhost:8080/",
          "height": 92
        },
        "outputId": "d364f39c-e66b-4ebd-ba13-78c4b14da61e"
      },
      "source": [
        "'''\r\n",
        "딕셔너리란?\r\n",
        "사람은 누구든지 \"이름\" = \"홍길동\", \"생일\" = \"몇 월 며칠\" 등으로 구별할 수 있다. \r\n",
        "파이썬은 이러한 대응 관계를 나타낼 수 있는 자료형을 가지고 있다. \r\n",
        "요즘 사용하는 대부분의 언어도 이러한 대응 관계를 나타내는 자료형을 갖고 있는데, \r\n",
        "이를 연관 배열(Associative array) 또는 해시(Hash)라고 한다.\r\n",
        "'''"
      ],
      "execution_count": 1,
      "outputs": [
        {
          "output_type": "execute_result",
          "data": {
            "application/vnd.google.colaboratory.intrinsic+json": {
              "type": "string"
            },
            "text/plain": [
              "'\\n딕셔너리란?\\n사람은 누구든지 \"이름\" = \"홍길동\", \"생일\" = \"몇 월 며칠\" 등으로 구별할 수 있다. \\n파이썬은 이러한 대응 관계를 나타낼 수 있는 자료형을 가지고 있다. \\n요즘 사용하는 대부분의 언어도 이러한 대응 관계를 나타내는 자료형을 갖고 있는데, \\n이를 연관 배열(Associative array) 또는 해시(Hash)라고 한다.\\n'"
            ]
          },
          "metadata": {
            "tags": []
          },
          "execution_count": 1
        }
      ]
    },
    {
      "cell_type": "code",
      "metadata": {
        "id": "f3K6-hE_hYaY",
        "colab": {
          "base_uri": "https://localhost:8080/",
          "height": 91
        },
        "outputId": "e0c22a55-cb27-4d9e-ae4c-890f516a8e86"
      },
      "source": [
        "'''\r\n",
        "파이썬에서는 이러한 자료형을 딕셔너리(Dictionary)라고 하는데, \r\n",
        "단어 그대로 해석하면 사전이라는 뜻이다. 즉 \"people\"이라는 단어에 \"사람\", \"baseball\"이라는 \r\n",
        "단어에 \"야구\"라는 뜻이 부합되듯이 딕셔너리는 Key와 Value를 한 쌍으로 갖는 자료형이다. \r\n",
        "예컨대 Key가 \"baseball\"이라면 Value는 \"야구\"가 될 것이다.\r\n",
        "'''"
      ],
      "execution_count": 2,
      "outputs": [
        {
          "output_type": "execute_result",
          "data": {
            "application/vnd.google.colaboratory.intrinsic+json": {
              "type": "string"
            },
            "text/plain": [
              "'\\n파이썬에서는 이러한 자료형을 딕셔너리(Dictionary)라고 하는데, \\n단어 그대로 해석하면 사전이라는 뜻이다. 즉 \"people\"이라는 단어에 \"사람\", \"baseball\"이라는 \\n단어에 \"야구\"라는 뜻이 부합되듯이 딕셔너리는 Key와 Value를 한 쌍으로 갖는 자료형이다. \\n예컨대 Key가 \"baseball\"이라면 Value는 \"야구\"가 될 것이다.\\n'"
            ]
          },
          "metadata": {
            "tags": []
          },
          "execution_count": 2
        }
      ]
    },
    {
      "cell_type": "code",
      "metadata": {
        "id": "wtMlEFG3hiae",
        "colab": {
          "base_uri": "https://localhost:8080/",
          "height": 73
        },
        "outputId": "e5f95b6d-b23a-403d-d58e-721eb4d9eca9"
      },
      "source": [
        "'''\r\n",
        "딕셔너리는 리스트나 튜플처럼 순차적으로(sequential) 해당 요솟값을 구하지 않고 \r\n",
        "Key를 통해 Value를 얻는다. 이것이 바로 딕셔너리의 가장 큰 특징이다. \r\n",
        "baseball이라는 단어의 뜻을 찾기 위해 사전의 내용을 순차적으로 모두 \r\n",
        "검색하는 것이 아니라 baseball이라는 단어가 있는 곳만 펼쳐 보는 것이다.\r\n",
        "'''"
      ],
      "execution_count": 3,
      "outputs": [
        {
          "output_type": "execute_result",
          "data": {
            "application/vnd.google.colaboratory.intrinsic+json": {
              "type": "string"
            },
            "text/plain": [
              "'\\n딕셔너리는 리스트나 튜플처럼 순차적으로(sequential) 해당 요솟값을 구하지 않고 \\nKey를 통해 Value를 얻는다. 이것이 바로 딕셔너리의 가장 큰 특징이다. \\nbaseball이라는 단어의 뜻을 찾기 위해 사전의 내용을 순차적으로 모두 \\n검색하는 것이 아니라 baseball이라는 단어가 있는 곳만 펼쳐 보는 것이다.\\n'"
            ]
          },
          "metadata": {
            "tags": []
          },
          "execution_count": 3
        }
      ]
    },
    {
      "cell_type": "code",
      "metadata": {
        "id": "N1grNsm8hqlW",
        "colab": {
          "base_uri": "https://localhost:8080/",
          "height": 92
        },
        "outputId": "a4c09b62-acba-4ba9-941c-833455c3117a"
      },
      "source": [
        "'''\r\n",
        "딕셔너리는 어떻게 만들까?\r\n",
        "다음은 기본 딕셔너리의 모습이다.\r\n",
        "\r\n",
        "{Key1:Value1, Key2:Value2, Key3:Value3, ...}\r\n",
        "Key와 Value의 쌍 여러 개가 { }로 둘러싸여 있다. \r\n",
        "각각의 요소는 Key : Value 형태로 이루어져 있고 쉼표(,)로 구분되어 있다.\r\n",
        "\r\n",
        "※ Key에는 변하지 않는 값을 사용하고, Value에는 변하는 값과 변하지 않는 값 모두 사용할 수 있다.\r\n",
        "\r\n",
        "'''"
      ],
      "execution_count": 4,
      "outputs": [
        {
          "output_type": "execute_result",
          "data": {
            "application/vnd.google.colaboratory.intrinsic+json": {
              "type": "string"
            },
            "text/plain": [
              "'\\n딕셔너리는 어떻게 만들까?\\n다음은 기본 딕셔너리의 모습이다.\\n\\n{Key1:Value1, Key2:Value2, Key3:Value3, ...}\\nKey와 Value의 쌍 여러 개가 { }로 둘러싸여 있다. \\n각각의 요소는 Key : Value 형태로 이루어져 있고 쉼표(,)로 구분되어 있다.\\n\\n※ Key에는 변하지 않는 값을 사용하고, Value에는 변하는 값과 변하지 않는 값 모두 사용할 수 있다.\\n\\n'"
            ]
          },
          "metadata": {
            "tags": []
          },
          "execution_count": 4
        }
      ]
    },
    {
      "cell_type": "code",
      "metadata": {
        "id": "gm8dk2xjh393"
      },
      "source": [
        "dic = {'name':'pey', 'phone':'0119993323', 'birth': '1118'} #딕셔너리의 예"
      ],
      "execution_count": 5,
      "outputs": []
    },
    {
      "cell_type": "code",
      "metadata": {
        "id": "HZn0Iz-KiCvt"
      },
      "source": [
        "#다음 예는 Key로 정수 값 1, Value로 문자열 'hi'를 사용한 예이다.\r\n",
        "a = {1: 'hi'}"
      ],
      "execution_count": 6,
      "outputs": []
    },
    {
      "cell_type": "code",
      "metadata": {
        "colab": {
          "base_uri": "https://localhost:8080/"
        },
        "id": "p5Ifj61QiLe_",
        "outputId": "ee54437e-6207-4d95-df11-a63f1221972f"
      },
      "source": [
        "#또한 다음 예처럼 Value에 리스트도 넣을 수 있다.\r\n",
        "\r\n",
        "a = { 'a': [1,2,3]}\r\n",
        "a"
      ],
      "execution_count": 7,
      "outputs": [
        {
          "output_type": "execute_result",
          "data": {
            "text/plain": [
              "{'a': [1, 2, 3]}"
            ]
          },
          "metadata": {
            "tags": []
          },
          "execution_count": 7
        }
      ]
    },
    {
      "cell_type": "code",
      "metadata": {
        "colab": {
          "base_uri": "https://localhost:8080/"
        },
        "id": "pmkGSGlHiaee",
        "outputId": "d9e62709-7bce-48b9-a3e4-f60d883e12c4"
      },
      "source": [
        "'''\r\n",
        "딕셔너리 쌍 추가, 삭제하기\r\n",
        "딕셔너리 쌍을 추가하는 방법과 삭제하는 방법을 살펴보자. 먼저 딕셔너리에 쌍을 추가하는 다음 예를 함께 따라 해 보자.\r\n",
        "\r\n",
        "딕셔너리 쌍 추가하기\r\n",
        "\r\n",
        "{1: 'a'} 딕셔너리에 a[2] = 'b'와 같이 입력하면 딕셔너리 \r\n",
        "a에 Key와 Value가 각각 2와 'b'인 2 : 'b'라는 딕셔너리 쌍이 추가된다.\r\n",
        "'''\r\n",
        "a = {1: 'a'}\r\n",
        "a[2] = 'b'\r\n",
        "a\r\n"
      ],
      "execution_count": 8,
      "outputs": [
        {
          "output_type": "execute_result",
          "data": {
            "text/plain": [
              "{1: 'a', 2: 'b'}"
            ]
          },
          "metadata": {
            "tags": []
          },
          "execution_count": 8
        }
      ]
    },
    {
      "cell_type": "code",
      "metadata": {
        "colab": {
          "base_uri": "https://localhost:8080/"
        },
        "id": "j2mY_mJ9i8Xk",
        "outputId": "a5021818-a53e-4c66-8cbc-8e8beff39ee4"
      },
      "source": [
        "a['name'] = 'pey'\r\n",
        "a\r\n",
        "{1: 'a', 2: 'b', 'name': 'pey'} #딕셔너리 a에 'name': 'pey'라는 쌍이 추가되었다."
      ],
      "execution_count": 9,
      "outputs": [
        {
          "output_type": "execute_result",
          "data": {
            "text/plain": [
              "{1: 'a', 2: 'b', 'name': 'pey'}"
            ]
          },
          "metadata": {
            "tags": []
          },
          "execution_count": 9
        }
      ]
    },
    {
      "cell_type": "code",
      "metadata": {
        "colab": {
          "base_uri": "https://localhost:8080/"
        },
        "id": "Mta56Hs6jIRk",
        "outputId": "7c61b70e-ef73-40e5-db7d-876211427435"
      },
      "source": [
        "#딕셔너리 요소 삭제하기\r\n",
        "'''\r\n",
        "딕셔너리 요소를 지우는 방법을 보여 준다. \r\n",
        "del 함수를 사용해서 del a[key]처럼 입력하면 \r\n",
        "지정한 Key에 해당하는 {key : value} 쌍이 삭제된다.\r\n",
        "'''\r\n",
        "del a[1]\r\n",
        "a\r\n"
      ],
      "execution_count": 10,
      "outputs": [
        {
          "output_type": "execute_result",
          "data": {
            "text/plain": [
              "{2: 'b', 'name': 'pey'}"
            ]
          },
          "metadata": {
            "tags": []
          },
          "execution_count": 10
        }
      ]
    },
    {
      "cell_type": "code",
      "metadata": {
        "id": "Bi3WY8ljjiB8",
        "colab": {
          "base_uri": "https://localhost:8080/",
          "height": 111
        },
        "outputId": "1272c458-e975-4664-f7bf-28d51e0e5236"
      },
      "source": [
        "'''\r\n",
        "딕셔너리를 사용하는 방법\r\n",
        "\"딕셔너리는 주로 어떤 것을 표현하는 데 사용할까?\"라는 의문이 들 것이다. \r\n",
        "예를 들어 4명의 사람이 있다고 가정하고, 각자의 특기를 표현할 수 있는 좋은 방법에 \r\n",
        "대해서 생각해 보자. 리스트나 문자열로는 표현하기가 상당히 까다로울 것이다. \r\n",
        "하지만 파이썬의 딕셔너리를 사용한다면 이 상황을 표현하기가 정말 쉽다. \r\n",
        "다음 예를 보자.\r\n",
        "\r\n",
        "{\"김연아\":\"피겨스케이팅\", \"류현진\":\"야구\", \"박지성\":\"축구\", \"귀도\":\"파이썬\"}\r\n",
        "'''"
      ],
      "execution_count": 11,
      "outputs": [
        {
          "output_type": "execute_result",
          "data": {
            "application/vnd.google.colaboratory.intrinsic+json": {
              "type": "string"
            },
            "text/plain": [
              "'\\n딕셔너리를 사용하는 방법\\n\"딕셔너리는 주로 어떤 것을 표현하는 데 사용할까?\"라는 의문이 들 것이다. \\n예를 들어 4명의 사람이 있다고 가정하고, 각자의 특기를 표현할 수 있는 좋은 방법에 \\n대해서 생각해 보자. 리스트나 문자열로는 표현하기가 상당히 까다로울 것이다. \\n하지만 파이썬의 딕셔너리를 사용한다면 이 상황을 표현하기가 정말 쉽다. \\n다음 예를 보자.\\n\\n{\"김연아\":\"피겨스케이팅\", \"류현진\":\"야구\", \"박지성\":\"축구\", \"귀도\":\"파이썬\"}\\n'"
            ]
          },
          "metadata": {
            "tags": []
          },
          "execution_count": 11
        }
      ]
    },
    {
      "cell_type": "code",
      "metadata": {
        "colab": {
          "base_uri": "https://localhost:8080/"
        },
        "id": "N6pUe8XYjryt",
        "outputId": "919dd9ae-4d4b-4d8c-82a8-9451da0fe874"
      },
      "source": [
        "'''\r\n",
        "딕셔너리에서 Key 사용해 Value 얻기\r\n",
        "다음 예를 살펴보자.\r\n",
        "\r\n",
        "리스트나 튜플, 문자열은 요솟값을 얻고자 할 때 인덱싱이나 슬라이싱 기법 중 하나를 사용했다. \r\n",
        "하지만 딕셔너리는 단 한 가지 방법뿐이다. 바로 Key를 사용해서 Value를 구하는 방법이다. \r\n",
        "예에서 'pey'라는 Key의 Value를 얻기 위해 grade['pey']를 사용한 것처럼 \r\n",
        "어떤 Key의 Value를 얻기 위해서는 딕셔너리변수이름[Key]를 사용한다.\r\n",
        "\r\n",
        "'''\r\n",
        "\r\n",
        "grade = {'pey': 10, 'julliet': 99}\r\n",
        "grade['pey']\r\n"
      ],
      "execution_count": 12,
      "outputs": [
        {
          "output_type": "execute_result",
          "data": {
            "text/plain": [
              "10"
            ]
          },
          "metadata": {
            "tags": []
          },
          "execution_count": 12
        }
      ]
    },
    {
      "cell_type": "code",
      "metadata": {
        "id": "uGOXJnrnkR0y",
        "colab": {
          "base_uri": "https://localhost:8080/",
          "height": 139
        },
        "outputId": "a264bcec-a948-48ad-ef4e-ff9e6f7e3e80"
      },
      "source": [
        "'''\r\n",
        ">>> a = {1:'a', 2:'b'}\r\n",
        ">>> a[1]\r\n",
        "'a'\r\n",
        ">>> a[2]\r\n",
        "'b'\r\n",
        "'''\r\n",
        "먼저 a 변수에 {1:'a', 2:'b'} 딕셔너리를 대입하였다. \r\n",
        "위 예에서 볼 수 있듯이 a[1]은 'a' 값을 돌려준다. \r\n",
        "여기에서 a[1]이 의미하는 것은 리스트나 튜플의 a[1]과는 전혀 다르다. \r\n",
        "딕셔너리 변수에서 [ ] 안의 숫자 1은 두 번째 요소를 뜻하는 것이 아니라 Key에 해당하는 1을 나타낸다. \r\n",
        "앞에서도 말했듯이 딕셔너리는 리스트나 튜플에 있는 인덱싱 방법을 적용할 수 없다. 따라서 a[1]은 \r\n",
        "딕셔너리 {1:'a', 2:'b'}에서 Key가 1인 것의 Value인 'a'를 돌려주게 된다. a[2] 역시 마찬가지이다."
      ],
      "execution_count": 13,
      "outputs": [
        {
          "output_type": "error",
          "ename": "SyntaxError",
          "evalue": "ignored",
          "traceback": [
            "\u001b[0;36m  File \u001b[0;32m\"<ipython-input-13-224c7a8f8d4d>\"\u001b[0;36m, line \u001b[0;32m8\u001b[0m\n\u001b[0;31m    먼저 a 변수에 {1:'a', 2:'b'} 딕셔너리를 대입하였다.\u001b[0m\n\u001b[0m       ^\u001b[0m\n\u001b[0;31mSyntaxError\u001b[0m\u001b[0;31m:\u001b[0m invalid syntax\n"
          ]
        }
      ]
    },
    {
      "cell_type": "code",
      "metadata": {
        "id": "BuCilwRqk1xZ",
        "colab": {
          "base_uri": "https://localhost:8080/",
          "height": 73
        },
        "outputId": "728bce81-aba1-4f90-d856-c68fd8cf2b0a"
      },
      "source": [
        "'''\r\n",
        " Key를 사용해서 Value를 얻는 방법을 잘 보여 준다.\r\n",
        "\r\n",
        " >>> dic = {'name':'pey', 'phone':'0119993323', 'birth': '1118'}\r\n",
        ">>> dic['name']\r\n",
        "'pey'\r\n",
        ">>> dic['phone']\r\n",
        "'0119993323'\r\n",
        ">>> dic['birth']\r\n",
        "'1118'\r\n",
        " '''\r\n"
      ],
      "execution_count": 14,
      "outputs": [
        {
          "output_type": "execute_result",
          "data": {
            "application/vnd.google.colaboratory.intrinsic+json": {
              "type": "string"
            },
            "text/plain": [
              "\"\\n Key를 사용해서 Value를 얻는 방법을 잘 보여 준다.\\n\\n >>> dic = {'name':'pey', 'phone':'0119993323', 'birth': '1118'}\\n>>> dic['name']\\n'pey'\\n>>> dic['phone']\\n'0119993323'\\n>>> dic['birth']\\n'1118'\\n \""
            ]
          },
          "metadata": {
            "tags": []
          },
          "execution_count": 14
        }
      ]
    },
    {
      "cell_type": "code",
      "metadata": {
        "id": "pk1NztqFlHjo",
        "colab": {
          "base_uri": "https://localhost:8080/",
          "height": 73
        },
        "outputId": "da75566b-0227-4a8c-9a13-48abe2e85ac0"
      },
      "source": [
        "'''\r\n",
        "딕셔너리 만들 때 주의할 사항\r\n",
        "먼저 딕셔너리에서 Key는 고유한 값이므로 중복되는 Key 값을 설정해 놓으면 하나를 제외한 \r\n",
        "나머지 것들이 모두 무시된다는 점을 주의해야 한다. \r\n",
        "다음 예에서 볼 수 있듯이 동일한 Key가 2개 존재할 경우 1:'a' 쌍이 무시된다.\r\n",
        "\r\n",
        ">>> a = {1:'a', 1:'b'}\r\n",
        ">>> a\r\n",
        "{1: 'b'}\r\n",
        "'''"
      ],
      "execution_count": 15,
      "outputs": [
        {
          "output_type": "execute_result",
          "data": {
            "application/vnd.google.colaboratory.intrinsic+json": {
              "type": "string"
            },
            "text/plain": [
              "\"\\n딕셔너리 만들 때 주의할 사항\\n먼저 딕셔너리에서 Key는 고유한 값이므로 중복되는 Key 값을 설정해 놓으면 하나를 제외한 \\n나머지 것들이 모두 무시된다는 점을 주의해야 한다. \\n다음 예에서 볼 수 있듯이 동일한 Key가 2개 존재할 경우 1:'a' 쌍이 무시된다.\\n\\n>>> a = {1:'a', 1:'b'}\\n>>> a\\n{1: 'b'}\\n\""
            ]
          },
          "metadata": {
            "tags": []
          },
          "execution_count": 15
        }
      ]
    },
    {
      "cell_type": "code",
      "metadata": {
        "colab": {
          "base_uri": "https://localhost:8080/",
          "height": 139
        },
        "id": "vOVZu-u9laxQ",
        "outputId": "1266237a-b343-4557-f3aa-5f48a440fdf2"
      },
      "source": [
        "'''\r\n",
        " Key에 리스트는 쓸 수 없다는 것이다. 하지만 튜플은 Key로 쓸 수 있다. \r\n",
        " 딕셔너리의 Key로 쓸 수 있느냐 없느냐는 Key가 변하는 값인지 변하지 않는 값인지에 달려 있다. \r\n",
        " 리스트는 그 값이 변할 수 있기 때문에 Key로 쓸 수 없다. \r\n",
        " 다음 예처럼 리스트를 Key로 설정하면 리스트를 키 값으로 사용할 수 없다는 오류가 발생한다.\r\n",
        "\r\n",
        " 따라서 딕셔너리의 Key 값으로 딕셔너리를 사용할 수 없음은 당연하다. \r\n",
        " 단 Value에는 변하는 값이든 변하지 않는 값이든 상관없이 아무 값이나 넣을 수 있다.\r\n",
        "\r\n",
        " '''\r\n",
        " a = {[1,2] : 'hi'}"
      ],
      "execution_count": 16,
      "outputs": [
        {
          "output_type": "error",
          "ename": "IndentationError",
          "evalue": "ignored",
          "traceback": [
            "\u001b[0;36m  File \u001b[0;32m\"<ipython-input-16-8fe54d8b6295>\"\u001b[0;36m, line \u001b[0;32m11\u001b[0m\n\u001b[0;31m    a = {[1,2] : 'hi'}\u001b[0m\n\u001b[0m    ^\u001b[0m\n\u001b[0;31mIndentationError\u001b[0m\u001b[0;31m:\u001b[0m unexpected indent\n"
          ]
        }
      ]
    },
    {
      "cell_type": "code",
      "metadata": {
        "colab": {
          "base_uri": "https://localhost:8080/"
        },
        "id": "O2AdoBa5lyky",
        "outputId": "cdb65f30-686d-4c26-b286-5d095b48d83b"
      },
      "source": [
        "'''\r\n",
        "딕셔너리 관련 함수들\r\n",
        "딕셔너리를 자유자재로 사용하기 위해 딕셔너리가 자체적으로 가지고 있는 관련 함수를 사용해 보자.\r\n",
        "\r\n",
        "Key 리스트 만들기(keys)\r\n",
        "\r\n",
        "a.keys()는 딕셔너리 a의 Key만을 모아서 dict_keys 객체를 돌려준다.\r\n",
        "'''\r\n",
        "a = {'name': 'pey', 'phone': '0119993323', 'birth': '1118'}\r\n",
        "a.keys()\r\n",
        "\r\n"
      ],
      "execution_count": 17,
      "outputs": [
        {
          "output_type": "execute_result",
          "data": {
            "text/plain": [
              "dict_keys(['name', 'phone', 'birth'])"
            ]
          },
          "metadata": {
            "tags": []
          },
          "execution_count": 17
        }
      ]
    },
    {
      "cell_type": "code",
      "metadata": {
        "colab": {
          "base_uri": "https://localhost:8080/"
        },
        "id": "hJOzbsScmrkO",
        "outputId": "04acee77-2867-4d5b-a24d-454a1bce6836"
      },
      "source": [
        "for k in a.keys():\r\n",
        "   print(k)\r\n"
      ],
      "execution_count": 18,
      "outputs": [
        {
          "output_type": "stream",
          "text": [
            "name\n",
            "phone\n",
            "birth\n"
          ],
          "name": "stdout"
        }
      ]
    },
    {
      "cell_type": "code",
      "metadata": {
        "colab": {
          "base_uri": "https://localhost:8080/"
        },
        "id": "FocgvX0om6XW",
        "outputId": "ade1207b-eaca-4fc0-ba72-fad00ff92553"
      },
      "source": [
        "#dict_keys 객체를 리스트로 변환하려면 다음과 같이 하면 된다.\r\n",
        "list(a.keys())"
      ],
      "execution_count": 19,
      "outputs": [
        {
          "output_type": "execute_result",
          "data": {
            "text/plain": [
              "['name', 'phone', 'birth']"
            ]
          },
          "metadata": {
            "tags": []
          },
          "execution_count": 19
        }
      ]
    },
    {
      "cell_type": "code",
      "metadata": {
        "colab": {
          "base_uri": "https://localhost:8080/"
        },
        "id": "MKGCfDz3mUIv",
        "outputId": "aa512df3-55f1-4a03-aaaf-e65185db834a"
      },
      "source": [
        "#Value 리스트 만들기(values)\r\n",
        "'''\r\n",
        "Key를 얻는 것과 마찬가지 방법으로 Value만 얻고 싶다면 values 함수를 사용하면 된다. \r\n",
        "values 함수를 호출하면 dict_values 객체를 돌려준다.\r\n",
        "'''\r\n",
        "a.values()\r\n"
      ],
      "execution_count": 20,
      "outputs": [
        {
          "output_type": "execute_result",
          "data": {
            "text/plain": [
              "dict_values(['pey', '0119993323', '1118'])"
            ]
          },
          "metadata": {
            "tags": []
          },
          "execution_count": 20
        }
      ]
    },
    {
      "cell_type": "code",
      "metadata": {
        "colab": {
          "base_uri": "https://localhost:8080/"
        },
        "id": "BCQ8d8eYnbFf",
        "outputId": "f031330f-a981-435f-e8df-5383482ef269"
      },
      "source": [
        "'''\r\n",
        "Key, Value 쌍 얻기(items)\r\n",
        "\r\n",
        "dict_items([('name', 'pey'), ('phone', '0119993323'), ('birth', '1118')])\r\n",
        "items 함수는 Key와 Value의 쌍을 튜플로 묶은 값을 dict_items 객체로 돌려준다. \r\n",
        "dict_values 객체와 dict_items 객체 역시 dict_keys 객체와 마찬가지로 \r\n",
        "리스트를 사용하는 것과 동일하게 사용할 수 있다.\r\n",
        "'''\r\n",
        "a.items()\r\n"
      ],
      "execution_count": 21,
      "outputs": [
        {
          "output_type": "execute_result",
          "data": {
            "text/plain": [
              "dict_items([('name', 'pey'), ('phone', '0119993323'), ('birth', '1118')])"
            ]
          },
          "metadata": {
            "tags": []
          },
          "execution_count": 21
        }
      ]
    },
    {
      "cell_type": "code",
      "metadata": {
        "id": "pGkm-dfOnxYd",
        "colab": {
          "base_uri": "https://localhost:8080/",
          "height": 73
        },
        "outputId": "3904cfbb-c6b8-4421-ecf6-73ef4bc39d11"
      },
      "source": [
        "'''\r\n",
        "Key: Value 쌍 모두 지우기(clear)\r\n",
        ">>> a.clear()\r\n",
        ">>> a\r\n",
        "{}\r\n",
        "clear 함수는 딕셔너리 안의 모든 요소를 삭제한다. 빈 리스트를 [ ], \r\n",
        "빈 튜플을 ( )로 표현하는 것과 마찬가지로 빈 딕셔너리도 { }로 표현한다.\r\n",
        "'''"
      ],
      "execution_count": 22,
      "outputs": [
        {
          "output_type": "execute_result",
          "data": {
            "application/vnd.google.colaboratory.intrinsic+json": {
              "type": "string"
            },
            "text/plain": [
              "'\\nKey: Value 쌍 모두 지우기(clear)\\n>>> a.clear()\\n>>> a\\n{}\\nclear 함수는 딕셔너리 안의 모든 요소를 삭제한다. 빈 리스트를 [ ], \\n빈 튜플을 ( )로 표현하는 것과 마찬가지로 빈 딕셔너리도 { }로 표현한다.\\n'"
            ]
          },
          "metadata": {
            "tags": []
          },
          "execution_count": 22
        }
      ]
    },
    {
      "cell_type": "code",
      "metadata": {
        "id": "ONi-gcT5ogsG",
        "colab": {
          "base_uri": "https://localhost:8080/",
          "height": 73
        },
        "outputId": "bbf62b18-9940-44b8-d974-71e9630a4ca1"
      },
      "source": [
        "'''\r\n",
        "딕셔너리 안에 찾으려는 Key 값이 없을 경우 미리 정해 둔 디폴트 값을 대신 가져오게 하고 싶을 때에는 \r\n",
        "get(x, '디폴트 값')을 사용하면 편리하다.\r\n",
        "\r\n",
        ">>> a.get('foo', 'bar')\r\n",
        "'bar'\r\n",
        "a 딕셔너리에는 'foo'에 해당하는 값이 없다. 따라서 디폴트 값인 'bar'를 돌려준다.\r\n",
        "'''"
      ],
      "execution_count": 23,
      "outputs": [
        {
          "output_type": "execute_result",
          "data": {
            "application/vnd.google.colaboratory.intrinsic+json": {
              "type": "string"
            },
            "text/plain": [
              "\"\\n딕셔너리 안에 찾으려는 Key 값이 없을 경우 미리 정해 둔 디폴트 값을 대신 가져오게 하고 싶을 때에는 \\nget(x, '디폴트 값')을 사용하면 편리하다.\\n\\n>>> a.get('foo', 'bar')\\n'bar'\\na 딕셔너리에는 'foo'에 해당하는 값이 없다. 따라서 디폴트 값인 'bar'를 돌려준다.\\n\""
            ]
          },
          "metadata": {
            "tags": []
          },
          "execution_count": 23
        }
      ]
    },
    {
      "cell_type": "code",
      "metadata": {
        "colab": {
          "base_uri": "https://localhost:8080/"
        },
        "id": "-pNpxWJOoqZq",
        "outputId": "01f7a561-0baf-4ae4-d887-d2d12cb07756"
      },
      "source": [
        "'''\r\n",
        "해당 Key가 딕셔너리 안에 있는지 조사하기(in)\r\n",
        "\r\n",
        "'name' 문자열은 a 딕셔너리의 Key 중 하나이다. \r\n",
        "따라서 'name' in a를 호출하면 참(True)을 돌려준다. \r\n",
        "반대로 'email'은 a 딕셔너리 안에 존재하지 않는 Key이므로 거짓(False)을 돌려준다.\r\n",
        "'''\r\n",
        "a = {'name':'pey', 'phone':'0119993323', 'birth': '1118'}\r\n",
        "'name' in a\r\n"
      ],
      "execution_count": 24,
      "outputs": [
        {
          "output_type": "execute_result",
          "data": {
            "text/plain": [
              "True"
            ]
          },
          "metadata": {
            "tags": []
          },
          "execution_count": 24
        }
      ]
    },
    {
      "cell_type": "code",
      "metadata": {
        "colab": {
          "base_uri": "https://localhost:8080/"
        },
        "id": "ErywX8I5o1oL",
        "outputId": "b6005611-a34a-428f-b158-fd800ba10d74"
      },
      "source": [
        "'email' in a\r\n"
      ],
      "execution_count": 25,
      "outputs": [
        {
          "output_type": "execute_result",
          "data": {
            "text/plain": [
              "False"
            ]
          },
          "metadata": {
            "tags": []
          },
          "execution_count": 25
        }
      ]
    },
    {
      "cell_type": "code",
      "metadata": {
        "id": "GLwJ_NNqo6Xq"
      },
      "source": [
        ""
      ],
      "execution_count": 25,
      "outputs": []
    },
    {
      "cell_type": "code",
      "metadata": {
        "colab": {
          "base_uri": "https://localhost:8080/"
        },
        "id": "Rf5WwUjbj1_j",
        "outputId": "193f902a-808b-4ae2-9c42-8b7c04f0670f"
      },
      "source": [
        "grade['julliet']"
      ],
      "execution_count": 26,
      "outputs": [
        {
          "output_type": "execute_result",
          "data": {
            "text/plain": [
              "99"
            ]
          },
          "metadata": {
            "tags": []
          },
          "execution_count": 26
        }
      ]
    },
    {
      "cell_type": "code",
      "metadata": {
        "colab": {
          "base_uri": "https://localhost:8080/"
        },
        "id": "sD9ufAeD-juQ",
        "outputId": "020018a7-f81b-4a42-e8eb-6da0b8e807c1"
      },
      "source": [
        "cabinet={3:'유재석', 100:'김태호'}\r\n",
        "print(cabinet[3]) #자료를 가져오는 방법"
      ],
      "execution_count": 27,
      "outputs": [
        {
          "output_type": "stream",
          "text": [
            "유재석\n"
          ],
          "name": "stdout"
        }
      ]
    },
    {
      "cell_type": "code",
      "metadata": {
        "colab": {
          "base_uri": "https://localhost:8080/"
        },
        "id": "wVog7acB--hE",
        "outputId": "11406cd1-c3d4-4b97-8c34-c829825490d9"
      },
      "source": [
        "print(cabinet[100]) #자료를 가져오는 방법"
      ],
      "execution_count": 28,
      "outputs": [
        {
          "output_type": "stream",
          "text": [
            "김태호\n"
          ],
          "name": "stdout"
        }
      ]
    },
    {
      "cell_type": "code",
      "metadata": {
        "colab": {
          "base_uri": "https://localhost:8080/"
        },
        "id": "fy-fMDEl_IqI",
        "outputId": "cd83cc4a-3bda-4709-ea06-5faccc8bc863"
      },
      "source": [
        "#자료를 가져오는 방법\r\n",
        "print(cabinet.get(3))\r\n"
      ],
      "execution_count": 30,
      "outputs": [
        {
          "output_type": "stream",
          "text": [
            "유재석\n"
          ],
          "name": "stdout"
        }
      ]
    },
    {
      "cell_type": "code",
      "metadata": {
        "id": "tumgCvp1_iXq",
        "colab": {
          "base_uri": "https://localhost:8080/",
          "height": 195
        },
        "outputId": "4ff7dbd5-82ae-42bb-ddb9-060e8a8a6e36"
      },
      "source": [
        "print(cabinet[5])\r\n",
        "print(\"hi\")"
      ],
      "execution_count": 31,
      "outputs": [
        {
          "output_type": "error",
          "ename": "KeyError",
          "evalue": "ignored",
          "traceback": [
            "\u001b[0;31m---------------------------------------------------------------------------\u001b[0m",
            "\u001b[0;31mKeyError\u001b[0m                                  Traceback (most recent call last)",
            "\u001b[0;32m<ipython-input-31-65d7fbc44f0e>\u001b[0m in \u001b[0;36m<module>\u001b[0;34m()\u001b[0m\n\u001b[0;32m----> 1\u001b[0;31m \u001b[0mprint\u001b[0m\u001b[0;34m(\u001b[0m\u001b[0mcabinet\u001b[0m\u001b[0;34m[\u001b[0m\u001b[0;36m5\u001b[0m\u001b[0;34m]\u001b[0m\u001b[0;34m)\u001b[0m\u001b[0;34m\u001b[0m\u001b[0;34m\u001b[0m\u001b[0m\n\u001b[0m\u001b[1;32m      2\u001b[0m \u001b[0mprint\u001b[0m\u001b[0;34m(\u001b[0m\u001b[0;34m\"hi\"\u001b[0m\u001b[0;34m)\u001b[0m\u001b[0;34m\u001b[0m\u001b[0;34m\u001b[0m\u001b[0m\n",
            "\u001b[0;31mKeyError\u001b[0m: 5"
          ]
        }
      ]
    },
    {
      "cell_type": "code",
      "metadata": {
        "colab": {
          "base_uri": "https://localhost:8080/"
        },
        "id": "RTwi2JGsPVxT",
        "outputId": "a188f04a-4b8d-4a5b-f02d-87c2ca2cf0e0"
      },
      "source": [
        "print(cabinet.get(5)) #get은 값이 없어도 None이라고 하고 이어서 나갈수있다.\r\n",
        "print(\"hi\")"
      ],
      "execution_count": 33,
      "outputs": [
        {
          "output_type": "stream",
          "text": [
            "None\n",
            "hi\n"
          ],
          "name": "stdout"
        }
      ]
    },
    {
      "cell_type": "code",
      "metadata": {
        "colab": {
          "base_uri": "https://localhost:8080/"
        },
        "id": "WkFaqax2Ph4w",
        "outputId": "e7597918-b3f1-4f79-bf0b-af1b3dcb986c"
      },
      "source": [
        "print(cabinet.get(5, \"사용가능\"))\r\n",
        "print(\"hi\")"
      ],
      "execution_count": 34,
      "outputs": [
        {
          "output_type": "stream",
          "text": [
            "사용가능\n",
            "hi\n"
          ],
          "name": "stdout"
        }
      ]
    },
    {
      "cell_type": "code",
      "metadata": {
        "colab": {
          "base_uri": "https://localhost:8080/"
        },
        "id": "JBPNfeS6QAje",
        "outputId": "63a5ada3-07f6-4e86-f631-3ddc532f5581"
      },
      "source": [
        "print(3 in cabinet) #True\r\n",
        "print(5 in cabinet) #False"
      ],
      "execution_count": 35,
      "outputs": [
        {
          "output_type": "stream",
          "text": [
            "True\n",
            "False\n"
          ],
          "name": "stdout"
        }
      ]
    },
    {
      "cell_type": "code",
      "metadata": {
        "colab": {
          "base_uri": "https://localhost:8080/"
        },
        "id": "SmTDQiPmQUju",
        "outputId": "1b26428c-da2b-416f-fdfc-460115cca979"
      },
      "source": [
        "#새손님\r\n",
        "print(cabinet)\r\n",
        "cabinet[3] = \"김종국\"\r\n",
        "cabinet[\"c-20\"] = \"조세호\"\r\n",
        "print(cabinet)"
      ],
      "execution_count": 38,
      "outputs": [
        {
          "output_type": "stream",
          "text": [
            "{3: '김종국', 100: '김태호', 'c-20': '조세호'}\n",
            "{3: '김종국', 100: '김태호', 'c-20': '조세호'}\n"
          ],
          "name": "stdout"
        }
      ]
    },
    {
      "cell_type": "code",
      "metadata": {
        "colab": {
          "base_uri": "https://localhost:8080/"
        },
        "id": "llUPb_mCQwQ0",
        "outputId": "b550c856-5588-44da-ed35-50da962d223b"
      },
      "source": [
        "# 간손님\r\n",
        "del cabinet[3]\r\n",
        "print(cabinet)"
      ],
      "execution_count": 39,
      "outputs": [
        {
          "output_type": "stream",
          "text": [
            "{100: '김태호', 'c-20': '조세호'}\n"
          ],
          "name": "stdout"
        }
      ]
    },
    {
      "cell_type": "code",
      "metadata": {
        "colab": {
          "base_uri": "https://localhost:8080/"
        },
        "id": "sxsJiFbMRs7L",
        "outputId": "3a544e45-4e2d-4e19-9ec4-0ad2989a74cc"
      },
      "source": [
        "# key들만 출력\r\n",
        "print(cabinet.keys())"
      ],
      "execution_count": 40,
      "outputs": [
        {
          "output_type": "stream",
          "text": [
            "dict_keys([100, 'c-20'])\n"
          ],
          "name": "stdout"
        }
      ]
    },
    {
      "cell_type": "code",
      "metadata": {
        "colab": {
          "base_uri": "https://localhost:8080/"
        },
        "id": "Du1r1GsNR6G-",
        "outputId": "80ce612a-47eb-4d8c-c5e7-e4f2a3787296"
      },
      "source": [
        "# value들만 출력\r\n",
        "print(cabinet.values())"
      ],
      "execution_count": 41,
      "outputs": [
        {
          "output_type": "stream",
          "text": [
            "dict_values(['김태호', '조세호'])\n"
          ],
          "name": "stdout"
        }
      ]
    },
    {
      "cell_type": "code",
      "metadata": {
        "colab": {
          "base_uri": "https://localhost:8080/"
        },
        "id": "QRWf0arkSMZJ",
        "outputId": "8b4991c6-cf31-4871-cf6a-d5c1f4c86641"
      },
      "source": [
        "#key,value쌍으로 출력\r\n",
        "print(cabinet.items())"
      ],
      "execution_count": 42,
      "outputs": [
        {
          "output_type": "stream",
          "text": [
            "dict_items([(100, '김태호'), ('c-20', '조세호')])\n"
          ],
          "name": "stdout"
        }
      ]
    },
    {
      "cell_type": "code",
      "metadata": {
        "colab": {
          "base_uri": "https://localhost:8080/"
        },
        "id": "lg898O-VSGw8",
        "outputId": "601c10df-71f4-40a8-c19d-c3ca3b618ef7"
      },
      "source": [
        "#목용탕 폐점\r\n",
        "cabinet.clear()\r\n",
        "print(cabinet)"
      ],
      "execution_count": 44,
      "outputs": [
        {
          "output_type": "stream",
          "text": [
            "{}\n"
          ],
          "name": "stdout"
        }
      ]
    },
    {
      "cell_type": "code",
      "metadata": {
        "id": "FM_CLeXEShG1"
      },
      "source": [
        ""
      ],
      "execution_count": null,
      "outputs": []
    }
  ]
}