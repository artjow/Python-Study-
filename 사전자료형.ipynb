{
  "nbformat": 4,
  "nbformat_minor": 0,
  "metadata": {
    "colab": {
      "name": "사전자료형.ipynb",
      "provenance": [],
      "collapsed_sections": [],
      "authorship_tag": "ABX9TyMog7Miy0eZ+ZK960eonNfg",
      "include_colab_link": true
    },
    "kernelspec": {
      "name": "python3",
      "display_name": "Python 3"
    }
  },
  "cells": [
    {
      "cell_type": "markdown",
      "metadata": {
        "id": "view-in-github",
        "colab_type": "text"
      },
      "source": [
        "<a href=\"https://colab.research.google.com/github/chohyungrae/Python-Study-/blob/master/%EC%82%AC%EC%A0%84%EC%9E%90%EB%A3%8C%ED%98%95.ipynb\" target=\"_parent\"><img src=\"https://colab.research.google.com/assets/colab-badge.svg\" alt=\"Open In Colab\"/></a>"
      ]
    },
    {
      "cell_type": "code",
      "metadata": {
        "id": "ZXh717CihFEF"
      },
      "source": [
        "'''\r\n",
        "딕셔너리란?\r\n",
        "사람은 누구든지 \"이름\" = \"홍길동\", \"생일\" = \"몇 월 며칠\" 등으로 구별할 수 있다. \r\n",
        "파이썬은 이러한 대응 관계를 나타낼 수 있는 자료형을 가지고 있다. \r\n",
        "요즘 사용하는 대부분의 언어도 이러한 대응 관계를 나타내는 자료형을 갖고 있는데, \r\n",
        "이를 연관 배열(Associative array) 또는 해시(Hash)라고 한다.\r\n",
        "'''"
      ],
      "execution_count": null,
      "outputs": []
    },
    {
      "cell_type": "code",
      "metadata": {
        "id": "f3K6-hE_hYaY"
      },
      "source": [
        "'''\r\n",
        "파이썬에서는 이러한 자료형을 딕셔너리(Dictionary)라고 하는데, \r\n",
        "단어 그대로 해석하면 사전이라는 뜻이다. 즉 \"people\"이라는 단어에 \"사람\", \"baseball\"이라는 \r\n",
        "단어에 \"야구\"라는 뜻이 부합되듯이 딕셔너리는 Key와 Value를 한 쌍으로 갖는 자료형이다. \r\n",
        "예컨대 Key가 \"baseball\"이라면 Value는 \"야구\"가 될 것이다.\r\n",
        "'''"
      ],
      "execution_count": null,
      "outputs": []
    },
    {
      "cell_type": "code",
      "metadata": {
        "id": "wtMlEFG3hiae"
      },
      "source": [
        "'''\r\n",
        "딕셔너리는 리스트나 튜플처럼 순차적으로(sequential) 해당 요솟값을 구하지 않고 \r\n",
        "Key를 통해 Value를 얻는다. 이것이 바로 딕셔너리의 가장 큰 특징이다. \r\n",
        "baseball이라는 단어의 뜻을 찾기 위해 사전의 내용을 순차적으로 모두 \r\n",
        "검색하는 것이 아니라 baseball이라는 단어가 있는 곳만 펼쳐 보는 것이다.\r\n",
        "'''"
      ],
      "execution_count": null,
      "outputs": []
    },
    {
      "cell_type": "code",
      "metadata": {
        "id": "N1grNsm8hqlW"
      },
      "source": [
        "'''\r\n",
        "딕셔너리는 어떻게 만들까?\r\n",
        "다음은 기본 딕셔너리의 모습이다.\r\n",
        "\r\n",
        "{Key1:Value1, Key2:Value2, Key3:Value3, ...}\r\n",
        "Key와 Value의 쌍 여러 개가 { }로 둘러싸여 있다. \r\n",
        "각각의 요소는 Key : Value 형태로 이루어져 있고 쉼표(,)로 구분되어 있다.\r\n",
        "\r\n",
        "※ Key에는 변하지 않는 값을 사용하고, Value에는 변하는 값과 변하지 않는 값 모두 사용할 수 있다.\r\n",
        "\r\n",
        "'''"
      ],
      "execution_count": null,
      "outputs": []
    },
    {
      "cell_type": "code",
      "metadata": {
        "id": "gm8dk2xjh393"
      },
      "source": [
        "dic = {'name':'pey', 'phone':'0119993323', 'birth': '1118'} #딕셔너리의 예"
      ],
      "execution_count": 6,
      "outputs": []
    },
    {
      "cell_type": "code",
      "metadata": {
        "id": "HZn0Iz-KiCvt"
      },
      "source": [
        "#다음 예는 Key로 정수 값 1, Value로 문자열 'hi'를 사용한 예이다.\r\n",
        "a = {1: 'hi'}"
      ],
      "execution_count": 7,
      "outputs": []
    },
    {
      "cell_type": "code",
      "metadata": {
        "colab": {
          "base_uri": "https://localhost:8080/"
        },
        "id": "p5Ifj61QiLe_",
        "outputId": "aba6e610-ed35-4353-a700-8877a24c76dc"
      },
      "source": [
        "#또한 다음 예처럼 Value에 리스트도 넣을 수 있다.\r\n",
        "\r\n",
        "a = { 'a': [1,2,3]}\r\n",
        "a"
      ],
      "execution_count": 8,
      "outputs": [
        {
          "output_type": "execute_result",
          "data": {
            "text/plain": [
              "{'a': [1, 2, 3]}"
            ]
          },
          "metadata": {
            "tags": []
          },
          "execution_count": 8
        }
      ]
    },
    {
      "cell_type": "code",
      "metadata": {
        "colab": {
          "base_uri": "https://localhost:8080/"
        },
        "id": "pmkGSGlHiaee",
        "outputId": "3a96d98e-fd6b-4759-a819-df297224c142"
      },
      "source": [
        "'''\r\n",
        "딕셔너리 쌍 추가, 삭제하기\r\n",
        "딕셔너리 쌍을 추가하는 방법과 삭제하는 방법을 살펴보자. 먼저 딕셔너리에 쌍을 추가하는 다음 예를 함께 따라 해 보자.\r\n",
        "\r\n",
        "딕셔너리 쌍 추가하기\r\n",
        "\r\n",
        "{1: 'a'} 딕셔너리에 a[2] = 'b'와 같이 입력하면 딕셔너리 \r\n",
        "a에 Key와 Value가 각각 2와 'b'인 2 : 'b'라는 딕셔너리 쌍이 추가된다.\r\n",
        "'''\r\n",
        "a = {1: 'a'}\r\n",
        "a[2] = 'b'\r\n",
        "a\r\n"
      ],
      "execution_count": 9,
      "outputs": [
        {
          "output_type": "execute_result",
          "data": {
            "text/plain": [
              "{1: 'a', 2: 'b'}"
            ]
          },
          "metadata": {
            "tags": []
          },
          "execution_count": 9
        }
      ]
    },
    {
      "cell_type": "code",
      "metadata": {
        "colab": {
          "base_uri": "https://localhost:8080/"
        },
        "id": "j2mY_mJ9i8Xk",
        "outputId": "d164f7b6-65dd-4e99-9491-72e977c47459"
      },
      "source": [
        "a['name'] = 'pey'\r\n",
        "a\r\n",
        "{1: 'a', 2: 'b', 'name': 'pey'} #딕셔너리 a에 'name': 'pey'라는 쌍이 추가되었다."
      ],
      "execution_count": 10,
      "outputs": [
        {
          "output_type": "execute_result",
          "data": {
            "text/plain": [
              "{1: 'a', 2: 'b', 'name': 'pey'}"
            ]
          },
          "metadata": {
            "tags": []
          },
          "execution_count": 10
        }
      ]
    },
    {
      "cell_type": "code",
      "metadata": {
        "colab": {
          "base_uri": "https://localhost:8080/"
        },
        "id": "Mta56Hs6jIRk",
        "outputId": "9541e74b-5cdf-46bd-8cf4-7698ffb2a7bd"
      },
      "source": [
        "#딕셔너리 요소 삭제하기\r\n",
        "'''\r\n",
        "딕셔너리 요소를 지우는 방법을 보여 준다. \r\n",
        "del 함수를 사용해서 del a[key]처럼 입력하면 \r\n",
        "지정한 Key에 해당하는 {key : value} 쌍이 삭제된다.\r\n",
        "'''\r\n",
        "del a[1]\r\n",
        "a\r\n"
      ],
      "execution_count": 11,
      "outputs": [
        {
          "output_type": "execute_result",
          "data": {
            "text/plain": [
              "{2: 'b', 'name': 'pey'}"
            ]
          },
          "metadata": {
            "tags": []
          },
          "execution_count": 11
        }
      ]
    },
    {
      "cell_type": "code",
      "metadata": {
        "id": "Bi3WY8ljjiB8"
      },
      "source": [
        "'''\r\n",
        "딕셔너리를 사용하는 방법\r\n",
        "\"딕셔너리는 주로 어떤 것을 표현하는 데 사용할까?\"라는 의문이 들 것이다. \r\n",
        "예를 들어 4명의 사람이 있다고 가정하고, 각자의 특기를 표현할 수 있는 좋은 방법에 \r\n",
        "대해서 생각해 보자. 리스트나 문자열로는 표현하기가 상당히 까다로울 것이다. \r\n",
        "하지만 파이썬의 딕셔너리를 사용한다면 이 상황을 표현하기가 정말 쉽다. \r\n",
        "다음 예를 보자.\r\n",
        "\r\n",
        "{\"김연아\":\"피겨스케이팅\", \"류현진\":\"야구\", \"박지성\":\"축구\", \"귀도\":\"파이썬\"}\r\n",
        "'''"
      ],
      "execution_count": null,
      "outputs": []
    },
    {
      "cell_type": "code",
      "metadata": {
        "colab": {
          "base_uri": "https://localhost:8080/"
        },
        "id": "N6pUe8XYjryt",
        "outputId": "95b57908-4211-49b0-c27f-177966e82d23"
      },
      "source": [
        "'''\r\n",
        "딕셔너리에서 Key 사용해 Value 얻기\r\n",
        "다음 예를 살펴보자.\r\n",
        "\r\n",
        "리스트나 튜플, 문자열은 요솟값을 얻고자 할 때 인덱싱이나 슬라이싱 기법 중 하나를 사용했다. \r\n",
        "하지만 딕셔너리는 단 한 가지 방법뿐이다. 바로 Key를 사용해서 Value를 구하는 방법이다. \r\n",
        "예에서 'pey'라는 Key의 Value를 얻기 위해 grade['pey']를 사용한 것처럼 \r\n",
        "어떤 Key의 Value를 얻기 위해서는 딕셔너리변수이름[Key]를 사용한다.\r\n",
        "\r\n",
        "'''\r\n",
        "\r\n",
        "grade = {'pey': 10, 'julliet': 99}\r\n",
        "grade['pey']\r\n"
      ],
      "execution_count": 12,
      "outputs": [
        {
          "output_type": "execute_result",
          "data": {
            "text/plain": [
              "10"
            ]
          },
          "metadata": {
            "tags": []
          },
          "execution_count": 12
        }
      ]
    },
    {
      "cell_type": "code",
      "metadata": {
        "id": "uGOXJnrnkR0y"
      },
      "source": [
        "'''\r\n",
        ">>> a = {1:'a', 2:'b'}\r\n",
        ">>> a[1]\r\n",
        "'a'\r\n",
        ">>> a[2]\r\n",
        "'b'\r\n",
        "'''\r\n",
        "먼저 a 변수에 {1:'a', 2:'b'} 딕셔너리를 대입하였다. \r\n",
        "위 예에서 볼 수 있듯이 a[1]은 'a' 값을 돌려준다. \r\n",
        "여기에서 a[1]이 의미하는 것은 리스트나 튜플의 a[1]과는 전혀 다르다. \r\n",
        "딕셔너리 변수에서 [ ] 안의 숫자 1은 두 번째 요소를 뜻하는 것이 아니라 Key에 해당하는 1을 나타낸다. \r\n",
        "앞에서도 말했듯이 딕셔너리는 리스트나 튜플에 있는 인덱싱 방법을 적용할 수 없다. 따라서 a[1]은 \r\n",
        "딕셔너리 {1:'a', 2:'b'}에서 Key가 1인 것의 Value인 'a'를 돌려주게 된다. a[2] 역시 마찬가지이다."
      ],
      "execution_count": null,
      "outputs": []
    },
    {
      "cell_type": "code",
      "metadata": {
        "id": "BuCilwRqk1xZ"
      },
      "source": [
        "'''\r\n",
        " Key를 사용해서 Value를 얻는 방법을 잘 보여 준다.\r\n",
        "\r\n",
        " >>> dic = {'name':'pey', 'phone':'0119993323', 'birth': '1118'}\r\n",
        ">>> dic['name']\r\n",
        "'pey'\r\n",
        ">>> dic['phone']\r\n",
        "'0119993323'\r\n",
        ">>> dic['birth']\r\n",
        "'1118'\r\n",
        " '''\r\n"
      ],
      "execution_count": null,
      "outputs": []
    },
    {
      "cell_type": "code",
      "metadata": {
        "id": "pk1NztqFlHjo"
      },
      "source": [
        "'''\r\n",
        "딕셔너리 만들 때 주의할 사항\r\n",
        "먼저 딕셔너리에서 Key는 고유한 값이므로 중복되는 Key 값을 설정해 놓으면 하나를 제외한 \r\n",
        "나머지 것들이 모두 무시된다는 점을 주의해야 한다. \r\n",
        "다음 예에서 볼 수 있듯이 동일한 Key가 2개 존재할 경우 1:'a' 쌍이 무시된다.\r\n",
        "\r\n",
        ">>> a = {1:'a', 1:'b'}\r\n",
        ">>> a\r\n",
        "{1: 'b'}\r\n",
        "'''"
      ],
      "execution_count": null,
      "outputs": []
    },
    {
      "cell_type": "code",
      "metadata": {
        "colab": {
          "base_uri": "https://localhost:8080/",
          "height": 134
        },
        "id": "vOVZu-u9laxQ",
        "outputId": "d2c5f5b9-597d-44b3-c8ec-d7ac862eb7b0"
      },
      "source": [
        "'''\r\n",
        " Key에 리스트는 쓸 수 없다는 것이다. 하지만 튜플은 Key로 쓸 수 있다. \r\n",
        " 딕셔너리의 Key로 쓸 수 있느냐 없느냐는 Key가 변하는 값인지 변하지 않는 값인지에 달려 있다. \r\n",
        " 리스트는 그 값이 변할 수 있기 때문에 Key로 쓸 수 없다. \r\n",
        " 다음 예처럼 리스트를 Key로 설정하면 리스트를 키 값으로 사용할 수 없다는 오류가 발생한다.\r\n",
        "\r\n",
        " 따라서 딕셔너리의 Key 값으로 딕셔너리를 사용할 수 없음은 당연하다. \r\n",
        " 단 Value에는 변하는 값이든 변하지 않는 값이든 상관없이 아무 값이나 넣을 수 있다.\r\n",
        "\r\n",
        " '''\r\n",
        " a = {[1,2] : 'hi'}"
      ],
      "execution_count": 14,
      "outputs": [
        {
          "output_type": "error",
          "ename": "IndentationError",
          "evalue": "ignored",
          "traceback": [
            "\u001b[0;36m  File \u001b[0;32m\"<ipython-input-14-42da79c59a3e>\"\u001b[0;36m, line \u001b[0;32m7\u001b[0m\n\u001b[0;31m    a = {[1,2] : 'hi'}\u001b[0m\n\u001b[0m    ^\u001b[0m\n\u001b[0;31mIndentationError\u001b[0m\u001b[0;31m:\u001b[0m unexpected indent\n"
          ]
        }
      ]
    },
    {
      "cell_type": "code",
      "metadata": {
        "colab": {
          "base_uri": "https://localhost:8080/"
        },
        "id": "O2AdoBa5lyky",
        "outputId": "8f38d366-51e6-4d21-cb40-626658ba3978"
      },
      "source": [
        "'''\r\n",
        "딕셔너리 관련 함수들\r\n",
        "딕셔너리를 자유자재로 사용하기 위해 딕셔너리가 자체적으로 가지고 있는 관련 함수를 사용해 보자.\r\n",
        "\r\n",
        "Key 리스트 만들기(keys)\r\n",
        "\r\n",
        "a.keys()는 딕셔너리 a의 Key만을 모아서 dict_keys 객체를 돌려준다.\r\n",
        "'''\r\n",
        "a = {'name': 'pey', 'phone': '0119993323', 'birth': '1118'}\r\n",
        "a.keys()\r\n",
        "\r\n"
      ],
      "execution_count": 16,
      "outputs": [
        {
          "output_type": "execute_result",
          "data": {
            "text/plain": [
              "dict_keys(['name', 'phone', 'birth'])"
            ]
          },
          "metadata": {
            "tags": []
          },
          "execution_count": 16
        }
      ]
    },
    {
      "cell_type": "code",
      "metadata": {
        "colab": {
          "base_uri": "https://localhost:8080/"
        },
        "id": "hJOzbsScmrkO",
        "outputId": "0e22b339-4a80-4f10-e65b-c48186a560a4"
      },
      "source": [
        "for k in a.keys():\r\n",
        "   print(k)\r\n"
      ],
      "execution_count": 17,
      "outputs": [
        {
          "output_type": "stream",
          "text": [
            "name\n",
            "phone\n",
            "birth\n"
          ],
          "name": "stdout"
        }
      ]
    },
    {
      "cell_type": "code",
      "metadata": {
        "colab": {
          "base_uri": "https://localhost:8080/"
        },
        "id": "FocgvX0om6XW",
        "outputId": "0fa28309-6b1c-4dbe-9034-b46c760c1c47"
      },
      "source": [
        "#dict_keys 객체를 리스트로 변환하려면 다음과 같이 하면 된다.\r\n",
        "list(a.keys())"
      ],
      "execution_count": 18,
      "outputs": [
        {
          "output_type": "execute_result",
          "data": {
            "text/plain": [
              "['name', 'phone', 'birth']"
            ]
          },
          "metadata": {
            "tags": []
          },
          "execution_count": 18
        }
      ]
    },
    {
      "cell_type": "code",
      "metadata": {
        "colab": {
          "base_uri": "https://localhost:8080/"
        },
        "id": "MKGCfDz3mUIv",
        "outputId": "db6cedc1-9f24-4544-8878-e04fa0ec7860"
      },
      "source": [
        "#Value 리스트 만들기(values)\r\n",
        "'''\r\n",
        "Key를 얻는 것과 마찬가지 방법으로 Value만 얻고 싶다면 values 함수를 사용하면 된다. \r\n",
        "values 함수를 호출하면 dict_values 객체를 돌려준다.\r\n",
        "'''\r\n",
        "a.values()\r\n"
      ],
      "execution_count": 19,
      "outputs": [
        {
          "output_type": "execute_result",
          "data": {
            "text/plain": [
              "dict_values(['pey', '0119993323', '1118'])"
            ]
          },
          "metadata": {
            "tags": []
          },
          "execution_count": 19
        }
      ]
    },
    {
      "cell_type": "code",
      "metadata": {
        "colab": {
          "base_uri": "https://localhost:8080/"
        },
        "id": "BCQ8d8eYnbFf",
        "outputId": "dbc3843d-064c-4d2d-bf51-344f53dcde98"
      },
      "source": [
        "'''\r\n",
        "Key, Value 쌍 얻기(items)\r\n",
        "\r\n",
        "dict_items([('name', 'pey'), ('phone', '0119993323'), ('birth', '1118')])\r\n",
        "items 함수는 Key와 Value의 쌍을 튜플로 묶은 값을 dict_items 객체로 돌려준다. \r\n",
        "dict_values 객체와 dict_items 객체 역시 dict_keys 객체와 마찬가지로 \r\n",
        "리스트를 사용하는 것과 동일하게 사용할 수 있다.\r\n",
        "'''\r\n",
        "a.items()\r\n"
      ],
      "execution_count": 20,
      "outputs": [
        {
          "output_type": "execute_result",
          "data": {
            "text/plain": [
              "dict_items([('name', 'pey'), ('phone', '0119993323'), ('birth', '1118')])"
            ]
          },
          "metadata": {
            "tags": []
          },
          "execution_count": 20
        }
      ]
    },
    {
      "cell_type": "code",
      "metadata": {
        "id": "pGkm-dfOnxYd"
      },
      "source": [
        "'''\r\n",
        "Key: Value 쌍 모두 지우기(clear)\r\n",
        ">>> a.clear()\r\n",
        ">>> a\r\n",
        "{}\r\n",
        "clear 함수는 딕셔너리 안의 모든 요소를 삭제한다. 빈 리스트를 [ ], \r\n",
        "빈 튜플을 ( )로 표현하는 것과 마찬가지로 빈 딕셔너리도 { }로 표현한다.\r\n",
        "'''"
      ],
      "execution_count": null,
      "outputs": []
    },
    {
      "cell_type": "code",
      "metadata": {
        "id": "ONi-gcT5ogsG"
      },
      "source": [
        "'''\r\n",
        "딕셔너리 안에 찾으려는 Key 값이 없을 경우 미리 정해 둔 디폴트 값을 대신 가져오게 하고 싶을 때에는 \r\n",
        "get(x, '디폴트 값')을 사용하면 편리하다.\r\n",
        "\r\n",
        ">>> a.get('foo', 'bar')\r\n",
        "'bar'\r\n",
        "a 딕셔너리에는 'foo'에 해당하는 값이 없다. 따라서 디폴트 값인 'bar'를 돌려준다.\r\n",
        "'''"
      ],
      "execution_count": null,
      "outputs": []
    },
    {
      "cell_type": "code",
      "metadata": {
        "colab": {
          "base_uri": "https://localhost:8080/"
        },
        "id": "-pNpxWJOoqZq",
        "outputId": "c1ceb351-0852-4c53-e70f-61f9a98ce312"
      },
      "source": [
        "'''\r\n",
        "해당 Key가 딕셔너리 안에 있는지 조사하기(in)\r\n",
        "\r\n",
        "'name' 문자열은 a 딕셔너리의 Key 중 하나이다. \r\n",
        "따라서 'name' in a를 호출하면 참(True)을 돌려준다. \r\n",
        "반대로 'email'은 a 딕셔너리 안에 존재하지 않는 Key이므로 거짓(False)을 돌려준다.\r\n",
        "'''\r\n",
        "a = {'name':'pey', 'phone':'0119993323', 'birth': '1118'}\r\n",
        "'name' in a\r\n"
      ],
      "execution_count": 22,
      "outputs": [
        {
          "output_type": "execute_result",
          "data": {
            "text/plain": [
              "True"
            ]
          },
          "metadata": {
            "tags": []
          },
          "execution_count": 22
        }
      ]
    },
    {
      "cell_type": "code",
      "metadata": {
        "colab": {
          "base_uri": "https://localhost:8080/"
        },
        "id": "ErywX8I5o1oL",
        "outputId": "e101dd0c-4d87-4024-b78a-43a5400e8a33"
      },
      "source": [
        "'email' in a\r\n"
      ],
      "execution_count": 23,
      "outputs": [
        {
          "output_type": "execute_result",
          "data": {
            "text/plain": [
              "False"
            ]
          },
          "metadata": {
            "tags": []
          },
          "execution_count": 23
        }
      ]
    },
    {
      "cell_type": "code",
      "metadata": {
        "id": "GLwJ_NNqo6Xq"
      },
      "source": [
        ""
      ],
      "execution_count": null,
      "outputs": []
    },
    {
      "cell_type": "code",
      "metadata": {
        "colab": {
          "base_uri": "https://localhost:8080/"
        },
        "id": "Rf5WwUjbj1_j",
        "outputId": "1676219c-5a9c-44b5-8931-42dd772f6f2c"
      },
      "source": [
        "grade['julliet']"
      ],
      "execution_count": 13,
      "outputs": [
        {
          "output_type": "execute_result",
          "data": {
            "text/plain": [
              "99"
            ]
          },
          "metadata": {
            "tags": []
          },
          "execution_count": 13
        }
      ]
    },
    {
      "cell_type": "code",
      "metadata": {
        "colab": {
          "base_uri": "https://localhost:8080/"
        },
        "id": "sD9ufAeD-juQ",
        "outputId": "37f126e8-ab7a-4888-bd0b-01b97ade4be7"
      },
      "source": [
        "cabinet={3:'유재석', 100:'김태호'}\r\n",
        "print(cabinet[3]) #자료를 가져오는 방법"
      ],
      "execution_count": 3,
      "outputs": [
        {
          "output_type": "stream",
          "text": [
            "유재석\n"
          ],
          "name": "stdout"
        }
      ]
    },
    {
      "cell_type": "code",
      "metadata": {
        "colab": {
          "base_uri": "https://localhost:8080/"
        },
        "id": "wVog7acB--hE",
        "outputId": "c404838d-8c26-4a67-eb04-c9c508055582"
      },
      "source": [
        "print(cabinet[100]) #자료를 가져오는 방법"
      ],
      "execution_count": 4,
      "outputs": [
        {
          "output_type": "stream",
          "text": [
            "김태호\n"
          ],
          "name": "stdout"
        }
      ]
    },
    {
      "cell_type": "code",
      "metadata": {
        "colab": {
          "base_uri": "https://localhost:8080/"
        },
        "id": "fy-fMDEl_IqI",
        "outputId": "0c8b9a60-8878-4f39-fe52-4128c527757f"
      },
      "source": [
        "#자료를 가져오는 방법\r\n",
        "print(cabinet.get(3))\r\n"
      ],
      "execution_count": 5,
      "outputs": [
        {
          "output_type": "stream",
          "text": [
            "유재석\n"
          ],
          "name": "stdout"
        }
      ]
    },
    {
      "cell_type": "code",
      "metadata": {
        "id": "tumgCvp1_iXq"
      },
      "source": [
        ""
      ],
      "execution_count": null,
      "outputs": []
    }
  ]
}