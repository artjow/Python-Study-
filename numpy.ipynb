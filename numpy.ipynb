{
  "nbformat": 4,
  "nbformat_minor": 0,
  "metadata": {
    "colab": {
      "name": "numpy.ipynb",
      "provenance": [],
      "include_colab_link": true
    },
    "kernelspec": {
      "name": "python3",
      "display_name": "Python 3"
    }
  },
  "cells": [
    {
      "cell_type": "markdown",
      "metadata": {
        "id": "view-in-github",
        "colab_type": "text"
      },
      "source": [
        "<a href=\"https://colab.research.google.com/github/chohyungrae/Python-Study-/blob/master/numpy.ipynb\" target=\"_parent\"><img src=\"https://colab.research.google.com/assets/colab-badge.svg\" alt=\"Open In Colab\"/></a>"
      ]
    },
    {
      "cell_type": "code",
      "metadata": {
        "id": "JfW4TyfqnFlp"
      },
      "source": [
        "import numpy as np"
      ],
      "execution_count": 63,
      "outputs": []
    },
    {
      "cell_type": "code",
      "metadata": {
        "colab": {
          "base_uri": "https://localhost:8080/"
        },
        "id": "l_v38AzanM6I",
        "outputId": "f7caaad0-a26a-4a92-c36c-f8abe20b5289"
      },
      "source": [
        "a = np.arange(21)\r\n",
        "a"
      ],
      "execution_count": 64,
      "outputs": [
        {
          "output_type": "execute_result",
          "data": {
            "text/plain": [
              "array([ 0,  1,  2,  3,  4,  5,  6,  7,  8,  9, 10, 11, 12, 13, 14, 15, 16,\n",
              "       17, 18, 19, 20])"
            ]
          },
          "metadata": {
            "tags": []
          },
          "execution_count": 64
        }
      ]
    },
    {
      "cell_type": "code",
      "metadata": {
        "colab": {
          "base_uri": "https://localhost:8080/"
        },
        "id": "u-f8FjvBnTMf",
        "outputId": "9c749521-a1a1-4b61-86d1-1991f3b14617"
      },
      "source": [
        "b = a. reshape(3,7)\r\n",
        "b"
      ],
      "execution_count": 65,
      "outputs": [
        {
          "output_type": "execute_result",
          "data": {
            "text/plain": [
              "array([[ 0,  1,  2,  3,  4,  5,  6],\n",
              "       [ 7,  8,  9, 10, 11, 12, 13],\n",
              "       [14, 15, 16, 17, 18, 19, 20]])"
            ]
          },
          "metadata": {
            "tags": []
          },
          "execution_count": 65
        }
      ]
    },
    {
      "cell_type": "code",
      "metadata": {
        "colab": {
          "base_uri": "https://localhost:8080/"
        },
        "id": "7OUd0w5Nnazr",
        "outputId": "da301768-ef3f-46cd-8d5c-9ad2649a9eb4"
      },
      "source": [
        "a.shape"
      ],
      "execution_count": 66,
      "outputs": [
        {
          "output_type": "execute_result",
          "data": {
            "text/plain": [
              "(21,)"
            ]
          },
          "metadata": {
            "tags": []
          },
          "execution_count": 66
        }
      ]
    },
    {
      "cell_type": "code",
      "metadata": {
        "colab": {
          "base_uri": "https://localhost:8080/"
        },
        "id": "SpIQF0iang2-",
        "outputId": "ff690b9c-e8c1-44c7-f013-cbd514f3ea0e"
      },
      "source": [
        "b.shape"
      ],
      "execution_count": 67,
      "outputs": [
        {
          "output_type": "execute_result",
          "data": {
            "text/plain": [
              "(3, 7)"
            ]
          },
          "metadata": {
            "tags": []
          },
          "execution_count": 67
        }
      ]
    },
    {
      "cell_type": "code",
      "metadata": {
        "colab": {
          "base_uri": "https://localhost:8080/"
        },
        "id": "_x9YePyVnlMB",
        "outputId": "f50823ec-f718-44db-c3ac-6bad48e331d2"
      },
      "source": [
        "a.ndim #차원"
      ],
      "execution_count": 68,
      "outputs": [
        {
          "output_type": "execute_result",
          "data": {
            "text/plain": [
              "1"
            ]
          },
          "metadata": {
            "tags": []
          },
          "execution_count": 68
        }
      ]
    },
    {
      "cell_type": "code",
      "metadata": {
        "colab": {
          "base_uri": "https://localhost:8080/"
        },
        "id": "sZobyNsKnqJK",
        "outputId": "11a3a893-0c28-4cdc-e256-3414c74defa5"
      },
      "source": [
        "b.ndim"
      ],
      "execution_count": 69,
      "outputs": [
        {
          "output_type": "execute_result",
          "data": {
            "text/plain": [
              "2"
            ]
          },
          "metadata": {
            "tags": []
          },
          "execution_count": 69
        }
      ]
    },
    {
      "cell_type": "code",
      "metadata": {
        "colab": {
          "base_uri": "https://localhost:8080/"
        },
        "id": "FHkP0fvHnzUk",
        "outputId": "ea58ddb0-3618-48f6-9b2f-2e581f513a8a"
      },
      "source": [
        "a.dtype"
      ],
      "execution_count": 70,
      "outputs": [
        {
          "output_type": "execute_result",
          "data": {
            "text/plain": [
              "dtype('int64')"
            ]
          },
          "metadata": {
            "tags": []
          },
          "execution_count": 70
        }
      ]
    },
    {
      "cell_type": "code",
      "metadata": {
        "colab": {
          "base_uri": "https://localhost:8080/"
        },
        "id": "VOZ3fJYYn-Oo",
        "outputId": "fd7a8647-d350-4291-b234-0c5c93f77066"
      },
      "source": [
        "c = np.array([(1,2,3),(4,5.5,6)])\r\n",
        "c"
      ],
      "execution_count": 71,
      "outputs": [
        {
          "output_type": "execute_result",
          "data": {
            "text/plain": [
              "array([[1. , 2. , 3. ],\n",
              "       [4. , 5.5, 6. ]])"
            ]
          },
          "metadata": {
            "tags": []
          },
          "execution_count": 71
        }
      ]
    },
    {
      "cell_type": "code",
      "metadata": {
        "colab": {
          "base_uri": "https://localhost:8080/"
        },
        "id": "XYYKHyoDn3kE",
        "outputId": "271ff9e3-f66a-4acb-d056-6c177b7edfd7"
      },
      "source": [
        "c.dtype"
      ],
      "execution_count": 72,
      "outputs": [
        {
          "output_type": "execute_result",
          "data": {
            "text/plain": [
              "dtype('float64')"
            ]
          },
          "metadata": {
            "tags": []
          },
          "execution_count": 72
        }
      ]
    },
    {
      "cell_type": "code",
      "metadata": {
        "colab": {
          "base_uri": "https://localhost:8080/"
        },
        "id": "3Vb1CgHoowmz",
        "outputId": "365a212b-a5d1-41d9-96b2-e47183b8b1f6"
      },
      "source": [
        "np.zeros(((3,5)))"
      ],
      "execution_count": 73,
      "outputs": [
        {
          "output_type": "execute_result",
          "data": {
            "text/plain": [
              "array([[0., 0., 0., 0., 0.],\n",
              "       [0., 0., 0., 0., 0.],\n",
              "       [0., 0., 0., 0., 0.]])"
            ]
          },
          "metadata": {
            "tags": []
          },
          "execution_count": 73
        }
      ]
    },
    {
      "cell_type": "code",
      "metadata": {
        "colab": {
          "base_uri": "https://localhost:8080/"
        },
        "id": "Xsjr74THpQfv",
        "outputId": "e309e269-72ad-43bf-d4e3-4708f3285c68"
      },
      "source": [
        "np.ones((3,5))"
      ],
      "execution_count": 74,
      "outputs": [
        {
          "output_type": "execute_result",
          "data": {
            "text/plain": [
              "array([[1., 1., 1., 1., 1.],\n",
              "       [1., 1., 1., 1., 1.],\n",
              "       [1., 1., 1., 1., 1.]])"
            ]
          },
          "metadata": {
            "tags": []
          },
          "execution_count": 74
        }
      ]
    },
    {
      "cell_type": "code",
      "metadata": {
        "colab": {
          "base_uri": "https://localhost:8080/"
        },
        "id": "rttpGRBNpYkf",
        "outputId": "2680e8c8-69d0-4aa7-ab2c-01ecdcb292cf"
      },
      "source": [
        "np.full((3,3), 777.7) #특정숫자 넣기"
      ],
      "execution_count": 75,
      "outputs": [
        {
          "output_type": "execute_result",
          "data": {
            "text/plain": [
              "array([[777.7, 777.7, 777.7],\n",
              "       [777.7, 777.7, 777.7],\n",
              "       [777.7, 777.7, 777.7]])"
            ]
          },
          "metadata": {
            "tags": []
          },
          "execution_count": 75
        }
      ]
    },
    {
      "cell_type": "code",
      "metadata": {
        "colab": {
          "base_uri": "https://localhost:8080/"
        },
        "id": "jw6z8y3OpfyY",
        "outputId": "eb484154-c1b3-4f04-b9c5-322d4f6dac93"
      },
      "source": [
        "np.arange(1,20,2) #1부터 20까지 2개씩 띄워서"
      ],
      "execution_count": 76,
      "outputs": [
        {
          "output_type": "execute_result",
          "data": {
            "text/plain": [
              "array([ 1,  3,  5,  7,  9, 11, 13, 15, 17, 19])"
            ]
          },
          "metadata": {
            "tags": []
          },
          "execution_count": 76
        }
      ]
    },
    {
      "cell_type": "code",
      "metadata": {
        "colab": {
          "base_uri": "https://localhost:8080/"
        },
        "id": "8nFZsjfipovr",
        "outputId": "b7fe43e5-282a-451d-e107-9eec1e51d4ce"
      },
      "source": [
        "np.linspace(0,10,2)#시작과 끝점을 정해주고 2개를 써라"
      ],
      "execution_count": 77,
      "outputs": [
        {
          "output_type": "execute_result",
          "data": {
            "text/plain": [
              "array([ 0., 10.])"
            ]
          },
          "metadata": {
            "tags": []
          },
          "execution_count": 77
        }
      ]
    },
    {
      "cell_type": "code",
      "metadata": {
        "colab": {
          "base_uri": "https://localhost:8080/"
        },
        "id": "4AztBKoCp4WT",
        "outputId": "72c8f0c8-f80d-4611-c60f-8ef23ef6b679"
      },
      "source": [
        "e = np.array([1,2,3,4])\r\n",
        "f = np.arange(4)\r\n",
        "f"
      ],
      "execution_count": 78,
      "outputs": [
        {
          "output_type": "execute_result",
          "data": {
            "text/plain": [
              "array([0, 1, 2, 3])"
            ]
          },
          "metadata": {
            "tags": []
          },
          "execution_count": 78
        }
      ]
    },
    {
      "cell_type": "code",
      "metadata": {
        "colab": {
          "base_uri": "https://localhost:8080/"
        },
        "id": "mQ3n8niMqRZd",
        "outputId": "623d97b6-5edd-41e9-8333-4bf13d89dc02"
      },
      "source": [
        "e*f"
      ],
      "execution_count": 79,
      "outputs": [
        {
          "output_type": "execute_result",
          "data": {
            "text/plain": [
              "array([ 0,  2,  6, 12])"
            ]
          },
          "metadata": {
            "tags": []
          },
          "execution_count": 79
        }
      ]
    },
    {
      "cell_type": "code",
      "metadata": {
        "colab": {
          "base_uri": "https://localhost:8080/"
        },
        "id": "7S4HN9UCqWS-",
        "outputId": "773ffe89-54a7-4559-9b9a-f52526142292"
      },
      "source": [
        "e-f"
      ],
      "execution_count": 80,
      "outputs": [
        {
          "output_type": "execute_result",
          "data": {
            "text/plain": [
              "array([1, 1, 1, 1])"
            ]
          },
          "metadata": {
            "tags": []
          },
          "execution_count": 80
        }
      ]
    },
    {
      "cell_type": "code",
      "metadata": {
        "colab": {
          "base_uri": "https://localhost:8080/"
        },
        "id": "z--zvpn4qi25",
        "outputId": "cdadc23d-7b42-4e0e-ca5c-8cb72cbc071e"
      },
      "source": [
        "e*3"
      ],
      "execution_count": 81,
      "outputs": [
        {
          "output_type": "execute_result",
          "data": {
            "text/plain": [
              "array([ 3,  6,  9, 12])"
            ]
          },
          "metadata": {
            "tags": []
          },
          "execution_count": 81
        }
      ]
    },
    {
      "cell_type": "code",
      "metadata": {
        "colab": {
          "base_uri": "https://localhost:8080/"
        },
        "id": "3bQ4bdDZqwjF",
        "outputId": "b0919df2-9282-4d29-d93b-734f875eeba2"
      },
      "source": [
        "e**3"
      ],
      "execution_count": 82,
      "outputs": [
        {
          "output_type": "execute_result",
          "data": {
            "text/plain": [
              "array([ 1,  8, 27, 64])"
            ]
          },
          "metadata": {
            "tags": []
          },
          "execution_count": 82
        }
      ]
    },
    {
      "cell_type": "code",
      "metadata": {
        "colab": {
          "base_uri": "https://localhost:8080/"
        },
        "id": "E7jH2mrqqzmd",
        "outputId": "ceb5608f-26cb-4834-c6bb-c10eb850a160"
      },
      "source": [
        "g = np.arange(9).reshape(3,3)\r\n",
        "h = np.arange(9).reshape(3,3)+1\r\n",
        "h"
      ],
      "execution_count": 83,
      "outputs": [
        {
          "output_type": "execute_result",
          "data": {
            "text/plain": [
              "array([[1, 2, 3],\n",
              "       [4, 5, 6],\n",
              "       [7, 8, 9]])"
            ]
          },
          "metadata": {
            "tags": []
          },
          "execution_count": 83
        }
      ]
    },
    {
      "cell_type": "code",
      "metadata": {
        "colab": {
          "base_uri": "https://localhost:8080/"
        },
        "id": "lp8A68P7rGib",
        "outputId": "2c2a7c2e-e04a-4273-91fb-b2363cae0737"
      },
      "source": [
        "g"
      ],
      "execution_count": 84,
      "outputs": [
        {
          "output_type": "execute_result",
          "data": {
            "text/plain": [
              "array([[0, 1, 2],\n",
              "       [3, 4, 5],\n",
              "       [6, 7, 8]])"
            ]
          },
          "metadata": {
            "tags": []
          },
          "execution_count": 84
        }
      ]
    },
    {
      "cell_type": "code",
      "metadata": {
        "colab": {
          "base_uri": "https://localhost:8080/"
        },
        "id": "x0u6ijD5rRgH",
        "outputId": "ebfd3b80-f1da-4b8a-d641-eda9e63bcfbd"
      },
      "source": [
        "g*h"
      ],
      "execution_count": 85,
      "outputs": [
        {
          "output_type": "execute_result",
          "data": {
            "text/plain": [
              "array([[ 0,  2,  6],\n",
              "       [12, 20, 30],\n",
              "       [42, 56, 72]])"
            ]
          },
          "metadata": {
            "tags": []
          },
          "execution_count": 85
        }
      ]
    },
    {
      "cell_type": "code",
      "metadata": {
        "colab": {
          "base_uri": "https://localhost:8080/"
        },
        "id": "WiFLs8kJraZO",
        "outputId": "c5ed0421-e148-44ba-f182-506aa90d13df"
      },
      "source": [
        "g**h #지수"
      ],
      "execution_count": 86,
      "outputs": [
        {
          "output_type": "execute_result",
          "data": {
            "text/plain": [
              "array([[        0,         1,         8],\n",
              "       [       81,      1024,     15625],\n",
              "       [   279936,   5764801, 134217728]])"
            ]
          },
          "metadata": {
            "tags": []
          },
          "execution_count": 86
        }
      ]
    },
    {
      "cell_type": "code",
      "metadata": {
        "colab": {
          "base_uri": "https://localhost:8080/"
        },
        "id": "irL3mwKVrh7A",
        "outputId": "94d112f0-5ab2-4cd0-84d3-ccee52642392"
      },
      "source": [
        "g**h"
      ],
      "execution_count": 87,
      "outputs": [
        {
          "output_type": "execute_result",
          "data": {
            "text/plain": [
              "array([[        0,         1,         8],\n",
              "       [       81,      1024,     15625],\n",
              "       [   279936,   5764801, 134217728]])"
            ]
          },
          "metadata": {
            "tags": []
          },
          "execution_count": 87
        }
      ]
    },
    {
      "cell_type": "code",
      "metadata": {
        "colab": {
          "base_uri": "https://localhost:8080/"
        },
        "id": "C3vnw6PHrwWl",
        "outputId": "ddbcda64-cdcc-40ed-ed77-7d67aee04819"
      },
      "source": [
        "g>3"
      ],
      "execution_count": 88,
      "outputs": [
        {
          "output_type": "execute_result",
          "data": {
            "text/plain": [
              "array([[False, False, False],\n",
              "       [False,  True,  True],\n",
              "       [ True,  True,  True]])"
            ]
          },
          "metadata": {
            "tags": []
          },
          "execution_count": 88
        }
      ]
    },
    {
      "cell_type": "code",
      "metadata": {
        "colab": {
          "base_uri": "https://localhost:8080/"
        },
        "id": "VNz5YZv0sB6_",
        "outputId": "07c6df68-165f-4b8a-f730-5a98aa8067a9"
      },
      "source": [
        "i = np.array([[[[1,2],[3,4]]]], dtype = np.float64)\r\n",
        "i"
      ],
      "execution_count": 89,
      "outputs": [
        {
          "output_type": "execute_result",
          "data": {
            "text/plain": [
              "array([[[[1., 2.],\n",
              "         [3., 4.]]]])"
            ]
          },
          "metadata": {
            "tags": []
          },
          "execution_count": 89
        }
      ]
    },
    {
      "cell_type": "code",
      "metadata": {
        "colab": {
          "base_uri": "https://localhost:8080/"
        },
        "id": "zIWxPAmBsll5",
        "outputId": "792ce1d2-59cb-4b8d-e038-c16dfdc719aa"
      },
      "source": [
        "i.dtype"
      ],
      "execution_count": 90,
      "outputs": [
        {
          "output_type": "execute_result",
          "data": {
            "text/plain": [
              "dtype('float64')"
            ]
          },
          "metadata": {
            "tags": []
          },
          "execution_count": 90
        }
      ]
    },
    {
      "cell_type": "code",
      "metadata": {
        "colab": {
          "base_uri": "https://localhost:8080/"
        },
        "id": "ykBga04Zt5wy",
        "outputId": "a9f0035b-fdaf-414f-ed0e-56e27f43f702"
      },
      "source": [
        "i.ndim"
      ],
      "execution_count": 91,
      "outputs": [
        {
          "output_type": "execute_result",
          "data": {
            "text/plain": [
              "4"
            ]
          },
          "metadata": {
            "tags": []
          },
          "execution_count": 91
        }
      ]
    },
    {
      "cell_type": "code",
      "metadata": {
        "colab": {
          "base_uri": "https://localhost:8080/"
        },
        "id": "gTzD_JS_t8gf",
        "outputId": "918d0a36-918f-4f5a-9414-3ecd3cce7cac"
      },
      "source": [
        "#랜덤\r\n",
        "k = np.random.random((5,2))\r\n",
        "k"
      ],
      "execution_count": 92,
      "outputs": [
        {
          "output_type": "execute_result",
          "data": {
            "text/plain": [
              "array([[0.81780768, 0.11784869],\n",
              "       [0.60023242, 0.66024947],\n",
              "       [0.49334789, 0.65977524],\n",
              "       [0.07808846, 0.89466533],\n",
              "       [0.62856913, 0.35353395]])"
            ]
          },
          "metadata": {
            "tags": []
          },
          "execution_count": 92
        }
      ]
    },
    {
      "cell_type": "code",
      "metadata": {
        "colab": {
          "base_uri": "https://localhost:8080/"
        },
        "id": "t9wm8AbXufVu",
        "outputId": "ec31deac-4699-4ebc-8368-a5994c61174f"
      },
      "source": [
        "k.min()"
      ],
      "execution_count": 93,
      "outputs": [
        {
          "output_type": "execute_result",
          "data": {
            "text/plain": [
              "0.07808845764795536"
            ]
          },
          "metadata": {
            "tags": []
          },
          "execution_count": 93
        }
      ]
    },
    {
      "cell_type": "code",
      "metadata": {
        "colab": {
          "base_uri": "https://localhost:8080/"
        },
        "id": "O3AooPCYun0g",
        "outputId": "b4f59fef-b34f-4665-944c-2f59f5a939ad"
      },
      "source": [
        "k.max()"
      ],
      "execution_count": 94,
      "outputs": [
        {
          "output_type": "execute_result",
          "data": {
            "text/plain": [
              "0.8946653259486812"
            ]
          },
          "metadata": {
            "tags": []
          },
          "execution_count": 94
        }
      ]
    },
    {
      "cell_type": "code",
      "metadata": {
        "colab": {
          "base_uri": "https://localhost:8080/"
        },
        "id": "GfET0sVOvr-E",
        "outputId": "dbfb5e84-a35d-4a61-a5d6-418fff0b3f6e"
      },
      "source": [
        "k.mean()"
      ],
      "execution_count": 95,
      "outputs": [
        {
          "output_type": "execute_result",
          "data": {
            "text/plain": [
              "0.5304118250589575"
            ]
          },
          "metadata": {
            "tags": []
          },
          "execution_count": 95
        }
      ]
    },
    {
      "cell_type": "code",
      "metadata": {
        "colab": {
          "base_uri": "https://localhost:8080/"
        },
        "id": "ycfHwJ44vvak",
        "outputId": "f04d32c8-fd7d-43c9-f86e-184f2a91fbdc"
      },
      "source": [
        "k.sum()"
      ],
      "execution_count": 96,
      "outputs": [
        {
          "output_type": "execute_result",
          "data": {
            "text/plain": [
              "5.304118250589575"
            ]
          },
          "metadata": {
            "tags": []
          },
          "execution_count": 96
        }
      ]
    },
    {
      "cell_type": "code",
      "metadata": {
        "colab": {
          "base_uri": "https://localhost:8080/"
        },
        "id": "6JBFb1VAvx9L",
        "outputId": "d688fa84-579b-4a2a-d3d8-65859b6bcac8"
      },
      "source": [
        "k.sum(axis=0)"
      ],
      "execution_count": 97,
      "outputs": [
        {
          "output_type": "execute_result",
          "data": {
            "text/plain": [
              "array([2.61804557, 2.68607268])"
            ]
          },
          "metadata": {
            "tags": []
          },
          "execution_count": 97
        }
      ]
    },
    {
      "cell_type": "code",
      "metadata": {
        "colab": {
          "base_uri": "https://localhost:8080/"
        },
        "id": "LIr_M66iv16S",
        "outputId": "f2abeb7c-d98e-4cef-f3ec-85abf443bd1c"
      },
      "source": [
        "k.sum(axis=1)"
      ],
      "execution_count": 98,
      "outputs": [
        {
          "output_type": "execute_result",
          "data": {
            "text/plain": [
              "array([0.93565637, 1.26048189, 1.15312313, 0.97275378, 0.98210308])"
            ]
          },
          "metadata": {
            "tags": []
          },
          "execution_count": 98
        }
      ]
    },
    {
      "cell_type": "code",
      "metadata": {
        "colab": {
          "base_uri": "https://localhost:8080/"
        },
        "id": "GOkwDkIVv6mV",
        "outputId": "27affa2e-5b3b-4487-c270-a973eb94e14a"
      },
      "source": [
        "np.exp(k)"
      ],
      "execution_count": 99,
      "outputs": [
        {
          "output_type": "execute_result",
          "data": {
            "text/plain": [
              "array([[2.26552762, 1.12507387],\n",
              "       [1.82254235, 1.93527506],\n",
              "       [1.63779019, 1.93435752],\n",
              "       [1.0812183 , 2.44651687],\n",
              "       [1.87492588, 1.42409133]])"
            ]
          },
          "metadata": {
            "tags": []
          },
          "execution_count": 99
        }
      ]
    },
    {
      "cell_type": "code",
      "metadata": {
        "colab": {
          "base_uri": "https://localhost:8080/"
        },
        "id": "t67exF2jv93n",
        "outputId": "e9a7a2df-5e8c-47fa-f2d6-078900f159c6"
      },
      "source": [
        "np.add(k,k)"
      ],
      "execution_count": 100,
      "outputs": [
        {
          "output_type": "execute_result",
          "data": {
            "text/plain": [
              "array([[1.63561535, 0.23569739],\n",
              "       [1.20046484, 1.32049893],\n",
              "       [0.98669578, 1.31955048],\n",
              "       [0.15617692, 1.78933065],\n",
              "       [1.25713825, 0.7070679 ]])"
            ]
          },
          "metadata": {
            "tags": []
          },
          "execution_count": 100
        }
      ]
    },
    {
      "cell_type": "code",
      "metadata": {
        "colab": {
          "base_uri": "https://localhost:8080/"
        },
        "id": "00HhvP7JwKYE",
        "outputId": "b487b9ce-0621-4692-8865-185c077b9bb2"
      },
      "source": [
        "np.sin(k) #싸인 값"
      ],
      "execution_count": 101,
      "outputs": [
        {
          "output_type": "execute_result",
          "data": {
            "text/plain": [
              "array([[0.72964842, 0.1175761 ],\n",
              "       [0.56483428, 0.61331391],\n",
              "       [0.4735772 , 0.61293928],\n",
              "       [0.07800912, 0.77999969],\n",
              "       [0.58798797, 0.34621536]])"
            ]
          },
          "metadata": {
            "tags": []
          },
          "execution_count": 101
        }
      ]
    },
    {
      "cell_type": "code",
      "metadata": {
        "colab": {
          "base_uri": "https://localhost:8080/"
        },
        "id": "3w9K6C2zwO-E",
        "outputId": "8b321761-1284-4359-c4f0-e653d899637d"
      },
      "source": [
        "np.sin(k[0,0])"
      ],
      "execution_count": 102,
      "outputs": [
        {
          "output_type": "execute_result",
          "data": {
            "text/plain": [
              "0.7296484234748671"
            ]
          },
          "metadata": {
            "tags": []
          },
          "execution_count": 102
        }
      ]
    },
    {
      "cell_type": "code",
      "metadata": {
        "colab": {
          "base_uri": "https://localhost:8080/"
        },
        "id": "fIwlBjEVwa_c",
        "outputId": "be9651b9-a0ee-4ef0-ac45-2fc579bd1f4d"
      },
      "source": [
        "k"
      ],
      "execution_count": 103,
      "outputs": [
        {
          "output_type": "execute_result",
          "data": {
            "text/plain": [
              "array([[0.81780768, 0.11784869],\n",
              "       [0.60023242, 0.66024947],\n",
              "       [0.49334789, 0.65977524],\n",
              "       [0.07808846, 0.89466533],\n",
              "       [0.62856913, 0.35353395]])"
            ]
          },
          "metadata": {
            "tags": []
          },
          "execution_count": 103
        }
      ]
    },
    {
      "cell_type": "code",
      "metadata": {
        "colab": {
          "base_uri": "https://localhost:8080/"
        },
        "id": "I0Dk-lVywdeT",
        "outputId": "3df0a9c0-a3a2-44b3-f982-72a90f83de1d"
      },
      "source": [
        "k[3]"
      ],
      "execution_count": 104,
      "outputs": [
        {
          "output_type": "execute_result",
          "data": {
            "text/plain": [
              "array([0.07808846, 0.89466533])"
            ]
          },
          "metadata": {
            "tags": []
          },
          "execution_count": 104
        }
      ]
    },
    {
      "cell_type": "code",
      "metadata": {
        "colab": {
          "base_uri": "https://localhost:8080/"
        },
        "id": "LRTB-epUwgMk",
        "outputId": "33943a9c-6676-420e-90d1-5b32c0b39dda"
      },
      "source": [
        "k[3:]"
      ],
      "execution_count": 105,
      "outputs": [
        {
          "output_type": "execute_result",
          "data": {
            "text/plain": [
              "array([[0.07808846, 0.89466533],\n",
              "       [0.62856913, 0.35353395]])"
            ]
          },
          "metadata": {
            "tags": []
          },
          "execution_count": 105
        }
      ]
    },
    {
      "cell_type": "code",
      "metadata": {
        "colab": {
          "base_uri": "https://localhost:8080/"
        },
        "id": "k4kdcn7BwkPq",
        "outputId": "f3a63dcc-4067-4944-db30-e9e18a833343"
      },
      "source": [
        "k[:3,:1]"
      ],
      "execution_count": 106,
      "outputs": [
        {
          "output_type": "execute_result",
          "data": {
            "text/plain": [
              "array([[0.81780768],\n",
              "       [0.60023242],\n",
              "       [0.49334789]])"
            ]
          },
          "metadata": {
            "tags": []
          },
          "execution_count": 106
        }
      ]
    },
    {
      "cell_type": "code",
      "metadata": {
        "colab": {
          "base_uri": "https://localhost:8080/"
        },
        "id": "_uQJ1cV6woBH",
        "outputId": "2eb15224-ccbc-4a8e-fa61-3521a5c69775"
      },
      "source": [
        "k[:3]"
      ],
      "execution_count": 107,
      "outputs": [
        {
          "output_type": "execute_result",
          "data": {
            "text/plain": [
              "array([[0.81780768, 0.11784869],\n",
              "       [0.60023242, 0.66024947],\n",
              "       [0.49334789, 0.65977524]])"
            ]
          },
          "metadata": {
            "tags": []
          },
          "execution_count": 107
        }
      ]
    },
    {
      "cell_type": "code",
      "metadata": {
        "colab": {
          "base_uri": "https://localhost:8080/"
        },
        "id": "YHAmPGMhw1Oj",
        "outputId": "89b54fd8-cbc9-422e-94ca-58024552ab25"
      },
      "source": [
        "k"
      ],
      "execution_count": 108,
      "outputs": [
        {
          "output_type": "execute_result",
          "data": {
            "text/plain": [
              "array([[0.81780768, 0.11784869],\n",
              "       [0.60023242, 0.66024947],\n",
              "       [0.49334789, 0.65977524],\n",
              "       [0.07808846, 0.89466533],\n",
              "       [0.62856913, 0.35353395]])"
            ]
          },
          "metadata": {
            "tags": []
          },
          "execution_count": 108
        }
      ]
    },
    {
      "cell_type": "code",
      "metadata": {
        "colab": {
          "base_uri": "https://localhost:8080/"
        },
        "id": "u00BB36Nxmhn",
        "outputId": "ff563c63-5d8f-4933-e57f-a9977a13d8f7"
      },
      "source": [
        "k[:3,1]"
      ],
      "execution_count": 109,
      "outputs": [
        {
          "output_type": "execute_result",
          "data": {
            "text/plain": [
              "array([0.11784869, 0.66024947, 0.65977524])"
            ]
          },
          "metadata": {
            "tags": []
          },
          "execution_count": 109
        }
      ]
    },
    {
      "cell_type": "code",
      "metadata": {
        "colab": {
          "base_uri": "https://localhost:8080/"
        },
        "id": "RzrgpXo5xsNI",
        "outputId": "bb7ccf6c-2fdc-48aa-f2ed-b350bfc45af1"
      },
      "source": [
        "k[0,1]"
      ],
      "execution_count": 110,
      "outputs": [
        {
          "output_type": "execute_result",
          "data": {
            "text/plain": [
              "0.11784869484419647"
            ]
          },
          "metadata": {
            "tags": []
          },
          "execution_count": 110
        }
      ]
    },
    {
      "cell_type": "code",
      "metadata": {
        "colab": {
          "base_uri": "https://localhost:8080/"
        },
        "id": "7-Qpck2px01I",
        "outputId": "15ee7cf8-9ad0-4077-fb9b-b06ceeae1721"
      },
      "source": [
        "k[0,1] = 3.333 #위치에 있는 값 바꾸기\r\n",
        "k"
      ],
      "execution_count": 111,
      "outputs": [
        {
          "output_type": "execute_result",
          "data": {
            "text/plain": [
              "array([[0.81780768, 3.333     ],\n",
              "       [0.60023242, 0.66024947],\n",
              "       [0.49334789, 0.65977524],\n",
              "       [0.07808846, 0.89466533],\n",
              "       [0.62856913, 0.35353395]])"
            ]
          },
          "metadata": {
            "tags": []
          },
          "execution_count": 111
        }
      ]
    },
    {
      "cell_type": "code",
      "metadata": {
        "colab": {
          "base_uri": "https://localhost:8080/"
        },
        "id": "XdZ4sGmyyCX0",
        "outputId": "4c6e31f3-194c-48a8-e61b-9460604d56c9"
      },
      "source": [
        "k[-1]"
      ],
      "execution_count": 112,
      "outputs": [
        {
          "output_type": "execute_result",
          "data": {
            "text/plain": [
              "array([0.62856913, 0.35353395])"
            ]
          },
          "metadata": {
            "tags": []
          },
          "execution_count": 112
        }
      ]
    },
    {
      "cell_type": "code",
      "metadata": {
        "colab": {
          "base_uri": "https://localhost:8080/"
        },
        "id": "ZRoJEAUCyYZ8",
        "outputId": "8a3bfa3e-a05d-439e-bfad-c50af38e28d5"
      },
      "source": [
        "k"
      ],
      "execution_count": 113,
      "outputs": [
        {
          "output_type": "execute_result",
          "data": {
            "text/plain": [
              "array([[0.81780768, 3.333     ],\n",
              "       [0.60023242, 0.66024947],\n",
              "       [0.49334789, 0.65977524],\n",
              "       [0.07808846, 0.89466533],\n",
              "       [0.62856913, 0.35353395]])"
            ]
          },
          "metadata": {
            "tags": []
          },
          "execution_count": 113
        }
      ]
    },
    {
      "cell_type": "code",
      "metadata": {
        "colab": {
          "base_uri": "https://localhost:8080/"
        },
        "id": "zpr21cybycFb",
        "outputId": "4bbd033e-e1c7-4df2-b898-a47a973e86bf"
      },
      "source": [
        "k[-3]"
      ],
      "execution_count": 114,
      "outputs": [
        {
          "output_type": "execute_result",
          "data": {
            "text/plain": [
              "array([0.49334789, 0.65977524])"
            ]
          },
          "metadata": {
            "tags": []
          },
          "execution_count": 114
        }
      ]
    },
    {
      "cell_type": "code",
      "metadata": {
        "colab": {
          "base_uri": "https://localhost:8080/"
        },
        "id": "3xBn-PYuyeyG",
        "outputId": "188ce909-becd-4f13-a5fb-869d928d21e6"
      },
      "source": [
        "k[:-1]"
      ],
      "execution_count": 115,
      "outputs": [
        {
          "output_type": "execute_result",
          "data": {
            "text/plain": [
              "array([[0.81780768, 3.333     ],\n",
              "       [0.60023242, 0.66024947],\n",
              "       [0.49334789, 0.65977524],\n",
              "       [0.07808846, 0.89466533]])"
            ]
          },
          "metadata": {
            "tags": []
          },
          "execution_count": 115
        }
      ]
    },
    {
      "cell_type": "code",
      "metadata": {
        "colab": {
          "base_uri": "https://localhost:8080/"
        },
        "id": "yoIu6JL-yjx2",
        "outputId": "32c796b3-e49a-4533-cd72-f98b2d9d9742"
      },
      "source": [
        "k[:-1,-2]"
      ],
      "execution_count": 116,
      "outputs": [
        {
          "output_type": "execute_result",
          "data": {
            "text/plain": [
              "array([0.81780768, 0.60023242, 0.49334789, 0.07808846])"
            ]
          },
          "metadata": {
            "tags": []
          },
          "execution_count": 116
        }
      ]
    },
    {
      "cell_type": "code",
      "metadata": {
        "colab": {
          "base_uri": "https://localhost:8080/"
        },
        "id": "uhulU8fSy5YZ",
        "outputId": "a3bcc5b5-8e8e-4e74-dc2c-c2b04d89a413"
      },
      "source": [
        "for i in k[1:3]: \r\n",
        "  print(i)"
      ],
      "execution_count": 117,
      "outputs": [
        {
          "output_type": "stream",
          "text": [
            "[0.60023242 0.66024947]\n",
            "[0.49334789 0.65977524]\n"
          ],
          "name": "stdout"
        }
      ]
    },
    {
      "cell_type": "code",
      "metadata": {
        "id": "XLb9tc_GzYqf",
        "colab": {
          "base_uri": "https://localhost:8080/"
        },
        "outputId": "3540c8df-685e-494b-c130-f0fdca22da01"
      },
      "source": [
        "#0부터 9까지 랜덤하게 초기화 된 배열\r\n",
        "array4 = np.random.randint(0,10,(3,3))\r\n",
        "print(array4)"
      ],
      "execution_count": 118,
      "outputs": [
        {
          "output_type": "stream",
          "text": [
            "[[1 7 9]\n",
            " [4 8 7]\n",
            " [4 2 0]]\n"
          ],
          "name": "stdout"
        }
      ]
    },
    {
      "cell_type": "code",
      "metadata": {
        "colab": {
          "base_uri": "https://localhost:8080/"
        },
        "id": "yiwh6v28CtzK",
        "outputId": "b98c1968-6cea-40dd-b3ea-17b804e4e86b"
      },
      "source": [
        "#평균이 0이고, 표준편차가 1인 표준정규분포 배열\r\n",
        "array5 = np.random.normal(0,1,(3,3))\r\n",
        "print(array5)"
      ],
      "execution_count": 119,
      "outputs": [
        {
          "output_type": "stream",
          "text": [
            "[[-1.85832013 -0.5397146  -0.67716046]\n",
            " [ 0.42005238 -0.57808427  0.53851193]\n",
            " [-1.63253463 -0.56339489  1.49509429]]\n"
          ],
          "name": "stdout"
        }
      ]
    },
    {
      "cell_type": "code",
      "metadata": {
        "colab": {
          "base_uri": "https://localhost:8080/"
        },
        "id": "11PBagUXDZvT",
        "outputId": "b192a827-cc32-457d-e01e-af8cba9c6a17"
      },
      "source": [
        "#배열을 바꿈\r\n",
        "array1 = np.array([1,2,3,4])\r\n",
        "array2 = array1.reshape((2,2))\r\n",
        "print(array2)"
      ],
      "execution_count": 120,
      "outputs": [
        {
          "output_type": "stream",
          "text": [
            "[[1 2]\n",
            " [3 4]]\n"
          ],
          "name": "stdout"
        }
      ]
    },
    {
      "cell_type": "code",
      "metadata": {
        "colab": {
          "base_uri": "https://localhost:8080/"
        },
        "id": "dLYenygDEMgu",
        "outputId": "5c19694d-5a0e-4945-d8b0-cce7f27d36d0"
      },
      "source": [
        "array = np.arange(8).reshape(2,4)\r\n",
        "left, right = np.split(array, [2], axis=1)\r\n",
        "print(left.shape)\r\n",
        "print(right.shape)"
      ],
      "execution_count": 123,
      "outputs": [
        {
          "output_type": "stream",
          "text": [
            "(2, 2)\n",
            "(2, 2)\n"
          ],
          "name": "stdout"
        }
      ]
    }
  ]
}