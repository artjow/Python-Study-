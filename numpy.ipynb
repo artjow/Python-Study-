{
  "nbformat": 4,
  "nbformat_minor": 0,
  "metadata": {
    "colab": {
      "name": "numpy.ipynb",
      "provenance": [],
      "collapsed_sections": [],
      "include_colab_link": true
    },
    "kernelspec": {
      "name": "python3",
      "display_name": "Python 3"
    }
  },
  "cells": [
    {
      "cell_type": "markdown",
      "metadata": {
        "id": "view-in-github",
        "colab_type": "text"
      },
      "source": [
        "<a href=\"https://colab.research.google.com/github/chohyungrae/Python-Study-/blob/master/numpy.ipynb\" target=\"_parent\"><img src=\"https://colab.research.google.com/assets/colab-badge.svg\" alt=\"Open In Colab\"/></a>"
      ]
    },
    {
      "cell_type": "code",
      "metadata": {
        "id": "lUoFpejYiBFO",
        "colab_type": "code",
        "colab": {}
      },
      "source": [
        "#Numpy는 벡터 및 행렬 연산에 있어서 매우 편리한 기능을 제공\n",
        "import numpy as np"
      ],
      "execution_count": 6,
      "outputs": []
    },
    {
      "cell_type": "markdown",
      "metadata": {
        "id": "U0RmM-Ssl48F",
        "colab_type": "text"
      },
      "source": [
        "**Numpy 배열**\n",
        "\n",
        "- Numpy에서 배열은 동일한 타입의 값들을 가짐\n",
        "- rank: 배열의 차원\n",
        "- shape: 각 차원의 크기를 tuple로 표시한 것\n",
        "- Numpy에서 배열의 타입은 ndarray"
      ]
    },
    {
      "cell_type": "markdown",
      "metadata": {
        "id": "5Z5_FFOKmPoi",
        "colab_type": "text"
      },
      "source": [
        "**Numpy 배열 생성**\n",
        "\n",
        "===> 파이썬의 리스트를 사용하는 방법"
      ]
    },
    {
      "cell_type": "code",
      "metadata": {
        "id": "El7geVrbmnmL",
        "colab_type": "code",
        "colab": {
          "base_uri": "https://localhost:8080/",
          "height": 55
        },
        "outputId": "2d882b04-28c1-4454-dcfb-b3489e11e85b"
      },
      "source": [
        "#array()함수의 인자로 리스트를 넣어 생성\n",
        "\n",
        "list1 = [1,2,3,4]\n",
        "a = np.array(list1)\n",
        "print(a)\n",
        "print(a.shape)"
      ],
      "execution_count": 7,
      "outputs": [
        {
          "output_type": "stream",
          "text": [
            "[1 2 3 4]\n",
            "(4,)\n"
          ],
          "name": "stdout"
        }
      ]
    },
    {
      "cell_type": "markdown",
      "metadata": {
        "id": "GCyXKxsoorex",
        "colab_type": "text"
      },
      "source": [
        "===> Numpy에서 제공하는 함수를 사용하는 방법\n"
      ]
    },
    {
      "cell_type": "code",
      "metadata": {
        "id": "hUZPytjco1y_",
        "colab_type": "code",
        "colab": {
          "base_uri": "https://localhost:8080/",
          "height": 55
        },
        "outputId": "5f2b2d3f-a501-4c11-b7de-24390064e251"
      },
      "source": [
        "#zeros(): 배열에 모두 0을 집어 넣음\n",
        "\n",
        "aa = np.zeros((2,2))\n",
        "aa"
      ],
      "execution_count": 10,
      "outputs": [
        {
          "output_type": "execute_result",
          "data": {
            "text/plain": [
              "array([[0., 0.],\n",
              "       [0., 0.]])"
            ]
          },
          "metadata": {
            "tags": []
          },
          "execution_count": 10
        }
      ]
    },
    {
      "cell_type": "code",
      "metadata": {
        "id": "6pKG1bvEpCJX",
        "colab_type": "code",
        "colab": {
          "base_uri": "https://localhost:8080/",
          "height": 36
        },
        "outputId": "b6ddfeb2-3851-406c-be77-bdd1397c6072"
      },
      "source": [
        "type(aa)"
      ],
      "execution_count": 11,
      "outputs": [
        {
          "output_type": "execute_result",
          "data": {
            "text/plain": [
              "numpy.ndarray"
            ]
          },
          "metadata": {
            "tags": []
          },
          "execution_count": 11
        }
      ]
    },
    {
      "cell_type": "code",
      "metadata": {
        "id": "5DOW6_KxpETH",
        "colab_type": "code",
        "colab": {
          "base_uri": "https://localhost:8080/",
          "height": 55
        },
        "outputId": "685c8e9f-1fa0-4c99-e6b1-973f86df9494"
      },
      "source": [
        "#ones(): 배열에 모두 1을 집어 넣음\n",
        "\n",
        "aa = np.ones((2,3))\n",
        "aa"
      ],
      "execution_count": 12,
      "outputs": [
        {
          "output_type": "execute_result",
          "data": {
            "text/plain": [
              "array([[1., 1., 1.],\n",
              "       [1., 1., 1.]])"
            ]
          },
          "metadata": {
            "tags": []
          },
          "execution_count": 12
        }
      ]
    },
    {
      "cell_type": "code",
      "metadata": {
        "id": "wUbZPEU0pMmN",
        "colab_type": "code",
        "colab": {
          "base_uri": "https://localhost:8080/",
          "height": 55
        },
        "outputId": "cc7dd572-d8bb-4607-cebd-e3e0ace6c704"
      },
      "source": [
        "#full(): 배열에 사용자가 지정한 값을 넣음\n",
        "\n",
        "aa=np.full((2,3), 10)\n",
        "aa"
      ],
      "execution_count": 13,
      "outputs": [
        {
          "output_type": "execute_result",
          "data": {
            "text/plain": [
              "array([[10, 10, 10],\n",
              "       [10, 10, 10]])"
            ]
          },
          "metadata": {
            "tags": []
          },
          "execution_count": 13
        }
      ]
    },
    {
      "cell_type": "code",
      "metadata": {
        "id": "BeNews6apUDe",
        "colab_type": "code",
        "colab": {
          "base_uri": "https://localhost:8080/",
          "height": 73
        },
        "outputId": "3e6992fb-1253-4e96-f6c6-86e94f3361f6"
      },
      "source": [
        "#eye(): 대각선으로는 1이고 나머지는 0인 2차원 배열을 생성\n",
        "aa=np.eye(3)\n",
        "aa"
      ],
      "execution_count": 14,
      "outputs": [
        {
          "output_type": "execute_result",
          "data": {
            "text/plain": [
              "array([[1., 0., 0.],\n",
              "       [0., 1., 0.],\n",
              "       [0., 0., 1.]])"
            ]
          },
          "metadata": {
            "tags": []
          },
          "execution_count": 14
        }
      ]
    },
    {
      "cell_type": "code",
      "metadata": {
        "id": "P7Ht19Uvph8N",
        "colab_type": "code",
        "colab": {
          "base_uri": "https://localhost:8080/",
          "height": 111
        },
        "outputId": "4725124a-44fc-4cc1-c7fe-ee35ddb5b9f7"
      },
      "source": [
        "#reshape(): 다차원으로 변형하는 함수\n",
        "\n",
        "aa=np.array(range(20)).reshape((5,4)) #range(n): 0~n-1까지의 숫자를 생성하는 함수\n",
        "aa"
      ],
      "execution_count": 15,
      "outputs": [
        {
          "output_type": "execute_result",
          "data": {
            "text/plain": [
              "array([[ 0,  1,  2,  3],\n",
              "       [ 4,  5,  6,  7],\n",
              "       [ 8,  9, 10, 11],\n",
              "       [12, 13, 14, 15],\n",
              "       [16, 17, 18, 19]])"
            ]
          },
          "metadata": {
            "tags": []
          },
          "execution_count": 15
        }
      ]
    },
    {
      "cell_type": "code",
      "metadata": {
        "id": "qcajNDRwpo9d",
        "colab_type": "code",
        "colab": {
          "base_uri": "https://localhost:8080/",
          "height": 73
        },
        "outputId": "566bf6e1-3ce9-401f-fd71-0a59c11c4db4"
      },
      "source": [
        "aa=np.array(range(15)).reshape((3,5))\n",
        "aa"
      ],
      "execution_count": 16,
      "outputs": [
        {
          "output_type": "execute_result",
          "data": {
            "text/plain": [
              "array([[ 0,  1,  2,  3,  4],\n",
              "       [ 5,  6,  7,  8,  9],\n",
              "       [10, 11, 12, 13, 14]])"
            ]
          },
          "metadata": {
            "tags": []
          },
          "execution_count": 16
        }
      ]
    },
    {
      "cell_type": "code",
      "metadata": {
        "id": "aC2G17FsiTli",
        "colab_type": "code",
        "colab": {
          "base_uri": "https://localhost:8080/",
          "height": 55
        },
        "outputId": "580c3aaa-0663-44b9-8368-95249513d3a2"
      },
      "source": [
        "#array라는 단위로 데이터를 관리하며 이에 대해 연산을 수행\n",
        "#array=행렬\n",
        "a=np.arange(21)\n",
        "a"
      ],
      "execution_count": 8,
      "outputs": [
        {
          "output_type": "execute_result",
          "data": {
            "text/plain": [
              "array([ 0,  1,  2,  3,  4,  5,  6,  7,  8,  9, 10, 11, 12, 13, 14, 15, 16,\n",
              "       17, 18, 19, 20])"
            ]
          },
          "metadata": {
            "tags": []
          },
          "execution_count": 8
        }
      ]
    },
    {
      "cell_type": "code",
      "metadata": {
        "id": "nsMCH3NLiY3N",
        "colab_type": "code",
        "colab": {
          "base_uri": "https://localhost:8080/",
          "height": 73
        },
        "outputId": "6634fd2d-6782-4a69-c2ac-b09c1a34040e"
      },
      "source": [
        "#reshape 모양을 행렬로 바꾼다\n",
        "b=a.reshape(3,7)\n",
        "b"
      ],
      "execution_count": 9,
      "outputs": [
        {
          "output_type": "execute_result",
          "data": {
            "text/plain": [
              "array([[ 0,  1,  2,  3,  4,  5,  6],\n",
              "       [ 7,  8,  9, 10, 11, 12, 13],\n",
              "       [14, 15, 16, 17, 18, 19, 20]])"
            ]
          },
          "metadata": {
            "tags": []
          },
          "execution_count": 9
        }
      ]
    },
    {
      "cell_type": "code",
      "metadata": {
        "id": "6QsKVGzUinQY",
        "colab_type": "code",
        "colab": {
          "base_uri": "https://localhost:8080/",
          "height": 36
        },
        "outputId": "b9d3f00e-4036-4709-ca32-8b223dfec9a4"
      },
      "source": [
        "#shape이란 array의 형태(크기)를 나타냄\n",
        "a.shape"
      ],
      "execution_count": null,
      "outputs": [
        {
          "output_type": "execute_result",
          "data": {
            "text/plain": [
              "(21,)"
            ]
          },
          "metadata": {
            "tags": []
          },
          "execution_count": 9
        }
      ]
    },
    {
      "cell_type": "code",
      "metadata": {
        "id": "ThARLi7eixnx",
        "colab_type": "code",
        "colab": {
          "base_uri": "https://localhost:8080/",
          "height": 36
        },
        "outputId": "4b997261-27c9-4aeb-8361-d958bdc30625"
      },
      "source": [
        "#array의 자료형 확인\n",
        "a.dtype"
      ],
      "execution_count": null,
      "outputs": [
        {
          "output_type": "execute_result",
          "data": {
            "text/plain": [
              "dtype('int64')"
            ]
          },
          "metadata": {
            "tags": []
          },
          "execution_count": 10
        }
      ]
    },
    {
      "cell_type": "code",
      "metadata": {
        "id": "XtVtodKMkDdn",
        "colab_type": "code",
        "colab": {
          "base_uri": "https://localhost:8080/",
          "height": 92
        },
        "outputId": "407476b3-3ee5-46d7-9d83-5a271a4ce702"
      },
      "source": [
        "arr4=np.array([[1,2,3],[4,5,6],[7,8,9],[10,11,12]])\n",
        "arr4"
      ],
      "execution_count": null,
      "outputs": [
        {
          "output_type": "execute_result",
          "data": {
            "text/plain": [
              "array([[ 1,  2,  3],\n",
              "       [ 4,  5,  6],\n",
              "       [ 7,  8,  9],\n",
              "       [10, 11, 12]])"
            ]
          },
          "metadata": {
            "tags": []
          },
          "execution_count": 13
        }
      ]
    },
    {
      "cell_type": "code",
      "metadata": {
        "id": "jdHE25FKkXCF",
        "colab_type": "code",
        "colab": {
          "base_uri": "https://localhost:8080/",
          "height": 36
        },
        "outputId": "b086ffa0-895b-4d48-e21c-f8aff576a77b"
      },
      "source": [
        "arr4.shape"
      ],
      "execution_count": null,
      "outputs": [
        {
          "output_type": "execute_result",
          "data": {
            "text/plain": [
              "(4, 3)"
            ]
          },
          "metadata": {
            "tags": []
          },
          "execution_count": 14
        }
      ]
    },
    {
      "cell_type": "markdown",
      "metadata": {
        "id": "9BtGiqf4jcox",
        "colab_type": "text"
      },
      "source": [
        "# **numpy shape**\n",
        "\n",
        "numpy에서는 해당 array의 크기를 알 수 있다.\n",
        "\n",
        "shape 을 확인함으로써 몇개의 데이터가 있는지, 몇 차원으로 존재하는지 등을 확인할 수 있다.\n",
        "\n",
        "(5,)의 경우는 1차원의 데이터이며 총 5라는 크기를 갖고 있음을 뜻한다.\n",
        "\n",
        "위의 arr4.shape의 결과(4,3)은, 2차원의 데이터이며 4 * 3 크기를 갖고 있는 array 이다."
      ]
    },
    {
      "cell_type": "markdown",
      "metadata": {
        "id": "X8Rbe-PykVGn",
        "colab_type": "text"
      },
      "source": [
        "# **numpy 자료형**\n",
        "\n",
        "arr1이나 arr2는 int64라는 자료형을 갖는 것에 반해 arr3는 float64라는 자료형을 갖는다.\n",
        "\n",
        "이는 arr3내부 데이터를 살펴보면 3.5라는 실수형 데이터를 갖기 때문임을 알 수 있다.\n",
        "\n",
        "numpy에서 사용되는 자료형은 아래와 같다. (자료형 뒤에 붙는 숫자는 몇 비트 크기인지를 의미한다.)\n",
        "\n",
        "- 부호가 있는 정수 int(8, 16, 32, 64)\n",
        "- 부호가 없는 정수 uint(8 ,16, 32, 54)\n",
        "- 실수 float(16, 32, 64, 128)\n",
        "- 복소수 complex(64, 128, 256)\n",
        "- 불리언 bool\n",
        "- 문자열 string_\n",
        "- 파이썬 오프젝트 object\n",
        "- 유니코드 unicode_\n",
        "\n"
      ]
    },
    {
      "cell_type": "markdown",
      "metadata": {
        "id": "3kXn6WL6k5pz",
        "colab_type": "text"
      },
      "source": [
        "**np.zeros(), np.ones(), np.arange() 함수**\n",
        "\n",
        "- numpy에서 array를 정의할 때 사용되는 함수들이다.\n"
      ]
    },
    {
      "cell_type": "code",
      "metadata": {
        "id": "-Waf6biVlMRO",
        "colab_type": "code",
        "colab": {
          "base_uri": "https://localhost:8080/",
          "height": 36
        },
        "outputId": "ed2f645e-af12-441a-dbc0-88ebdcfed9d7"
      },
      "source": [
        "a=np.zeros(10)\n",
        "a"
      ],
      "execution_count": 20,
      "outputs": [
        {
          "output_type": "execute_result",
          "data": {
            "text/plain": [
              "array([0., 0., 0., 0., 0., 0., 0., 0., 0., 0.])"
            ]
          },
          "metadata": {
            "tags": []
          },
          "execution_count": 20
        }
      ]
    },
    {
      "cell_type": "code",
      "metadata": {
        "id": "FAheURB-lNBK",
        "colab_type": "code",
        "colab": {
          "base_uri": "https://localhost:8080/",
          "height": 73
        },
        "outputId": "951649bd-3294-46e3-f107-eb22b3632455"
      },
      "source": [
        "#np.zeros() 함수는 인자로 받는 크기만큼, 모든요소가 0인 array를 만든다.\n",
        "\n",
        "a=np.zeros((3,5))\n",
        "a"
      ],
      "execution_count": 22,
      "outputs": [
        {
          "output_type": "execute_result",
          "data": {
            "text/plain": [
              "array([[0., 0., 0., 0., 0.],\n",
              "       [0., 0., 0., 0., 0.],\n",
              "       [0., 0., 0., 0., 0.]])"
            ]
          },
          "metadata": {
            "tags": []
          },
          "execution_count": 22
        }
      ]
    },
    {
      "cell_type": "code",
      "metadata": {
        "id": "PntoYXdoqmw_",
        "colab_type": "code",
        "colab": {
          "base_uri": "https://localhost:8080/",
          "height": 36
        },
        "outputId": "e33633ad-fe18-4a5a-befd-1323689d6a39"
      },
      "source": [
        "#np.ones() 함수는 인자로 받는 크기만큼, 모든요소가 1인 array를 만든다.\n",
        "a=np.ones(9)\n",
        "a"
      ],
      "execution_count": 23,
      "outputs": [
        {
          "output_type": "execute_result",
          "data": {
            "text/plain": [
              "array([1., 1., 1., 1., 1., 1., 1., 1., 1.])"
            ]
          },
          "metadata": {
            "tags": []
          },
          "execution_count": 23
        }
      ]
    },
    {
      "cell_type": "code",
      "metadata": {
        "id": "xRS105ZKq8EJ",
        "colab_type": "code",
        "colab": {
          "base_uri": "https://localhost:8080/",
          "height": 55
        },
        "outputId": "bf180205-af5a-4f68-e290-0cb23920564a"
      },
      "source": [
        "a=np.ones((2,10))\n",
        "a"
      ],
      "execution_count": 24,
      "outputs": [
        {
          "output_type": "execute_result",
          "data": {
            "text/plain": [
              "array([[1., 1., 1., 1., 1., 1., 1., 1., 1., 1.],\n",
              "       [1., 1., 1., 1., 1., 1., 1., 1., 1., 1.]])"
            ]
          },
          "metadata": {
            "tags": []
          },
          "execution_count": 24
        }
      ]
    },
    {
      "cell_type": "code",
      "metadata": {
        "id": "Rn1d7Xb_rApU",
        "colab_type": "code",
        "colab": {
          "base_uri": "https://localhost:8080/",
          "height": 36
        },
        "outputId": "44ae282c-dfa8-4a78-b548-8931fe6548fd"
      },
      "source": [
        "# np.arange() 함수는 인자로 받는 값 만큼 1씩 증가하는 1차원 array를 만든다.\n",
        "# 이때 하나의 인자만 입력하면 0 ~ 입력한 인자, 값 만큼의 크기를 가진다.\n",
        "\n",
        "a=np.arange(10)\n",
        "a"
      ],
      "execution_count": 26,
      "outputs": [
        {
          "output_type": "execute_result",
          "data": {
            "text/plain": [
              "array([0, 1, 2, 3, 4, 5, 6, 7, 8, 9])"
            ]
          },
          "metadata": {
            "tags": []
          },
          "execution_count": 26
        }
      ]
    },
    {
      "cell_type": "code",
      "metadata": {
        "id": "1IqQkWckrPZy",
        "colab_type": "code",
        "colab": {
          "base_uri": "https://localhost:8080/",
          "height": 36
        },
        "outputId": "381202f8-62a3-4982-c791-3e32c0f8a883"
      },
      "source": [
        "a=np.arange(3,10)\n",
        "a"
      ],
      "execution_count": 27,
      "outputs": [
        {
          "output_type": "execute_result",
          "data": {
            "text/plain": [
              "array([3, 4, 5, 6, 7, 8, 9])"
            ]
          },
          "metadata": {
            "tags": []
          },
          "execution_count": 27
        }
      ]
    },
    {
      "cell_type": "code",
      "metadata": {
        "id": "aLCenHMvrVj_",
        "colab_type": "code",
        "colab": {}
      },
      "source": [
        ""
      ],
      "execution_count": null,
      "outputs": []
    },
    {
      "cell_type": "markdown",
      "metadata": {
        "id": "eNwXeMXDrdp8",
        "colab_type": "text"
      },
      "source": [
        "**Array 연산**\n",
        "\n",
        "기본적으로 numpy에서 연산을 할때는 크기가 서로 동일한 array 끼리 연산이 진행된다.\n",
        "\n",
        "이때 같은 위치에 있는 요소들 끼리 연산이 진행된다.\n"
      ]
    },
    {
      "cell_type": "code",
      "metadata": {
        "id": "h3nPGKv6rh0f",
        "colab_type": "code",
        "colab": {
          "base_uri": "https://localhost:8080/",
          "height": 55
        },
        "outputId": "32f45639-bf79-4304-f63b-ea136be79eb1"
      },
      "source": [
        "arr1 = np.array([[1,2,3],[4,5,6]])\n",
        "arr1"
      ],
      "execution_count": 28,
      "outputs": [
        {
          "output_type": "execute_result",
          "data": {
            "text/plain": [
              "array([[1, 2, 3],\n",
              "       [4, 5, 6]])"
            ]
          },
          "metadata": {
            "tags": []
          },
          "execution_count": 28
        }
      ]
    },
    {
      "cell_type": "code",
      "metadata": {
        "id": "o1tF02B7rn-D",
        "colab_type": "code",
        "colab": {
          "base_uri": "https://localhost:8080/",
          "height": 36
        },
        "outputId": "6644550a-2669-419c-f154-592bb9c738d4"
      },
      "source": [
        "arr1.shape"
      ],
      "execution_count": 29,
      "outputs": [
        {
          "output_type": "execute_result",
          "data": {
            "text/plain": [
              "(2, 3)"
            ]
          },
          "metadata": {
            "tags": []
          },
          "execution_count": 29
        }
      ]
    },
    {
      "cell_type": "code",
      "metadata": {
        "id": "k43GZ2xFrsrA",
        "colab_type": "code",
        "colab": {
          "base_uri": "https://localhost:8080/",
          "height": 55
        },
        "outputId": "0982fedc-2682-4e1c-eb04-3dffc38d9d6c"
      },
      "source": [
        "arr2 = np.array([[10,11,12],[13,14,15]])\n",
        "arr2"
      ],
      "execution_count": 30,
      "outputs": [
        {
          "output_type": "execute_result",
          "data": {
            "text/plain": [
              "array([[10, 11, 12],\n",
              "       [13, 14, 15]])"
            ]
          },
          "metadata": {
            "tags": []
          },
          "execution_count": 30
        }
      ]
    },
    {
      "cell_type": "code",
      "metadata": {
        "id": "bQNmKy4Nrwel",
        "colab_type": "code",
        "colab": {
          "base_uri": "https://localhost:8080/",
          "height": 36
        },
        "outputId": "c27d5756-97b6-4c36-82a0-ab379a6ef242"
      },
      "source": [
        "arr2.shape"
      ],
      "execution_count": 31,
      "outputs": [
        {
          "output_type": "execute_result",
          "data": {
            "text/plain": [
              "(2, 3)"
            ]
          },
          "metadata": {
            "tags": []
          },
          "execution_count": 31
        }
      ]
    },
    {
      "cell_type": "code",
      "metadata": {
        "id": "oW7wfwMkrzqY",
        "colab_type": "code",
        "colab": {
          "base_uri": "https://localhost:8080/",
          "height": 55
        },
        "outputId": "e5efa8a5-a095-4043-b1db-4758108f1e28"
      },
      "source": [
        "#array 덧셈\n",
        "\n",
        "arr1 + arr2"
      ],
      "execution_count": 32,
      "outputs": [
        {
          "output_type": "execute_result",
          "data": {
            "text/plain": [
              "array([[11, 13, 15],\n",
              "       [17, 19, 21]])"
            ]
          },
          "metadata": {
            "tags": []
          },
          "execution_count": 32
        }
      ]
    },
    {
      "cell_type": "code",
      "metadata": {
        "id": "u8YJs5x3r8bl",
        "colab_type": "code",
        "colab": {
          "base_uri": "https://localhost:8080/",
          "height": 55
        },
        "outputId": "30cf160f-3c25-4cc1-d343-e1308ea84a83"
      },
      "source": [
        "#array 뺄셈\n",
        "\n",
        "arr1 - arr2\n"
      ],
      "execution_count": 33,
      "outputs": [
        {
          "output_type": "execute_result",
          "data": {
            "text/plain": [
              "array([[-9, -9, -9],\n",
              "       [-9, -9, -9]])"
            ]
          },
          "metadata": {
            "tags": []
          },
          "execution_count": 33
        }
      ]
    },
    {
      "cell_type": "code",
      "metadata": {
        "id": "GXn9VUy7sG_i",
        "colab_type": "code",
        "colab": {
          "base_uri": "https://localhost:8080/",
          "height": 55
        },
        "outputId": "ef50b630-9e02-4514-f57c-5f6544749d1e"
      },
      "source": [
        "#array 곱셈\n",
        "arr1 * arr2"
      ],
      "execution_count": 34,
      "outputs": [
        {
          "output_type": "execute_result",
          "data": {
            "text/plain": [
              "array([[10, 22, 36],\n",
              "       [52, 70, 90]])"
            ]
          },
          "metadata": {
            "tags": []
          },
          "execution_count": 34
        }
      ]
    },
    {
      "cell_type": "code",
      "metadata": {
        "id": "LCreO-q-sOXm",
        "colab_type": "code",
        "colab": {
          "base_uri": "https://localhost:8080/",
          "height": 55
        },
        "outputId": "b45da651-2343-440e-a2aa-b33a3c92b3b6"
      },
      "source": [
        "#array 나눗셈\n",
        "arr1 / arr2"
      ],
      "execution_count": 35,
      "outputs": [
        {
          "output_type": "execute_result",
          "data": {
            "text/plain": [
              "array([[0.1       , 0.18181818, 0.25      ],\n",
              "       [0.30769231, 0.35714286, 0.4       ]])"
            ]
          },
          "metadata": {
            "tags": []
          },
          "execution_count": 35
        }
      ]
    },
    {
      "cell_type": "code",
      "metadata": {
        "id": "NnRyXeKlsTi0",
        "colab_type": "code",
        "colab": {}
      },
      "source": [
        ""
      ],
      "execution_count": null,
      "outputs": []
    },
    {
      "cell_type": "markdown",
      "metadata": {
        "id": "LU6dTbc9s6Ur",
        "colab_type": "text"
      },
      "source": [
        "# **array의 브로드 캐스트**\n",
        "array가 같은 크기를 가져야 서로 연산이 가능하다고 했지만,\n",
        "\n",
        "numpy에서는 브로드캐스트라는 기능을 제공한다.\n",
        "\n",
        "**브로드캐스트란, 서로 크기가 다른 array가 연산이 가능하게끔 하는 것이다.**"
      ]
    },
    {
      "cell_type": "code",
      "metadata": {
        "id": "k-v1BntQtEKE",
        "colab_type": "code",
        "colab": {
          "base_uri": "https://localhost:8080/",
          "height": 55
        },
        "outputId": "b01f39a0-886d-41e5-8c92-0b47e746e011"
      },
      "source": [
        "arr1 = np.array([[1,2,3],[4,5,6]])\n",
        "arr1"
      ],
      "execution_count": 37,
      "outputs": [
        {
          "output_type": "execute_result",
          "data": {
            "text/plain": [
              "array([[1, 2, 3],\n",
              "       [4, 5, 6]])"
            ]
          },
          "metadata": {
            "tags": []
          },
          "execution_count": 37
        }
      ]
    },
    {
      "cell_type": "code",
      "metadata": {
        "id": "6D3yLpCqtKaH",
        "colab_type": "code",
        "colab": {
          "base_uri": "https://localhost:8080/",
          "height": 55
        },
        "outputId": "d2a7c167-79ed-43f9-a6d2-256103373124"
      },
      "source": [
        "arr1 * 10"
      ],
      "execution_count": 38,
      "outputs": [
        {
          "output_type": "execute_result",
          "data": {
            "text/plain": [
              "array([[10, 20, 30],\n",
              "       [40, 50, 60]])"
            ]
          },
          "metadata": {
            "tags": []
          },
          "execution_count": 38
        }
      ]
    },
    {
      "cell_type": "code",
      "metadata": {
        "id": "kZ5woGuHtiMZ",
        "colab_type": "code",
        "colab": {
          "base_uri": "https://localhost:8080/",
          "height": 55
        },
        "outputId": "cf386261-1ab8-4e20-a1d0-ccd44966d3a3"
      },
      "source": [
        "#요소에 대해 제곱처리\n",
        "arr1 ** 2"
      ],
      "execution_count": 40,
      "outputs": [
        {
          "output_type": "execute_result",
          "data": {
            "text/plain": [
              "array([[ 1,  4,  9],\n",
              "       [16, 25, 36]])"
            ]
          },
          "metadata": {
            "tags": []
          },
          "execution_count": 40
        }
      ]
    },
    {
      "cell_type": "code",
      "metadata": {
        "id": "jPSkoZTTtmlT",
        "colab_type": "code",
        "colab": {}
      },
      "source": [
        "#Array 인덱싱\n",
        "numpy에서 사용되는 인덱싱은 기본적으로 python 인덱싱과 동일하다.\n",
        "\n",
        "이때, python에서와 같이 1번째로 시작하는 것이 아니라 0번째로 시작하는 것에 주의한다.\n",
        "\n",
        "\n",
        "\n",
        "출처: https://doorbw.tistory.com/171 [Tigercow.Door]"
      ],
      "execution_count": null,
      "outputs": []
    },
    {
      "cell_type": "markdown",
      "metadata": {
        "id": "DBKUdmz3t-w8",
        "colab_type": "text"
      },
      "source": [
        "**Array 인덱싱**\n",
        "\n",
        "numpy에서 사용되는 인덱싱은 기본적으로 python 인덱싱과 동일하다.\n",
        "\n",
        "이때, python에서와 같이 1번째로 시작하는 것이 아니라 0번째로 시작하는 것에 주의한다.\n"
      ]
    },
    {
      "cell_type": "code",
      "metadata": {
        "id": "2Xjl1gNQuFiE",
        "colab_type": "code",
        "colab": {
          "base_uri": "https://localhost:8080/",
          "height": 36
        },
        "outputId": "be755daa-bb25-4bf9-9e80-4d267cdcbefe"
      },
      "source": [
        "arr1 = np.arange(10)\n",
        "arr1"
      ],
      "execution_count": 41,
      "outputs": [
        {
          "output_type": "execute_result",
          "data": {
            "text/plain": [
              "array([0, 1, 2, 3, 4, 5, 6, 7, 8, 9])"
            ]
          },
          "metadata": {
            "tags": []
          },
          "execution_count": 41
        }
      ]
    },
    {
      "cell_type": "code",
      "metadata": {
        "id": "qmaXwKB_uIv3",
        "colab_type": "code",
        "colab": {
          "base_uri": "https://localhost:8080/",
          "height": 36
        },
        "outputId": "e55d57ce-aa4d-4b5b-88b2-9a86f4816a2f"
      },
      "source": [
        "# 0번째 요소\n",
        "arr1[0]"
      ],
      "execution_count": 42,
      "outputs": [
        {
          "output_type": "execute_result",
          "data": {
            "text/plain": [
              "0"
            ]
          },
          "metadata": {
            "tags": []
          },
          "execution_count": 42
        }
      ]
    },
    {
      "cell_type": "code",
      "metadata": {
        "id": "YpFLJWF0uLyZ",
        "colab_type": "code",
        "colab": {
          "base_uri": "https://localhost:8080/",
          "height": 36
        },
        "outputId": "5edac49f-1a1b-4510-8bfe-be2867bf2cce"
      },
      "source": [
        "# 3번째 요소\n",
        "arr1[3]"
      ],
      "execution_count": 43,
      "outputs": [
        {
          "output_type": "execute_result",
          "data": {
            "text/plain": [
              "3"
            ]
          },
          "metadata": {
            "tags": []
          },
          "execution_count": 43
        }
      ]
    },
    {
      "cell_type": "code",
      "metadata": {
        "id": "lMblCr4QuN9l",
        "colab_type": "code",
        "colab": {
          "base_uri": "https://localhost:8080/",
          "height": 36
        },
        "outputId": "b7d28791-b162-4b72-b98c-643b5a455d27"
      },
      "source": [
        "# 3번째 요소부터 8번째 요소\n",
        "arr1[3:9]"
      ],
      "execution_count": 44,
      "outputs": [
        {
          "output_type": "execute_result",
          "data": {
            "text/plain": [
              "array([3, 4, 5, 6, 7, 8])"
            ]
          },
          "metadata": {
            "tags": []
          },
          "execution_count": 44
        }
      ]
    },
    {
      "cell_type": "code",
      "metadata": {
        "id": "l5eS1agZuSb_",
        "colab_type": "code",
        "colab": {
          "base_uri": "https://localhost:8080/",
          "height": 36
        },
        "outputId": "3b40ca36-2abb-46c8-854a-5cb0296250ed"
      },
      "source": [
        "arr1[:]"
      ],
      "execution_count": 45,
      "outputs": [
        {
          "output_type": "execute_result",
          "data": {
            "text/plain": [
              "array([0, 1, 2, 3, 4, 5, 6, 7, 8, 9])"
            ]
          },
          "metadata": {
            "tags": []
          },
          "execution_count": 45
        }
      ]
    },
    {
      "cell_type": "code",
      "metadata": {
        "id": "rOwV1HM5uZKz",
        "colab_type": "code",
        "colab": {
          "base_uri": "https://localhost:8080/",
          "height": 73
        },
        "outputId": "4a2d3103-0947-4c9d-e8e4-e9ab92c0d8cc"
      },
      "source": [
        "#1차원이 아닌 그 이상의 차원에서도 인덱싱이 가능하다.\n",
        "\n",
        "arr2 = np.array([[1,2,3,4],\n",
        "                 [5,6,7,8],\n",
        "                 [9,10,11,12]])\n",
        "arr2"
      ],
      "execution_count": 46,
      "outputs": [
        {
          "output_type": "execute_result",
          "data": {
            "text/plain": [
              "array([[ 1,  2,  3,  4],\n",
              "       [ 5,  6,  7,  8],\n",
              "       [ 9, 10, 11, 12]])"
            ]
          },
          "metadata": {
            "tags": []
          },
          "execution_count": 46
        }
      ]
    },
    {
      "cell_type": "code",
      "metadata": {
        "id": "O8aymN8quhES",
        "colab_type": "code",
        "colab": {
          "base_uri": "https://localhost:8080/",
          "height": 36
        },
        "outputId": "ab1f8519-406f-4950-cf83-3ff259d70d88"
      },
      "source": [
        "# 2차원의 array에서 인덱싱을 하기 위해선 2개의 인자를 입력해야 합니다.\n",
        "arr2[0,0]"
      ],
      "execution_count": 47,
      "outputs": [
        {
          "output_type": "execute_result",
          "data": {
            "text/plain": [
              "1"
            ]
          },
          "metadata": {
            "tags": []
          },
          "execution_count": 47
        }
      ]
    },
    {
      "cell_type": "code",
      "metadata": {
        "id": "jns4llvnuywI",
        "colab_type": "code",
        "colab": {
          "base_uri": "https://localhost:8080/",
          "height": 36
        },
        "outputId": "dd5a7464-b4a7-4b81-dbe5-34947e6cc359"
      },
      "source": [
        "# 2행의 모든 요소 꺼내기\n",
        "arr2[2,:]"
      ],
      "execution_count": 48,
      "outputs": [
        {
          "output_type": "execute_result",
          "data": {
            "text/plain": [
              "array([ 9, 10, 11, 12])"
            ]
          },
          "metadata": {
            "tags": []
          },
          "execution_count": 48
        }
      ]
    },
    {
      "cell_type": "code",
      "metadata": {
        "id": "YeMolvehu5mJ",
        "colab_type": "code",
        "colab": {
          "base_uri": "https://localhost:8080/",
          "height": 36
        },
        "outputId": "9d348fc0-92b1-4b68-a04f-0f1b9e4490a8"
      },
      "source": [
        "# 2행의 3번째 요소 꺼내기\n",
        "arr2[2,3]"
      ],
      "execution_count": 49,
      "outputs": [
        {
          "output_type": "execute_result",
          "data": {
            "text/plain": [
              "12"
            ]
          },
          "metadata": {
            "tags": []
          },
          "execution_count": 49
        }
      ]
    },
    {
      "cell_type": "code",
      "metadata": {
        "id": "0yIwRTbYu-AD",
        "colab_type": "code",
        "colab": {
          "base_uri": "https://localhost:8080/",
          "height": 36
        },
        "outputId": "748cef20-10b3-4726-fa90-4edac9898790"
      },
      "source": [
        "# 모든 열의 3번째 요소 꺼내기\n",
        "arr2[:,3]"
      ],
      "execution_count": 50,
      "outputs": [
        {
          "output_type": "execute_result",
          "data": {
            "text/plain": [
              "array([ 4,  8, 12])"
            ]
          },
          "metadata": {
            "tags": []
          },
          "execution_count": 50
        }
      ]
    },
    {
      "cell_type": "code",
      "metadata": {
        "id": "nVidDDDVvFId",
        "colab_type": "code",
        "colab": {}
      },
      "source": [
        ""
      ],
      "execution_count": null,
      "outputs": []
    },
    {
      "cell_type": "markdown",
      "metadata": {
        "id": "fVNI6GovvQyR",
        "colab_type": "text"
      },
      "source": [
        "# **Array boolean 인덱싱(마스크)**\n",
        "다차원의 인덱싱을 응용하여 boolean 인덱싱을 할 수 있다.\n",
        "\n",
        "해당 기능은 주로 마스크라고 이야기하는데, boolean인덱싱을 통해 만들어낸 array를 통해\n",
        "\n",
        "우리가 원하는 행 또는 열의 값만 뽑아낼 수 있다.\n",
        "\n",
        "즉, 마스크처럼 우리가 가리고 싶은 부분은 가리고, 원하는 요소만 꺼낼 수 있다.\n"
      ]
    },
    {
      "cell_type": "code",
      "metadata": {
        "id": "zIH7f9r_vbEV",
        "colab_type": "code",
        "colab": {
          "base_uri": "https://localhost:8080/",
          "height": 55
        },
        "outputId": "8619dbd4-a883-4100-a0df-5537bdd79378"
      },
      "source": [
        "names = np.array(['Beomwoo','Beomwoo','Kim','Joan','Lee','Beomwoo','Park','Beomwoo'])\n",
        "names"
      ],
      "execution_count": 51,
      "outputs": [
        {
          "output_type": "execute_result",
          "data": {
            "text/plain": [
              "array(['Beomwoo', 'Beomwoo', 'Kim', 'Joan', 'Lee', 'Beomwoo', 'Park',\n",
              "       'Beomwoo'], dtype='<U7')"
            ]
          },
          "metadata": {
            "tags": []
          },
          "execution_count": 51
        }
      ]
    },
    {
      "cell_type": "code",
      "metadata": {
        "id": "aErqeCSQvfa4",
        "colab_type": "code",
        "colab": {
          "base_uri": "https://localhost:8080/",
          "height": 36
        },
        "outputId": "82e792e0-c29c-4b04-ddb0-f3354d81f3de"
      },
      "source": [
        "names.shape"
      ],
      "execution_count": 52,
      "outputs": [
        {
          "output_type": "execute_result",
          "data": {
            "text/plain": [
              "(8,)"
            ]
          },
          "metadata": {
            "tags": []
          },
          "execution_count": 52
        }
      ]
    },
    {
      "cell_type": "code",
      "metadata": {
        "id": "CXEBjnvlvlKS",
        "colab_type": "code",
        "colab": {
          "base_uri": "https://localhost:8080/",
          "height": 167
        },
        "outputId": "c451da5e-8c6c-49ef-cb76-61c96344bc97"
      },
      "source": [
        "# np.random.randn() 함수는 기대값이 0이고, 표준편차가 1인 가우시안 정규 분포를 따르는 난수를 발생시키는 함수이다.\n",
        "# 이 외에도 0~1의 난수를 발생시키는 np.random.rand() 함수\n",
        "data = np.random.randn(8,4)\n",
        "data"
      ],
      "execution_count": 53,
      "outputs": [
        {
          "output_type": "execute_result",
          "data": {
            "text/plain": [
              "array([[ 0.52135407,  1.32763546, -1.0227306 ,  0.39790141],\n",
              "       [-0.14306771, -0.7824314 ,  0.98242483, -0.43623689],\n",
              "       [ 1.18811829, -1.33501556, -0.22249927, -0.08306698],\n",
              "       [-0.41364264, -1.26159614, -0.62691431, -1.86756415],\n",
              "       [-0.34013395, -0.39499934, -0.85260826, -0.21046281],\n",
              "       [ 1.16530248, -1.29942624, -0.06438028, -0.59149485],\n",
              "       [ 1.90708004,  0.0507653 ,  0.50320838, -0.171268  ],\n",
              "       [-0.08906598,  0.66861701,  0.07065355, -0.47539059]])"
            ]
          },
          "metadata": {
            "tags": []
          },
          "execution_count": 53
        }
      ]
    },
    {
      "cell_type": "code",
      "metadata": {
        "id": "SVSA8BIRv4BX",
        "colab_type": "code",
        "colab": {
          "base_uri": "https://localhost:8080/",
          "height": 167
        },
        "outputId": "0722c49f-9e4a-428f-c895-834850ac2ea3"
      },
      "source": [
        "# 0~1의 난수를 발생시키는 np.random.rand() 함수\n",
        "\n",
        "data = np.random.rand(8,4)\n",
        "data"
      ],
      "execution_count": 56,
      "outputs": [
        {
          "output_type": "execute_result",
          "data": {
            "text/plain": [
              "array([[0.54522299, 0.41415995, 0.5921561 , 0.06559438],\n",
              "       [0.00705714, 0.32452021, 0.81114118, 0.02037183],\n",
              "       [0.86312832, 0.71529513, 0.33514094, 0.3699738 ],\n",
              "       [0.34296086, 0.32258367, 0.29359095, 0.73713412],\n",
              "       [0.93483423, 0.56938745, 0.74196459, 0.58295272],\n",
              "       [0.01041607, 0.77145394, 0.22086363, 0.39618731],\n",
              "       [0.34925009, 0.47412236, 0.87218262, 0.52870925],\n",
              "       [0.32460371, 0.80648987, 0.98553319, 0.94480423]])"
            ]
          },
          "metadata": {
            "tags": []
          },
          "execution_count": 56
        }
      ]
    },
    {
      "cell_type": "code",
      "metadata": {
        "id": "hLbI6rf8v_jS",
        "colab_type": "code",
        "colab": {
          "base_uri": "https://localhost:8080/",
          "height": 36
        },
        "outputId": "4936d60b-afa6-4b1e-a65d-381ca5df4ec9"
      },
      "source": [
        "data.shape"
      ],
      "execution_count": 57,
      "outputs": [
        {
          "output_type": "execute_result",
          "data": {
            "text/plain": [
              "(8, 4)"
            ]
          },
          "metadata": {
            "tags": []
          },
          "execution_count": 57
        }
      ]
    },
    {
      "cell_type": "markdown",
      "metadata": {
        "id": "alyDYOkHwO-a",
        "colab_type": "text"
      },
      "source": [
        "위와 같은 names와 data라는 array가 있다.\n",
        "\n",
        "이때, names의 각 요소가 data의 각 행과 연결된다고 가정해보자.\n",
        "\n",
        "그리고 이 때, names가 Beomwoo인 행의 data만 보고 싶을 때 다음과 같이 마스크를 사용한다."
      ]
    },
    {
      "cell_type": "code",
      "metadata": {
        "id": "kSOmPVmUwQwP",
        "colab_type": "code",
        "colab": {
          "base_uri": "https://localhost:8080/",
          "height": 36
        },
        "outputId": "63153208-3fd7-4a91-c1d1-781be01c5b6b"
      },
      "source": [
        "# 요소가 Beomwoo인 항목에 대한 mask 생성\n",
        "\n",
        "names = np.array(['Beomwoo','Beomwoo','Kim','Joan','Lee','Beomwoo','Park','Beomwoo'])\n",
        "names\n",
        "names_Beomwoo_mask = (names == 'Beomwoo')\n",
        "names_Beomwoo_mask"
      ],
      "execution_count": 59,
      "outputs": [
        {
          "output_type": "execute_result",
          "data": {
            "text/plain": [
              "array([ True,  True, False, False, False,  True, False,  True])"
            ]
          },
          "metadata": {
            "tags": []
          },
          "execution_count": 59
        }
      ]
    },
    {
      "cell_type": "code",
      "metadata": {
        "id": "T6PSzlfLwbmK",
        "colab_type": "code",
        "colab": {
          "base_uri": "https://localhost:8080/",
          "height": 92
        },
        "outputId": "9e707709-a43d-4fc6-f5a3-732d476d4f7a"
      },
      "source": [
        "'''\n",
        "요소가 Beomwoo인 것은 0번째, 1번째, 5번째, 7번째 이므로\n",
        "data에서 0,1,5,7행의 모든 요소를 꺼내와야 한다.\n",
        "이를 위해 요소가 Beomwoo인 것에 대한 boolean 값을 가지는 mask를 만들었고\n",
        "마스크를 인덱싱에 응용하여 data의 0,1,5,7행을 꺼냈다.\n",
        "'''\n",
        "data[names_Beomwoo_mask,:]\n"
      ],
      "execution_count": 60,
      "outputs": [
        {
          "output_type": "execute_result",
          "data": {
            "text/plain": [
              "array([[0.54522299, 0.41415995, 0.5921561 , 0.06559438],\n",
              "       [0.00705714, 0.32452021, 0.81114118, 0.02037183],\n",
              "       [0.01041607, 0.77145394, 0.22086363, 0.39618731],\n",
              "       [0.32460371, 0.80648987, 0.98553319, 0.94480423]])"
            ]
          },
          "metadata": {
            "tags": []
          },
          "execution_count": 60
        }
      ]
    },
    {
      "cell_type": "code",
      "metadata": {
        "id": "1FWpoE9fxhPx",
        "colab_type": "code",
        "colab": {}
      },
      "source": [
        "#numpy 참조 사이트 <=  이어서 하기\n",
        "#https://doorbw.tistory.com/171"
      ],
      "execution_count": 62,
      "outputs": []
    },
    {
      "cell_type": "code",
      "metadata": {
        "id": "FuJT0niiyXJ2",
        "colab_type": "code",
        "colab": {}
      },
      "source": [
        ""
      ],
      "execution_count": null,
      "outputs": []
    }
  ]
}