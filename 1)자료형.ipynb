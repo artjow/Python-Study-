{
  "nbformat": 4,
  "nbformat_minor": 0,
  "metadata": {
    "colab": {
      "name": "1)자료형.ipynb",
      "provenance": [],
      "authorship_tag": "ABX9TyNsVAF5fbl6mFQ9hc5fkUAf",
      "include_colab_link": true
    },
    "kernelspec": {
      "name": "python3",
      "display_name": "Python 3"
    }
  },
  "cells": [
    {
      "cell_type": "markdown",
      "metadata": {
        "id": "view-in-github",
        "colab_type": "text"
      },
      "source": [
        "<a href=\"https://colab.research.google.com/github/chohyungrae/Python-Study-/blob/master/1)%EC%9E%90%EB%A3%8C%ED%98%95.ipynb\" target=\"_parent\"><img src=\"https://colab.research.google.com/assets/colab-badge.svg\" alt=\"Open In Colab\"/></a>"
      ]
    },
    {
      "cell_type": "markdown",
      "metadata": {
        "id": "xHy6cxV16iZN",
        "colab_type": "text"
      },
      "source": [
        "## **자료형**\n",
        "\n",
        "숫자, 문자열 등 자료 형태로 계산에 사용하는 모든 것을 자료형이라 합니다. "
      ]
    },
    {
      "cell_type": "code",
      "metadata": {
        "id": "CElJBlcG6Njs",
        "colab_type": "code",
        "colab": {
          "base_uri": "https://localhost:8080/",
          "height": 148
        },
        "outputId": "4d13f4be-69bc-4acd-a313-0d1e8eb77e89"
      },
      "source": [
        "print(5)\n",
        "print(-10)\n",
        "print(3.14) #실수\n",
        "print(5+3)\n",
        "print(8*3)\n",
        "print(10-5)\n",
        "print(3*(3+1))"
      ],
      "execution_count": 8,
      "outputs": [
        {
          "output_type": "stream",
          "text": [
            "5\n",
            "-10\n",
            "3.14\n",
            "8\n",
            "24\n",
            "5\n",
            "12\n"
          ],
          "name": "stdout"
        }
      ]
    },
    {
      "cell_type": "markdown",
      "metadata": {
        "id": "fCNBuhSa7I9W",
        "colab_type": "text"
      },
      "source": [
        "## **문자열자료형**\n",
        "문자열(string)이란 문자의 집합을 의미합니다."
      ]
    },
    {
      "cell_type": "code",
      "metadata": {
        "id": "BW_41-hC7NDD",
        "colab_type": "code",
        "colab": {
          "base_uri": "https://localhost:8080/",
          "height": 111
        },
        "outputId": "290fc8af-814d-4cca-82c2-6cef57faf705"
      },
      "source": [
        "print('풍선')\n",
        "print(\"풍선\")\n",
        "print(\"ㅋㅋㅋㅋㅋ\")\n",
        "print(\"ㅋ\"*9)\n",
        "\n",
        "\"it is a string\" # 큰 따옴표로 감싸기\n",
        "'''this is also a string''' # 작은 따옴표 3개를 연속으로 써서 감싸기\n",
        "\"\"\"this is a string\"\"\" # 큰 따옴표 3개를 연속을 싸서 감싸기"
      ],
      "execution_count": 14,
      "outputs": [
        {
          "output_type": "stream",
          "text": [
            "풍선\n",
            "풍선\n",
            "ㅋㅋㅋㅋㅋ\n",
            "ㅋㅋㅋㅋㅋㅋㅋㅋㅋ\n"
          ],
          "name": "stdout"
        },
        {
          "output_type": "execute_result",
          "data": {
            "application/vnd.google.colaboratory.intrinsic+json": {
              "type": "string"
            },
            "text/plain": [
              "'this is a string'"
            ]
          },
          "metadata": {
            "tags": []
          },
          "execution_count": 14
        }
      ]
    },
    {
      "cell_type": "code",
      "metadata": {
        "id": "-TWGuEFb7sPX",
        "colab_type": "code",
        "colab": {
          "base_uri": "https://localhost:8080/",
          "height": 36
        },
        "outputId": "668d4d5a-8294-4ec4-e69b-3e7e6afc8401"
      },
      "source": [
        "#문자열 연산]\n",
        "#문자열을 파이썬에서는 더하거나 곱할 수 있습니다.\n",
        "\n",
        "'let\\'s ' + 'add them up' # sting안에 '가 들어가는 경우 \\로 나가줘야 특수문자 인식이 됩니다.\n",
        "\"let's add them up\"\n",
        "'repeat 3 times ' * 3"
      ],
      "execution_count": 24,
      "outputs": [
        {
          "output_type": "execute_result",
          "data": {
            "application/vnd.google.colaboratory.intrinsic+json": {
              "type": "string"
            },
            "text/plain": [
              "'repeat 3 times repeat 3 times repeat 3 times '"
            ]
          },
          "metadata": {
            "tags": []
          },
          "execution_count": 24
        }
      ]
    },
    {
      "cell_type": "code",
      "metadata": {
        "id": "MO0pHfcu8-0U",
        "colab_type": "code",
        "colab": {
          "base_uri": "https://localhost:8080/",
          "height": 36
        },
        "outputId": "8fddc9cc-a621-48b1-fffb-627d95d64974"
      },
      "source": [
        "#문자열 인덱싱과 슬라이싱]\n",
        "#문자열의 indexing과 slicing은 문자열을 편집하기에 좋은 테크닉입니다.\n",
        "\n",
        "a = 'learning python is easy'\n",
        "a[0] # a의 0번째 문자를 가져옵니다."
      ],
      "execution_count": 25,
      "outputs": [
        {
          "output_type": "execute_result",
          "data": {
            "application/vnd.google.colaboratory.intrinsic+json": {
              "type": "string"
            },
            "text/plain": [
              "'l'"
            ]
          },
          "metadata": {
            "tags": []
          },
          "execution_count": 25
        }
      ]
    },
    {
      "cell_type": "code",
      "metadata": {
        "id": "ezNPqPA89ZML",
        "colab_type": "code",
        "colab": {
          "base_uri": "https://localhost:8080/",
          "height": 36
        },
        "outputId": "ad7423cf-b455-42eb-b5f7-ca453fb7431f"
      },
      "source": [
        "a[-2] # a의 뒤에서 두번째 문자를 가져옵니다."
      ],
      "execution_count": 26,
      "outputs": [
        {
          "output_type": "execute_result",
          "data": {
            "application/vnd.google.colaboratory.intrinsic+json": {
              "type": "string"
            },
            "text/plain": [
              "'s'"
            ]
          },
          "metadata": {
            "tags": []
          },
          "execution_count": 26
        }
      ]
    },
    {
      "cell_type": "code",
      "metadata": {
        "id": "96-xI0Mh9jHi",
        "colab_type": "code",
        "colab": {
          "base_uri": "https://localhost:8080/",
          "height": 36
        },
        "outputId": "2a1ef178-9d3e-4529-e191-50d0dde4cf25"
      },
      "source": [
        "a[9:15] # a의 9에서 15번째 문자를 가져옵니다."
      ],
      "execution_count": 22,
      "outputs": [
        {
          "output_type": "execute_result",
          "data": {
            "application/vnd.google.colaboratory.intrinsic+json": {
              "type": "string"
            },
            "text/plain": [
              "'python'"
            ]
          },
          "metadata": {
            "tags": []
          },
          "execution_count": 22
        }
      ]
    },
    {
      "cell_type": "code",
      "metadata": {
        "id": "WKK5B0SF9mKD",
        "colab_type": "code",
        "colab": {
          "base_uri": "https://localhost:8080/",
          "height": 36
        },
        "outputId": "67467ed6-6a92-42c6-95f7-06c7a5209f25"
      },
      "source": [
        "a[:] # a의 문자열 전체를 가져옵니다."
      ],
      "execution_count": 23,
      "outputs": [
        {
          "output_type": "execute_result",
          "data": {
            "application/vnd.google.colaboratory.intrinsic+json": {
              "type": "string"
            },
            "text/plain": [
              "'learning python is easy'"
            ]
          },
          "metadata": {
            "tags": []
          },
          "execution_count": 23
        }
      ]
    },
    {
      "cell_type": "code",
      "metadata": {
        "id": "NE6Hbxvh9yez",
        "colab_type": "code",
        "colab": {
          "base_uri": "https://localhost:8080/",
          "height": 36
        },
        "outputId": "83fd0fc1-a517-4377-b2fa-62ed461cf690"
      },
      "source": [
        "#formatting]\n",
        "#문자열 내의 특정한 값을 바꿔야 할 시에는 formatting을 활용합니다.\n",
        "'''\n",
        "문자열 앞에 f를 쓰고 문자열 안에 변수를 받을 곳에 {변수이름}로 작성하면 \n",
        "변숫값을 받아 자동완성되는 문자열이 만들어집니다.\n",
        "'''\n",
        "\n",
        "temperature = 20\n",
        "f'Current temperature is {temperature} Celsius'"
      ],
      "execution_count": 30,
      "outputs": [
        {
          "output_type": "execute_result",
          "data": {
            "application/vnd.google.colaboratory.intrinsic+json": {
              "type": "string"
            },
            "text/plain": [
              "'Current temperature is 20 Celsius'"
            ]
          },
          "metadata": {
            "tags": []
          },
          "execution_count": 30
        }
      ]
    },
    {
      "cell_type": "code",
      "metadata": {
        "id": "LKkbioKx-P3H",
        "colab_type": "code",
        "colab": {
          "base_uri": "https://localhost:8080/",
          "height": 36
        },
        "outputId": "7b714132-0914-4190-c893-817eccf1c1e4"
      },
      "source": [
        "#관련함수]\n",
        "#문자열에도 자체적으로 가지고 있는 함수들이 있습니다.\n",
        "\n",
        "a = 'learning python is EASY'\n",
        "a.upper() # 문자열 대문자 변환"
      ],
      "execution_count": 32,
      "outputs": [
        {
          "output_type": "execute_result",
          "data": {
            "application/vnd.google.colaboratory.intrinsic+json": {
              "type": "string"
            },
            "text/plain": [
              "'LEARNING PYTHON IS EASY'"
            ]
          },
          "metadata": {
            "tags": []
          },
          "execution_count": 32
        }
      ]
    },
    {
      "cell_type": "code",
      "metadata": {
        "id": "HQG5FChB-7Sa",
        "colab_type": "code",
        "colab": {
          "base_uri": "https://localhost:8080/",
          "height": 36
        },
        "outputId": "7d8176c9-d6d0-4e7b-9e3f-d35ab5fd74e8"
      },
      "source": [
        "a.lower() # 문자열 소문자 변환"
      ],
      "execution_count": 33,
      "outputs": [
        {
          "output_type": "execute_result",
          "data": {
            "application/vnd.google.colaboratory.intrinsic+json": {
              "type": "string"
            },
            "text/plain": [
              "'learning python is easy'"
            ]
          },
          "metadata": {
            "tags": []
          },
          "execution_count": 33
        }
      ]
    },
    {
      "cell_type": "code",
      "metadata": {
        "id": "UiirjLk__CwG",
        "colab_type": "code",
        "colab": {
          "base_uri": "https://localhost:8080/",
          "height": 36
        },
        "outputId": "b1bafa03-724e-41a9-d093-c6165c968d95"
      },
      "source": [
        "a.replace('EASY', 'hard!') # 'easy'를 'hard'로 치환"
      ],
      "execution_count": 34,
      "outputs": [
        {
          "output_type": "execute_result",
          "data": {
            "application/vnd.google.colaboratory.intrinsic+json": {
              "type": "string"
            },
            "text/plain": [
              "'learning python is hard!'"
            ]
          },
          "metadata": {
            "tags": []
          },
          "execution_count": 34
        }
      ]
    },
    {
      "cell_type": "code",
      "metadata": {
        "id": "I8KUBnCT_FB9",
        "colab_type": "code",
        "colab": {
          "base_uri": "https://localhost:8080/",
          "height": 36
        },
        "outputId": "c6bed178-749d-48b7-c76f-c349742d589f"
      },
      "source": [
        "a.split() # 공백을 기준으로 문자열 나누어 리스트로 리턴"
      ],
      "execution_count": 35,
      "outputs": [
        {
          "output_type": "execute_result",
          "data": {
            "text/plain": [
              "['learning', 'python', 'is', 'EASY']"
            ]
          },
          "metadata": {
            "tags": []
          },
          "execution_count": 35
        }
      ]
    },
    {
      "cell_type": "markdown",
      "metadata": {
        "id": "Y-lvWsOAEfoN",
        "colab_type": "text"
      },
      "source": [
        "# **불 자료형**\n",
        "불(bool) 자료형이란 참(True)과 거짓(False)을 나타내는 자료형이다. \n"
      ]
    },
    {
      "cell_type": "code",
      "metadata": {
        "id": "J_MkhcCxEnHx",
        "colab_type": "code",
        "colab": {}
      },
      "source": [
        "#True나 False는 파이썬의 예약어로 첫 문자를 항상 대문자로 사용해야 한다.\n",
        "\n",
        "a = True\n",
        "b = False"
      ],
      "execution_count": 36,
      "outputs": []
    },
    {
      "cell_type": "code",
      "metadata": {
        "id": "APGau-7tE_Ls",
        "colab_type": "code",
        "colab": {
          "base_uri": "https://localhost:8080/",
          "height": 36
        },
        "outputId": "ad185ccc-f7bf-4c38-e53e-8dcac0c9129b"
      },
      "source": [
        "#따옴표로 감싸지 않은 문자열을 변수에 지정 \n",
        "#type 함수를 변수 a와 b에 사용하면 두 변수의 자료형이 bool로 지정\n",
        "\n",
        "type(a)\n",
        "type(b)"
      ],
      "execution_count": 38,
      "outputs": [
        {
          "output_type": "execute_result",
          "data": {
            "text/plain": [
              "bool"
            ]
          },
          "metadata": {
            "tags": []
          },
          "execution_count": 38
        }
      ]
    },
    {
      "cell_type": "code",
      "metadata": {
        "id": "cuy9QRFfFQ2C",
        "colab_type": "code",
        "colab": {
          "base_uri": "https://localhost:8080/",
          "height": 36
        },
        "outputId": "2192b529-c294-45a4-da06-ce960092f28e"
      },
      "source": [
        "#불 자료형은 조건문의 반환 값으로도 사용된다.\n",
        "#은 \"1과 1이 같은가?\"를 묻는 조건문이다. \n",
        "\n",
        "1 == 1"
      ],
      "execution_count": 40,
      "outputs": [
        {
          "output_type": "execute_result",
          "data": {
            "text/plain": [
              "True"
            ]
          },
          "metadata": {
            "tags": []
          },
          "execution_count": 40
        }
      ]
    },
    {
      "cell_type": "code",
      "metadata": {
        "id": "yl2Yl-oNFiot",
        "colab_type": "code",
        "colab": {
          "base_uri": "https://localhost:8080/",
          "height": 36
        },
        "outputId": "affc737b-9a99-45c9-e465-680ccfaae1b1"
      },
      "source": [
        "2 > 1"
      ],
      "execution_count": 44,
      "outputs": [
        {
          "output_type": "execute_result",
          "data": {
            "text/plain": [
              "True"
            ]
          },
          "metadata": {
            "tags": []
          },
          "execution_count": 44
        }
      ]
    },
    {
      "cell_type": "code",
      "metadata": {
        "id": "EhaxUkxCFvwP",
        "colab_type": "code",
        "colab": {
          "base_uri": "https://localhost:8080/",
          "height": 36
        },
        "outputId": "2f75d0b8-149a-49df-85b1-e8a0bd49d40b"
      },
      "source": [
        "2 < 1"
      ],
      "execution_count": 45,
      "outputs": [
        {
          "output_type": "execute_result",
          "data": {
            "text/plain": [
              "False"
            ]
          },
          "metadata": {
            "tags": []
          },
          "execution_count": 45
        }
      ]
    },
    {
      "cell_type": "markdown",
      "metadata": {
        "id": "PH9NUegxF8CC",
        "colab_type": "text"
      },
      "source": [
        "# **자료형의 참과 거짓**\n",
        "자료형에 참과 거짓이 있다.\n",
        "자료형의 참과 거짓을 구분하는 기준은 다음과 같다.\n",
        "문자열, 리스트, 튜플, 딕셔너리 등의 값이 비어 있으면(\" \", [ ], ( ), { }) 거짓이 된다. 당연히 비어있지 않으면 참이 된다. 숫자에서는 그 값이 0일 때 거짓이 된다. \n",
        "![대체 텍스트](https://t1.daumcdn.net/cfile/tistory/25BCBB335978057A2E)\n",
        "\n",
        "\n",
        "\n",
        "\n"
      ]
    },
    {
      "cell_type": "code",
      "metadata": {
        "id": "ohBqqjYOMvZk",
        "colab_type": "code",
        "colab": {
          "base_uri": "https://localhost:8080/",
          "height": 36
        },
        "outputId": "b3f27677-42d8-4ff8-a6b3-56ded27cec05"
      },
      "source": [
        "print(not True)"
      ],
      "execution_count": 59,
      "outputs": [
        {
          "output_type": "stream",
          "text": [
            "False\n"
          ],
          "name": "stdout"
        }
      ]
    },
    {
      "cell_type": "code",
      "metadata": {
        "id": "_49p93vpM7Ks",
        "colab_type": "code",
        "colab": {
          "base_uri": "https://localhost:8080/",
          "height": 36
        },
        "outputId": "3a2cef12-8074-47d7-bd4b-579e3a919d11"
      },
      "source": [
        "print(not(5<10))"
      ],
      "execution_count": 60,
      "outputs": [
        {
          "output_type": "stream",
          "text": [
            "False\n"
          ],
          "name": "stdout"
        }
      ]
    },
    {
      "cell_type": "code",
      "metadata": {
        "id": "ljKY3A3lGEwS",
        "colab_type": "code",
        "colab": {
          "base_uri": "https://localhost:8080/",
          "height": 92
        },
        "outputId": "1e7449bb-4af1-41cc-8696-685a798b9b70"
      },
      "source": [
        "#while문은 조건문이 참인 동안 조건문 안에 있는 문장을 반복해서 수행한다는 의미\n",
        "'''\n",
        "while 조건문:\n",
        "    수행할 문장\n",
        "    '''\n",
        "\n",
        "a = [1, 2, 3, 4]\n",
        "while a:\n",
        "  print(a.pop())\n",
        "\n",
        "#a가 참인 경우에 a.pop( )을 계속 실행하라는 의미이다. \n",
        "#a.pop( ) 함수는 리스트 a의 마지막 요소를 끄집어내는 함수이므로 \n",
        "#리스트 안에 요소가 존재하는 한(a가 참인 동안) 마지막 요소를 계속해서 끄집어낼 것이다. \n",
        "#결국 더 이상 끄집어낼 것이 없으면 a가 빈 리스트([ ])가 되어 거짓이 된다. \n",
        "#따라서 while문에서 조건이 거짓이 되므로 중지된다.\n"
      ],
      "execution_count": 49,
      "outputs": [
        {
          "output_type": "stream",
          "text": [
            "4\n",
            "3\n",
            "2\n",
            "1\n"
          ],
          "name": "stdout"
        }
      ]
    },
    {
      "cell_type": "code",
      "metadata": {
        "id": "YFa2zGmwJrWF",
        "colab_type": "code",
        "colab": {
          "base_uri": "https://localhost:8080/",
          "height": 36
        },
        "outputId": "e235bb95-b441-4906-e9ed-b2b2e3765ca5"
      },
      "source": [
        "#if문\n",
        "\n",
        "if []:\n",
        "  print(\"참\")\n",
        "else:\n",
        "  print(\"거짓\")"
      ],
      "execution_count": 50,
      "outputs": [
        {
          "output_type": "stream",
          "text": [
            "거짓\n"
          ],
          "name": "stdout"
        }
      ]
    },
    {
      "cell_type": "markdown",
      "metadata": {
        "id": "SQ9anld6NgIj",
        "colab_type": "text"
      },
      "source": [
        ""
      ]
    },
    {
      "cell_type": "code",
      "metadata": {
        "id": "pezj2ECpKnJj",
        "colab_type": "code",
        "colab": {
          "base_uri": "https://localhost:8080/",
          "height": 36
        },
        "outputId": "7c66ca13-d91e-42ff-b065-20afd1ab3b07"
      },
      "source": [
        "#만약 [1, 2, 3]이 참이면 \"참\"이라는 문자열을 출력하고 그렇지 않으면 \"거짓\"이라는 문자열을 출력하라.\n",
        "\n",
        "if [1, 2, 3]:\n",
        "  print(\"참\")\n",
        "else:\n",
        "  print(\"거짓\")"
      ],
      "execution_count": 52,
      "outputs": [
        {
          "output_type": "stream",
          "text": [
            "참\n"
          ],
          "name": "stdout"
        }
      ]
    },
    {
      "cell_type": "markdown",
      "metadata": {
        "id": "m63QaJTJLJp4",
        "colab_type": "text"
      },
      "source": [
        "# **불 연산**\n",
        "bool 내장 함수를 사용하면 자료형의 참과 거짓을 식별할 수 있다."
      ]
    },
    {
      "cell_type": "code",
      "metadata": {
        "id": "t4haVFg9LR_f",
        "colab_type": "code",
        "colab": {
          "base_uri": "https://localhost:8080/",
          "height": 36
        },
        "outputId": "b49eecbd-bfdd-484b-fbae-bdb36cc94c6d"
      },
      "source": [
        "bool('python')\n",
        "#'python' 문자열은 빈 문자열이 아니므로 bool 연산의 결과로 불 자료형인 True를 돌려준다."
      ],
      "execution_count": 54,
      "outputs": [
        {
          "output_type": "execute_result",
          "data": {
            "text/plain": [
              "True"
            ]
          },
          "metadata": {
            "tags": []
          },
          "execution_count": 54
        }
      ]
    },
    {
      "cell_type": "code",
      "metadata": {
        "id": "SzyTb1PSLWFN",
        "colab_type": "code",
        "colab": {
          "base_uri": "https://localhost:8080/",
          "height": 36
        },
        "outputId": "4d055e50-046d-439e-f78e-6f10901a0a6b"
      },
      "source": [
        "bool('')\n",
        "#'' 문자열은 빈 문자열이므로 bool 연산의 결과로 불 자료형인 False를 돌려준다."
      ],
      "execution_count": 55,
      "outputs": [
        {
          "output_type": "execute_result",
          "data": {
            "text/plain": [
              "False"
            ]
          },
          "metadata": {
            "tags": []
          },
          "execution_count": 55
        }
      ]
    },
    {
      "cell_type": "code",
      "metadata": {
        "id": "NoKbxr_eLrOU",
        "colab_type": "code",
        "colab": {
          "base_uri": "https://localhost:8080/",
          "height": 36
        },
        "outputId": "90cf7f82-af89-4fe8-89fd-e670be726105"
      },
      "source": [
        "'''\n",
        ">>> bool([1,2,3])\n",
        "True\n",
        ">>> bool([])\n",
        "False\n",
        ">>> bool(0)\n",
        "False\n",
        ">>> bool(3)\n",
        "True\n",
        "'''"
      ],
      "execution_count": 58,
      "outputs": [
        {
          "output_type": "execute_result",
          "data": {
            "application/vnd.google.colaboratory.intrinsic+json": {
              "type": "string"
            },
            "text/plain": [
              "'\\nbool([1,2,3])\\nTrue\\nbool([])\\nFalse\\nbool(0)\\nFalse\\nbool(3)\\nTrue\\n'"
            ]
          },
          "metadata": {
            "tags": []
          },
          "execution_count": 58
        }
      ]
    },
    {
      "cell_type": "code",
      "metadata": {
        "id": "hSCNC7cJL6yy",
        "colab_type": "code",
        "colab": {}
      },
      "source": [
        ""
      ],
      "execution_count": null,
      "outputs": []
    }
  ]
}