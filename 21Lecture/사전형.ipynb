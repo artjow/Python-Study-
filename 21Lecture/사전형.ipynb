{
  "nbformat": 4,
  "nbformat_minor": 0,
  "metadata": {
    "colab": {
      "name": "사전형.ipynb",
      "provenance": []
    },
    "kernelspec": {
      "name": "python3",
      "display_name": "Python 3"
    }
  },
  "cells": [
    {
      "cell_type": "markdown",
      "metadata": {
        "id": "zHywsNLbFpvN",
        "colab_type": "text"
      },
      "source": [
        "## **딕셔너리(dictionary)**\n",
        "참조; http://tcpschool.com/python/types_dictionary\n",
        "- 파이썬에서 딕셔너리(dictionary)란 사전형 데이터를 의미하며, key와 value를 1대1로 대응시킨 형태이다.\n",
        "이때 하나의 key에는 하나의 value만이 대응된다.\n",
        "\n",
        "- 사전에서 단어를 찾으면 그에 대한 해설이 있는 것과 같다.\n",
        "  이 때, key 값은 절대로 변하지 않으며 value 값은 변경할 수 있다.\n",
        "\n",
        "- 튜플과 다르게 key-value 쌍 자체를 수정하거나 삭제할 수 있다."
      ]
    },
    {
      "cell_type": "code",
      "metadata": {
        "id": "Jlt4WRzDGPMZ",
        "colab_type": "code",
        "colab": {
          "base_uri": "https://localhost:8080/",
          "height": 92
        },
        "outputId": "6d32384b-8bc5-4d86-cb5c-9ebb01f9d7bc"
      },
      "source": [
        "'''\n",
        "아래 예제는 정수형 값을 key 값으로 하여 그에 대응하는 value 값으로 문자열을 저장한 형태이다.\n",
        "파이썬에서 딕셔너리의 key 값은 정수형을 포함한 어떠한 자료형도 가능하다.\n",
        "특정 key 값에 해당하는 value 값에 접근하려면, 딕셔너리명[key값]의 형태로 사용.\n",
        "단, 하나의 딕셔너리에 같은 key 값이 동시에 저장될 수는 없다.\n",
        "'''\n",
        "dic = {1 : \"My\" , 2:\"Name\", 3:\"Is\", 4:\"Python\"}\n",
        "print(dic[1])\n",
        "print(dic[2])\n",
        "print(dic[3])\n",
        "print(dic[4])  "
      ],
      "execution_count": 2,
      "outputs": [
        {
          "output_type": "stream",
          "text": [
            "My\n",
            "Name\n",
            "Is\n",
            "Python\n"
          ],
          "name": "stdout"
        }
      ]
    },
    {
      "cell_type": "code",
      "metadata": {
        "id": "Az_snNpUHIWp",
        "colab_type": "code",
        "colab": {
          "base_uri": "https://localhost:8080/",
          "height": 92
        },
        "outputId": "7edeed71-53db-4cfa-8178-48bc94bb4c6d"
      },
      "source": [
        "# 딕셔너리 내부 함수\n",
        "# 파이썬에서 딕셔너리는 유용하게 사용할 수 있는 특정 함수들을 기본적으로 포함하고 있다.\n",
        "\n",
        "dic = {1 : \"My\" , 2:\"Name\", 3:\"Is\", 4:\"Python\"}\n",
        "print(dic.keys())  # keys() 함수는 해당 사전형 데이터에 저장된 key 값들을 리스트의 형태로 반환, 해당 사전형 데이터에 무슨 key 값들이 포함되어 있는지 모를 때 유용하게 사용\n",
        "print(0 in dic.keys())  # in 키워드는 해당 리스트에 특정 값이 포함되어 있는지 여부를 알 수 있다. 해당 리스트의 특정 값이 존재할 경우에는 True를 반환하며, 존재하지 않을 경우에는 False를 반환\n",
        "print(dic.values())  # values() 함수는 해당 사전형 데이터에 저장된 모든 value 값들을 리스트의 형태로 반환\n",
        "print(dic.items())  # items() 함수는 해당 사전형 데이터에 저장된 모든 key-value 쌍을 리스트의 형태로 반환"
      ],
      "execution_count": 4,
      "outputs": [
        {
          "output_type": "stream",
          "text": [
            "dict_keys([1, 2, 3, 4])\n",
            "False\n",
            "dict_values(['My', 'Name', 'Is', 'Python'])\n",
            "dict_items([(1, 'My'), (2, 'Name'), (3, 'Is'), (4, 'Python')])\n"
          ],
          "name": "stdout"
        }
      ]
    },
    {
      "cell_type": "code",
      "metadata": {
        "id": "AvxR_tL4Iaky",
        "colab_type": "code",
        "colab": {
          "base_uri": "https://localhost:8080/",
          "height": 55
        },
        "outputId": "52981b7e-6462-463c-bf03-46d9ae1ed09c"
      },
      "source": [
        "cabinet = {3:\"홍길동\", 100:\"김영희\"}\n",
        "print(cabinet[3])\n",
        "print(cabinet[100])"
      ],
      "execution_count": null,
      "outputs": [
        {
          "output_type": "stream",
          "text": [
            "홍길동\n",
            "김영희\n"
          ],
          "name": "stdout"
        }
      ]
    },
    {
      "cell_type": "code",
      "metadata": {
        "id": "Wk7Kd4EKJH-W",
        "colab_type": "code",
        "colab": {
          "base_uri": "https://localhost:8080/",
          "height": 36
        },
        "outputId": "dd25642c-5427-4299-e504-ceca75cf1518"
      },
      "source": [
        "print(cabinet.get(3))"
      ],
      "execution_count": null,
      "outputs": [
        {
          "output_type": "stream",
          "text": [
            "홍길동\n"
          ],
          "name": "stdout"
        }
      ]
    },
    {
      "cell_type": "code",
      "metadata": {
        "id": "Wr0K560VJUiI",
        "colab_type": "code",
        "colab": {
          "base_uri": "https://localhost:8080/",
          "height": 176
        },
        "outputId": "cf95113a-2743-4c00-ed4f-cb6dbe0c1bc9"
      },
      "source": [
        "print(cabinet[5])"
      ],
      "execution_count": null,
      "outputs": [
        {
          "output_type": "error",
          "ename": "KeyError",
          "evalue": "ignored",
          "traceback": [
            "\u001b[0;31m---------------------------------------------------------------------------\u001b[0m",
            "\u001b[0;31mKeyError\u001b[0m                                  Traceback (most recent call last)",
            "\u001b[0;32m<ipython-input-3-753265a2e572>\u001b[0m in \u001b[0;36m<module>\u001b[0;34m()\u001b[0m\n\u001b[0;32m----> 1\u001b[0;31m \u001b[0mprint\u001b[0m\u001b[0;34m(\u001b[0m\u001b[0mcabinet\u001b[0m\u001b[0;34m[\u001b[0m\u001b[0;36m5\u001b[0m\u001b[0;34m]\u001b[0m\u001b[0;34m)\u001b[0m\u001b[0;34m\u001b[0m\u001b[0;34m\u001b[0m\u001b[0m\n\u001b[0m",
            "\u001b[0;31mKeyError\u001b[0m: 5"
          ]
        }
      ]
    },
    {
      "cell_type": "code",
      "metadata": {
        "id": "0JXnLSoCJZxi",
        "colab_type": "code",
        "colab": {
          "base_uri": "https://localhost:8080/",
          "height": 73
        },
        "outputId": "afd5af93-9991-4797-b623-c1c452b49e23"
      },
      "source": [
        "print(cabinet.get(5))\n",
        "print(cabinet.get(5,\"사용가능\"))\n",
        "print(\"hi\")"
      ],
      "execution_count": null,
      "outputs": [
        {
          "output_type": "stream",
          "text": [
            "None\n",
            "사용가능\n",
            "hi\n"
          ],
          "name": "stdout"
        }
      ]
    },
    {
      "cell_type": "code",
      "metadata": {
        "id": "XBNfQIliJibI",
        "colab_type": "code",
        "colab": {
          "base_uri": "https://localhost:8080/",
          "height": 36
        },
        "outputId": "4322d1da-a4ab-49ac-9efc-a7bc12f29114"
      },
      "source": [
        "cabinet[\"A-3\"] = \"최수경\"\n",
        "cabinet[\"C-20\"] = \"고종수\"\n",
        "print(cabinet)\n",
        "# 사람 추가"
      ],
      "execution_count": null,
      "outputs": [
        {
          "output_type": "stream",
          "text": [
            "{3: '홍길동', 100: '김영희', 'C-20': '고종수', 'A-3': '최수경'}\n"
          ],
          "name": "stdout"
        }
      ]
    },
    {
      "cell_type": "code",
      "metadata": {
        "id": "u3ebSN0UKS0l",
        "colab_type": "code",
        "colab": {
          "base_uri": "https://localhost:8080/",
          "height": 36
        },
        "outputId": "cb9f8156-0d8a-4df6-abc9-b2d18981ea02"
      },
      "source": [
        "del cabinet[\"A-3\"]\n",
        "print(cabinet)\n",
        "#사람삭제"
      ],
      "execution_count": null,
      "outputs": [
        {
          "output_type": "stream",
          "text": [
            "{3: '홍길동', 100: '김영희', 'C-20': '고종수'}\n"
          ],
          "name": "stdout"
        }
      ]
    },
    {
      "cell_type": "code",
      "metadata": {
        "id": "RhTAHFHrLpkn",
        "colab_type": "code",
        "colab": {
          "base_uri": "https://localhost:8080/",
          "height": 36
        },
        "outputId": "5b06f758-2424-4bf1-ee0f-e54b3f22b31b"
      },
      "source": [
        "print(cabinet.keys())\n",
        "#key만 출력"
      ],
      "execution_count": null,
      "outputs": [
        {
          "output_type": "stream",
          "text": [
            "dict_keys([3, 100, 'C-20'])\n"
          ],
          "name": "stdout"
        }
      ]
    },
    {
      "cell_type": "code",
      "metadata": {
        "id": "e7XcUiDjMa8p",
        "colab_type": "code",
        "colab": {
          "base_uri": "https://localhost:8080/",
          "height": 36
        },
        "outputId": "8c99bd26-e010-4220-e96e-a8d0dc0b679a"
      },
      "source": [
        "print(cabinet.values())\n",
        "#values만 출력"
      ],
      "execution_count": null,
      "outputs": [
        {
          "output_type": "stream",
          "text": [
            "dict_values(['홍길동', '김영희', '고종수'])\n"
          ],
          "name": "stdout"
        }
      ]
    },
    {
      "cell_type": "code",
      "metadata": {
        "id": "CWoyXuuwM74t",
        "colab_type": "code",
        "colab": {
          "base_uri": "https://localhost:8080/",
          "height": 36
        },
        "outputId": "8afa87d3-5769-4619-d2a0-be552aa121e2"
      },
      "source": [
        "print(cabinet.items())\n",
        "#key와 values동시 출력"
      ],
      "execution_count": null,
      "outputs": [
        {
          "output_type": "stream",
          "text": [
            "dict_items([(3, '홍길동'), (100, '김영희'), ('C-20', '고종수')])\n"
          ],
          "name": "stdout"
        }
      ]
    },
    {
      "cell_type": "code",
      "metadata": {
        "id": "9tAwNb4nNMB9",
        "colab_type": "code",
        "colab": {
          "base_uri": "https://localhost:8080/",
          "height": 36
        },
        "outputId": "68da0ea3-c0d8-4c40-8912-4145c6a00904"
      },
      "source": [
        "cabinet.clear()\n",
        "print(cabinet)"
      ],
      "execution_count": null,
      "outputs": [
        {
          "output_type": "stream",
          "text": [
            "{}\n"
          ],
          "name": "stdout"
        }
      ]
    },
    {
      "cell_type": "code",
      "metadata": {
        "id": "lLsXUpkCNl1o",
        "colab_type": "code",
        "colab": {}
      },
      "source": [
        ""
      ],
      "execution_count": null,
      "outputs": []
    }
  ]
}