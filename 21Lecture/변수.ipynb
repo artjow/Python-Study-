{
  "nbformat": 4,
  "nbformat_minor": 0,
  "metadata": {
    "colab": {
      "name": "변수.ipynb",
      "provenance": [],
      "collapsed_sections": []
    },
    "kernelspec": {
      "name": "python3",
      "display_name": "Python 3"
    }
  },
  "cells": [
    {
      "cell_type": "markdown",
      "metadata": {
        "id": "gSlgrrLPoQ4t"
      },
      "source": [
        ">> 변수를 만들 때는 =(assignment) 기호를 사용한다.\n",
        "\n",
        "파이썬은 변수에 저장된 값을 스스로 판단하여 자료형을 지정한다.\n",
        "\n",
        "## **변수란?**\n",
        "파이썬에서 사용하는 변수는 객체를 가리키는 것이라고도 말할 수 있다. 객체란 자료형과 같은 의미\n"
      ]
    },
    {
      "cell_type": "code",
      "metadata": {
        "id": "TbMCHiG0noRP"
      },
      "source": [
        "# 다음 예와 같은 a, b, c를 변수라고 한다.\n",
        "# 변수 이름 = 변수에 저장할 값\n",
        "\n",
        "a = 1\n",
        "b = \"python\"\n",
        "c = [1,2,3]"
      ],
      "execution_count": null,
      "outputs": []
    },
    {
      "cell_type": "code",
      "metadata": {
        "id": "2PBwxle-o9j8"
      },
      "source": [
        "# a = [1, 2, 3]이라고 하면 [1, 2, 3] 값을 가지는 리스트 자료형(객체)이 자동으로 메모리에 생성되고 \n",
        "# 변수 a는 [1, 2, 3] 리스트가 저장된 메모리의 주소를 가리키게 된다.\n",
        "# 메모리란 컴퓨터가 프로그램에서 사용하는 데이터를 기억하는 공간이다.\n",
        "a = [1, 2, 3]"
      ],
      "execution_count": null,
      "outputs": []
    },
    {
      "cell_type": "code",
      "metadata": {
        "id": "OPBVdhD0pYen",
        "colab": {
          "base_uri": "https://localhost:8080/",
          "height": 36
        },
        "outputId": "8e2a5486-129a-40fb-9121-c7825e7b347b"
      },
      "source": [
        "# a 변수가 가리키는 메모리의 주소 확인\n",
        "# id 함수는 변수가 가리키고 있는 객체의 주소 값을 돌려주는 파이썬 내장 함수이다. \n",
        "# 즉 변수 a가 가리키는 [1, 2, 3] 리스트의 주소 값은 140330746629896임을 알 수 있다.\n",
        "\n",
        "a = [1, 2, 3]\n",
        "id(a)"
      ],
      "execution_count": null,
      "outputs": [
        {
          "output_type": "execute_result",
          "data": {
            "text/plain": [
              "140330746629896"
            ]
          },
          "metadata": {
            "tags": []
          },
          "execution_count": 4
        }
      ]
    },
    {
      "cell_type": "markdown",
      "metadata": {
        "id": "9b85j5tAqCQ0"
      },
      "source": [
        "## **리스트를 복사하고자 할 때**"
      ]
    },
    {
      "cell_type": "code",
      "metadata": {
        "id": "M0p3rWMVqPg_"
      },
      "source": [
        "'''\n",
        "b 변수에 a 변수를 대입하면 어떻게 될까? b와 a는 같은 걸까 다른 걸까? \n",
        "결론부터 말하면 b는 a와 완전히 동일하다고 할 수 있다. \n",
        "다만 [1, 2, 3] 리스트를 참조하는 변수가 a 변수 1개에서 b 변수가 추가되어 2개로 늘어났다는 \n",
        "차이만 있을 뿐이다.\n",
        "\n",
        "id 함수를 사용하면 이러한 사실을 확인할 수 있다.\n",
        "'''\n",
        "a = [1,2,3]\n",
        "b = a"
      ],
      "execution_count": null,
      "outputs": []
    },
    {
      "cell_type": "code",
      "metadata": {
        "id": "I8Zt7h6Gqmxe",
        "colab": {
          "base_uri": "https://localhost:8080/",
          "height": 36
        },
        "outputId": "cec8fa7e-b404-4f43-8373-83ad8c35ba1a"
      },
      "source": [
        "'''\n",
        "id(a)의 값이 id(b)의 값과 동일함을 확인할 수 있다. \n",
        "즉 a가 가리키는 대상과 b가 가리키는 대상이 동일하다는 것을 알 수 있다. \n",
        "'''\n",
        "id(a)\n",
        "id(b)\n"
      ],
      "execution_count": null,
      "outputs": [
        {
          "output_type": "execute_result",
          "data": {
            "text/plain": [
              "140330639787976"
            ]
          },
          "metadata": {
            "tags": []
          },
          "execution_count": 11
        }
      ]
    },
    {
      "cell_type": "code",
      "metadata": {
        "id": "f7N4jwrSrXqw",
        "colab": {
          "base_uri": "https://localhost:8080/",
          "height": 36
        },
        "outputId": "50e4081b-fd78-408d-98e7-46464258b135"
      },
      "source": [
        "id(a)"
      ],
      "execution_count": null,
      "outputs": [
        {
          "output_type": "execute_result",
          "data": {
            "text/plain": [
              "140330639787976"
            ]
          },
          "metadata": {
            "tags": []
          },
          "execution_count": 12
        }
      ]
    },
    {
      "cell_type": "code",
      "metadata": {
        "id": "4VakVMJ1rAXO",
        "colab": {
          "base_uri": "https://localhost:8080/",
          "height": 36
        },
        "outputId": "344549c6-1da7-4bda-8a9f-0c6e31ada566"
      },
      "source": [
        "# 동일한 객체를 가리키고 있는지에 대해서 판단하는 파이썬 명령어 is를 실행해도 \n",
        "# 역시 참(True)을 돌려준다.\n",
        "\n",
        "a is b  # a와 b가 가리키는 객체는 동일한가?"
      ],
      "execution_count": null,
      "outputs": [
        {
          "output_type": "execute_result",
          "data": {
            "text/plain": [
              "True"
            ]
          },
          "metadata": {
            "tags": []
          },
          "execution_count": 13
        }
      ]
    },
    {
      "cell_type": "code",
      "metadata": {
        "id": "ekTR_5BHsEtJ",
        "colab": {
          "base_uri": "https://localhost:8080/",
          "height": 36
        },
        "outputId": "fd40edb7-de54-4a12-dd60-9f4aa435fc43"
      },
      "source": [
        "'''\n",
        "a 리스트의 두 번째 요소를 값 4로 바꾸었더니 a만 바뀌는 것이 아니라 \n",
        "b도 똑같이 바뀌었다. 그 이유는 앞에서 살펴본 것처럼 a, b 모두 \n",
        "동일한 리스트를 가리키고 있기 때문이다.\n",
        "'''\n",
        "a = [1,2,3]\n",
        "b=a\n",
        "\n",
        "a[1] = 4\n",
        "a"
      ],
      "execution_count": null,
      "outputs": [
        {
          "output_type": "execute_result",
          "data": {
            "text/plain": [
              "[1, 4, 3]"
            ]
          },
          "metadata": {
            "tags": []
          },
          "execution_count": 16
        }
      ]
    },
    {
      "cell_type": "code",
      "metadata": {
        "id": "wIwW9NvBsn2T",
        "colab": {
          "base_uri": "https://localhost:8080/",
          "height": 36
        },
        "outputId": "696ea8e3-23c8-4b78-d61e-e37e2395b245"
      },
      "source": [
        "b"
      ],
      "execution_count": null,
      "outputs": [
        {
          "output_type": "execute_result",
          "data": {
            "text/plain": [
              "[1, 4, 3]"
            ]
          },
          "metadata": {
            "tags": []
          },
          "execution_count": 17
        }
      ]
    },
    {
      "cell_type": "code",
      "metadata": {
        "id": "eVHOOUCbs_o8"
      },
      "source": [
        "'''\n",
        "그렇다면 b 변수를 생성할 때 a 변수의 값을 가져오면서 \n",
        "a와는 다른 주소를 가리키도록 만들수는 없을까? \n",
        "아래 2가지 방법이 있다.\n",
        "1) [:]이용\n",
        "2) copy 모듈 이용\n",
        "'''"
      ],
      "execution_count": null,
      "outputs": []
    },
    {
      "cell_type": "code",
      "metadata": {
        "id": "YxUIyB19tLMb"
      },
      "source": [
        "# 1) 첫번째 방법=> [:] 이용\n",
        "# 리스트 전체를 가리키는 [:]을 사용해서 복사하는 것이다.\n",
        "'''\n",
        "a = [1, 2, 3]\n",
        "b = a[:]\n",
        "a[1] = 4\n",
        "a\n",
        ">>>[1, 4, 3]\n",
        "\n",
        "b\n",
        ">>>[1, 2, 3]\n",
        "'''"
      ],
      "execution_count": null,
      "outputs": []
    },
    {
      "cell_type": "code",
      "metadata": {
        "id": "dqJsfCYUuAVZ",
        "colab": {
          "base_uri": "https://localhost:8080/",
          "height": 36
        },
        "outputId": "a8dd8861-45f7-4873-a154-c4d3a6650497"
      },
      "source": [
        "a = [1, 2, 3]\n",
        "b = a[:]\n",
        "a[1] = 4\n",
        "a"
      ],
      "execution_count": null,
      "outputs": [
        {
          "output_type": "execute_result",
          "data": {
            "text/plain": [
              "[1, 4, 3]"
            ]
          },
          "metadata": {
            "tags": []
          },
          "execution_count": 20
        }
      ]
    },
    {
      "cell_type": "code",
      "metadata": {
        "id": "BRVDPCPYuGzw",
        "colab": {
          "base_uri": "https://localhost:8080/",
          "height": 36
        },
        "outputId": "00d62481-d518-4594-90c1-b9f388b83046"
      },
      "source": [
        "# a 리스트 값을 바꾸더라도 b 리스트에는 영향을 끼치지 않는다.\n",
        "b"
      ],
      "execution_count": null,
      "outputs": [
        {
          "output_type": "execute_result",
          "data": {
            "text/plain": [
              "[1, 2, 3]"
            ]
          },
          "metadata": {
            "tags": []
          },
          "execution_count": 21
        }
      ]
    },
    {
      "cell_type": "code",
      "metadata": {
        "id": "NrrnkyMuuef_"
      },
      "source": [
        "# 2) copy 모듈 이용\n",
        "'''\n",
        "from copy import copy라는 문장으로\n",
        "copy 함수를 쓰기 위해서 사용하는 것\n",
        "\n",
        "아래 예에서 b = copy(a)는 b = a[:]과 동일하다.\n",
        "'''\n",
        "\n",
        "from copy import copy\n",
        "b = copy(a)"
      ],
      "execution_count": null,
      "outputs": []
    },
    {
      "cell_type": "code",
      "metadata": {
        "id": "82gPXKrHxM23",
        "colab": {
          "base_uri": "https://localhost:8080/",
          "height": 36
        },
        "outputId": "b084162d-c866-4378-933f-316bf8b2e633"
      },
      "source": [
        "# 두 변수가 같은 값을 가지면서 다른 객체를 제대로 생성했는지 다음과 같이 확인해 보자.\n",
        "# b is a가 False를 돌려주므로 b와 a가 가리키는 객체는 서로 다르다는 것을 알 수 있다.\n",
        "b is a"
      ],
      "execution_count": null,
      "outputs": [
        {
          "output_type": "execute_result",
          "data": {
            "text/plain": [
              "False"
            ]
          },
          "metadata": {
            "tags": []
          },
          "execution_count": 35
        }
      ]
    },
    {
      "cell_type": "markdown",
      "metadata": {
        "id": "2OAapduE0B_Z"
      },
      "source": [
        "## **변수를 만드는 여러 가지 방법**\n",
        "\n"
      ]
    },
    {
      "cell_type": "code",
      "metadata": {
        "id": "1bEly9Zk0M71"
      },
      "source": [
        "# 튜플로 a, b에 값을 대입할 수 있다.\n",
        "a, b = ('python', 'life')\n",
        "\n",
        "# 튜플은 괄호를 생략해도 된다.\n",
        "a, b = 'python', 'life'\n",
        "\n",
        "# 리스트로 변수를 만들 수도 있다.\n",
        "a = b = 'python'"
      ],
      "execution_count": null,
      "outputs": []
    },
    {
      "cell_type": "code",
      "metadata": {
        "id": "mdjv59sQ0sfk",
        "colab": {
          "base_uri": "https://localhost:8080/",
          "height": 36
        },
        "outputId": "fdf2d300-2e94-4e35-9bd4-34ad65554a4c"
      },
      "source": [
        "# 두 변수의 값 바꾸기\n",
        "'''\n",
        "처음에 a에 값 3, b에는 값 5가 대입되어 있었지만 \n",
        "a, b = b, a 문장을 수행한 후에는 그 값이 서로 바뀌었음을 확인할 수 있다.\n",
        "'''\n",
        "\n",
        "a = 3\n",
        "b = 5\n",
        "a, b = b, a\n",
        "a\n"
      ],
      "execution_count": null,
      "outputs": [
        {
          "output_type": "execute_result",
          "data": {
            "text/plain": [
              "5"
            ]
          },
          "metadata": {
            "tags": []
          },
          "execution_count": 39
        }
      ]
    },
    {
      "cell_type": "code",
      "metadata": {
        "id": "GRAc5qCV04B8",
        "colab": {
          "base_uri": "https://localhost:8080/",
          "height": 36
        },
        "outputId": "ea22736c-8f54-491e-c579-31c82af9768b"
      },
      "source": [
        "b"
      ],
      "execution_count": null,
      "outputs": [
        {
          "output_type": "execute_result",
          "data": {
            "text/plain": [
              "3"
            ]
          },
          "metadata": {
            "tags": []
          },
          "execution_count": 38
        }
      ]
    },
    {
      "cell_type": "markdown",
      "metadata": {
        "id": "EF-ZrS_S5NYQ"
      },
      "source": [
        "## **변수응용**"
      ]
    },
    {
      "cell_type": "code",
      "metadata": {
        "id": "Qo6xvk1A5R3E",
        "colab": {
          "base_uri": "https://localhost:8080/",
          "height": 73
        },
        "outputId": "3c152ab0-c1eb-4349-8285-25091f85b365"
      },
      "source": [
        "# 변수(값을 저장하는 공간)\n",
        "print(\"우리집 강아지의 이름은 연탄이예요\")\n",
        "print(\"연탄이는 4살이며, 산책을 아주 좋아해요\")\n",
        "print(\"연탄이는 어른일까요? True\")\n"
      ],
      "execution_count": null,
      "outputs": [
        {
          "output_type": "stream",
          "text": [
            "우리집 강아지의 이름은 연탄이예요\n",
            "연탄이는 4살이며, 산책을 아주 좋아해요\n",
            "연탄이는 어른일까요? True\n"
          ],
          "name": "stdout"
        }
      ]
    },
    {
      "cell_type": "code",
      "metadata": {
        "id": "u7lOULwJ5goU",
        "colab": {
          "base_uri": "https://localhost:8080/",
          "height": 73
        },
        "outputId": "8ac6ab45-1029-4c15-b532-89f5fa19919d"
      },
      "source": [
        "# 위 문장과 똑같이 출력된다.\n",
        "# 변수를 적용하기위해 변수를 선언한다\n",
        "animal = \"강아지\"\n",
        "name = \"연탄이\"\n",
        "age = 4  # 정수형이므로 따옴표 없이 써준다.\n",
        "hobby = \"산책\"\n",
        "is_adult = age >= 3  #3보다 크거나 같으면 어른이라고 정의\n",
        "\n",
        "print(\"우리집\" +animal+ \"의 이름은\"+name+ \"이예요\")\n",
        "print(name+\"는\" +str(age)+\"살이며,\" +hobby+\"을 아주 좋아해요\")   #정수형을 문자로 바꿔주기위해 str을 붙여준다.\n",
        "print(name+\"는 어른일까요?\" + str(is_adult))   #블리언도 문자로 바꾸기 위해서는 str로 감싸준다."
      ],
      "execution_count": null,
      "outputs": [
        {
          "output_type": "stream",
          "text": [
            "우리집강아지의 이름은연탄이이예요\n",
            "연탄이는4살이며,산책을 아주 좋아해요\n",
            "연탄이는 어른일까요?True\n"
          ],
          "name": "stdout"
        }
      ]
    },
    {
      "cell_type": "code",
      "metadata": {
        "id": "VZ20KKvy53Pj",
        "colab": {
          "base_uri": "https://localhost:8080/",
          "height": 73
        },
        "outputId": "cf44abbe-5092-41f6-fb27-3f3ec727031e"
      },
      "source": [
        "# 응용\n",
        "animal = \"고양이\"\n",
        "name = \"망고\"\n",
        "age = 3  # 정수형이므로 따옴표 없이 써준다.\n",
        "hobby = \"공놀이\"\n",
        "is_adult = age >= 4  #3보다 크거나 같으면 어른이라고 정의\n",
        "\n",
        "print(\"우리집\" +animal+ \"의 이름은\"+name+ \"이예요\")\n",
        "print(name+\"는\" +str(age)+\"살이며,\" +hobby+\"을 아주 좋아해요\")   #정수형을 문자로 바꿔주기위해 str을 붙여준다.\n",
        "print(name+\"는 어른일까요?\" + str(is_adult))   #블리언도 문자로 바꾸기 위해서는 str로 감싸준다."
      ],
      "execution_count": null,
      "outputs": [
        {
          "output_type": "stream",
          "text": [
            "우리집고양이의 이름은망고이예요\n",
            "망고는3살이며,공놀이을 아주 좋아해요\n",
            "망고는 어른일까요?False\n"
          ],
          "name": "stdout"
        }
      ]
    },
    {
      "cell_type": "code",
      "metadata": {
        "id": "jJdsw9Cv6aVU",
        "colab": {
          "base_uri": "https://localhost:8080/",
          "height": 73
        },
        "outputId": "0504463f-b415-45f6-ff78-a437b1e7bab9"
      },
      "source": [
        "# 변수는 중간에 들어갈수도 있다.\n",
        "\n",
        "print(\"우리집\" +animal+ \"의 이름은\"+name+ \"이예요\")\n",
        "hobby = \"낮잠자기\"\n",
        "print(name+\"는\" +str(age)+\"살이며,\" +hobby+\"을 아주 좋아해요\")   \n",
        "print(name+\"는 어른일까요?\" + str(is_adult))   \n"
      ],
      "execution_count": null,
      "outputs": [
        {
          "output_type": "stream",
          "text": [
            "우리집고양이의 이름은망고이예요\n",
            "망고는3살이며,낮잠자기을 아주 좋아해요\n",
            "망고는 어른일까요?False\n"
          ],
          "name": "stdout"
        }
      ]
    },
    {
      "cell_type": "code",
      "metadata": {
        "id": "9gpGTrKz69XU",
        "colab": {
          "base_uri": "https://localhost:8080/",
          "height": 73
        },
        "outputId": "e3d5fc12-a4a1-4a7b-9170-df6cf781a4d0"
      },
      "source": [
        "# 콤파(,)를 사용하는경우 str생략해도 된다.\n",
        "\n",
        "print(\"우리집\" +animal+ \"의 이름은\"+name+ \"이예요\")\n",
        "hobby = \"낮잠자기\"\n",
        "#print(name+\"는\" +str(age)+\"살이며,\" +hobby+\"을 아주 좋아해요\")\n",
        "print(name,\"는\",age,\"살이며,\",hobby,\"을 아주 좋아해요\")     \n",
        "print(name+\"는 어른일까요?\" + str(is_adult))   \n"
      ],
      "execution_count": null,
      "outputs": [
        {
          "output_type": "stream",
          "text": [
            "우리집고양이의 이름은망고이예요\n",
            "망고 는 3 살이며, 낮잠자기 을 아주 좋아해요\n",
            "망고는 어른일까요?False\n"
          ],
          "name": "stdout"
        }
      ]
    },
    {
      "cell_type": "code",
      "metadata": {
        "colab": {
          "base_uri": "https://localhost:8080/",
          "height": 134
        },
        "id": "qW4U0CYt1IxY",
        "outputId": "59bd8cff-939a-470f-912f-68bfa55e868c"
      },
      "source": [
        "3f=2 #변수명은 문자로 시작해야함"
      ],
      "execution_count": 1,
      "outputs": [
        {
          "output_type": "error",
          "ename": "SyntaxError",
          "evalue": "ignored",
          "traceback": [
            "\u001b[0;36m  File \u001b[0;32m\"<ipython-input-1-e290302d1e34>\"\u001b[0;36m, line \u001b[0;32m1\u001b[0m\n\u001b[0;31m    3f=2 #변수명은 문자로 시작해야함\u001b[0m\n\u001b[0m     ^\u001b[0m\n\u001b[0;31mSyntaxError\u001b[0m\u001b[0;31m:\u001b[0m invalid syntax\n"
          ]
        }
      ]
    },
    {
      "cell_type": "code",
      "metadata": {
        "colab": {
          "base_uri": "https://localhost:8080/"
        },
        "id": "H4iHkUvT1PhG",
        "outputId": "4a2f9cde-4010-41c5-84da-c8fc0c603d53"
      },
      "source": [
        "af=2\n",
        "af"
      ],
      "execution_count": 3,
      "outputs": [
        {
          "output_type": "execute_result",
          "data": {
            "text/plain": [
              "2"
            ]
          },
          "metadata": {
            "tags": []
          },
          "execution_count": 3
        }
      ]
    },
    {
      "cell_type": "code",
      "metadata": {
        "colab": {
          "base_uri": "https://localhost:8080/"
        },
        "id": "VR1w6uR-1ZGf",
        "outputId": "88b96dd1-1062-461a-b54f-b52bd3289fd8"
      },
      "source": [
        "dogs=3  #10진수\n",
        "0o100 #8진수\n",
        "0x100 #16진수\n",
        "0b100 #2진수"
      ],
      "execution_count": 8,
      "outputs": [
        {
          "output_type": "execute_result",
          "data": {
            "text/plain": [
              "4"
            ]
          },
          "metadata": {
            "tags": []
          },
          "execution_count": 8
        }
      ]
    },
    {
      "cell_type": "code",
      "metadata": {
        "id": "h7pfQuYU3Ijs"
      },
      "source": [
        ""
      ],
      "execution_count": null,
      "outputs": []
    }
  ]
}