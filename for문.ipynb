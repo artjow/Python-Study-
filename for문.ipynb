{
  "nbformat": 4,
  "nbformat_minor": 0,
  "metadata": {
    "colab": {
      "name": "for문.ipynb",
      "provenance": [],
      "authorship_tag": "ABX9TyM7Qb9yyhw4iuoFYkO1nvAT",
      "include_colab_link": true
    },
    "kernelspec": {
      "name": "python3",
      "display_name": "Python 3"
    }
  },
  "cells": [
    {
      "cell_type": "markdown",
      "metadata": {
        "id": "view-in-github",
        "colab_type": "text"
      },
      "source": [
        "<a href=\"https://colab.research.google.com/github/chohyungrae/Python-Study-/blob/master/for%EB%AC%B8.ipynb\" target=\"_parent\"><img src=\"https://colab.research.google.com/assets/colab-badge.svg\" alt=\"Open In Colab\"/></a>"
      ]
    },
    {
      "cell_type": "markdown",
      "metadata": {
        "id": "j_jof6I-N1WB"
      },
      "source": [
        "## **for문**\n",
        "리스트(list)와 같은 순서형(sequence) 자료를 이용해서 원하는 명령을 반복할 때 쓰인다고 합니다"
      ]
    },
    {
      "cell_type": "code",
      "metadata": {
        "id": "QTRKzc1GPT7Q"
      },
      "source": [
        "#for문 기본구조\n",
        "'''\n",
        "리스트나 튜플, 문자열의 첫 번째 요소부터 마지막 요소까지 \n",
        "차례로 변수에 대입되어 \"수행할 문장1\", \"수행할 문장2\" 등이 수행된다.\n",
        "'''\n",
        "for 변수 in 리스트(또는 튜플, 문자열):\n",
        "    수행할 문장1\n",
        "    수행할 문장2\n",
        "    ..."
      ],
      "execution_count": null,
      "outputs": []
    },
    {
      "cell_type": "code",
      "metadata": {
        "id": "juu4i767nnT_",
        "outputId": "d3fa3ff2-17b9-4358-b574-9dfcbabd95c9",
        "colab": {
          "base_uri": "https://localhost:8080/"
        }
      },
      "source": [
        "#for문\n",
        "\n",
        "family = ['mother', 'father', 'gentleman', 'sexy lady']\n",
        "for x in family:    # family라는 리스트의 각각의 항목 x에 대하여:\n",
        "  print('%s %d' % (x, len(x))) # x와 x의 길이를 출력하라.\n"
      ],
      "execution_count": 2,
      "outputs": [
        {
          "output_type": "stream",
          "text": [
            "mother 6\n",
            "father 6\n",
            "gentleman 9\n",
            "sexy lady 9\n"
          ],
          "name": "stdout"
        }
      ]
    },
    {
      "cell_type": "code",
      "metadata": {
        "id": "NgD2NW9BOFiC",
        "outputId": "ec4c1e19-e9ff-404a-ed5e-31e99cdb6129",
        "colab": {
          "base_uri": "https://localhost:8080/"
        }
      },
      "source": [
        "# range()\n",
        "'''\n",
        "range는 범위라는 뜻인데 여기서는 어떤 정수를 인자로 주면 그 범위 안의 \n",
        "정수들을 만들어줍니다.\n",
        "'''\n",
        "\n",
        "range(2, 7)         # 파이썬 2\n",
        "list(range(2, 7))   # 파이썬 3"
      ],
      "execution_count": 3,
      "outputs": [
        {
          "output_type": "execute_result",
          "data": {
            "text/plain": [
              "[2, 3, 4, 5, 6]"
            ]
          },
          "metadata": {
            "tags": []
          },
          "execution_count": 3
        }
      ]
    },
    {
      "cell_type": "code",
      "metadata": {
        "id": "tT7pKf1aOgdJ",
        "outputId": "a7fc33d6-c0a7-4f10-f159-6935c5a22228",
        "colab": {
          "base_uri": "https://localhost:8080/"
        }
      },
      "source": [
        "# for 문에 range()를 사용\n",
        "\n",
        "a = [4, 5, 6, 7]\n",
        "for i in a:\n",
        "  print(i)"
      ],
      "execution_count": 4,
      "outputs": [
        {
          "output_type": "stream",
          "text": [
            "4\n",
            "5\n",
            "6\n",
            "7\n"
          ],
          "name": "stdout"
        }
      ]
    },
    {
      "cell_type": "code",
      "metadata": {
        "id": "LviNMWofOsPi",
        "outputId": "2cb5d7f8-b493-4058-ee67-e3271a9f8107",
        "colab": {
          "base_uri": "https://localhost:8080/"
        }
      },
      "source": [
        "for i in range(4, 8):\n",
        "  print(i)"
      ],
      "execution_count": 5,
      "outputs": [
        {
          "output_type": "stream",
          "text": [
            "4\n",
            "5\n",
            "6\n",
            "7\n"
          ],
          "name": "stdout"
        }
      ]
    },
    {
      "cell_type": "code",
      "metadata": {
        "id": "JobyL8I4Pmkg",
        "outputId": "bc8b1994-34b9-45b6-efe8-51663aa98bae",
        "colab": {
          "base_uri": "https://localhost:8080/"
        }
      },
      "source": [
        "# for문\n",
        "'''\n",
        "['one', 'two', 'three'] 리스트의 첫 번째 요소인 'one'이 먼저 i 변수에 대입된 후\n",
        " print(i) 문장을 수행한다. 다음에 두 번째 요소 'two'가 i 변수에 대입된 후\n",
        "  print(i) 문장을 수행하고 리스트의 마지막 요소까지 이것을 반복한다.\n",
        "'''\n",
        "test_list = ['one', 'two', 'three'] \n",
        "for i in test_list: \n",
        "  print(i)"
      ],
      "execution_count": 6,
      "outputs": [
        {
          "output_type": "stream",
          "text": [
            "one\n",
            "two\n",
            "three\n"
          ],
          "name": "stdout"
        }
      ]
    },
    {
      "cell_type": "code",
      "metadata": {
        "id": "5bwT9i9_P59X",
        "outputId": "b399a163-634e-484c-8fd2-fc30a494933a",
        "colab": {
          "base_uri": "https://localhost:8080/"
        }
      },
      "source": [
        "'''\n",
        "a 리스트의 요솟값이 튜플이기 때문에 각각의 요소가 \n",
        "자동으로 (first, last) 변수에 대입된다.\n",
        "'''\n",
        "a = [(1,2), (3,4), (5,6)]\n",
        "for (first, last) in a:\n",
        "  print(first + last)"
      ],
      "execution_count": 8,
      "outputs": [
        {
          "output_type": "stream",
          "text": [
            "3\n",
            "7\n",
            "11\n"
          ],
          "name": "stdout"
        }
      ]
    },
    {
      "cell_type": "code",
      "metadata": {
        "id": "TD-XOG_YQPu3",
        "outputId": "d6f0b356-3592-4b23-8ddd-87301c54c2a4",
        "colab": {
          "base_uri": "https://localhost:8080/"
        }
      },
      "source": [
        "# for문의 응용\n",
        "'''\n",
        "\"총 5명의 학생이 시험을 보았는데 시험 점수가 60점이 넘으면 합격이고 \n",
        "그렇지 않으면 불합격이다. 합격인지 불합격인지 결과를 보여 주시오.\"\n",
        "'''\n",
        "marks = [90, 25, 67, 45, 80]\n",
        "\n",
        "'''\n",
        "각각의 학생에게 번호를 붙여 주기 위해 number 변수를 사용하였다. \n",
        "점수 리스트 marks에서 차례로 점수를 꺼내어 mark라는 변수에 \n",
        "대입하고 for문 안의 문장들을 수행한다. 우선 for문이 \n",
        "한 번씩 수행될 때마다 number는 1씩 증가한다.\n",
        "'''\n",
        "\n",
        "# marks1.py\n",
        "marks = [90, 25, 67, 45, 80]\n",
        "\n",
        "number = 0 \n",
        "for mark in marks: \n",
        "    number = number +1 \n",
        "    if mark >= 60: \n",
        "        print(\"%d번 학생은 합격입니다.\" % number)\n",
        "    else: \n",
        "        print(\"%d번 학생은 불합격입니다.\" % number)"
      ],
      "execution_count": 10,
      "outputs": [
        {
          "output_type": "stream",
          "text": [
            "1번 학생은 합격입니다.\n",
            "2번 학생은 불합격입니다.\n",
            "3번 학생은 합격입니다.\n",
            "4번 학생은 불합격입니다.\n",
            "5번 학생은 합격입니다.\n"
          ],
          "name": "stdout"
        }
      ]
    },
    {
      "cell_type": "markdown",
      "metadata": {
        "id": "e69GfZ_xQ8OW"
      },
      "source": [
        "### **for문과 continue**\n",
        "while문에서 살펴본 continue문을 for문에서도 사용할 수 있다. 즉 for문 안의 문장을 수행하는 도중에 continue문을 만나면 for문의 처음으로 돌아가게 된다."
      ]
    },
    {
      "cell_type": "code",
      "metadata": {
        "id": "RRbCedF_RGvs",
        "outputId": "c5170d57-cd5d-41f1-f4e8-4a42a4ae7159",
        "colab": {
          "base_uri": "https://localhost:8080/"
        }
      },
      "source": [
        "'''\n",
        "60점 이상인 사람에게는 축하 메시지를 보내고 나머지 사람에게는 \n",
        "아무 메시지도 전하지 않는 프로그램을 에디터를 사용해 작성해 보자.\n",
        "'''\n",
        "# marks2.py \n",
        "marks = [90, 25, 67, 45, 80]\n",
        "\n",
        "number = 0 \n",
        "for mark in marks: \n",
        "    number = number +1 \n",
        "    if mark < 60:\n",
        "        continue \n",
        "    print(\"%d번 학생 축하합니다. 합격입니다. \" % number)"
      ],
      "execution_count": 11,
      "outputs": [
        {
          "output_type": "stream",
          "text": [
            "1번 학생 축하합니다. 합격입니다. \n",
            "3번 학생 축하합니다. 합격입니다. \n",
            "5번 학생 축하합니다. 합격입니다. \n"
          ],
          "name": "stdout"
        }
      ]
    },
    {
      "cell_type": "markdown",
      "metadata": {
        "id": "h25NNRA8RbVc"
      },
      "source": [
        "### **for문과 함께 자주 사용하는 range 함수**\n",
        "숫자 리스트를 자동으로 만들어 주는 range 함수."
      ]
    },
    {
      "cell_type": "code",
      "metadata": {
        "id": "zDkrJhawRkTc",
        "outputId": "62b1f496-4281-48b9-fa67-c935e41c9a70",
        "colab": {
          "base_uri": "https://localhost:8080/"
        }
      },
      "source": [
        "a = range(10)\n",
        "a\n"
      ],
      "execution_count": 12,
      "outputs": [
        {
          "output_type": "execute_result",
          "data": {
            "text/plain": [
              "range(0, 10)"
            ]
          },
          "metadata": {
            "tags": []
          },
          "execution_count": 12
        }
      ]
    },
    {
      "cell_type": "code",
      "metadata": {
        "id": "I-KxjIFARxIz",
        "outputId": "fb613013-5ba8-4c13-c4da-2269a0b972d7",
        "colab": {
          "base_uri": "https://localhost:8080/"
        }
      },
      "source": [
        "'''\n",
        "range(1, 11)은 숫자 1부터 10까지(1 이상 11 미만)의 숫자를 \n",
        "데이터로 갖는 객체이다. 따라서 아래 예에서 i 변수에 리스트의 \n",
        "숫자가 1부터 10까지 하나씩 차례로 대입되면서 add = add + i 문장을 \n",
        "반복적으로 수행하고 add는 최종적으로 55가 된다.\n",
        "'''\n",
        "add = 0 \n",
        "for i in range(1, 11): \n",
        "  add = add + i \n",
        "  print(add)\n",
        " "
      ],
      "execution_count": 14,
      "outputs": [
        {
          "output_type": "stream",
          "text": [
            "1\n",
            "3\n",
            "6\n",
            "10\n",
            "15\n",
            "21\n",
            "28\n",
            "36\n",
            "45\n",
            "55\n"
          ],
          "name": "stdout"
        }
      ]
    },
    {
      "cell_type": "code",
      "metadata": {
        "id": "YhW6R4H1TGmo",
        "outputId": "08f9e215-f85a-4774-c063-b6aed8fab027",
        "colab": {
          "base_uri": "https://localhost:8080/"
        }
      },
      "source": [
        "'''\n",
        "len 함수는 리스트 안의 요소 개수를 돌려주는 함수이다. \n",
        "따라서 len(marks)는 5가 될 것이고 range(len(marks))는 range(5)가 \n",
        "될 것이다. number 변수에는 차례로 0부터 4까지의 숫자가 대입될 것이고, \n",
        "marks[number]는 차례대로 90, 25, 67, 45, 80 값을 갖게 된다. \n",
        "'''\n",
        "#marks3.py\n",
        "marks = [90, 25, 67, 45, 80]\n",
        "for number in range(len(marks)):\n",
        "    if marks[number] < 60: \n",
        "        continue\n",
        "    print(\"%d번 학생 축하합니다. 합격입니다.\" % (number+1))"
      ],
      "execution_count": 16,
      "outputs": [
        {
          "output_type": "stream",
          "text": [
            "1번 학생 축하합니다. 합격입니다.\n",
            "3번 학생 축하합니다. 합격입니다.\n",
            "5번 학생 축하합니다. 합격입니다.\n"
          ],
          "name": "stdout"
        }
      ]
    },
    {
      "cell_type": "code",
      "metadata": {
        "id": "H4PRTrl0TgGT",
        "outputId": "ba55e4e4-cbea-4c14-cbad-fc095a726b67",
        "colab": {
          "base_uri": "https://localhost:8080/"
        }
      },
      "source": [
        "#for와 range를 이용한 구구단\n",
        "'''\n",
        "출력\n",
        "2 4 6 8 10 12 14 16 18 \n",
        "3 6 9 12 15 18 21 24 27 \n",
        "4 8 12 16 20 24 28 32 36\n",
        "5 10 15 20 25 30 35 40 45\n",
        "6 12 18 24 30 36 42 48 54 \n",
        "7 14 21 28 35 42 49 56 63 \n",
        "8 16 24 32 40 48 56 64 72 \n",
        "9 18 27 36 45 54 63 72 81\n",
        "'''\n",
        "\n",
        "'''\n",
        "예를 보면 for문을 두 번 사용했다. ①번 for문에서 2부터 9까지의 \n",
        "숫자(range(2, 10))가 차례로 i에 대입된다. i가 처음 2일 때 \n",
        "②번 for문을 만나게 된다. ②번 for문에서 1부터 9까지의 \n",
        "숫자(range(1, 10))가 j에 대입되고 그다음 문장 print(i*j)를 수행한다.\n",
        "\n",
        "따라서 i가 2일 때 2*1, 2*2, 2*3, … 2*9까지 차례로 수행되며 \n",
        "그 값을 출력하게 된다. 그다음으로 i가 3일 때 역시 2일 때와 \n",
        "마찬가지로 수행될 것이고 i가 9일 때까지 계속 반복된다.\n",
        "'''\n",
        "\n",
        "for i in range(2,10):    # ①번 for문\n",
        "  for j in range(1, 10):   # ②번 for문\n",
        "   print(i*j, end=\" \") \n",
        "   print('') \n"
      ],
      "execution_count": 22,
      "outputs": [
        {
          "output_type": "stream",
          "text": [
            "2 \n",
            "4 \n",
            "6 \n",
            "8 \n",
            "10 \n",
            "12 \n",
            "14 \n",
            "16 \n",
            "18 \n",
            "3 \n",
            "6 \n",
            "9 \n",
            "12 \n",
            "15 \n",
            "18 \n",
            "21 \n",
            "24 \n",
            "27 \n",
            "4 \n",
            "8 \n",
            "12 \n",
            "16 \n",
            "20 \n",
            "24 \n",
            "28 \n",
            "32 \n",
            "36 \n",
            "5 \n",
            "10 \n",
            "15 \n",
            "20 \n",
            "25 \n",
            "30 \n",
            "35 \n",
            "40 \n",
            "45 \n",
            "6 \n",
            "12 \n",
            "18 \n",
            "24 \n",
            "30 \n",
            "36 \n",
            "42 \n",
            "48 \n",
            "54 \n",
            "7 \n",
            "14 \n",
            "21 \n",
            "28 \n",
            "35 \n",
            "42 \n",
            "49 \n",
            "56 \n",
            "63 \n",
            "8 \n",
            "16 \n",
            "24 \n",
            "32 \n",
            "40 \n",
            "48 \n",
            "56 \n",
            "64 \n",
            "72 \n",
            "9 \n",
            "18 \n",
            "27 \n",
            "36 \n",
            "45 \n",
            "54 \n",
            "63 \n",
            "72 \n",
            "81 \n"
          ],
          "name": "stdout"
        }
      ]
    },
    {
      "cell_type": "code",
      "metadata": {
        "id": "ye7RY-MkUwIa"
      },
      "source": [
        "'''\n",
        "[매개변수 end를 넣어 준 이유는 무엇일까?]\n",
        "\n",
        "위의 예제에서 print(i*j, end=\" \")와 같이 매개변수 end를 넣어 준 이유는 \n",
        "해당 결괏값을 출력할 때 다음줄로 넘기지 않고 그 줄에 계속해서 \n",
        "출력하기 위해서이다. 그다음에 이어지는 print(' ')는 2단, 3단 등을 \n",
        "구분하기 위해 두 번째 for문이 끝나면 결괏값을 다음 줄부터 출력하게 해주는 문장이다.\n",
        "'''"
      ],
      "execution_count": null,
      "outputs": []
    },
    {
      "cell_type": "markdown",
      "metadata": {
        "id": "GjTxAjpsVju-"
      },
      "source": [
        "### **리스트내포 사용하기**"
      ]
    },
    {
      "cell_type": "code",
      "metadata": {
        "id": "gEg9_4m2U6dP",
        "outputId": "6b156893-4217-4639-8cfc-d08314fb4576",
        "colab": {
          "base_uri": "https://localhost:8080/"
        }
      },
      "source": [
        "#a 리스트의 각 항목에 3을 곱한 결과를 result 리스트에 담는 예\n",
        "'''\n",
        "리스트 안에 for문을 포함하는 리스트 내포(List comprehension)를 \n",
        "사용하면 좀 더 편리하고 직관적인 프로그램을 만들 수 있다. \n",
        "'''\n",
        "a = [1,2,3,4]\n",
        "result = []\n",
        "for num in a:\n",
        " result.append(num*3)\n",
        "\n",
        "print(result)\n"
      ],
      "execution_count": 27,
      "outputs": [
        {
          "output_type": "stream",
          "text": [
            "[3, 6, 9, 12]\n"
          ],
          "name": "stdout"
        }
      ]
    },
    {
      "cell_type": "code",
      "metadata": {
        "id": "H7JtvYjHVy96",
        "outputId": "4b3528df-1960-41d8-f37c-e7ad7ccbce5f",
        "colab": {
          "base_uri": "https://localhost:8080/"
        }
      },
      "source": [
        "#위를 리스트 내포를 사용하면 다음과 같이 간단히 해결할 수 있다.\n",
        "\n",
        "a = [1,2,3,4]\n",
        "result = [num * 3 for num in a if num % 2 == 0]\n",
        "print(result)\n"
      ],
      "execution_count": 28,
      "outputs": [
        {
          "output_type": "stream",
          "text": [
            "[6, 12]\n"
          ],
          "name": "stdout"
        }
      ]
    },
    {
      "cell_type": "code",
      "metadata": {
        "id": "Hva3kE5_WgST",
        "outputId": "b5311867-24ae-4dab-eb7e-f3003f13a459",
        "colab": {
          "base_uri": "https://localhost:8080/"
        }
      },
      "source": [
        "#구구단의 모든 결과를 리스트에 담고 싶다면 리스트 내포를 사용하여 \n",
        "#다음과 같이 간단하게 구현할 수도 있다.\n",
        "\n",
        "result = [x*y for x in range(2,10)\n",
        "  for y in range(1,10)]\n",
        "print(result)"
      ],
      "execution_count": 29,
      "outputs": [
        {
          "output_type": "stream",
          "text": [
            "[2, 4, 6, 8, 10, 12, 14, 16, 18, 3, 6, 9, 12, 15, 18, 21, 24, 27, 4, 8, 12, 16, 20, 24, 28, 32, 36, 5, 10, 15, 20, 25, 30, 35, 40, 45, 6, 12, 18, 24, 30, 36, 42, 48, 54, 7, 14, 21, 28, 35, 42, 49, 56, 63, 8, 16, 24, 32, 40, 48, 56, 64, 72, 9, 18, 27, 36, 45, 54, 63, 72, 81]\n"
          ],
          "name": "stdout"
        }
      ]
    }
  ]
}