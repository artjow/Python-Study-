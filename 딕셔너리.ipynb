{
  "nbformat": 4,
  "nbformat_minor": 0,
  "metadata": {
    "colab": {
      "name": "딕셔너리.ipynb",
      "provenance": [],
      "authorship_tag": "ABX9TyO+d3jG+U+zx7FRo/81+2cj",
      "include_colab_link": true
    },
    "kernelspec": {
      "name": "python3",
      "display_name": "Python 3"
    }
  },
  "cells": [
    {
      "cell_type": "markdown",
      "metadata": {
        "id": "view-in-github",
        "colab_type": "text"
      },
      "source": [
        "<a href=\"https://colab.research.google.com/github/chohyungrae/Python-Study-/blob/master/%EB%94%95%EC%85%94%EB%84%88%EB%A6%AC.ipynb\" target=\"_parent\"><img src=\"https://colab.research.google.com/assets/colab-badge.svg\" alt=\"Open In Colab\"/></a>"
      ]
    },
    {
      "cell_type": "markdown",
      "metadata": {
        "id": "EFFyAsg5ZjCP"
      },
      "source": [
        "딕셔너리란?\n",
        "사람은 누구든지 \"이름\" = \"홍길동\", \"생일\" = \"몇 월 며칠\" 등으로 구별할 수 있다. 파이썬은 영리하게도 이러한 대응 관계를 나타낼 수 있는 자료형을 가지고 있다. 요즘 사용하는 대부분의 언어도 이러한 대응 관계를 나타내는 자료형을 갖고 있는데, 이를 연관 배열(Associative array) 또는 해시(Hash)라고 한다.\n",
        "\n",
        "파이썬에서는 이러한 자료형을 딕셔너리(Dictionary)라고 하는데, 단어 그대로 해석하면 사전이라는 뜻이다. 즉 \"people\"이라는 단어에 \"사람\", \"baseball\"이라는 단어에 \"야구\"라는 뜻이 부합되듯이 딕셔너리는 Key와 Value를 한 쌍으로 갖는 자료형이다. 예컨대 Key가 \"baseball\"이라면 Value는 \"야구\"가 될 것이다.\n",
        "\n",
        "딕셔너리는 리스트나 튜플처럼 순차적으로(sequential) 해당 요솟값을 구하지 않고 Key를 통해 Value를 얻는다. 이것이 바로 딕셔너리의 가장 큰 특징이다. baseball이라는 단어의 뜻을 찾기 위해 사전의 내용을 순차적으로 모두 검색하는 것이 아니라 baseball이라는 단어가 있는 곳만 펼쳐 보는 것이다."
      ]
    },
    {
      "cell_type": "code",
      "metadata": {
        "id": "VxNufmzEZojj",
        "outputId": "209f8472-06b5-4606-b4e4-33dabd1a8692",
        "colab": {
          "base_uri": "https://localhost:8080/",
          "height": 139
        }
      },
      "source": [
        "#딕셔너리\n",
        "{Key1:Value1, Key2:Value2, Key3:Value3, ...}\n",
        "'''\n",
        "Key와 Value의 쌍 여러 개가 { }로 둘러싸여 있다. \n",
        "각각의 요소는 Key : Value 형태로 이루어져 있고 쉼표(,)로 구분되어 있다.\n",
        "'''\n",
        "'''\n",
        "※ Key에는 변하지 않는 값을 사용하고, \n",
        "Value에는 변하는 값과 변하지 않는 값 모두 사용할 수 있다.\n",
        "'''"
      ],
      "execution_count": 1,
      "outputs": [
        {
          "output_type": "error",
          "ename": "SyntaxError",
          "evalue": "ignored",
          "traceback": [
            "\u001b[0;36m  File \u001b[0;32m\"<ipython-input-1-34a2caa70fe3>\"\u001b[0;36m, line \u001b[0;32m2\u001b[0m\n\u001b[0;31m    {Key1:Value1, Key2:Value2, Key3:Value3, ...}\u001b[0m\n\u001b[0m                                               ^\u001b[0m\n\u001b[0;31mSyntaxError\u001b[0m\u001b[0;31m:\u001b[0m invalid syntax\n"
          ]
        }
      ]
    },
    {
      "cell_type": "code",
      "metadata": {
        "id": "moesCHu_blI9",
        "outputId": "0b9e5f97-e119-457a-badd-f3c056eaa8c9",
        "colab": {
          "base_uri": "https://localhost:8080/",
          "height": 139
        }
      },
      "source": [
        "  '''\n",
        " Key는 각각 'name', 'phone', 'birth'이고, \n",
        " 각각의 Key에 해당하는 Value는 'pey', '0119993323', '1118'이 된다.\n",
        " '''\n",
        " dic = {'name':'pey', 'phone':'0119993323', 'birth': '1118'}\n"
      ],
      "execution_count": 11,
      "outputs": [
        {
          "output_type": "error",
          "ename": "IndentationError",
          "evalue": "ignored",
          "traceback": [
            "\u001b[0;36m  File \u001b[0;32m\"<ipython-input-11-f832c70f6ba1>\"\u001b[0;36m, line \u001b[0;32m5\u001b[0m\n\u001b[0;31m    dic = {'name':'pey', 'phone':'0119993323', 'birth': '1118'}\u001b[0m\n\u001b[0m    ^\u001b[0m\n\u001b[0;31mIndentationError\u001b[0m\u001b[0;31m:\u001b[0m unexpected indent\n"
          ]
        }
      ]
    },
    {
      "cell_type": "code",
      "metadata": {
        "id": "0J3-E5nqb52R",
        "outputId": "7af63dea-a2a5-447c-d6ee-66f6e9c9fadb",
        "colab": {
          "base_uri": "https://localhost:8080/"
        }
      },
      "source": [
        "# Key로 정수 값 1, Value로 문자열 'hi'를 사용한 예이다.\n",
        "a = {1: 'hi'}\n",
        "\n",
        "#Value에 리스트도 넣을 수 있다.\n",
        "a = { 'a': [1,2,3]}\n",
        "print(a)"
      ],
      "execution_count": 5,
      "outputs": [
        {
          "output_type": "stream",
          "text": [
            "{'a': [1, 2, 3]}\n"
          ],
          "name": "stdout"
        }
      ]
    },
    {
      "cell_type": "markdown",
      "metadata": {
        "id": "-9Eu-zj6cX__"
      },
      "source": [
        "## **딕셔너리 쌍 추가, 삭제하기**"
      ]
    },
    {
      "cell_type": "code",
      "metadata": {
        "id": "qThnm-QkcR6S",
        "outputId": "33062435-3dd1-4d63-d345-37549cbc96c9",
        "colab": {
          "base_uri": "https://localhost:8080/"
        }
      },
      "source": [
        "'''\n",
        "{1: 'a'} 딕셔너리에 a[2] = 'b'와 같이 입력하면 \n",
        "딕셔너리 a에 Key와 Value가 각각 2와 'b'인 2 : 'b'라는 \n",
        "딕셔너리 쌍이 추가된다.\n",
        "'''\n",
        "a = {1: 'a'}\n",
        "a[2] = 'b'\n",
        "a\n"
      ],
      "execution_count": 9,
      "outputs": [
        {
          "output_type": "execute_result",
          "data": {
            "text/plain": [
              "{1: 'a', 2: 'b'}"
            ]
          },
          "metadata": {
            "tags": []
          },
          "execution_count": 9
        }
      ]
    },
    {
      "cell_type": "code",
      "metadata": {
        "id": "y9rd-ozOdZ-S",
        "outputId": "2ee5844c-3a0f-475b-8010-e63ec6c1aad8",
        "colab": {
          "base_uri": "https://localhost:8080/"
        }
      },
      "source": [
        "'''\n",
        "딕셔너리 a에 'name': 'pey'라는 쌍이 추가되었다.\n",
        "'''\n",
        "\n",
        "a['name'] = 'pey'\n",
        "a\n"
      ],
      "execution_count": 13,
      "outputs": [
        {
          "output_type": "execute_result",
          "data": {
            "text/plain": [
              "{1: 'a', 2: 'b', 'name': 'pey'}"
            ]
          },
          "metadata": {
            "tags": []
          },
          "execution_count": 13
        }
      ]
    },
    {
      "cell_type": "code",
      "metadata": {
        "id": "LOEHPVgcdsdD",
        "outputId": "c0a138d9-e0d8-4308-8bc9-4edcd2cb8dae",
        "colab": {
          "base_uri": "https://localhost:8080/"
        }
      },
      "source": [
        "a[3] = [1,2,3]\n",
        "a\n"
      ],
      "execution_count": 14,
      "outputs": [
        {
          "output_type": "execute_result",
          "data": {
            "text/plain": [
              "{1: 'a', 2: 'b', 3: [1, 2, 3], 'name': 'pey'}"
            ]
          },
          "metadata": {
            "tags": []
          },
          "execution_count": 14
        }
      ]
    },
    {
      "cell_type": "code",
      "metadata": {
        "id": "pzJdm4BAdy3O",
        "outputId": "287bc57a-cffe-4c7d-d7ff-3f901ac6e3d4",
        "colab": {
          "base_uri": "https://localhost:8080/"
        }
      },
      "source": [
        "#딕셔너리 요소 삭제하기\n",
        "'''\n",
        "딕셔너리 요소를 지우는 방법은\n",
        "del 함수를 사용해서 del a[key]처럼 입력하면 \n",
        "지정한 Key에 해당하는 {key : value} 쌍이 삭제된다.\n",
        "'''\n",
        "\n",
        "del a[1]\n",
        "a"
      ],
      "execution_count": 15,
      "outputs": [
        {
          "output_type": "execute_result",
          "data": {
            "text/plain": [
              "{2: 'b', 3: [1, 2, 3], 'name': 'pey'}"
            ]
          },
          "metadata": {
            "tags": []
          },
          "execution_count": 15
        }
      ]
    },
    {
      "cell_type": "markdown",
      "metadata": {
        "id": "oeAIsQCBeUAU"
      },
      "source": [
        "## **딕셔너리를 사용하는 방법**"
      ]
    },
    {
      "cell_type": "code",
      "metadata": {
        "id": "LibZRNwreVt1",
        "outputId": "cbeb60b7-510e-4ca7-83c6-84181e2dcc29",
        "colab": {
          "base_uri": "https://localhost:8080/"
        }
      },
      "source": [
        "'''\n",
        "어떤 Key의 Value를 얻기 위해서는 딕셔너리변수이름[Key]를 사용한다.\n",
        "'''\n",
        "\n",
        "grade = {'pey': 10, 'julliet': 99}\n",
        "grade['pey']\n"
      ],
      "execution_count": 17,
      "outputs": [
        {
          "output_type": "execute_result",
          "data": {
            "text/plain": [
              "10"
            ]
          },
          "metadata": {
            "tags": []
          },
          "execution_count": 17
        }
      ]
    },
    {
      "cell_type": "code",
      "metadata": {
        "id": "EZzvuA0beyvC",
        "outputId": "86e09d37-89d3-4e6b-c960-0162e8249404",
        "colab": {
          "base_uri": "https://localhost:8080/"
        }
      },
      "source": [
        "grade['julliet']"
      ],
      "execution_count": 18,
      "outputs": [
        {
          "output_type": "execute_result",
          "data": {
            "text/plain": [
              "99"
            ]
          },
          "metadata": {
            "tags": []
          },
          "execution_count": 18
        }
      ]
    },
    {
      "cell_type": "code",
      "metadata": {
        "id": "B6HNb0WsfBH5",
        "outputId": "e9522737-fdd1-4af5-858f-9a549eeb5ab7",
        "colab": {
          "base_uri": "https://localhost:8080/",
          "height": 36
        }
      },
      "source": [
        "a = {1:'a', 2:'b'}\n",
        "a[1]"
      ],
      "execution_count": 19,
      "outputs": [
        {
          "output_type": "execute_result",
          "data": {
            "application/vnd.google.colaboratory.intrinsic+json": {
              "type": "string"
            },
            "text/plain": [
              "'a'"
            ]
          },
          "metadata": {
            "tags": []
          },
          "execution_count": 19
        }
      ]
    },
    {
      "cell_type": "code",
      "metadata": {
        "id": "rKDwdpBUfEsq",
        "outputId": "4916d90a-5793-4215-f8ba-a39aafbc6199",
        "colab": {
          "base_uri": "https://localhost:8080/",
          "height": 36
        }
      },
      "source": [
        "a[2]"
      ],
      "execution_count": 20,
      "outputs": [
        {
          "output_type": "execute_result",
          "data": {
            "application/vnd.google.colaboratory.intrinsic+json": {
              "type": "string"
            },
            "text/plain": [
              "'b'"
            ]
          },
          "metadata": {
            "tags": []
          },
          "execution_count": 20
        }
      ]
    },
    {
      "cell_type": "code",
      "metadata": {
        "id": "ZWpiZ4M-fZzZ",
        "outputId": "09ead2cf-0682-4386-cfcc-f82603416988",
        "colab": {
          "base_uri": "https://localhost:8080/"
        }
      },
      "source": [
        "'''\n",
        "a라는 변수에 앞의 예에서 사용한 딕셔너리의 \n",
        "Key와 Value를 뒤집어 놓은 딕셔너리를 대입해 보자.\n",
        "'''\n",
        "a = {'a':1, 'b':2}\n",
        "a['a']\n"
      ],
      "execution_count": 21,
      "outputs": [
        {
          "output_type": "execute_result",
          "data": {
            "text/plain": [
              "1"
            ]
          },
          "metadata": {
            "tags": []
          },
          "execution_count": 21
        }
      ]
    },
    {
      "cell_type": "code",
      "metadata": {
        "id": "tLN2E1zvfrSA",
        "outputId": "eabb89b4-de4a-4125-cb01-24eecf45d09f",
        "colab": {
          "base_uri": "https://localhost:8080/"
        }
      },
      "source": [
        "a['b']"
      ],
      "execution_count": 22,
      "outputs": [
        {
          "output_type": "execute_result",
          "data": {
            "text/plain": [
              "2"
            ]
          },
          "metadata": {
            "tags": []
          },
          "execution_count": 22
        }
      ]
    },
    {
      "cell_type": "code",
      "metadata": {
        "id": "0JbNpjMWf0Dh",
        "outputId": "4213ac58-8163-4b5b-acd9-de2e10034761",
        "colab": {
          "base_uri": "https://localhost:8080/",
          "height": 36
        }
      },
      "source": [
        "'''\n",
        "딕셔너리인데 Key를 사용해서 Value를 얻는 방법\n",
        "'''\n",
        "dic = {'name':'pey', 'phone':'0119993323', 'birth': '1118'}\n",
        "dic['name']\n"
      ],
      "execution_count": 23,
      "outputs": [
        {
          "output_type": "execute_result",
          "data": {
            "application/vnd.google.colaboratory.intrinsic+json": {
              "type": "string"
            },
            "text/plain": [
              "'pey'"
            ]
          },
          "metadata": {
            "tags": []
          },
          "execution_count": 23
        }
      ]
    },
    {
      "cell_type": "code",
      "metadata": {
        "id": "1h7AwhJegE4Q",
        "outputId": "ca4e8fde-fef6-4675-b53c-4e344b0d29f3",
        "colab": {
          "base_uri": "https://localhost:8080/",
          "height": 36
        }
      },
      "source": [
        "dic['phone']"
      ],
      "execution_count": 24,
      "outputs": [
        {
          "output_type": "execute_result",
          "data": {
            "application/vnd.google.colaboratory.intrinsic+json": {
              "type": "string"
            },
            "text/plain": [
              "'0119993323'"
            ]
          },
          "metadata": {
            "tags": []
          },
          "execution_count": 24
        }
      ]
    },
    {
      "cell_type": "code",
      "metadata": {
        "id": "ZyNWoh-lgIow",
        "outputId": "40feb997-89d7-4f89-e33b-2f4558d84a92",
        "colab": {
          "base_uri": "https://localhost:8080/",
          "height": 36
        }
      },
      "source": [
        "dic['birth']\n"
      ],
      "execution_count": 25,
      "outputs": [
        {
          "output_type": "execute_result",
          "data": {
            "application/vnd.google.colaboratory.intrinsic+json": {
              "type": "string"
            },
            "text/plain": [
              "'1118'"
            ]
          },
          "metadata": {
            "tags": []
          },
          "execution_count": 25
        }
      ]
    },
    {
      "cell_type": "code",
      "metadata": {
        "id": "IZhgLMuagXFw",
        "outputId": "f4ff397b-af05-4468-f04d-68448f7e8bd0",
        "colab": {
          "base_uri": "https://localhost:8080/"
        }
      },
      "source": [
        "'''\n",
        "딕셔너리 만들 때 주의할 사항\n",
        "먼저 딕셔너리에서 Key는 고유한 값이므로 중복되는 Key 값을 \n",
        "설정해 놓으면 하나를 제외한 나머지 것들이 모두 무시된다는 \n",
        "점을 주의해야 한다. 다음 예에서 볼 수 있듯이 동일한 Key가 \n",
        "2개 존재할 경우 1:'a' 쌍이 무시된다.\n",
        "'''\n",
        "a = {1:'a', 1:'b'}\n",
        "a"
      ],
      "execution_count": 26,
      "outputs": [
        {
          "output_type": "execute_result",
          "data": {
            "text/plain": [
              "{1: 'b'}"
            ]
          },
          "metadata": {
            "tags": []
          },
          "execution_count": 26
        }
      ]
    },
    {
      "cell_type": "code",
      "metadata": {
        "id": "WTV4TTWXg3Ua",
        "outputId": "72eb6f99-bd33-4349-80c8-3c4df83500ea",
        "colab": {
          "base_uri": "https://localhost:8080/",
          "height": 139
        }
      },
      "source": [
        "'''\n",
        " 주의해야 할 사항은 Key에 리스트는 쓸 수 없다는 것이다. \n",
        " 하지만 튜플은 Key로 쓸 수 있다. 딕셔너리의 Key로 \n",
        " 쓸 수 있느냐 없느냐는 Key가 변하는 값인지 변하지 않는 \n",
        " 값인지에 달려 있다. 리스트는 그 값이 변할 수 있기 때문에 \n",
        " Key로 쓸 수 없다. 다음 예처럼 리스트를 Key로 설정하면 \n",
        " 리스트를 키 값으로 사용할 수 없다는 오류가 발생한다.\n",
        " '''\n",
        "\n",
        " a = {[1,2] : 'hi'}"
      ],
      "execution_count": 27,
      "outputs": [
        {
          "output_type": "error",
          "ename": "IndentationError",
          "evalue": "ignored",
          "traceback": [
            "\u001b[0;36m  File \u001b[0;32m\"<ipython-input-27-88179ff207cd>\"\u001b[0;36m, line \u001b[0;32m10\u001b[0m\n\u001b[0;31m    a = {[1,2] : 'hi'}\u001b[0m\n\u001b[0m    ^\u001b[0m\n\u001b[0;31mIndentationError\u001b[0m\u001b[0;31m:\u001b[0m unexpected indent\n"
          ]
        }
      ]
    },
    {
      "cell_type": "markdown",
      "metadata": {
        "id": "LGFDSMdWhLRG"
      },
      "source": [
        "## **딕셔너리 관련 함수들**"
      ]
    },
    {
      "cell_type": "code",
      "metadata": {
        "id": "4EgEBZeFhPeG",
        "outputId": "73e70755-66bb-44cd-a74e-173e7be8663e",
        "colab": {
          "base_uri": "https://localhost:8080/"
        }
      },
      "source": [
        "#Key 리스트 만들기(keys)\n",
        "'''\n",
        "a.keys()는 딕셔너리 a의 Key만을 모아서 dict_keys 객체를 돌려준다.\n",
        "'''\n",
        "a = {'name': 'pey', 'phone': '0119993323', 'birth': '1118'}\n",
        "a.keys()\n"
      ],
      "execution_count": 29,
      "outputs": [
        {
          "output_type": "execute_result",
          "data": {
            "text/plain": [
              "dict_keys(['name', 'phone', 'birth'])"
            ]
          },
          "metadata": {
            "tags": []
          },
          "execution_count": 29
        }
      ]
    },
    {
      "cell_type": "code",
      "metadata": {
        "id": "Louh8cKCiBEc",
        "outputId": "6d12b835-904c-4af8-92b0-677a8f185dd9",
        "colab": {
          "base_uri": "https://localhost:8080/"
        }
      },
      "source": [
        "'''\n",
        "dict_keys 객체는 다음과 같이 사용할 수 있다. \n",
        "리스트를 사용하는 것과 차이가 없지만, \n",
        "리스트 고유의 append, insert, pop, remove, sort 함수는 수행할 수 없다.\n",
        "'''\n",
        "\n",
        "for k in a.keys():\n",
        "  print(k)\n"
      ],
      "execution_count": 31,
      "outputs": [
        {
          "output_type": "stream",
          "text": [
            "name\n",
            "phone\n",
            "birth\n"
          ],
          "name": "stdout"
        }
      ]
    },
    {
      "cell_type": "code",
      "metadata": {
        "id": "eT4-BauEhdEP",
        "outputId": "f2f4ad95-3ffe-44b3-9051-2da6c381392f",
        "colab": {
          "base_uri": "https://localhost:8080/"
        }
      },
      "source": [
        "#dict_keys 객체를 리스트로 변환하려면 다음과 같이 하면 된다.\n",
        "#Value 리스트 만들기(values)\n",
        "\n",
        "a.values()"
      ],
      "execution_count": 32,
      "outputs": [
        {
          "output_type": "execute_result",
          "data": {
            "text/plain": [
              "dict_values(['pey', '0119993323', '1118'])"
            ]
          },
          "metadata": {
            "tags": []
          },
          "execution_count": 32
        }
      ]
    },
    {
      "cell_type": "code",
      "metadata": {
        "id": "Jz-ZWLs8i4F2",
        "outputId": "883c9705-5d7a-4bfa-b75d-3b27f1eed5aa",
        "colab": {
          "base_uri": "https://localhost:8080/"
        }
      },
      "source": [
        "#Key, Value 쌍 얻기(items)\n",
        "'''\n",
        "items 함수는 Key와 Value의 쌍을 튜플로 묶은 값을 \n",
        "dict_items 객체로 돌려준다. dict_values 객체와 \n",
        "dict_items 객체 역시 dict_keys 객체와 마찬가지로 \n",
        "리스트를 사용하는 것과 동일하게 사용할 수 있다.\n",
        "'''\n",
        "a.items()"
      ],
      "execution_count": 34,
      "outputs": [
        {
          "output_type": "execute_result",
          "data": {
            "text/plain": [
              "dict_items([('name', 'pey'), ('phone', '0119993323'), ('birth', '1118')])"
            ]
          },
          "metadata": {
            "tags": []
          },
          "execution_count": 34
        }
      ]
    },
    {
      "cell_type": "code",
      "metadata": {
        "id": "wy7s1GmxjyWC",
        "outputId": "0085dfa2-30df-4cf4-aa58-b84b3e0cbfc8",
        "colab": {
          "base_uri": "https://localhost:8080/"
        }
      },
      "source": [
        "#Key: Value 쌍 모두 지우기(clear)\n",
        "a.clear()\n",
        "a"
      ],
      "execution_count": 36,
      "outputs": [
        {
          "output_type": "execute_result",
          "data": {
            "text/plain": [
              "{}"
            ]
          },
          "metadata": {
            "tags": []
          },
          "execution_count": 36
        }
      ]
    },
    {
      "cell_type": "code",
      "metadata": {
        "id": "4zsHrl0dj47Z",
        "outputId": "c9835dbb-4505-4838-d67e-b4e205a197c7",
        "colab": {
          "base_uri": "https://localhost:8080/",
          "height": 36
        }
      },
      "source": [
        "#Key로 Value얻기(get)\n",
        "a = {'name':'pey', 'phone':'0119993323', 'birth': '1118'}\n",
        "a.get('name')\n"
      ],
      "execution_count": 37,
      "outputs": [
        {
          "output_type": "execute_result",
          "data": {
            "application/vnd.google.colaboratory.intrinsic+json": {
              "type": "string"
            },
            "text/plain": [
              "'pey'"
            ]
          },
          "metadata": {
            "tags": []
          },
          "execution_count": 37
        }
      ]
    },
    {
      "cell_type": "code",
      "metadata": {
        "id": "7sey9bFPkVXS",
        "outputId": "5f696ed7-d40c-4b70-ec6e-5103ce70f8b6",
        "colab": {
          "base_uri": "https://localhost:8080/",
          "height": 36
        }
      },
      "source": [
        "a.get('phone')"
      ],
      "execution_count": 38,
      "outputs": [
        {
          "output_type": "execute_result",
          "data": {
            "application/vnd.google.colaboratory.intrinsic+json": {
              "type": "string"
            },
            "text/plain": [
              "'0119993323'"
            ]
          },
          "metadata": {
            "tags": []
          },
          "execution_count": 38
        }
      ]
    },
    {
      "cell_type": "code",
      "metadata": {
        "id": "uuyZnWEHkiAf",
        "outputId": "c4549f02-4331-451f-d959-c7c4e715ee62",
        "colab": {
          "base_uri": "https://localhost:8080/",
          "height": 36
        }
      },
      "source": [
        "'''\n",
        "딕셔너리 안에 찾으려는 Key 값이 없을 경우 미리 정해 \n",
        "둔 디폴트 값을 대신 가져오게 하고 싶을 때에는 \n",
        "get(x, '디폴트 값')을 사용하면 편리하다.\n",
        "'''\n",
        "a.get('foo', 'bar') #a 딕셔너리에는 'foo'에 해당하는 값이 없다. 따라서 디폴트 값인 'bar'를 돌려준다."
      ],
      "execution_count": 40,
      "outputs": [
        {
          "output_type": "execute_result",
          "data": {
            "application/vnd.google.colaboratory.intrinsic+json": {
              "type": "string"
            },
            "text/plain": [
              "'bar'"
            ]
          },
          "metadata": {
            "tags": []
          },
          "execution_count": 40
        }
      ]
    },
    {
      "cell_type": "code",
      "metadata": {
        "id": "Der7KYtZkqsN",
        "outputId": "b005b6d7-8652-4e20-8b16-ddc15e4d5369",
        "colab": {
          "base_uri": "https://localhost:8080/"
        }
      },
      "source": [
        "#해당 Key가 딕셔너리 안에 있는지 조사하기(in)\n",
        "\n",
        "a = {'name':'pey', 'phone':'0119993323', 'birth': '1118'}\n",
        "'name' in a\n"
      ],
      "execution_count": 42,
      "outputs": [
        {
          "output_type": "execute_result",
          "data": {
            "text/plain": [
              "True"
            ]
          },
          "metadata": {
            "tags": []
          },
          "execution_count": 42
        }
      ]
    },
    {
      "cell_type": "code",
      "metadata": {
        "id": "xWh-CakrlDnh",
        "outputId": "015e51f5-1e96-4b6f-fcd9-a740d5ef1f7e",
        "colab": {
          "base_uri": "https://localhost:8080/"
        }
      },
      "source": [
        "'email' in a\n"
      ],
      "execution_count": 43,
      "outputs": [
        {
          "output_type": "execute_result",
          "data": {
            "text/plain": [
              "False"
            ]
          },
          "metadata": {
            "tags": []
          },
          "execution_count": 43
        }
      ]
    }
  ]
}