{
  "nbformat": 4,
  "nbformat_minor": 0,
  "metadata": {
    "colab": {
      "name": "자료형-2.ipynb",
      "provenance": [],
      "collapsed_sections": [],
      "authorship_tag": "ABX9TyP9BZ5EPR7qGiYA+KrA93wD",
      "include_colab_link": true
    },
    "kernelspec": {
      "name": "python3",
      "display_name": "Python 3"
    }
  },
  "cells": [
    {
      "cell_type": "markdown",
      "metadata": {
        "id": "view-in-github",
        "colab_type": "text"
      },
      "source": [
        "<a href=\"https://colab.research.google.com/github/chohyungrae/Python-Study-/blob/master/%EC%9E%90%EB%A3%8C%ED%98%95_2.ipynb\" target=\"_parent\"><img src=\"https://colab.research.google.com/assets/colab-badge.svg\" alt=\"Open In Colab\"/></a>"
      ]
    },
    {
      "cell_type": "code",
      "metadata": {
        "colab": {
          "base_uri": "https://localhost:8080/",
          "height": 35
        },
        "id": "kKRw2WmvwQMd",
        "outputId": "3da5b7c2-42b7-42e7-c7a1-bc6c9b8b2eef"
      },
      "source": [
        "'''참조사이트; [파이썬 기초 강의/20강 완성] 3강 기본 자료형\r\n",
        "https://www.youtube.com/watch?v=HMa5aCNkVrs&list=PLz2iXe7EqJOPWSzKBzMMqpZuMnrFrlO8x&index=4\r\n",
        "'''\r\n",
        "\r\n",
        "name='swplay'\r\n",
        "var1='재미있는 파이썬'\r\n",
        "var1.replace('파이썬', 'python') # replace는 바꾸기"
      ],
      "execution_count": 1,
      "outputs": [
        {
          "output_type": "execute_result",
          "data": {
            "application/vnd.google.colaboratory.intrinsic+json": {
              "type": "string"
            },
            "text/plain": [
              "'재미있는 python'"
            ]
          },
          "metadata": {
            "tags": []
          },
          "execution_count": 1
        }
      ]
    },
    {
      "cell_type": "code",
      "metadata": {
        "colab": {
          "base_uri": "https://localhost:8080/",
          "height": 35
        },
        "id": "eLoFx51Pw9Je",
        "outputId": "d5ed6027-508c-4117-b1c1-75333dd95960"
      },
      "source": [
        "name.upper() #upper()는 대문자로 바꾸기"
      ],
      "execution_count": 3,
      "outputs": [
        {
          "output_type": "execute_result",
          "data": {
            "application/vnd.google.colaboratory.intrinsic+json": {
              "type": "string"
            },
            "text/plain": [
              "'SWPLAY'"
            ]
          },
          "metadata": {
            "tags": []
          },
          "execution_count": 3
        }
      ]
    },
    {
      "cell_type": "code",
      "metadata": {
        "colab": {
          "base_uri": "https://localhost:8080/",
          "height": 35
        },
        "id": "bnpN-TQqxkhj",
        "outputId": "8fe6134b-b0de-4098-a265-caa3f498ec86"
      },
      "source": [
        "name.lower() #lower()는 소문자로 바꾸기"
      ],
      "execution_count": 5,
      "outputs": [
        {
          "output_type": "execute_result",
          "data": {
            "application/vnd.google.colaboratory.intrinsic+json": {
              "type": "string"
            },
            "text/plain": [
              "'swplay'"
            ]
          },
          "metadata": {
            "tags": []
          },
          "execution_count": 5
        }
      ]
    },
    {
      "cell_type": "code",
      "metadata": {
        "colab": {
          "base_uri": "https://localhost:8080/",
          "height": 204
        },
        "id": "9Jmb9Xcrx8oD",
        "outputId": "4cb97a8f-e1db-4bb8-94bd-49bbc725d010"
      },
      "source": [
        "a=10\r\n",
        "b='10'\r\n",
        "print(a+b)"
      ],
      "execution_count": 6,
      "outputs": [
        {
          "output_type": "error",
          "ename": "TypeError",
          "evalue": "ignored",
          "traceback": [
            "\u001b[0;31m---------------------------------------------------------------------------\u001b[0m",
            "\u001b[0;31mTypeError\u001b[0m                                 Traceback (most recent call last)",
            "\u001b[0;32m<ipython-input-6-190ea57609ac>\u001b[0m in \u001b[0;36m<module>\u001b[0;34m()\u001b[0m\n\u001b[1;32m      1\u001b[0m \u001b[0ma\u001b[0m\u001b[0;34m=\u001b[0m\u001b[0;36m10\u001b[0m\u001b[0;34m\u001b[0m\u001b[0;34m\u001b[0m\u001b[0m\n\u001b[1;32m      2\u001b[0m \u001b[0mb\u001b[0m\u001b[0;34m=\u001b[0m\u001b[0;34m'10'\u001b[0m\u001b[0;34m\u001b[0m\u001b[0;34m\u001b[0m\u001b[0m\n\u001b[0;32m----> 3\u001b[0;31m \u001b[0mprint\u001b[0m\u001b[0;34m(\u001b[0m\u001b[0ma\u001b[0m\u001b[0;34m+\u001b[0m\u001b[0mb\u001b[0m\u001b[0;34m)\u001b[0m\u001b[0;34m\u001b[0m\u001b[0;34m\u001b[0m\u001b[0m\n\u001b[0m",
            "\u001b[0;31mTypeError\u001b[0m: unsupported operand type(s) for +: 'int' and 'str'"
          ]
        }
      ]
    },
    {
      "cell_type": "code",
      "metadata": {
        "colab": {
          "base_uri": "https://localhost:8080/"
        },
        "id": "n6fOUOp6y4Au",
        "outputId": "e3eac733-ac16-4a0d-b652-9a56d0ccc62a"
      },
      "source": [
        "a=10\r\n",
        "b=int('10') #int 정수로 바꾸기\r\n",
        "print(a+b)"
      ],
      "execution_count": 7,
      "outputs": [
        {
          "output_type": "stream",
          "text": [
            "20\n"
          ],
          "name": "stdout"
        }
      ]
    },
    {
      "cell_type": "code",
      "metadata": {
        "colab": {
          "base_uri": "https://localhost:8080/"
        },
        "id": "-ZIGbWv2zB04",
        "outputId": "5ba93fcb-5654-40fc-c196-427cb79b124b"
      },
      "source": [
        "a=10\r\n",
        "b='10'\r\n",
        "print(a+int(b))#int 정수로 바꾸기"
      ],
      "execution_count": 9,
      "outputs": [
        {
          "output_type": "stream",
          "text": [
            "20\n"
          ],
          "name": "stdout"
        }
      ]
    },
    {
      "cell_type": "code",
      "metadata": {
        "colab": {
          "base_uri": "https://localhost:8080/"
        },
        "id": "DXnSQbY4zUhT",
        "outputId": "325949ef-cfa4-4bc1-f264-e069b55db679"
      },
      "source": [
        "a=10\r\n",
        "b='10'\r\n",
        "print(str(a)+b) #str은 문자로 바꾸기"
      ],
      "execution_count": 10,
      "outputs": [
        {
          "output_type": "stream",
          "text": [
            "1010\n"
          ],
          "name": "stdout"
        }
      ]
    },
    {
      "cell_type": "code",
      "metadata": {
        "colab": {
          "base_uri": "https://localhost:8080/"
        },
        "id": "bm3ZfL47z58o",
        "outputId": "659c17ce-19cd-4564-e05e-a9f0d0b99d55"
      },
      "source": [
        "'''complex #\r\n",
        "복소수(complex) 자료형입니다. 복소수는 다음과 같이 두가지 방법으로 정의 가능합니다.\r\n",
        "'''\r\n",
        "a = complex(1, 3)\r\n",
        "a\r\n"
      ],
      "execution_count": 1,
      "outputs": [
        {
          "output_type": "execute_result",
          "data": {
            "text/plain": [
              "(1+3j)"
            ]
          },
          "metadata": {
            "tags": []
          },
          "execution_count": 1
        }
      ]
    },
    {
      "cell_type": "code",
      "metadata": {
        "colab": {
          "base_uri": "https://localhost:8080/"
        },
        "id": "PMortn9cwypE",
        "outputId": "8a667802-7686-429b-c883-8b2271e3e047"
      },
      "source": [
        "type(a)\r\n"
      ],
      "execution_count": 2,
      "outputs": [
        {
          "output_type": "execute_result",
          "data": {
            "text/plain": [
              "complex"
            ]
          },
          "metadata": {
            "tags": []
          },
          "execution_count": 2
        }
      ]
    },
    {
      "cell_type": "code",
      "metadata": {
        "colab": {
          "base_uri": "https://localhost:8080/"
        },
        "id": "jklb_qtIw-Zf",
        "outputId": "eae99901-6086-4d90-fe63-4d531fb4cc33"
      },
      "source": [
        "a = 3-4j\r\n",
        "a\r\n"
      ],
      "execution_count": 3,
      "outputs": [
        {
          "output_type": "execute_result",
          "data": {
            "text/plain": [
              "(3-4j)"
            ]
          },
          "metadata": {
            "tags": []
          },
          "execution_count": 3
        }
      ]
    },
    {
      "cell_type": "code",
      "metadata": {
        "colab": {
          "base_uri": "https://localhost:8080/"
        },
        "id": "qMJ9_EyNxGV-",
        "outputId": "52e30cc2-6946-47a8-c0ab-03d7514a8f1f"
      },
      "source": [
        " type(a)\r\n"
      ],
      "execution_count": 4,
      "outputs": [
        {
          "output_type": "execute_result",
          "data": {
            "text/plain": [
              "complex"
            ]
          },
          "metadata": {
            "tags": []
          },
          "execution_count": 4
        }
      ]
    },
    {
      "cell_type": "code",
      "metadata": {
        "colab": {
          "base_uri": "https://localhost:8080/",
          "height": 35
        },
        "id": "KhWfDjENxdpp",
        "outputId": "dbb38c02-61c4-4a30-f0fc-54b1d22acf27"
      },
      "source": [
        "'''\r\n",
        "문자열(string)이란 문자의 집합을 의미합니다.\r\n",
        "'''\r\n",
        "a = 'this is a sentence'\r\n",
        "a"
      ],
      "execution_count": 5,
      "outputs": [
        {
          "output_type": "execute_result",
          "data": {
            "application/vnd.google.colaboratory.intrinsic+json": {
              "type": "string"
            },
            "text/plain": [
              "'this is a sentence'"
            ]
          },
          "metadata": {
            "tags": []
          },
          "execution_count": 5
        }
      ]
    },
    {
      "cell_type": "code",
      "metadata": {
        "id": "QeOd7BZIxlao"
      },
      "source": [
        "'''\r\n",
        "앞서 본 작은따옴표로 양쪽 둘러싸기 말고도 문자열 작성하는 방법은 다음과 같은 3가지 방식이 있습니다.\r\n",
        "'''\r\n",
        ">>> \"it is a string\" # 큰 따옴표로 감싸기\r\n",
        ">>> '''this is also a string''' # 작은 따옴표 3개를 연속으로 써서 감싸기\r\n",
        ">>> \"\"\"this is a string\"\"\" # 큰 따옴표 3개를 연속을 싸서 감싸기"
      ],
      "execution_count": null,
      "outputs": []
    },
    {
      "cell_type": "code",
      "metadata": {
        "colab": {
          "base_uri": "https://localhost:8080/",
          "height": 35
        },
        "id": "tXV8ZCXlx0hF",
        "outputId": "d80fd081-c721-4aca-deb3-2da219b15fd1"
      },
      "source": [
        "'''\r\n",
        "문자열 연산 \r\n",
        "문자열을 파이썬에서는 더하거나 곱할 수 있습니다.\r\n",
        "'''\r\n",
        "'let\\'s ' + 'add them up' # sting안에 '가 들어가는 경우 \\로 나가줘야 특수문자 인식이 됩니다.\r\n",
        "\r\n"
      ],
      "execution_count": 6,
      "outputs": [
        {
          "output_type": "execute_result",
          "data": {
            "application/vnd.google.colaboratory.intrinsic+json": {
              "type": "string"
            },
            "text/plain": [
              "\"let's add them up\""
            ]
          },
          "metadata": {
            "tags": []
          },
          "execution_count": 6
        }
      ]
    },
    {
      "cell_type": "code",
      "metadata": {
        "colab": {
          "base_uri": "https://localhost:8080/",
          "height": 35
        },
        "id": "rhHqaU5lx9aJ",
        "outputId": "fd1960ce-4370-41e8-b758-8b242378e882"
      },
      "source": [
        "'''\r\n",
        "예제와 같이 더하면 두 개의 문자열이 붙고 곱하면 곱한 수만큼 문자열이 반복됨을 알 수 있습니다.\r\n",
        "'''\r\n",
        "'repeat 3 times ' * 3"
      ],
      "execution_count": 9,
      "outputs": [
        {
          "output_type": "execute_result",
          "data": {
            "application/vnd.google.colaboratory.intrinsic+json": {
              "type": "string"
            },
            "text/plain": [
              "'repeat 3 times repeat 3 times repeat 3 times '"
            ]
          },
          "metadata": {
            "tags": []
          },
          "execution_count": 9
        }
      ]
    },
    {
      "cell_type": "code",
      "metadata": {
        "id": "zr63JJ95yELb"
      },
      "source": [
        "'''\r\n",
        "문자열 인덱싱과 슬라이싱 #\r\n",
        "문자열의 indexing과 slicing은 문자열을 편집하기에 좋은 테크닉입니다.\r\n",
        "\r\n",
        ">>> a = 'learning python is easy'\r\n",
        ">>> a[0] # a의 0번째 문자를 가져옵니다.\r\n",
        "'l'\r\n",
        ">>> a[-2] # a의 뒤에서 두번째 문자를 가져옵니다.\r\n",
        "'s'\r\n",
        ">>> a[9:15] # a의 9에서 15번째 문자를 가져옵니다.\r\n",
        "'python'\r\n",
        ">>> a[:] # a의 문자열 전체를 가져옵니다.\r\n",
        "'learning python is easy'\r\n",
        "'''"
      ],
      "execution_count": null,
      "outputs": []
    },
    {
      "cell_type": "code",
      "metadata": {
        "colab": {
          "base_uri": "https://localhost:8080/",
          "height": 35
        },
        "id": "_n4oNMY-y0FW",
        "outputId": "c9a4c2ef-eb8b-4fdf-a7e7-b732c1996477"
      },
      "source": [
        "'''\r\n",
        "formatting #\r\n",
        "문자열 내의 특정한 값을 바꿔야 할 시에는 formatting을 활용합니다.\r\n",
        "\r\n",
        "문자열 앞에 f를 쓰고 문자열 안에 변수를 받을 곳에 {변수이름}로 작성하면 \r\n",
        "변숫값을 받아 자동완성되는 문자열이 만들어집니다.\r\n",
        "'''\r\n",
        "temperature = 20\r\n",
        "f'Current temperature is {temperature} Celsius'\r\n"
      ],
      "execution_count": 10,
      "outputs": [
        {
          "output_type": "execute_result",
          "data": {
            "application/vnd.google.colaboratory.intrinsic+json": {
              "type": "string"
            },
            "text/plain": [
              "'Current temperature is 20 Celsius'"
            ]
          },
          "metadata": {
            "tags": []
          },
          "execution_count": 10
        }
      ]
    },
    {
      "cell_type": "code",
      "metadata": {
        "id": "QjEG8Z3GzHw0"
      },
      "source": [
        "'''\r\n",
        "관련함수 #\r\n",
        "문자열에도 자체적으로 가지고 있는 함수들이 있습니다. 이 중 많이 쓰는 몇 개를 소개하겠습니다.\r\n",
        "'''\r\n",
        ">>> a = 'learning python is EASY'\r\n",
        ">>> a.upper() # 문자열 대문자 변환\r\n",
        "'LEARNING PYTHON IS EASY\r\n",
        ">>> a.lower() # 문자열 소문자 변환\r\n",
        "'learning python is easy'\r\n"
      ],
      "execution_count": null,
      "outputs": []
    },
    {
      "cell_type": "code",
      "metadata": {
        "colab": {
          "base_uri": "https://localhost:8080/",
          "height": 35
        },
        "id": "HI-3RVjFzeFT",
        "outputId": "f93a2efc-81c2-4351-96e0-5fb4185628a8"
      },
      "source": [
        " a = 'learning python is EASY'\r\n",
        " a.replace('EASY', 'hard!') # 'easy'를 'hard'로 치환"
      ],
      "execution_count": 12,
      "outputs": [
        {
          "output_type": "execute_result",
          "data": {
            "application/vnd.google.colaboratory.intrinsic+json": {
              "type": "string"
            },
            "text/plain": [
              "'learning python is hard!'"
            ]
          },
          "metadata": {
            "tags": []
          },
          "execution_count": 12
        }
      ]
    },
    {
      "cell_type": "code",
      "metadata": {
        "colab": {
          "base_uri": "https://localhost:8080/"
        },
        "id": "Ha2jN6RHzmBZ",
        "outputId": "94fd9810-d3b7-4ec3-80a8-588bfa01db0b"
      },
      "source": [
        "a = 'learning python is EASY'\r\n",
        "a.split() # 공백을 기준으로 문자열 나누어 리스트로 리턴\r\n"
      ],
      "execution_count": 13,
      "outputs": [
        {
          "output_type": "execute_result",
          "data": {
            "text/plain": [
              "['learning', 'python', 'is', 'EASY']"
            ]
          },
          "metadata": {
            "tags": []
          },
          "execution_count": 13
        }
      ]
    },
    {
      "cell_type": "code",
      "metadata": {
        "id": "O6xhVvmrz4_7"
      },
      "source": [
        "'''\r\n",
        "리스트 인덱싱과 슬라이싱 #\r\n",
        "리스트도 문자열처럼 인덱싱과 슬라이싱이 가능합니다.\r\n",
        "'''\r\n",
        ">>> a[0]\r\n",
        "1\r\n",
        ">>> a[-1]\r\n",
        "['list', 'of', 'lists']\r\n",
        ">>> a[-1][2] # a 리스트 안의 요소인 리스트의 2번째 요소를 불러옵니다.\r\n",
        "'lists\r\n",
        ">>> a[:2] # 2번째 요소 까지 슬라이스\r\n",
        "[1, 3]"
      ],
      "execution_count": null,
      "outputs": []
    },
    {
      "cell_type": "code",
      "metadata": {
        "colab": {
          "base_uri": "https://localhost:8080/"
        },
        "id": "UUZZT07U0sbw",
        "outputId": "fce965fa-0301-453f-ac4f-7c816e930713"
      },
      "source": [
        "'''\r\n",
        "리스트 관련 함수들 #\r\n",
        "리스트에도 자체 함수들이 있습니다. 이 중 많이 쓰는 몇 가지를 소개하겠습니다.\r\n",
        "'''\r\n",
        "a = [1, 3, 4, 5, 2, 10]\r\n",
        "a.sort()\r\n",
        "a\r\n"
      ],
      "execution_count": 14,
      "outputs": [
        {
          "output_type": "execute_result",
          "data": {
            "text/plain": [
              "[1, 2, 3, 4, 5, 10]"
            ]
          },
          "metadata": {
            "tags": []
          },
          "execution_count": 14
        }
      ]
    },
    {
      "cell_type": "code",
      "metadata": {
        "colab": {
          "base_uri": "https://localhost:8080/"
        },
        "id": "oKQ4sdH802W8",
        "outputId": "5d64ff65-ab02-4598-ee2e-c37f1ca0a2a0"
      },
      "source": [
        "a.extend([11, 12]) # a 리스트에 extend함수 안의 리스트를 합쳐준다. extend는 요소가 아닌 리스트가 있어야 합니다.\r\n",
        "a \r\n"
      ],
      "execution_count": 15,
      "outputs": [
        {
          "output_type": "execute_result",
          "data": {
            "text/plain": [
              "[1, 2, 3, 4, 5, 10, 11, 12]"
            ]
          },
          "metadata": {
            "tags": []
          },
          "execution_count": 15
        }
      ]
    },
    {
      "cell_type": "code",
      "metadata": {
        "colab": {
          "base_uri": "https://localhost:8080/"
        },
        "id": "zhTy9WN608kj",
        "outputId": "ff25a5bb-1838-4d17-b5f4-467a22f190ce"
      },
      "source": [
        "a.append(13) # a에 13이라는 요소를 첨가합니다. extend와 달리 요소를 넣어줍니다.\r\n",
        "a\r\n"
      ],
      "execution_count": 16,
      "outputs": [
        {
          "output_type": "execute_result",
          "data": {
            "text/plain": [
              "[1, 2, 3, 4, 5, 10, 11, 12, 13]"
            ]
          },
          "metadata": {
            "tags": []
          },
          "execution_count": 16
        }
      ]
    },
    {
      "cell_type": "code",
      "metadata": {
        "colab": {
          "base_uri": "https://localhost:8080/"
        },
        "id": "UumBSZT91BAF",
        "outputId": "abab4e2b-7727-4d6e-e504-aac33ab807e4"
      },
      "source": [
        "\r\n",
        "a=[1, 2, 3, 4, 5, 10, 11, 12, 13]\r\n",
        "a.insert(5, 6) # a에 5번째 자리에 6을 집어넣습니다.\r\n",
        "a"
      ],
      "execution_count": 20,
      "outputs": [
        {
          "output_type": "execute_result",
          "data": {
            "text/plain": [
              "[1, 2, 3, 4, 5, 6, 10, 11, 12, 13]"
            ]
          },
          "metadata": {
            "tags": []
          },
          "execution_count": 20
        }
      ]
    },
    {
      "cell_type": "code",
      "metadata": {
        "id": "dnHXyrUT1GWn"
      },
      "source": [
        "'''\r\n",
        "튜플 자료형 #\r\n",
        "튜플의 형식은 리스트와 비슷하지만 두 가지 다른 점이 있습니다.\r\n",
        "\r\n",
        "리스트는 []로 감싸지만 튜플은 ()로 감쌉니다.\r\n",
        "리스트는 안의 요소들을 생성, 삭제, 수정이 가능하지만 튜플은 할 수 없습니다.\r\n",
        "튜플은 다음과 같이 생성할 수 있습니다.\r\n",
        "'''\r\n",
        "t = (1, 2, 3)\r\n",
        "t2 = (1, 2, 3, ('a', 'b', 'c')) # 리스트처럼 튜플안의 튜플이 가능합니다."
      ],
      "execution_count": 22,
      "outputs": []
    },
    {
      "cell_type": "code",
      "metadata": {
        "id": "BPuyE6qH15NP"
      },
      "source": [
        "'''\r\n",
        "슬라이싱, 더하기, 곱하기 #\r\n",
        "리스트처럼 함수로 다양하게 조작할 수 없는 튜플이지만 인덱싱과 슬라이싱은 가능합니다.\r\n",
        "\r\n",
        ">>> t[:2]\r\n",
        "(1, 2)\r\n",
        ">>> t + t1\r\n",
        "(1, 2, 3, 1, 2, 3, ('a', 'b', 'c'))\r\n",
        ">>> t * 3\r\n",
        "(1, 2, 3, 1, 2, 3, 1, 2, 3)\r\n",
        "'''"
      ],
      "execution_count": null,
      "outputs": []
    },
    {
      "cell_type": "code",
      "metadata": {
        "colab": {
          "base_uri": "https://localhost:8080/"
        },
        "id": "_WUGXEl03RNR",
        "outputId": "4623d31d-ecf2-4258-b654-883a2376eb2e"
      },
      "source": [
        "'''\r\n",
        "생성법 #\r\n",
        "딕셔너리는 다른 자료형과는 조금 다른 형태를 가지고 있습니다.\r\n",
        "\r\n",
        "딕셔너리의 key 값들은 key1, key2, key3이고 이에 해당되는 value들은 \r\n",
        "각각 value, 12323, 리스트 이렇게 다양한 자료형을 가질 수 있습니다. \r\n",
        "여기에 또 하나의 key와 값을 집어 넣으려면\r\n",
        "'''\r\n",
        "dict = {'key1': 'value', 'key2': 12323, 'key3': ['list', 'can', 'be', 'a', 'value']}\r\n",
        "\r\n",
        "\r\n",
        "dict['key4'] = ['here', 'is', 'another', 'value']\r\n",
        "dict"
      ],
      "execution_count": 25,
      "outputs": [
        {
          "output_type": "execute_result",
          "data": {
            "text/plain": [
              "{'key1': 'value',\n",
              " 'key2': 12323,\n",
              " 'key3': ['list', 'can', 'be', 'a', 'value'],\n",
              " 'key4': ['here', 'is', 'another', 'value']}"
            ]
          },
          "metadata": {
            "tags": []
          },
          "execution_count": 25
        }
      ]
    },
    {
      "cell_type": "code",
      "metadata": {
        "colab": {
          "base_uri": "https://localhost:8080/"
        },
        "id": "Iq3I0jhn3i5A",
        "outputId": "124eeeef-9b6a-44d5-e73e-33a712bd0124"
      },
      "source": [
        "#삭제도 다음과 같이 실행하면 됩니다.\r\n",
        "del dict['key1']\r\n",
        "dict\r\n"
      ],
      "execution_count": 26,
      "outputs": [
        {
          "output_type": "execute_result",
          "data": {
            "text/plain": [
              "{'key2': 12323,\n",
              " 'key3': ['list', 'can', 'be', 'a', 'value'],\n",
              " 'key4': ['here', 'is', 'another', 'value']}"
            ]
          },
          "metadata": {
            "tags": []
          },
          "execution_count": 26
        }
      ]
    },
    {
      "cell_type": "code",
      "metadata": {
        "colab": {
          "base_uri": "https://localhost:8080/"
        },
        "id": "dmZNsLUA35yY",
        "outputId": "3045f921-71c2-4cdd-c513-fd9a602e7713"
      },
      "source": [
        "'''\r\n",
        "사용법 #\r\n",
        "딕셔너리는 key 값으로 값을 불러오는 데에 사용됩니다. 이는 여러 요소들을 가지는 \r\n",
        "다른 자료형들과는 다른 사용법이며, 가장 큰 특징이기도 합니다.\r\n",
        "'''\r\n",
        "dict['key2']\r\n"
      ],
      "execution_count": 27,
      "outputs": [
        {
          "output_type": "execute_result",
          "data": {
            "text/plain": [
              "12323"
            ]
          },
          "metadata": {
            "tags": []
          },
          "execution_count": 27
        }
      ]
    },
    {
      "cell_type": "code",
      "metadata": {
        "id": "haO4RX8E4J2W"
      },
      "source": [
        "'''\r\n",
        "관련함수 #\r\n",
        "딕셔너리에도 마찬가지로 자체 함수들을 가지고 있습니다.\r\n",
        "\r\n",
        ">>> dict.keys() # 딕셔너리의 키값을 받습니다.\r\n",
        "dict_keys(['key2', 'key3', 'key4'])\r\n",
        ">>> dict.items() # key와 value의 매치된 dict_items 객채가 생성됩니다.\r\n",
        "dict_items([('key2', 12323), ('key3', ['list', 'can', 'be', 'a', 'value']), ('key4', ['here', 'is', 'another', 'value'])])\r\n",
        ">>> 'key2' in dict # dict안의 'key2'라는 키가 있는지 확인할 수 있습니다.\r\n",
        "True\r\n",
        ">>> 'key' in dict\r\n",
        "False\r\n",
        "'''"
      ],
      "execution_count": null,
      "outputs": []
    },
    {
      "cell_type": "code",
      "metadata": {
        "colab": {
          "base_uri": "https://localhost:8080/"
        },
        "id": "J2QvDsB-4sPa",
        "outputId": "44c90352-fba4-43c5-c19b-289f8c365b51"
      },
      "source": [
        "'''\r\n",
        "집합 생성 및 특징 #\r\n",
        "집합 (set)은 다음과 같이 생성이 됩니다.\r\n",
        "\r\n",
        "집합을 set()을 이용하여 생성하였습니다. 집합은 다음과 같은 특징을 가지고 있습니다.\r\n",
        "\r\n",
        "요소들이 unique하다. (중복이 되지 않는다)\r\n",
        "순서가 없다.\r\n",
        "이러한 특징 때문에 종종 list 안에 중복을 제거하는 용도로 사용하기도 합니다.\r\n",
        "'''\r\n",
        "\r\n",
        "s1 = set([1, 2, 2, 3, 4, 4, 4, 4,])\r\n",
        "s1\r\n"
      ],
      "execution_count": 56,
      "outputs": [
        {
          "output_type": "execute_result",
          "data": {
            "text/plain": [
              "{1, 2, 3, 4}"
            ]
          },
          "metadata": {
            "tags": []
          },
          "execution_count": 56
        }
      ]
    },
    {
      "cell_type": "code",
      "metadata": {
        "colab": {
          "base_uri": "https://localhost:8080/"
        },
        "id": "nmzfmxTQ8jdz",
        "outputId": "dfa7e598-ad37-47ae-93ad-5fcf6e7a5b22"
      },
      "source": [
        "\r\n",
        "s2 = set('hello123')\r\n",
        "s2\r\n"
      ],
      "execution_count": 57,
      "outputs": [
        {
          "output_type": "execute_result",
          "data": {
            "text/plain": [
              "{'1', '2', '3', 'e', 'h', 'l', 'o'}"
            ]
          },
          "metadata": {
            "tags": []
          },
          "execution_count": 57
        }
      ]
    },
    {
      "cell_type": "code",
      "metadata": {
        "id": "qR0KZdF443IR"
      },
      "source": [
        "'''\r\n",
        "관련 함수 #\r\n",
        "집합에도 다른 리스트처럼 기본적인 추가 삭제 관련 함수들이 있습니다.\r\n",
        "\r\n",
        ">>> s2.add(1)\r\n",
        ">>> s2\r\n",
        "{'o', '3', 1, 'e', '2', 'l', 'h', '1'}\r\n",
        ">>> s2.update([2, 3, 4, 5])\r\n",
        ">>> s2\r\n",
        "{'o', '3', 1, 2, 'e', 3, 4, 5, '2', 'l', 'h', '1'}\r\n",
        ">>> s2.remove(3)\r\n",
        ">>> s2\r\n",
        "{'o', '3', 1, 2, 'e', 4, 5, '2', 'l', 'h', '1'}\r\n",
        "'''"
      ],
      "execution_count": null,
      "outputs": []
    },
    {
      "cell_type": "code",
      "metadata": {
        "colab": {
          "base_uri": "https://localhost:8080/"
        },
        "id": "_qpL8S_w5CyJ",
        "outputId": "c1ac2f45-f96a-4c5c-be1f-55883cfd503e"
      },
      "source": [
        "'''\r\n",
        "관련 함수 #\r\n",
        "집합에도 다른 리스트처럼 기본적인 추가 삭제 관련 함수들이 있습니다.\r\n",
        "'''\r\n",
        "\r\n",
        "s2 = set('0,2,3')\r\n",
        "s2.add(1)\r\n",
        "s2\r\n",
        "\r\n"
      ],
      "execution_count": 33,
      "outputs": [
        {
          "output_type": "execute_result",
          "data": {
            "text/plain": [
              "{',', '0', 1, '2', '3'}"
            ]
          },
          "metadata": {
            "tags": []
          },
          "execution_count": 33
        }
      ]
    },
    {
      "cell_type": "code",
      "metadata": {
        "colab": {
          "base_uri": "https://localhost:8080/"
        },
        "id": "1V2mosEr5Rze",
        "outputId": "52037b0f-92b3-44cd-c06a-83ede0c7dffd"
      },
      "source": [
        "s2 = set('hello123')\r\n",
        "s2\r\n"
      ],
      "execution_count": 34,
      "outputs": [
        {
          "output_type": "execute_result",
          "data": {
            "text/plain": [
              "{'1', '2', '3', 'e', 'h', 'l', 'o'}"
            ]
          },
          "metadata": {
            "tags": []
          },
          "execution_count": 34
        }
      ]
    },
    {
      "cell_type": "code",
      "metadata": {
        "id": "wp_97G3p5_Ux"
      },
      "source": [
        "'''\r\n",
        "집합을 set()을 이용하여 생성하였습니다. 집합은 다음과 같은 특징을 가지고 있습니다.\r\n",
        "\r\n",
        "요소들이 unique하다. (중복이 되지 않는다)\r\n",
        "순서가 없다.\r\n",
        "이러한 특징 때문에 종종 list 안에 중복을 제거하는 용도로 사용하기도 합니다.\r\n",
        "'''"
      ],
      "execution_count": null,
      "outputs": []
    },
    {
      "cell_type": "code",
      "metadata": {
        "colab": {
          "base_uri": "https://localhost:8080/"
        },
        "id": "oLp7bWH-6OZI",
        "outputId": "ae4adfda-4b7f-422c-e5bf-7996ab28e257"
      },
      "source": [
        "'''\r\n",
        "관련 함수 #\r\n",
        "집합에도 다른 리스트처럼 기본적인 추가 삭제 관련 함수들이 있습니다.\r\n",
        "'''\r\n",
        "s2=set('0,2,3')\r\n",
        "s2.add(1)\r\n",
        "s2\r\n"
      ],
      "execution_count": 41,
      "outputs": [
        {
          "output_type": "execute_result",
          "data": {
            "text/plain": [
              "{',', '0', 1, '2', '3'}"
            ]
          },
          "metadata": {
            "tags": []
          },
          "execution_count": 41
        }
      ]
    },
    {
      "cell_type": "code",
      "metadata": {
        "colab": {
          "base_uri": "https://localhost:8080/"
        },
        "id": "5p-Y0yAG6Zls",
        "outputId": "2760b764-7dfe-4d8f-ed8d-866fc9dc6bac"
      },
      "source": [
        "s2.update([4,5,6])\r\n",
        "s2\r\n"
      ],
      "execution_count": 44,
      "outputs": [
        {
          "output_type": "execute_result",
          "data": {
            "text/plain": [
              "{',', '0', 1, '2', '3', 4, 5, 6}"
            ]
          },
          "metadata": {
            "tags": []
          },
          "execution_count": 44
        }
      ]
    },
    {
      "cell_type": "code",
      "metadata": {
        "colab": {
          "base_uri": "https://localhost:8080/"
        },
        "id": "V4ol76Nh6mgm",
        "outputId": "2cdd6691-e2e6-4d82-87ee-775706dee558"
      },
      "source": [
        "s2.remove(4)\r\n",
        "s2"
      ],
      "execution_count": 46,
      "outputs": [
        {
          "output_type": "execute_result",
          "data": {
            "text/plain": [
              "{',', '0', 1, '2', '3', 5, 6}"
            ]
          },
          "metadata": {
            "tags": []
          },
          "execution_count": 46
        }
      ]
    },
    {
      "cell_type": "code",
      "metadata": {
        "colab": {
          "base_uri": "https://localhost:8080/"
        },
        "id": "rJTdiv9g7Ivy",
        "outputId": "14750191-870a-4baa-a674-5fa069455e57"
      },
      "source": [
        "'''\r\n",
        "활용법 #\r\n",
        "이름이 집합인 만큼 교집합, 합집합, 차집합 등 집합 연산을 다음과 같이 수행할 수 있습니다.\r\n",
        "'''\r\n",
        "s1 = set([1, 2, 3, 4, 5,])\r\n",
        "s2 = set([1,7])\r\n",
        "s1 & s2 # s1과 s2의 교집합\r\n"
      ],
      "execution_count": 62,
      "outputs": [
        {
          "output_type": "execute_result",
          "data": {
            "text/plain": [
              "{1}"
            ]
          },
          "metadata": {
            "tags": []
          },
          "execution_count": 62
        }
      ]
    },
    {
      "cell_type": "code",
      "metadata": {
        "colab": {
          "base_uri": "https://localhost:8080/"
        },
        "id": "6q4V4HPo7d7P",
        "outputId": "74ed202e-716f-4d2d-e37c-2094fab697a8"
      },
      "source": [
        "s1 | s2 # s1과 s2의 합집합\r\n"
      ],
      "execution_count": 63,
      "outputs": [
        {
          "output_type": "execute_result",
          "data": {
            "text/plain": [
              "{1, 2, 3, 4, 5, 7}"
            ]
          },
          "metadata": {
            "tags": []
          },
          "execution_count": 63
        }
      ]
    },
    {
      "cell_type": "code",
      "metadata": {
        "colab": {
          "base_uri": "https://localhost:8080/"
        },
        "id": "cNxsNnAA9UgI",
        "outputId": "c496e2db-293d-4fb2-917c-4c6e1b6edbd6"
      },
      "source": [
        "s1 - s2 # s1과 s2의 차집합\r\n"
      ],
      "execution_count": 64,
      "outputs": [
        {
          "output_type": "execute_result",
          "data": {
            "text/plain": [
              "{2, 3, 4, 5}"
            ]
          },
          "metadata": {
            "tags": []
          },
          "execution_count": 64
        }
      ]
    },
    {
      "cell_type": "code",
      "metadata": {
        "id": "C2jwOVIM9YR3"
      },
      "source": [
        ""
      ],
      "execution_count": null,
      "outputs": []
    }
  ]
}