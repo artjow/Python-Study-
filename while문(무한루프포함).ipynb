{
  "nbformat": 4,
  "nbformat_minor": 0,
  "metadata": {
    "colab": {
      "name": "while문(무한루프포함).ipynb",
      "provenance": [],
      "authorship_tag": "ABX9TyM6t+4clcc0MlwdLIR4JgP2",
      "include_colab_link": true
    },
    "kernelspec": {
      "name": "python3",
      "display_name": "Python 3"
    }
  },
  "cells": [
    {
      "cell_type": "markdown",
      "metadata": {
        "id": "view-in-github",
        "colab_type": "text"
      },
      "source": [
        "<a href=\"https://colab.research.google.com/github/chohyungrae/Python-Study-/blob/master/while%EB%AC%B8(%EB%AC%B4%ED%95%9C%EB%A3%A8%ED%94%84%ED%8F%AC%ED%95%A8).ipynb\" target=\"_parent\"><img src=\"https://colab.research.google.com/assets/colab-badge.svg\" alt=\"Open In Colab\"/></a>"
      ]
    },
    {
      "cell_type": "code",
      "metadata": {
        "id": "WscjogZZZvG0"
      },
      "source": [
        "https://wikidocs.net/21"
      ],
      "execution_count": null,
      "outputs": []
    },
    {
      "cell_type": "code",
      "metadata": {
        "id": "wtJ5JNRLZHRH"
      },
      "source": [
        "반복해서 문장을 수행해야 할 경우 while문을 사용한다. \r\n",
        "그래서 while문을 반복문이라고도 부른다.\r\n",
        "\r\n",
        "다음은 while문의 기본 구조이다.\r\n",
        "while <조건문>:\r\n",
        "    <수행할 문장1>\r\n",
        "    <수행할 문장2>\r\n",
        "    <수행할 문장3>\r\n",
        "    ..."
      ],
      "execution_count": null,
      "outputs": []
    },
    {
      "cell_type": "code",
      "metadata": {
        "id": "G16t4nJtZosq"
      },
      "source": [
        "while문은 조건문이 참인 동안에 while문 아래의 문장이 반복해서 수행된다.\r\n",
        "\r\n",
        "\"열 번 찍어 안 넘어가는 나무 없다\"는 속담을 파이썬 프로그램으로 만든다면 \r\n",
        "다음과 같이 될 것이다."
      ],
      "execution_count": null,
      "outputs": []
    },
    {
      "cell_type": "code",
      "metadata": {
        "colab": {
          "base_uri": "https://localhost:8080/"
        },
        "id": "vI5Ub9elZ5_A",
        "outputId": "3aa7ef4f-8707-426a-e815-b7e74d6c720d"
      },
      "source": [
        "treeHit = 0\r\n",
        "while treeHit < 10:\r\n",
        "  treeHit = treeHit +1\r\n",
        "  print(\"나무를 %d번 찍었습니다.\" %treeHit)\r\n",
        "  if treeHit == 10:\r\n",
        "    print(\"나무 넘어갑니다.\")"
      ],
      "execution_count": 2,
      "outputs": [
        {
          "output_type": "stream",
          "text": [
            "나무를 1번 찍었습니다.\n",
            "나무를 2번 찍었습니다.\n",
            "나무를 3번 찍었습니다.\n",
            "나무를 4번 찍었습니다.\n",
            "나무를 5번 찍었습니다.\n",
            "나무를 6번 찍었습니다.\n",
            "나무를 7번 찍었습니다.\n",
            "나무를 8번 찍었습니다.\n",
            "나무를 9번 찍었습니다.\n",
            "나무를 10번 찍었습니다.\n",
            "나무 넘어갑니다.\n"
          ],
          "name": "stdout"
        }
      ]
    },
    {
      "cell_type": "code",
      "metadata": {
        "id": "Xz-lUH52aUc0"
      },
      "source": [
        "'''\r\n",
        "위 예에서 while문의 조건문은 treeHit < 10이다. 즉 treeHit가 10보다 작은 동안에 \r\n",
        "while문 안의 문장을 계속 수행한다. whlie문 안의 문장을 보면 제일 먼저 \r\n",
        "treeHit = treeHit + 1로 treeHit 값이 계속 1씩 증가한다. 그리고 나무를 \r\n",
        "treeHit번만큼 찍었음을 알리는 문장을 출력하고 treeHit가 10이 되면 \"나무 넘어갑니다.\"\r\n",
        "라는 문장을 출력한다. 그러고 나면 treeHit < 10 조건문이 거짓이 되므로 \r\n",
        "while문을 빠져나가게 된다.\r\n",
        "'''"
      ],
      "execution_count": null,
      "outputs": []
    },
    {
      "cell_type": "code",
      "metadata": {
        "id": "QE5YrvJra041"
      },
      "source": [
        "'''\r\n",
        "※ treeHit = treeHit + 1은 프로그래밍을 할 때 매우 자주 사용하는 기법이다. \r\n",
        "treeHit 값을 1만큼씩 증가시킬 목적으로 사용하며, treeHit += 1 처럼 사용하기도 한다.\r\n",
        "'''"
      ],
      "execution_count": null,
      "outputs": []
    },
    {
      "cell_type": "markdown",
      "metadata": {
        "id": "loaezpv9bPFe"
      },
      "source": [
        "#while문 만들기"
      ]
    },
    {
      "cell_type": "code",
      "metadata": {
        "id": "0grGnKFzbRmg"
      },
      "source": [
        "prompt = \"\"\"\r\n",
        " 1.Add\r\n",
        " 2.Del\r\n",
        " 3.List\r\n",
        " 4.Quit\r\n",
        "\r\n",
        " Enter number:\"\"\""
      ],
      "execution_count": 3,
      "outputs": []
    },
    {
      "cell_type": "code",
      "metadata": {
        "id": "kMiQ9bULbkEc"
      },
      "source": [
        "#이어서 number 변수에 0을 먼저 대입한다. 이렇게 변수를 먼저 설정해 놓지 않으면\r\n",
        "#다음에 나올 while문의 조건문인 \r\n",
        "#number != 4에서 변수가 존재하지 않는다는 오류가 발생한다."
      ],
      "execution_count": null,
      "outputs": []
    },
    {
      "cell_type": "code",
      "metadata": {
        "colab": {
          "base_uri": "https://localhost:8080/"
        },
        "id": "WEpeS-W1b4wt",
        "outputId": "27d8770a-907a-44b4-ef17-ae972f62e1e9"
      },
      "source": [
        "number = 0\r\n",
        "while number != 4:\r\n",
        "  print(prompt)\r\n",
        "  number = int(input())"
      ],
      "execution_count": 5,
      "outputs": [
        {
          "output_type": "stream",
          "text": [
            "\n",
            " 1.Add\n",
            " 2.Del\n",
            " 3.List\n",
            " 4.Quit\n",
            "\n",
            " Enter number:\n",
            "3\n",
            "\n",
            " 1.Add\n",
            " 2.Del\n",
            " 3.List\n",
            " 4.Quit\n",
            "\n",
            " Enter number:\n",
            "4\n"
          ],
          "name": "stdout"
        }
      ]
    },
    {
      "cell_type": "code",
      "metadata": {
        "id": "2D4S-AadcE8R"
      },
      "source": [
        "'''\r\n",
        "while문을 보면 number가 4가 아닌 동안 prompt를 출력하고 \r\n",
        "사용자로부터 번호를 입력받는다. 다음 결과 화면처럼 \r\n",
        "사용자가 값 4를 입력하지 않으면 계속해서 prompt를 출력한다.\r\n",
        "4를 입력하면 조건문이 거짓이 되어 while문을 빠져나가게 된다.\r\n",
        "'''"
      ],
      "execution_count": null,
      "outputs": []
    },
    {
      "cell_type": "code",
      "metadata": {
        "id": "tRJn8VQtcZg5"
      },
      "source": [
        "# while문 강제로 빠져나가기\r\n",
        "while문은 조건문이 참인 동안 계속해서 while문 안의 내용을 반복적으로 수행한다. \r\n",
        "하지만 강제로 while문을 빠져나가고 싶을 때가 있다. \r\n",
        "예를 들어 커피 자판기를 생각해 보자. 자판기 안에 커피가 충분히 있을 때에는 \r\n",
        "동전을 넣으면 커피가 나온다. 그런데 자판기가 제대로 작동하려면 커피가 얼마나 \r\n",
        "남았는지 항상 검사해야 한다. 만약 커피가 떨어졌다면 판매를 중단하고 \"판매 중지\" \r\n",
        "문구를 사용자에게 보여주어야 한다. 이렇게 판매를 강제로 멈추게 하는 것이 \r\n",
        "바로 break문이다."
      ],
      "execution_count": null,
      "outputs": []
    },
    {
      "cell_type": "code",
      "metadata": {
        "colab": {
          "base_uri": "https://localhost:8080/"
        },
        "id": "lweomZ3uc9hX",
        "outputId": "e7164184-a650-4787-af01-f5c41cdef6cd"
      },
      "source": [
        "coffee = 10\r\n",
        "money = 300\r\n",
        "while money:\r\n",
        "  print(\"돈을 받았으니 커피를 줍니다.\")\r\n",
        "  coffee = coffee -1\r\n",
        "  print(\"남은 커피의 양은 %d개입니다.\" %coffee)\r\n",
        "  if coffee == 0:\r\n",
        "    print(\"커피가 다 떨어졌습니다. 판매를 중지합니다.\")\r\n",
        "    break"
      ],
      "execution_count": 6,
      "outputs": [
        {
          "output_type": "stream",
          "text": [
            "돈을 받았으니 커피를 줍니다.\n",
            "남은 커피의 양은 9개입니다.\n",
            "돈을 받았으니 커피를 줍니다.\n",
            "남은 커피의 양은 8개입니다.\n",
            "돈을 받았으니 커피를 줍니다.\n",
            "남은 커피의 양은 7개입니다.\n",
            "돈을 받았으니 커피를 줍니다.\n",
            "남은 커피의 양은 6개입니다.\n",
            "돈을 받았으니 커피를 줍니다.\n",
            "남은 커피의 양은 5개입니다.\n",
            "돈을 받았으니 커피를 줍니다.\n",
            "남은 커피의 양은 4개입니다.\n",
            "돈을 받았으니 커피를 줍니다.\n",
            "남은 커피의 양은 3개입니다.\n",
            "돈을 받았으니 커피를 줍니다.\n",
            "남은 커피의 양은 2개입니다.\n",
            "돈을 받았으니 커피를 줍니다.\n",
            "남은 커피의 양은 1개입니다.\n",
            "돈을 받았으니 커피를 줍니다.\n",
            "남은 커피의 양은 0개입니다.\n",
            "커피가 다 떨어졌습니다. 판매를 중지합니다.\n"
          ],
          "name": "stdout"
        }
      ]
    },
    {
      "cell_type": "code",
      "metadata": {
        "id": "1fF7ao5ydh2M"
      },
      "source": [
        "'''\r\n",
        "money가 300으로 고정되어 있으므로 while money:에서 조건문인 money는 0이 아니기 \r\n",
        "때문에 항상 참이다. 따라서 무한히 반복되는 무한 루프를 돌게 된다. \r\n",
        "그리고 while문의 내용을 한 번 수행할 때마다 coffee = coffee - 1에 의해서 \r\n",
        "coffee의 개수가 1개씩 줄어든다. 만약 coffee가 0이 되면 if coffee == 0: 문장에서 \r\n",
        "coffee == 0:이 참이 되므로 if문 다음 문장 \"커피가 다 떨어졌습니다. \r\n",
        "판매를 중지합니다.\"가 수행되고 break문이 호출되어 while문을 빠져나가게 된다.\r\n",
        "'''"
      ],
      "execution_count": null,
      "outputs": []
    },
    {
      "cell_type": "code",
      "metadata": {
        "colab": {
          "base_uri": "https://localhost:8080/",
          "height": 891
        },
        "id": "T2ummzyxd6dc",
        "outputId": "11728875-0115-4126-9467-97b5e0a810d7"
      },
      "source": [
        "#coffee.py\r\n",
        "\r\n",
        "coffee = 10\r\n",
        "while True:\r\n",
        "  money = int(input(\"돈을 넣어 주세요\"))\r\n",
        "  if money == 300:\r\n",
        "    print(\"커피를 줍니다.\")\r\n",
        "    coffee = coffee -1\r\n",
        "  elif money > 300:\r\n",
        "    print(\"거스름돈 %d를 주고 커피를 줍니다.\" %(money -300))\r\n",
        "    coffee = coffee -1\r\n",
        "  else:\r\n",
        "    print(\"돈을 다시 돌려주고 커피를 주지 않습니다\")\r\n",
        "    print(\"남은 커피의 양은 %d개 입니다.\" %coffee)\r\n",
        "  if coffee == 0:\r\n",
        "    print(\"커피가 다 떨어졌습니다. 판매를 중지 합니다.\")\r\n",
        "    break"
      ],
      "execution_count": 8,
      "outputs": [
        {
          "output_type": "stream",
          "text": [
            "돈을 넣어 주세요100\n",
            "돈을 다시 돌려주고 커피를 주지 않습니다\n",
            "남은 커피의 양은 10개 입니다.\n",
            "돈을 넣어 주세요300\n",
            "커피를 줍니다.\n",
            "돈을 넣어 주세요1000\n",
            "거스름돈 700를 주고 커피를 줍니다.\n",
            "돈을 넣어 주세요0\n",
            "돈을 다시 돌려주고 커피를 주지 않습니다\n",
            "남은 커피의 양은 8개 입니다.\n",
            "돈을 넣어 주세요500\n",
            "거스름돈 200를 주고 커피를 줍니다.\n",
            "돈을 넣어 주세요10000\n",
            "거스름돈 9700를 주고 커피를 줍니다.\n",
            "돈을 넣어 주세요0\n",
            "돈을 다시 돌려주고 커피를 주지 않습니다\n",
            "남은 커피의 양은 6개 입니다.\n"
          ],
          "name": "stdout"
        },
        {
          "output_type": "error",
          "ename": "KeyboardInterrupt",
          "evalue": "ignored",
          "traceback": [
            "\u001b[0;31m---------------------------------------------------------------------------\u001b[0m",
            "\u001b[0;31mKeyboardInterrupt\u001b[0m                         Traceback (most recent call last)",
            "\u001b[0;32m/usr/local/lib/python3.7/dist-packages/ipykernel/kernelbase.py\u001b[0m in \u001b[0;36m_input_request\u001b[0;34m(self, prompt, ident, parent, password)\u001b[0m\n\u001b[1;32m    728\u001b[0m             \u001b[0;32mtry\u001b[0m\u001b[0;34m:\u001b[0m\u001b[0;34m\u001b[0m\u001b[0;34m\u001b[0m\u001b[0m\n\u001b[0;32m--> 729\u001b[0;31m                 \u001b[0mident\u001b[0m\u001b[0;34m,\u001b[0m \u001b[0mreply\u001b[0m \u001b[0;34m=\u001b[0m \u001b[0mself\u001b[0m\u001b[0;34m.\u001b[0m\u001b[0msession\u001b[0m\u001b[0;34m.\u001b[0m\u001b[0mrecv\u001b[0m\u001b[0;34m(\u001b[0m\u001b[0mself\u001b[0m\u001b[0;34m.\u001b[0m\u001b[0mstdin_socket\u001b[0m\u001b[0;34m,\u001b[0m \u001b[0;36m0\u001b[0m\u001b[0;34m)\u001b[0m\u001b[0;34m\u001b[0m\u001b[0;34m\u001b[0m\u001b[0m\n\u001b[0m\u001b[1;32m    730\u001b[0m             \u001b[0;32mexcept\u001b[0m \u001b[0mException\u001b[0m\u001b[0;34m:\u001b[0m\u001b[0;34m\u001b[0m\u001b[0;34m\u001b[0m\u001b[0m\n",
            "\u001b[0;32m/usr/local/lib/python3.7/dist-packages/jupyter_client/session.py\u001b[0m in \u001b[0;36mrecv\u001b[0;34m(self, socket, mode, content, copy)\u001b[0m\n\u001b[1;32m    802\u001b[0m         \u001b[0;32mtry\u001b[0m\u001b[0;34m:\u001b[0m\u001b[0;34m\u001b[0m\u001b[0;34m\u001b[0m\u001b[0m\n\u001b[0;32m--> 803\u001b[0;31m             \u001b[0mmsg_list\u001b[0m \u001b[0;34m=\u001b[0m \u001b[0msocket\u001b[0m\u001b[0;34m.\u001b[0m\u001b[0mrecv_multipart\u001b[0m\u001b[0;34m(\u001b[0m\u001b[0mmode\u001b[0m\u001b[0;34m,\u001b[0m \u001b[0mcopy\u001b[0m\u001b[0;34m=\u001b[0m\u001b[0mcopy\u001b[0m\u001b[0;34m)\u001b[0m\u001b[0;34m\u001b[0m\u001b[0;34m\u001b[0m\u001b[0m\n\u001b[0m\u001b[1;32m    804\u001b[0m         \u001b[0;32mexcept\u001b[0m \u001b[0mzmq\u001b[0m\u001b[0;34m.\u001b[0m\u001b[0mZMQError\u001b[0m \u001b[0;32mas\u001b[0m \u001b[0me\u001b[0m\u001b[0;34m:\u001b[0m\u001b[0;34m\u001b[0m\u001b[0;34m\u001b[0m\u001b[0m\n",
            "\u001b[0;32m/usr/local/lib/python3.7/dist-packages/zmq/sugar/socket.py\u001b[0m in \u001b[0;36mrecv_multipart\u001b[0;34m(self, flags, copy, track)\u001b[0m\n\u001b[1;32m    582\u001b[0m         \"\"\"\n\u001b[0;32m--> 583\u001b[0;31m         \u001b[0mparts\u001b[0m \u001b[0;34m=\u001b[0m \u001b[0;34m[\u001b[0m\u001b[0mself\u001b[0m\u001b[0;34m.\u001b[0m\u001b[0mrecv\u001b[0m\u001b[0;34m(\u001b[0m\u001b[0mflags\u001b[0m\u001b[0;34m,\u001b[0m \u001b[0mcopy\u001b[0m\u001b[0;34m=\u001b[0m\u001b[0mcopy\u001b[0m\u001b[0;34m,\u001b[0m \u001b[0mtrack\u001b[0m\u001b[0;34m=\u001b[0m\u001b[0mtrack\u001b[0m\u001b[0;34m)\u001b[0m\u001b[0;34m]\u001b[0m\u001b[0;34m\u001b[0m\u001b[0;34m\u001b[0m\u001b[0m\n\u001b[0m\u001b[1;32m    584\u001b[0m         \u001b[0;31m# have first part already, only loop while more to receive\u001b[0m\u001b[0;34m\u001b[0m\u001b[0;34m\u001b[0m\u001b[0;34m\u001b[0m\u001b[0m\n",
            "\u001b[0;32mzmq/backend/cython/socket.pyx\u001b[0m in \u001b[0;36mzmq.backend.cython.socket.Socket.recv\u001b[0;34m()\u001b[0m\n",
            "\u001b[0;32mzmq/backend/cython/socket.pyx\u001b[0m in \u001b[0;36mzmq.backend.cython.socket.Socket.recv\u001b[0;34m()\u001b[0m\n",
            "\u001b[0;32mzmq/backend/cython/socket.pyx\u001b[0m in \u001b[0;36mzmq.backend.cython.socket._recv_copy\u001b[0;34m()\u001b[0m\n",
            "\u001b[0;32m/usr/local/lib/python3.7/dist-packages/zmq/backend/cython/checkrc.pxd\u001b[0m in \u001b[0;36mzmq.backend.cython.checkrc._check_rc\u001b[0;34m()\u001b[0m\n",
            "\u001b[0;31mKeyboardInterrupt\u001b[0m: ",
            "\nDuring handling of the above exception, another exception occurred:\n",
            "\u001b[0;31mKeyboardInterrupt\u001b[0m                         Traceback (most recent call last)",
            "\u001b[0;32m<ipython-input-8-e94b69a956cc>\u001b[0m in \u001b[0;36m<module>\u001b[0;34m()\u001b[0m\n\u001b[1;32m      3\u001b[0m \u001b[0mcoffee\u001b[0m \u001b[0;34m=\u001b[0m \u001b[0;36m10\u001b[0m\u001b[0;34m\u001b[0m\u001b[0;34m\u001b[0m\u001b[0m\n\u001b[1;32m      4\u001b[0m \u001b[0;32mwhile\u001b[0m \u001b[0;32mTrue\u001b[0m\u001b[0;34m:\u001b[0m\u001b[0;34m\u001b[0m\u001b[0;34m\u001b[0m\u001b[0m\n\u001b[0;32m----> 5\u001b[0;31m   \u001b[0mmoney\u001b[0m \u001b[0;34m=\u001b[0m \u001b[0mint\u001b[0m\u001b[0;34m(\u001b[0m\u001b[0minput\u001b[0m\u001b[0;34m(\u001b[0m\u001b[0;34m\"돈을 넣어 주세요\"\u001b[0m\u001b[0;34m)\u001b[0m\u001b[0;34m)\u001b[0m\u001b[0;34m\u001b[0m\u001b[0;34m\u001b[0m\u001b[0m\n\u001b[0m\u001b[1;32m      6\u001b[0m   \u001b[0;32mif\u001b[0m \u001b[0mmoney\u001b[0m \u001b[0;34m==\u001b[0m \u001b[0;36m300\u001b[0m\u001b[0;34m:\u001b[0m\u001b[0;34m\u001b[0m\u001b[0;34m\u001b[0m\u001b[0m\n\u001b[1;32m      7\u001b[0m     \u001b[0mprint\u001b[0m\u001b[0;34m(\u001b[0m\u001b[0;34m\"커피를 줍니다.\"\u001b[0m\u001b[0;34m)\u001b[0m\u001b[0;34m\u001b[0m\u001b[0;34m\u001b[0m\u001b[0m\n",
            "\u001b[0;32m/usr/local/lib/python3.7/dist-packages/ipykernel/kernelbase.py\u001b[0m in \u001b[0;36mraw_input\u001b[0;34m(self, prompt)\u001b[0m\n\u001b[1;32m    702\u001b[0m             \u001b[0mself\u001b[0m\u001b[0;34m.\u001b[0m\u001b[0m_parent_ident\u001b[0m\u001b[0;34m,\u001b[0m\u001b[0;34m\u001b[0m\u001b[0;34m\u001b[0m\u001b[0m\n\u001b[1;32m    703\u001b[0m             \u001b[0mself\u001b[0m\u001b[0;34m.\u001b[0m\u001b[0m_parent_header\u001b[0m\u001b[0;34m,\u001b[0m\u001b[0;34m\u001b[0m\u001b[0;34m\u001b[0m\u001b[0m\n\u001b[0;32m--> 704\u001b[0;31m             \u001b[0mpassword\u001b[0m\u001b[0;34m=\u001b[0m\u001b[0;32mFalse\u001b[0m\u001b[0;34m,\u001b[0m\u001b[0;34m\u001b[0m\u001b[0;34m\u001b[0m\u001b[0m\n\u001b[0m\u001b[1;32m    705\u001b[0m         )\n\u001b[1;32m    706\u001b[0m \u001b[0;34m\u001b[0m\u001b[0m\n",
            "\u001b[0;32m/usr/local/lib/python3.7/dist-packages/ipykernel/kernelbase.py\u001b[0m in \u001b[0;36m_input_request\u001b[0;34m(self, prompt, ident, parent, password)\u001b[0m\n\u001b[1;32m    732\u001b[0m             \u001b[0;32mexcept\u001b[0m \u001b[0mKeyboardInterrupt\u001b[0m\u001b[0;34m:\u001b[0m\u001b[0;34m\u001b[0m\u001b[0;34m\u001b[0m\u001b[0m\n\u001b[1;32m    733\u001b[0m                 \u001b[0;31m# re-raise KeyboardInterrupt, to truncate traceback\u001b[0m\u001b[0;34m\u001b[0m\u001b[0;34m\u001b[0m\u001b[0;34m\u001b[0m\u001b[0m\n\u001b[0;32m--> 734\u001b[0;31m                 \u001b[0;32mraise\u001b[0m \u001b[0mKeyboardInterrupt\u001b[0m\u001b[0;34m\u001b[0m\u001b[0;34m\u001b[0m\u001b[0m\n\u001b[0m\u001b[1;32m    735\u001b[0m             \u001b[0;32melse\u001b[0m\u001b[0;34m:\u001b[0m\u001b[0;34m\u001b[0m\u001b[0;34m\u001b[0m\u001b[0m\n\u001b[1;32m    736\u001b[0m                 \u001b[0;32mbreak\u001b[0m\u001b[0;34m\u001b[0m\u001b[0;34m\u001b[0m\u001b[0m\n",
            "\u001b[0;31mKeyboardInterrupt\u001b[0m: "
          ]
        }
      ]
    },
    {
      "cell_type": "code",
      "metadata": {
        "id": "-iWDRliUfRkE"
      },
      "source": [
        "# while문 맨 처음으로 돌아가기\r\n",
        "while문 안의 문장을 수행할 때 입력 조건을 검사해서 조건에 맞지 않으면 \r\n",
        "while문을 빠져나간다. 그런데 프로그래밍을 하다 보면 while문을 빠져나가지 \r\n",
        "않고 while문의 맨 처음(조건문)으로 다시 돌아가게 만들고 싶은 경우가 \r\n",
        "생기게 된다. 이때 사용하는 것이 바로 continue문이다."
      ],
      "execution_count": null,
      "outputs": []
    },
    {
      "cell_type": "code",
      "metadata": {
        "colab": {
          "base_uri": "https://localhost:8080/"
        },
        "id": "ztZ9ii1NgG7e",
        "outputId": "68ea058d-c80a-473f-a91e-0dfcdfd327a9"
      },
      "source": [
        "'''\r\n",
        "1부터 10까지의 숫자 중에서 홀수만 출력하는 것을 while문을 사용해서 작성한다고 \r\n",
        "생각해보자. 어떤 방법이 좋을까?\r\n",
        "'''\r\n",
        "a = 0\r\n",
        "while a < 10:\r\n",
        "  a = a+1\r\n",
        "  if a%2 == 0: continue\r\n",
        "  print(a)"
      ],
      "execution_count": 10,
      "outputs": [
        {
          "output_type": "stream",
          "text": [
            "1\n",
            "3\n",
            "5\n",
            "7\n",
            "9\n"
          ],
          "name": "stdout"
        }
      ]
    },
    {
      "cell_type": "code",
      "metadata": {
        "id": "C3_8Ry1ZgeZC"
      },
      "source": [
        "'''\r\n",
        "위 예는 1부터 10까지의 숫자 중 홀수만 출력하는 예이다. \r\n",
        "a가 10보다 작은 동안 a는 1만큼씩 계속 증가한다. \r\n",
        "if a % 2 == 0(a를 2로 나누었을 때 나머지가 0인 경우)이 참이 \r\n",
        "되는 경우는 a가 짝수일 때이다. 즉 a가 짝수이면 continue 문장을 수행한다. \r\n",
        "이 continue문은 while문의 맨 처음(조건문: a<10)으로 돌아가게 하는 명령어이다. \r\n",
        "따라서 위 예에서 a가 짝수이면 print(a)는 수행되지 않을 것이다.\r\n",
        "'''"
      ],
      "execution_count": null,
      "outputs": []
    },
    {
      "cell_type": "code",
      "metadata": {
        "id": "3XozcBYihBfC"
      },
      "source": [
        "#무한루프\r\n",
        "while True: \r\n",
        "    수행할 문장1 \r\n",
        "    수행할 문장2\r\n",
        "    ..."
      ],
      "execution_count": null,
      "outputs": []
    },
    {
      "cell_type": "code",
      "metadata": {
        "id": "J48clRhQhSNI"
      },
      "source": [
        "#while True:\r\n",
        "  #print(\"Ctrl+c를 눌러야 while문을 빠져나갈 수 있습니다.\")"
      ],
      "execution_count": null,
      "outputs": []
    },
    {
      "cell_type": "code",
      "metadata": {
        "id": "C-MsV0L_htKK"
      },
      "source": [
        ""
      ],
      "execution_count": null,
      "outputs": []
    }
  ]
}