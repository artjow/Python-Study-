{
  "nbformat": 4,
  "nbformat_minor": 0,
  "metadata": {
    "colab": {
      "name": "Keras기초_모델생성.ipynb",
      "provenance": [],
      "include_colab_link": true
    },
    "kernelspec": {
      "name": "python3",
      "display_name": "Python 3"
    }
  },
  "cells": [
    {
      "cell_type": "markdown",
      "metadata": {
        "id": "view-in-github",
        "colab_type": "text"
      },
      "source": [
        "<a href=\"https://colab.research.google.com/github/chohyungrae/Python-Study-/blob/master/Keras%EA%B8%B0%EC%B4%88_%EB%AA%A8%EB%8D%B8%EC%83%9D%EC%84%B1.ipynb\" target=\"_parent\"><img src=\"https://colab.research.google.com/assets/colab-badge.svg\" alt=\"Open In Colab\"/></a>"
      ]
    },
    {
      "cell_type": "markdown",
      "metadata": {
        "id": "fUGvZh361n-3"
      },
      "source": [
        "# 케라스 임포트해서 사용하는 방법"
      ]
    },
    {
      "cell_type": "code",
      "metadata": {
        "colab": {
          "base_uri": "https://localhost:8080/",
          "height": 36
        },
        "id": "wb8eQP5vyWjF",
        "outputId": "324e6e08-0ec0-4a48-d3de-bbf1a42fff44"
      },
      "source": [
        "import numpy as np\r\n",
        "import tensorflow as tf\r\n",
        "tf.__version__"
      ],
      "execution_count": 37,
      "outputs": [
        {
          "output_type": "execute_result",
          "data": {
            "application/vnd.google.colaboratory.intrinsic+json": {
              "type": "string"
            },
            "text/plain": [
              "'2.4.1'"
            ]
          },
          "metadata": {
            "tags": []
          },
          "execution_count": 37
        }
      ]
    },
    {
      "cell_type": "code",
      "metadata": {
        "colab": {
          "base_uri": "https://localhost:8080/",
          "height": 36
        },
        "id": "wOANBoKKymM5",
        "outputId": "fbd0b2da-ff70-4025-f5e5-a87938eb22a6"
      },
      "source": [
        "from tensorflow import keras\r\n",
        "keras.__version__"
      ],
      "execution_count": 38,
      "outputs": [
        {
          "output_type": "execute_result",
          "data": {
            "application/vnd.google.colaboratory.intrinsic+json": {
              "type": "string"
            },
            "text/plain": [
              "'2.4.0'"
            ]
          },
          "metadata": {
            "tags": []
          },
          "execution_count": 38
        }
      ]
    },
    {
      "cell_type": "code",
      "metadata": {
        "colab": {
          "base_uri": "https://localhost:8080/"
        },
        "id": "APIcMc4Jy2Qf",
        "outputId": "05668919-abfd-4010-9c82-0f018fb46774"
      },
      "source": [
        "keras.layers.Dense(10, activation='sigmoid')"
      ],
      "execution_count": 39,
      "outputs": [
        {
          "output_type": "execute_result",
          "data": {
            "text/plain": [
              "<tensorflow.python.keras.layers.core.Dense at 0x7fefe0746198>"
            ]
          },
          "metadata": {
            "tags": []
          },
          "execution_count": 39
        }
      ]
    },
    {
      "cell_type": "code",
      "metadata": {
        "colab": {
          "base_uri": "https://localhost:8080/"
        },
        "id": "zOLqBktXzSoo",
        "outputId": "16fba33c-ec53-4778-8efa-7798e5c93e12"
      },
      "source": [
        "keras.Model()"
      ],
      "execution_count": 40,
      "outputs": [
        {
          "output_type": "execute_result",
          "data": {
            "text/plain": [
              "<tensorflow.python.keras.engine.training.Model at 0x7fefe073dac8>"
            ]
          },
          "metadata": {
            "tags": []
          },
          "execution_count": 40
        }
      ]
    },
    {
      "cell_type": "code",
      "metadata": {
        "colab": {
          "base_uri": "https://localhost:8080/"
        },
        "id": "_fr-yzWqz0h7",
        "outputId": "89919e89-3582-4218-b11d-939e095d226c"
      },
      "source": [
        "keras.models.Sequential()"
      ],
      "execution_count": 41,
      "outputs": [
        {
          "output_type": "execute_result",
          "data": {
            "text/plain": [
              "<tensorflow.python.keras.engine.sequential.Sequential at 0x7fefe07f03c8>"
            ]
          },
          "metadata": {
            "tags": []
          },
          "execution_count": 41
        }
      ]
    },
    {
      "cell_type": "code",
      "metadata": {
        "id": "O3envIA3z90u"
      },
      "source": [
        "from tensorflow.keras.layers import Dense, Input, Flatten, Activation\r\n",
        "from tensorflow.keras.models import Sequential\r\n",
        "from tensorflow.keras import Model"
      ],
      "execution_count": 42,
      "outputs": []
    },
    {
      "cell_type": "code",
      "metadata": {
        "colab": {
          "base_uri": "https://localhost:8080/"
        },
        "id": "m_n2mCXQ0qsa",
        "outputId": "2b3dec44-aec1-42a6-dd7d-0267a5ed9da3"
      },
      "source": [
        "Dense(10, activation='relu')"
      ],
      "execution_count": 43,
      "outputs": [
        {
          "output_type": "execute_result",
          "data": {
            "text/plain": [
              "<tensorflow.python.keras.layers.core.Dense at 0x7fefe0813a90>"
            ]
          },
          "metadata": {
            "tags": []
          },
          "execution_count": 43
        }
      ]
    },
    {
      "cell_type": "code",
      "metadata": {
        "colab": {
          "base_uri": "https://localhost:8080/"
        },
        "id": "y0gpfxvT05s0",
        "outputId": "7783996d-475d-451d-9b2f-d1a203d716cb"
      },
      "source": [
        "Flatten(input_shape=[28,28])"
      ],
      "execution_count": 44,
      "outputs": [
        {
          "output_type": "execute_result",
          "data": {
            "text/plain": [
              "<tensorflow.python.keras.layers.core.Flatten at 0x7fefe06f20b8>"
            ]
          },
          "metadata": {
            "tags": []
          },
          "execution_count": 44
        }
      ]
    },
    {
      "cell_type": "code",
      "metadata": {
        "colab": {
          "base_uri": "https://localhost:8080/"
        },
        "id": "0Qglk0fH1In5",
        "outputId": "32fdfbb7-0b1b-4330-f2d7-df29f59001db"
      },
      "source": [
        "x_train = np.random.randn(5500,2)\r\n",
        "Input(shape=x_train.shape[1:])"
      ],
      "execution_count": 45,
      "outputs": [
        {
          "output_type": "execute_result",
          "data": {
            "text/plain": [
              "<KerasTensor: shape=(None, 2) dtype=float32 (created by layer 'input_5')>"
            ]
          },
          "metadata": {
            "tags": []
          },
          "execution_count": 45
        }
      ]
    },
    {
      "cell_type": "code",
      "metadata": {
        "colab": {
          "base_uri": "https://localhost:8080/"
        },
        "id": "nmSnEbVz1TqT",
        "outputId": "e1aae19c-bd95-4ade-8998-5c59406f335a"
      },
      "source": [
        "#객체할당(레이어선언)\r\n",
        "dense = Dense(10, activation='relu', name = 'Dense Layer')\r\n",
        "dense"
      ],
      "execution_count": 46,
      "outputs": [
        {
          "output_type": "execute_result",
          "data": {
            "text/plain": [
              "<tensorflow.python.keras.layers.core.Dense at 0x7fefe0744400>"
            ]
          },
          "metadata": {
            "tags": []
          },
          "execution_count": 46
        }
      ]
    },
    {
      "cell_type": "code",
      "metadata": {
        "colab": {
          "base_uri": "https://localhost:8080/"
        },
        "id": "8Pkx8PVP2yB6",
        "outputId": "93140654-d61a-451b-8545-03bf77301ae0"
      },
      "source": [
        "dense2 = Dense(15, activation='softmax')\r\n",
        "dense2"
      ],
      "execution_count": 47,
      "outputs": [
        {
          "output_type": "execute_result",
          "data": {
            "text/plain": [
              "<tensorflow.python.keras.layers.core.Dense at 0x7fefe075e9e8>"
            ]
          },
          "metadata": {
            "tags": []
          },
          "execution_count": 47
        }
      ]
    },
    {
      "cell_type": "code",
      "metadata": {
        "colab": {
          "base_uri": "https://localhost:8080/"
        },
        "id": "J4eTrcvZ3VAW",
        "outputId": "ca0e8f40-d371-43c2-f0d9-7256fef99806"
      },
      "source": [
        "#Activation함수\r\n",
        "dense = Dense(10, kernel_initializer='he_normal', name = 'Dense layer')\r\n",
        "dense = Activation(dense)\r\n",
        "dense"
      ],
      "execution_count": 48,
      "outputs": [
        {
          "output_type": "execute_result",
          "data": {
            "text/plain": [
              "<tensorflow.python.keras.layers.core.Activation at 0x7fefe0744cf8>"
            ]
          },
          "metadata": {
            "tags": []
          },
          "execution_count": 48
        }
      ]
    },
    {
      "cell_type": "code",
      "metadata": {
        "colab": {
          "base_uri": "https://localhost:8080/"
        },
        "id": "E-4BMgRx4HyU",
        "outputId": "03d4a5ac-1f64-40a4-e34c-e8f390a94603"
      },
      "source": [
        "#Flatten 레이어\r\n",
        "Flatten(input_shape = (28,28))\r\n"
      ],
      "execution_count": 49,
      "outputs": [
        {
          "output_type": "execute_result",
          "data": {
            "text/plain": [
              "<tensorflow.python.keras.layers.core.Flatten at 0x7fefe0744c18>"
            ]
          },
          "metadata": {
            "tags": []
          },
          "execution_count": 49
        }
      ]
    },
    {
      "cell_type": "code",
      "metadata": {
        "id": "vyhCfeMFxt1U"
      },
      "source": [
        "from tensorflow.keras.layers import Dense, Input, Flatten\r\n",
        "from tensorflow.keras.models import Sequential, Model\r\n",
        "from tensorflow.keras.utils import plot_model"
      ],
      "execution_count": 50,
      "outputs": []
    },
    {
      "cell_type": "code",
      "metadata": {
        "id": "V8jtLljRz1h0"
      },
      "source": [
        "model = Sequential()\r\n",
        "model.add(Input(shape=(28,28)))\r\n",
        "model.add(Dense(300, activation='relu'))\r\n",
        "model.add(Dense(100, activation='relu'))\r\n",
        "model.add(Dense(10, activation='softmax'))"
      ],
      "execution_count": 51,
      "outputs": []
    },
    {
      "cell_type": "code",
      "metadata": {
        "colab": {
          "base_uri": "https://localhost:8080/"
        },
        "id": "Qp2AIXXk0zuI",
        "outputId": "a3d512c8-ea95-4c85-d3ca-847333167080"
      },
      "source": [
        "#모델의구조확인\r\n",
        "model.summary()"
      ],
      "execution_count": 52,
      "outputs": [
        {
          "output_type": "stream",
          "text": [
            "Model: \"sequential_3\"\n",
            "_________________________________________________________________\n",
            "Layer (type)                 Output Shape              Param #   \n",
            "=================================================================\n",
            "dense_19 (Dense)             (None, 28, 300)           8700      \n",
            "_________________________________________________________________\n",
            "dense_20 (Dense)             (None, 28, 100)           30100     \n",
            "_________________________________________________________________\n",
            "dense_21 (Dense)             (None, 28, 10)            1010      \n",
            "=================================================================\n",
            "Total params: 39,810\n",
            "Trainable params: 39,810\n",
            "Non-trainable params: 0\n",
            "_________________________________________________________________\n"
          ],
          "name": "stdout"
        }
      ]
    },
    {
      "cell_type": "code",
      "metadata": {
        "colab": {
          "base_uri": "https://localhost:8080/",
          "height": 369
        },
        "id": "i-LGoNDG0_-Z",
        "outputId": "7db6c529-b988-45d3-ddbf-3a11de9f5231"
      },
      "source": [
        "#그림으로 모델구조 설명\r\n",
        "plot_model(model)"
      ],
      "execution_count": 53,
      "outputs": [
        {
          "output_type": "execute_result",
          "data": {
            "image/png": "[encoded data removed]",
            "text/plain": [
              "<IPython.core.display.Image object>"
            ]
          },
          "metadata": {
            "tags": []
          },
          "execution_count": 53
        }
      ]
    },
    {
      "cell_type": "code",
      "metadata": {
        "colab": {
          "base_uri": "https://localhost:8080/",
          "height": 369
        },
        "id": "AS_s164R1Yrv",
        "outputId": "31c5f1bd-569c-4a1b-d2ac-bda08de6784a"
      },
      "source": [
        "#저장\r\n",
        "plot_model(model, to_file = 'model1.png')"
      ],
      "execution_count": 54,
      "outputs": [
        {
          "output_type": "execute_result",
          "data": {
            "image/png": "[encoded data removed]",
            "text/plain": [
              "<IPython.core.display.Image object>"
            ]
          },
          "metadata": {
            "tags": []
          },
          "execution_count": 54
        }
      ]
    },
    {
      "cell_type": "code",
      "metadata": {
        "colab": {
          "base_uri": "https://localhost:8080/"
        },
        "id": "nPGR9NAP1v3k",
        "outputId": "60ad5b88-644d-4a92-f684-049aa9c06a18"
      },
      "source": [
        "!ls"
      ],
      "execution_count": 55,
      "outputs": [
        {
          "output_type": "stream",
          "text": [
            "model1.png  model3.png\tmodel4.png  model.png  sample_data\n"
          ],
          "name": "stdout"
        }
      ]
    },
    {
      "cell_type": "code",
      "metadata": {
        "id": "UbouboYL3CDU"
      },
      "source": [
        "#input\r\n",
        "from tensorflow.keras.models import Model\r\n",
        "from tensorflow.keras.layers import Input, Flatten, Dense\r\n",
        "from tensorflow.keras.utils import plot_model"
      ],
      "execution_count": 56,
      "outputs": []
    },
    {
      "cell_type": "code",
      "metadata": {
        "id": "dpbVGMmC3QB_"
      },
      "source": [
        "inputs = Input(shape=(28,28,1))\r\n",
        "\r\n",
        "x=Flatten(input_shape=(28,28,1))(inputs)\r\n",
        "x=Dense(300, activation='relu')(x)\r\n",
        "x=Dense(100, activation='relu')(x)\r\n",
        "x=Dense(10, activation='softmax')(x)"
      ],
      "execution_count": 57,
      "outputs": []
    },
    {
      "cell_type": "code",
      "metadata": {
        "id": "R8zlRNN539BL"
      },
      "source": [
        "model = Model(inputs=inputs, outputs=x)"
      ],
      "execution_count": 58,
      "outputs": []
    },
    {
      "cell_type": "code",
      "metadata": {
        "colab": {
          "base_uri": "https://localhost:8080/"
        },
        "id": "EQeW6yGH4iOc",
        "outputId": "7acaeb08-4ed9-4acf-f357-b907a15d95f2"
      },
      "source": [
        "model.summary()"
      ],
      "execution_count": 59,
      "outputs": [
        {
          "output_type": "stream",
          "text": [
            "Model: \"model_6\"\n",
            "_________________________________________________________________\n",
            "Layer (type)                 Output Shape              Param #   \n",
            "=================================================================\n",
            "input_7 (InputLayer)         [(None, 28, 28, 1)]       0         \n",
            "_________________________________________________________________\n",
            "flatten_5 (Flatten)          (None, 784)               0         \n",
            "_________________________________________________________________\n",
            "dense_22 (Dense)             (None, 300)               235500    \n",
            "_________________________________________________________________\n",
            "dense_23 (Dense)             (None, 100)               30100     \n",
            "_________________________________________________________________\n",
            "dense_24 (Dense)             (None, 10)                1010      \n",
            "=================================================================\n",
            "Total params: 266,610\n",
            "Trainable params: 266,610\n",
            "Non-trainable params: 0\n",
            "_________________________________________________________________\n"
          ],
          "name": "stdout"
        }
      ]
    },
    {
      "cell_type": "code",
      "metadata": {
        "colab": {
          "base_uri": "https://localhost:8080/",
          "height": 466
        },
        "id": "QbmPe0Mu4zuq",
        "outputId": "2ebc937f-6bfa-44ba-d443-5862e3f48dc7"
      },
      "source": [
        "plot_model(model)"
      ],
      "execution_count": 60,
      "outputs": [
        {
          "output_type": "execute_result",
          "data": {
            "image/png": "[encoded data removed]",
            "text/plain": [
              "<IPython.core.display.Image object>"
            ]
          },
          "metadata": {
            "tags": []
          },
          "execution_count": 60
        }
      ]
    },
    {
      "cell_type": "code",
      "metadata": {
        "colab": {
          "base_uri": "https://localhost:8080/",
          "height": 466
        },
        "id": "0OfsUzO-5qjM",
        "outputId": "8084e188-bb3b-42ef-8a7f-e59276f9af6f"
      },
      "source": [
        "#저장\r\n",
        "plot_model(model, to_file='model3.png')"
      ],
      "execution_count": 61,
      "outputs": [
        {
          "output_type": "execute_result",
          "data": {
            "image/png": "[encoded data removed]",
            "text/plain": [
              "<IPython.core.display.Image object>"
            ]
          },
          "metadata": {
            "tags": []
          },
          "execution_count": 61
        }
      ]
    },
    {
      "cell_type": "code",
      "metadata": {
        "id": "yqvdlBHE6LcF"
      },
      "source": [
        "from tensorflow.keras.layers import Concatenate\r\n",
        "\r\n",
        "input_layer = Input(shape=(28,28))\r\n",
        "hidden1=Dense(100, activation='relu')(input_layer)\r\n",
        "hidden2 = Dense(30,activation='relu')(hidden1)\r\n",
        "concat = Concatenate()([input_layer, hidden2])\r\n",
        "output = Dense(1)(concat)\r\n",
        "\r\n",
        "model = Model(inputs=[input_layer], outputs=[output])\r\n",
        "\r\n"
      ],
      "execution_count": 62,
      "outputs": []
    },
    {
      "cell_type": "code",
      "metadata": {
        "colab": {
          "base_uri": "https://localhost:8080/"
        },
        "id": "ydGNZZBE6cu0",
        "outputId": "3e07027d-6587-461c-f318-db890a00226c"
      },
      "source": [
        "model.summary() #구성"
      ],
      "execution_count": 63,
      "outputs": [
        {
          "output_type": "stream",
          "text": [
            "Model: \"model_7\"\n",
            "__________________________________________________________________________________________________\n",
            "Layer (type)                    Output Shape         Param #     Connected to                     \n",
            "==================================================================================================\n",
            "input_8 (InputLayer)            [(None, 28, 28)]     0                                            \n",
            "__________________________________________________________________________________________________\n",
            "dense_25 (Dense)                (None, 28, 100)      2900        input_8[0][0]                    \n",
            "__________________________________________________________________________________________________\n",
            "dense_26 (Dense)                (None, 28, 30)       3030        dense_25[0][0]                   \n",
            "__________________________________________________________________________________________________\n",
            "concatenate_3 (Concatenate)     (None, 28, 58)       0           input_8[0][0]                    \n",
            "                                                                 dense_26[0][0]                   \n",
            "__________________________________________________________________________________________________\n",
            "dense_27 (Dense)                (None, 28, 1)        59          concatenate_3[0][0]              \n",
            "==================================================================================================\n",
            "Total params: 5,989\n",
            "Trainable params: 5,989\n",
            "Non-trainable params: 0\n",
            "__________________________________________________________________________________________________\n"
          ],
          "name": "stdout"
        }
      ]
    },
    {
      "cell_type": "code",
      "metadata": {
        "id": "JDDy0pYz9Io0",
        "colab": {
          "base_uri": "https://localhost:8080/",
          "height": 466
        },
        "outputId": "253eae3e-c7f0-4955-ce5c-adf5269e7187"
      },
      "source": [
        "plot_model(model)"
      ],
      "execution_count": 64,
      "outputs": [
        {
          "output_type": "execute_result",
          "data": {
            "image/png": "[encoded data removed]",
            "text/plain": [
              "<IPython.core.display.Image object>"
            ]
          },
          "metadata": {
            "tags": []
          },
          "execution_count": 64
        }
      ]
    },
    {
      "cell_type": "code",
      "metadata": {
        "colab": {
          "base_uri": "https://localhost:8080/",
          "height": 466
        },
        "id": "xlZ5pzoOT7i-",
        "outputId": "fff2c28c-2da3-4064-ed79-f0b1f85c7cb5"
      },
      "source": [
        "plot_model(model, to_file='model4.png') #저장"
      ],
      "execution_count": 65,
      "outputs": [
        {
          "output_type": "execute_result",
          "data": {
            "image/png": "[encoded data removed]",
            "text/plain": [
              "<IPython.core.display.Image object>"
            ]
          },
          "metadata": {
            "tags": []
          },
          "execution_count": 65
        }
      ]
    },
    {
      "cell_type": "code",
      "metadata": {
        "id": "aaLzEaStUJUN"
      },
      "source": [
        "# 다중입력\r\n",
        "input_1 = Input(shape=(10,10), name='input_1')\r\n",
        "input_2 = Input(shape=(10,28), name='input_2')\r\n",
        "\r\n",
        "hidden1 = Dense(100, activation='relu')(input_2)\r\n",
        "hidden2 = Dense(10, activation='relu')(hidden1)\r\n",
        "concat = Concatenate()([input_1, hidden2])\r\n",
        "output = Dense(1, activation='sigmoid', name='output')(concat)\r\n",
        "\r\n",
        "model = Model(inputs=[input_1, input_2], outputs=[output])\r\n",
        "\r\n"
      ],
      "execution_count": 66,
      "outputs": []
    },
    {
      "cell_type": "code",
      "metadata": {
        "colab": {
          "base_uri": "https://localhost:8080/"
        },
        "id": "jv757faaWKNn",
        "outputId": "b1eafc3e-ae93-43c9-93d3-199ee7b5a81d"
      },
      "source": [
        "model.summary()"
      ],
      "execution_count": 67,
      "outputs": [
        {
          "output_type": "stream",
          "text": [
            "Model: \"model_8\"\n",
            "__________________________________________________________________________________________________\n",
            "Layer (type)                    Output Shape         Param #     Connected to                     \n",
            "==================================================================================================\n",
            "input_2 (InputLayer)            [(None, 10, 28)]     0                                            \n",
            "__________________________________________________________________________________________________\n",
            "dense_28 (Dense)                (None, 10, 100)      2900        input_2[0][0]                    \n",
            "__________________________________________________________________________________________________\n",
            "input_1 (InputLayer)            [(None, 10, 10)]     0                                            \n",
            "__________________________________________________________________________________________________\n",
            "dense_29 (Dense)                (None, 10, 10)       1010        dense_28[0][0]                   \n",
            "__________________________________________________________________________________________________\n",
            "concatenate_4 (Concatenate)     (None, 10, 20)       0           input_1[0][0]                    \n",
            "                                                                 dense_29[0][0]                   \n",
            "__________________________________________________________________________________________________\n",
            "output (Dense)                  (None, 10, 1)        21          concatenate_4[0][0]              \n",
            "==================================================================================================\n",
            "Total params: 3,931\n",
            "Trainable params: 3,931\n",
            "Non-trainable params: 0\n",
            "__________________________________________________________________________________________________\n"
          ],
          "name": "stdout"
        }
      ]
    },
    {
      "cell_type": "code",
      "metadata": {
        "colab": {
          "base_uri": "https://localhost:8080/",
          "height": 466
        },
        "id": "UnTSoFgDWfTw",
        "outputId": "f7ba3dbc-2b01-43a3-8ebc-51b204852a92"
      },
      "source": [
        "plot_model(model)"
      ],
      "execution_count": 68,
      "outputs": [
        {
          "output_type": "execute_result",
          "data": {
            "image/png": "[encoded data removed]",
            "text/plain": [
              "<IPython.core.display.Image object>"
            ]
          },
          "metadata": {
            "tags": []
          },
          "execution_count": 68
        }
      ]
    },
    {
      "cell_type": "code",
      "metadata": {
        "colab": {
          "base_uri": "https://localhost:8080/",
          "height": 466
        },
        "id": "xDMAfprbWwR-",
        "outputId": "86592e62-5f2d-4b57-86de-0399fee9592b"
      },
      "source": [
        "# 저장\r\n",
        "plot_model(model, to_file='model5.png')"
      ],
      "execution_count": 69,
      "outputs": [
        {
          "output_type": "execute_result",
          "data": {
            "image/png": "[encoded data removed]",
            "text/plain": [
              "<IPython.core.display.Image object>"
            ]
          },
          "metadata": {
            "tags": []
          },
          "execution_count": 69
        }
      ]
    },
    {
      "cell_type": "code",
      "metadata": {
        "id": "mFKL0yJwXVdV"
      },
      "source": [
        "#다중출력\r\n",
        "input_ = Input(shape=(10,10), name='input_')\r\n",
        "\r\n",
        "hidden1 = Dense(100, activation='relu')(input_)\r\n",
        "hidden2 = Dense(10, activation='relu')(hidden1)\r\n",
        "\r\n",
        "output = Dense(1, activation='sigmoid', name='main_output')(hidden2)\r\n",
        "sub_out = Dense(1, name='sum_output')(hidden2)\r\n",
        "\r\n",
        "model = Model(inputs=[input_], outputs=[output, sub_out])"
      ],
      "execution_count": 72,
      "outputs": []
    },
    {
      "cell_type": "code",
      "metadata": {
        "colab": {
          "base_uri": "https://localhost:8080/"
        },
        "id": "hL1skitLYvkh",
        "outputId": "b57d0889-6331-427e-ef6a-29c60f76978a"
      },
      "source": [
        "#확인\r\n",
        "model.summary()"
      ],
      "execution_count": 73,
      "outputs": [
        {
          "output_type": "stream",
          "text": [
            "Model: \"model_9\"\n",
            "__________________________________________________________________________________________________\n",
            "Layer (type)                    Output Shape         Param #     Connected to                     \n",
            "==================================================================================================\n",
            "input_ (InputLayer)             [(None, 10, 10)]     0                                            \n",
            "__________________________________________________________________________________________________\n",
            "dense_31 (Dense)                (None, 10, 100)      1100        input_[0][0]                     \n",
            "__________________________________________________________________________________________________\n",
            "dense_32 (Dense)                (None, 10, 10)       1010        dense_31[0][0]                   \n",
            "__________________________________________________________________________________________________\n",
            "main_output (Dense)             (None, 10, 1)        11          dense_32[0][0]                   \n",
            "__________________________________________________________________________________________________\n",
            "sum_output (Dense)              (None, 10, 1)        11          dense_32[0][0]                   \n",
            "==================================================================================================\n",
            "Total params: 2,132\n",
            "Trainable params: 2,132\n",
            "Non-trainable params: 0\n",
            "__________________________________________________________________________________________________\n"
          ],
          "name": "stdout"
        }
      ]
    },
    {
      "cell_type": "code",
      "metadata": {
        "colab": {
          "base_uri": "https://localhost:8080/",
          "height": 369
        },
        "id": "ma6_lKChZPYq",
        "outputId": "c7a124cc-b952-4602-c40d-45c90895b460"
      },
      "source": [
        "plot_model(model)"
      ],
      "execution_count": 74,
      "outputs": [
        {
          "output_type": "execute_result",
          "data": {
            "image/png": "[encoded data removed]",
            "text/plain": [
              "<IPython.core.display.Image object>"
            ]
          },
          "metadata": {
            "tags": []
          },
          "execution_count": 74
        }
      ]
    },
    {
      "cell_type": "code",
      "metadata": {
        "colab": {
          "base_uri": "https://localhost:8080/",
          "height": 369
        },
        "id": "DrI8wfc0ZaA_",
        "outputId": "53171294-150f-44d1-acc8-bc5bffd543f2"
      },
      "source": [
        "plot_model(model, to_file='model6.png')"
      ],
      "execution_count": 75,
      "outputs": [
        {
          "output_type": "execute_result",
          "data": {
            "image/png": "[encoded data removed]",
            "text/plain": [
              "<IPython.core.display.Image object>"
            ]
          },
          "metadata": {
            "tags": []
          },
          "execution_count": 75
        }
      ]
    },
    {
      "cell_type": "code",
      "metadata": {
        "id": "mNBJDjiHZmL6"
      },
      "source": [
        ""
      ],
      "execution_count": null,
      "outputs": []
    }
  ]
}