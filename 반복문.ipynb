{
  "nbformat": 4,
  "nbformat_minor": 0,
  "metadata": {
    "colab": {
      "name": "반복문.ipynb",
      "provenance": [],
      "authorship_tag": "ABX9TyMvnWPGDe5+scaD3lbD2CMf",
      "include_colab_link": true
    },
    "kernelspec": {
      "name": "python3",
      "display_name": "Python 3"
    },
    "language_info": {
      "name": "python"
    }
  },
  "cells": [
    {
      "cell_type": "markdown",
      "metadata": {
        "id": "view-in-github",
        "colab_type": "text"
      },
      "source": [
        "<a href=\"https://colab.research.google.com/github/artjow/Python-Study-/blob/master/%EB%B0%98%EB%B3%B5%EB%AC%B8.ipynb\" target=\"_parent\"><img src=\"https://colab.research.google.com/assets/colab-badge.svg\" alt=\"Open In Colab\"/></a>"
      ]
    },
    {
      "cell_type": "code",
      "metadata": {
        "id": "s2aK2omI21HB"
      },
      "source": [
        "파이썬의 조건문)\n",
        "조건문은 만약 조건식이 참이면 다음 문장을 수행하고 거짓이면 \n",
        "else 다음 문장을 수행하는 형태라 생각하면 된다.\n",
        "\n",
        "if 조건식:\n",
        "   수행할 문장\n",
        "\n",
        "else:\n",
        "   수행할 문장"
      ],
      "execution_count": null,
      "outputs": []
    },
    {
      "cell_type": "code",
      "metadata": {
        "id": "R3641Q894AL0"
      },
      "source": [
        "파이썬에서 조건문은 if문을 사용한다. \n",
        "\n",
        "if A: a else: B - 만약 A가 참이면 a를 실행, 그렇지 않으면 B를 실행\n",
        "elif (else if) - 조건이 여러 개일 경우 elif를 사용\n",
        "pass - 조건식을 통해 특정 블럭이나 문장을 실행하지 않고 건너뛸 때 사용."
      ],
      "execution_count": null,
      "outputs": []
    },
    {
      "cell_type": "code",
      "metadata": {
        "colab": {
          "base_uri": "https://localhost:8080/"
        },
        "id": "KXii-wdZ4JK_",
        "outputId": "9dfe0d9c-282e-46f1-d1f7-92bc804290de"
      },
      "source": [
        "a=5; b=20; c=35; #조건문\n",
        "if a>3: print(a)  #a가 3보다 크면 a를 출력"
      ],
      "execution_count": null,
      "outputs": [
        {
          "output_type": "stream",
          "text": [
            "5\n"
          ],
          "name": "stdout"
        }
      ]
    },
    {
      "cell_type": "code",
      "metadata": {
        "colab": {
          "base_uri": "https://localhost:8080/"
        },
        "id": "9CWV3Z-W4f83",
        "outputId": "0a820a9f-5c43-402a-aeca-2e6665c82673"
      },
      "source": [
        "if a<3:     #a가 3보다 작으면\n",
        "  print(a)  #a를 출력하고\n",
        "else:       #a가 3보다 작지않으면\n",
        "  print(b)  #b를 출력"
      ],
      "execution_count": null,
      "outputs": [
        {
          "output_type": "stream",
          "text": [
            "20\n"
          ],
          "name": "stdout"
        }
      ]
    },
    {
      "cell_type": "code",
      "metadata": {
        "colab": {
          "base_uri": "https://localhost:8080/"
        },
        "id": "kbJXq8QT5AIy",
        "outputId": "eeab2920-4418-4272-98f7-41682330a779"
      },
      "source": [
        "if a > b:                # a가 b보다 크면 \n",
        "  a = a - b; print(a)    # a - b 연산값을 a에 넣고 a를 출력\n",
        "elif b > a:              # b가 a보다 크면\n",
        "  b = b - a; print(b)    # b - a 연산값을 b에 넣고 b를 출력 \n",
        "else:                    # 그렇지 않으면\n",
        "  print(c)               # c를 출력"
      ],
      "execution_count": null,
      "outputs": [
        {
          "output_type": "stream",
          "text": [
            "15\n"
          ],
          "name": "stdout"
        }
      ]
    },
    {
      "cell_type": "code",
      "metadata": {
        "id": "szO6qQRk6Lje"
      },
      "source": [
        "if c>10:pass  #c가 10보다 크면 skip"
      ],
      "execution_count": null,
      "outputs": []
    },
    {
      "cell_type": "code",
      "metadata": {
        "colab": {
          "base_uri": "https://localhost:8080/"
        },
        "id": "fe1bBOyi1NMK",
        "outputId": "90cffba2-35ae-4313-aa31-ad1a7324d33a"
      },
      "source": [
        "# while condition;\n",
        "data = 5\n",
        "while data >=0:\n",
        "  print(\"data ==\", data)\n",
        "  data -=1"
      ],
      "execution_count": null,
      "outputs": [
        {
          "output_type": "stream",
          "text": [
            "data == 5\n",
            "data == 4\n",
            "data == 3\n",
            "data == 2\n",
            "data == 1\n",
            "data == 0\n"
          ],
          "name": "stdout"
        }
      ]
    },
    {
      "cell_type": "code",
      "metadata": {
        "id": "muPhx3F7680w"
      },
      "source": [
        "# 반복문\n",
        "반복문은 특정 조건을 만족하는 동안 내부 블럭을 계속 반복 실행(loop)하는 문장을 말한다.\n",
        "\n",
        "파이썬에서 반복문을 만들기 위해서는 두 가지 선택지가 있다. \n",
        "바로 for문과 while문이다. \n",
        "\n",
        "while - 조건식이 참일 동안 내부 블럭을 반복 수행한다.\n",
        "for - 리스트(list), 튜플(tuple), 문자열 등의 컬렉션으로부터 하나씩 요소를 \n",
        "가져와 내부 블럭을 반복 수행한다.\n",
        "break / continue - break는 현재 수행 중인 블럭에서 빠져나가는 역할을 하며 \n",
        "continue는 해당 블록 내의 아래 코드의 실행을 건너뛴다.\n",
        "range(start, stop, step) - 반복문과 자주 사용되는 range함수이다. \n",
        "내부 인자는 시작(start), 끝(stop), 단계(step)로 각각 시작 숫자, \n",
        "마지막 숫자, 숫자 간 간격을 의미한다.\n",
        "반복문에 대해 이해를 돕기 위해 아래 예시를 보도록 하자."
      ],
      "execution_count": null,
      "outputs": []
    },
    {
      "cell_type": "code",
      "metadata": {
        "colab": {
          "base_uri": "https://localhost:8080/"
        },
        "id": "ItWWvVjS7Egr",
        "outputId": "9152945b-f4b7-4a39-e922-f2f869135111"
      },
      "source": [
        "n = 10            # n = 10\n",
        "while n <= 20:    # n 이 20보다 작거나 같을 때까지\n",
        " print(n)         # n의 값을 출력하고\n",
        " n += 1           # n = n + 1 n을 1씩 증가"
      ],
      "execution_count": null,
      "outputs": [
        {
          "output_type": "stream",
          "text": [
            "10\n",
            "11\n",
            "12\n",
            "13\n",
            "14\n",
            "15\n",
            "16\n",
            "17\n",
            "18\n",
            "19\n",
            "20\n"
          ],
          "name": "stdout"
        }
      ]
    },
    {
      "cell_type": "code",
      "metadata": {
        "colab": {
          "base_uri": "https://localhost:8080/"
        },
        "id": "zksQgfBM7k22",
        "outputId": "2fb88c8c-71c9-441a-fda5-9b1a48b5ca94"
      },
      "source": [
        "s=50   # s = 50\n",
        "for y in range(s,60,2):  # 50(s)부터 60미만까지 2간격의 숫자를 가진 객체의 수만큼 반복\n",
        "  print(y)"
      ],
      "execution_count": null,
      "outputs": [
        {
          "output_type": "stream",
          "text": [
            "50\n",
            "52\n",
            "54\n",
            "56\n",
            "58\n"
          ],
          "name": "stdout"
        }
      ]
    },
    {
      "cell_type": "code",
      "metadata": {
        "colab": {
          "base_uri": "https://localhost:8080/"
        },
        "id": "cqA9ijwh78qf",
        "outputId": "84b376f7-f593-4664-aa3a-a77fd11919d8"
      },
      "source": [
        "list=[\"1\",\"am\",\"a\",\"boy\"] #list생성\n",
        "for i in list:  #for 변수 in 컬렉션 (리스트, 튜플, 문자열 등)\n",
        "  print(i)"
      ],
      "execution_count": null,
      "outputs": [
        {
          "output_type": "stream",
          "text": [
            "1\n",
            "am\n",
            "a\n",
            "boy\n"
          ],
          "name": "stdout"
        }
      ]
    },
    {
      "cell_type": "code",
      "metadata": {
        "colab": {
          "base_uri": "https://localhost:8080/"
        },
        "id": "584r8jHy8mHH",
        "outputId": "3b642d4b-9a96-4df1-98e8-b348eec40510"
      },
      "source": [
        "n = 10                   # n = 10\n",
        "while n <= 15:           # n 이 15보다 작거나 같을 때까지\n",
        "  n += 1                 # n = n + 1 n을 1씩 증가\n",
        "  if n == 12:            # n의 값이 12이면\n",
        "    continue             # 블럭내부의 코드 실행을 건너뛰자.\n",
        "  print(n)               # n의 값을 출력"
      ],
      "execution_count": null,
      "outputs": [
        {
          "output_type": "stream",
          "text": [
            "11\n",
            "13\n",
            "14\n",
            "15\n",
            "16\n"
          ],
          "name": "stdout"
        }
      ]
    },
    {
      "cell_type": "code",
      "metadata": {
        "colab": {
          "base_uri": "https://localhost:8080/"
        },
        "id": "02DwN3sN9DbA",
        "outputId": "d2bc20b7-51b4-41eb-ba8e-12c91357c007"
      },
      "source": [
        "n = 10                   # n = 10\n",
        "while n <= 15:           # n 이 15보다 작거나 같을 때까지\n",
        "  n += 1                 # n = n + 1 n을 1씩 증가\n",
        "  if n == 12:            # n의 값이 12이면\n",
        "    break                # 블럭내부에서 탈출\n",
        "  print(n)               # n의 값을 출력"
      ],
      "execution_count": null,
      "outputs": [
        {
          "output_type": "stream",
          "text": [
            "11\n"
          ],
          "name": "stdout"
        }
      ]
    },
    {
      "cell_type": "code",
      "metadata": {
        "colab": {
          "base_uri": "https://localhost:8080/"
        },
        "id": "QMIUl62G1YGC",
        "outputId": "8ec0eab5-f279-471c-8030-b66f8d562270"
      },
      "source": [
        "#break, continue\n",
        "\n",
        "data = 5\n",
        "while data >=0:\n",
        "  print(\"data ==\", data)\n",
        "  data -=1\n",
        "\n",
        "  if data == 2:\n",
        "    print(\"break here\")\n",
        "    break\n",
        "  else:\n",
        "      print(\"continue here\")\n",
        "      continue"
      ],
      "execution_count": null,
      "outputs": [
        {
          "output_type": "stream",
          "text": [
            "data == 5\n",
            "continue here\n",
            "data == 4\n",
            "continue here\n",
            "data == 3\n",
            "break here\n"
          ],
          "name": "stdout"
        }
      ]
    },
    {
      "cell_type": "code",
      "metadata": {
        "id": "4GV3nNZq2ViK"
      },
      "source": [
        ""
      ],
      "execution_count": null,
      "outputs": []
    }
  ]
}