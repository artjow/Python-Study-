{
  "nbformat": 4,
  "nbformat_minor": 0,
  "metadata": {
    "colab": {
      "name": "파이썬으로서울시코로나19웹크롤링.ipynb",
      "provenance": []
    },
    "kernelspec": {
      "name": "python3",
      "display_name": "Python 3"
    }
  },
  "cells": [
    {
      "cell_type": "code",
      "metadata": {
        "id": "N3Lo1WaXqHD0",
        "colab_type": "code",
        "colab": {}
      },
      "source": [
        "import pandas as pd"
      ],
      "execution_count": null,
      "outputs": []
    },
    {
      "cell_type": "code",
      "metadata": {
        "id": "YZ3DfpQUqL_x",
        "colab_type": "code",
        "colab": {
          "base_uri": "https://localhost:8080/",
          "height": 36
        },
        "outputId": "1538fe47-cb79-4f9c-acfe-9479189ced5c"
      },
      "source": [
        "url = \"https://www.seoul.go.kr/coronaV/coronaStatus.do?menu_code=01\"\n",
        "url"
      ],
      "execution_count": null,
      "outputs": [
        {
          "output_type": "execute_result",
          "data": {
            "application/vnd.google.colaboratory.intrinsic": {
              "type": "string"
            },
            "text/plain": [
              "'https://www.seoul.go.kr/coronaV/coronaStatus.do?menu_code=01'"
            ]
          },
          "metadata": {
            "tags": []
          },
          "execution_count": 2
        }
      ]
    },
    {
      "cell_type": "code",
      "metadata": {
        "id": "apYiWofBsDbR",
        "colab_type": "code",
        "colab": {
          "base_uri": "https://localhost:8080/",
          "height": 653
        },
        "outputId": "57cda96c-d2ed-4c0c-d2b4-6d991dd9d478"
      },
      "source": [
        "pd.read_html(url)"
      ],
      "execution_count": null,
      "outputs": [
        {
          "output_type": "execute_result",
          "data": {
            "text/plain": [
              "[     소계  해외접촉관련  강남역삼동금융회사관련  관악구왕성교회관련  ...  구로구콜센터관련  타 시·도확진자접촉자   기타  경로확인중\n",
              " 0  1393     316            8         30  ...        98           46  338    132\n",
              " \n",
              " [1 rows x 16 columns],                                                    0\n",
              " 0  < 신종 코로나바이러스 감염증 예방 국민 행동수칙 >○ 기침 등 호흡기 증상이 있을...,                                                    0\n",
              " 0  < 신종 코로나바이러스 감염증 예방 의료기관 행동수칙 >○ 호흡기 질환자 진료시 마...,                                                    0\n",
              " 0  이 보도자료는 관련 발생 상황에 대한 정보를 신속 투명하게 공개하기 위한 것으로, ...,         연번     환자    확진일  거주지     여행력         접촉력         조치사항\n",
              " 0     1393  13283  7.08.  광진구       -  광진구 확진자 접촉        서울의료원\n",
              " 1     1392  13271  7.08.  동작구       -  강남역삼동 금융회사         서남병원\n",
              " 2     1391  13250  7.08.  구로구       -     왕성교회 관련       생활치료센터\n",
              " 3     1390  13261  7.08.  노원구  우즈베키스탄    해외 접촉 추정        서울의료원\n",
              " 4     1389  13259  7.08.   중구  우즈베키스탄    해외 접촉 추정       순천향대병원\n",
              " ...    ...    ...    ...  ...     ...         ...          ...\n",
              " 1388     5      9  1.31.  성북구       -       #5 접촉    서울의료원(퇴원)\n",
              " 1389     4      7  1.30.  마포구  중국 우한시       해외 접촉    서울의료원(퇴원)\n",
              " 1390     3      6  1.30.  종로구       -       #3 접촉  서울대학교병원(퇴원)\n",
              " 1391     2      5  1.30.  중랑구  중국 우한시       해외 접촉    서울의료원(퇴원)\n",
              " 1392     1      2  1.24.  강서구  중국 우한시       해외 접촉  국립중앙의료원(퇴원)\n",
              " \n",
              " [1393 rows x 7 columns],                                                      연번  ...         격리시설\n",
              " 0     1393  <tr>  <td class=\"tdl\" colspan=\"5\">  <p><...  ...        서울의료원\n",
              " 1     1392  <tr>  <td class=\"tdl\" colspan=\"5\">  <p>확...  ...         서남병원\n",
              " 2     1391  <tr>  <td class=\"tdl\" colspan=\"5\">  <p>확...  ...       생활치료센터\n",
              " 3     1390  <tr>  <td class=\"tdl\" colspan=\"5\">  <p>확...  ...        서울의료원\n",
              " 4     1389  <tr>  <td class=\"tdl\" colspan=\"5\">  <p>확...  ...       순천향대병원\n",
              " ...                                                 ...  ...          ...\n",
              " 1388  5  <tr>  <td class=\"tdl\" colspan=\"5\">  <p>이동경로...  ...    서울의료원(퇴원)\n",
              " 1389  4  <tr>  <td class=\"tdl\" colspan=\"5\">  <p>이동경로...  ...    서울의료원(퇴원)\n",
              " 1390  3  <tr>  <td class=\"tdl\" colspan=\"5\">  <p>이동경로...  ...  서울대학교병원(퇴원)\n",
              " 1391  2  <tr>  <td class=\"tdl\" colspan=\"5\">  <p>이동경로...  ...    서울의료원(퇴원)\n",
              " 1392  1  <tr>  <td class=\"tdl\" colspan=\"5\">  <p>이동경로...  ...  국립중앙의료원(퇴원)\n",
              " \n",
              " [1393 rows x 6 columns]]"
            ]
          },
          "metadata": {
            "tags": []
          },
          "execution_count": 8
        }
      ]
    },
    {
      "cell_type": "code",
      "metadata": {
        "id": "DJO9wEwaqgct",
        "colab_type": "code",
        "colab": {
          "base_uri": "https://localhost:8080/",
          "height": 36
        },
        "outputId": "fe1f13d9-b1a9-4c56-9989-8bd34029e0fe"
      },
      "source": [
        "table = pd.read_html(url)\n",
        "len(table)\n",
        "# len 불러온 개수"
      ],
      "execution_count": null,
      "outputs": [
        {
          "output_type": "execute_result",
          "data": {
            "text/plain": [
              "6"
            ]
          },
          "metadata": {
            "tags": []
          },
          "execution_count": 9
        }
      ]
    },
    {
      "cell_type": "code",
      "metadata": {
        "id": "HQbBlU_LrVH2",
        "colab_type": "code",
        "colab": {
          "base_uri": "https://localhost:8080/",
          "height": 183
        },
        "outputId": "90b8cfa8-b33d-42ce-c19e-d215667e81cc"
      },
      "source": [
        "table[0]"
      ],
      "execution_count": null,
      "outputs": [
        {
          "output_type": "execute_result",
          "data": {
            "text/html": [
              "<div>\n",
              "<style scoped>\n",
              "    .dataframe tbody tr th:only-of-type {\n",
              "        vertical-align: middle;\n",
              "    }\n",
              "\n",
              "    .dataframe tbody tr th {\n",
              "        vertical-align: top;\n",
              "    }\n",
              "\n",
              "    .dataframe thead th {\n",
              "        text-align: right;\n",
              "    }\n",
              "</style>\n",
              "<table border=\"1\" class=\"dataframe\">\n",
              "  <thead>\n",
              "    <tr style=\"text-align: right;\">\n",
              "      <th></th>\n",
              "      <th>소계</th>\n",
              "      <th>해외접촉관련</th>\n",
              "      <th>강남역삼동금융회사관련</th>\n",
              "      <th>관악구왕성교회관련</th>\n",
              "      <th>강남구사무실관련</th>\n",
              "      <th>강남구역삼동모임</th>\n",
              "      <th>도봉구요양시설관련</th>\n",
              "      <th>리치웨이관련</th>\n",
              "      <th>부천시쿠팡관련</th>\n",
              "      <th>수도권개척교회관련</th>\n",
              "      <th>양천구운동시설관련</th>\n",
              "      <th>이태원클럽관련</th>\n",
              "      <th>구로구콜센터관련</th>\n",
              "      <th>타 시·도확진자접촉자</th>\n",
              "      <th>기타</th>\n",
              "      <th>경로확인중</th>\n",
              "    </tr>\n",
              "  </thead>\n",
              "  <tbody>\n",
              "    <tr>\n",
              "      <th>0</th>\n",
              "      <td>1393</td>\n",
              "      <td>316</td>\n",
              "      <td>8</td>\n",
              "      <td>30</td>\n",
              "      <td>6</td>\n",
              "      <td>12</td>\n",
              "      <td>43</td>\n",
              "      <td>122</td>\n",
              "      <td>24</td>\n",
              "      <td>37</td>\n",
              "      <td>43</td>\n",
              "      <td>139</td>\n",
              "      <td>98</td>\n",
              "      <td>46</td>\n",
              "      <td>338</td>\n",
              "      <td>132</td>\n",
              "    </tr>\n",
              "  </tbody>\n",
              "</table>\n",
              "</div>"
            ],
            "text/plain": [
              "     소계  해외접촉관련  강남역삼동금융회사관련  관악구왕성교회관련  ...  구로구콜센터관련  타 시·도확진자접촉자   기타  경로확인중\n",
              "0  1393     316            8         30  ...        98           46  338    132\n",
              "\n",
              "[1 rows x 16 columns]"
            ]
          },
          "metadata": {
            "tags": []
          },
          "execution_count": 5
        }
      ]
    },
    {
      "cell_type": "code",
      "metadata": {
        "id": "tpVD8mKNrtBg",
        "colab_type": "code",
        "colab": {
          "base_uri": "https://localhost:8080/",
          "height": 539
        },
        "outputId": "24ae704e-ae8c-45eb-f444-0fe27d70710e"
      },
      "source": [
        "table[0].transpose()\n",
        "#table[0].T\n",
        "#행과 열 바꾸기\n",
        "#지금은 열로 바꾸기"
      ],
      "execution_count": null,
      "outputs": [
        {
          "output_type": "execute_result",
          "data": {
            "text/html": [
              "<div>\n",
              "<style scoped>\n",
              "    .dataframe tbody tr th:only-of-type {\n",
              "        vertical-align: middle;\n",
              "    }\n",
              "\n",
              "    .dataframe tbody tr th {\n",
              "        vertical-align: top;\n",
              "    }\n",
              "\n",
              "    .dataframe thead th {\n",
              "        text-align: right;\n",
              "    }\n",
              "</style>\n",
              "<table border=\"1\" class=\"dataframe\">\n",
              "  <thead>\n",
              "    <tr style=\"text-align: right;\">\n",
              "      <th></th>\n",
              "      <th>0</th>\n",
              "    </tr>\n",
              "  </thead>\n",
              "  <tbody>\n",
              "    <tr>\n",
              "      <th>소계</th>\n",
              "      <td>1393</td>\n",
              "    </tr>\n",
              "    <tr>\n",
              "      <th>해외접촉관련</th>\n",
              "      <td>316</td>\n",
              "    </tr>\n",
              "    <tr>\n",
              "      <th>강남역삼동금융회사관련</th>\n",
              "      <td>8</td>\n",
              "    </tr>\n",
              "    <tr>\n",
              "      <th>관악구왕성교회관련</th>\n",
              "      <td>30</td>\n",
              "    </tr>\n",
              "    <tr>\n",
              "      <th>강남구사무실관련</th>\n",
              "      <td>6</td>\n",
              "    </tr>\n",
              "    <tr>\n",
              "      <th>강남구역삼동모임</th>\n",
              "      <td>12</td>\n",
              "    </tr>\n",
              "    <tr>\n",
              "      <th>도봉구요양시설관련</th>\n",
              "      <td>43</td>\n",
              "    </tr>\n",
              "    <tr>\n",
              "      <th>리치웨이관련</th>\n",
              "      <td>122</td>\n",
              "    </tr>\n",
              "    <tr>\n",
              "      <th>부천시쿠팡관련</th>\n",
              "      <td>24</td>\n",
              "    </tr>\n",
              "    <tr>\n",
              "      <th>수도권개척교회관련</th>\n",
              "      <td>37</td>\n",
              "    </tr>\n",
              "    <tr>\n",
              "      <th>양천구운동시설관련</th>\n",
              "      <td>43</td>\n",
              "    </tr>\n",
              "    <tr>\n",
              "      <th>이태원클럽관련</th>\n",
              "      <td>139</td>\n",
              "    </tr>\n",
              "    <tr>\n",
              "      <th>구로구콜센터관련</th>\n",
              "      <td>98</td>\n",
              "    </tr>\n",
              "    <tr>\n",
              "      <th>타 시·도확진자접촉자</th>\n",
              "      <td>46</td>\n",
              "    </tr>\n",
              "    <tr>\n",
              "      <th>기타</th>\n",
              "      <td>338</td>\n",
              "    </tr>\n",
              "    <tr>\n",
              "      <th>경로확인중</th>\n",
              "      <td>132</td>\n",
              "    </tr>\n",
              "  </tbody>\n",
              "</table>\n",
              "</div>"
            ],
            "text/plain": [
              "                0\n",
              "소계           1393\n",
              "해외접촉관련        316\n",
              "강남역삼동금융회사관련     8\n",
              "관악구왕성교회관련      30\n",
              "강남구사무실관련        6\n",
              "강남구역삼동모임       12\n",
              "도봉구요양시설관련      43\n",
              "리치웨이관련        122\n",
              "부천시쿠팡관련        24\n",
              "수도권개척교회관련      37\n",
              "양천구운동시설관련      43\n",
              "이태원클럽관련       139\n",
              "구로구콜센터관련       98\n",
              "타 시·도확진자접촉자    46\n",
              "기타            338\n",
              "경로확인중         132"
            ]
          },
          "metadata": {
            "tags": []
          },
          "execution_count": 12
        }
      ]
    },
    {
      "cell_type": "code",
      "metadata": {
        "id": "2dMD8qBQsutt",
        "colab_type": "code",
        "colab": {
          "base_uri": "https://localhost:8080/",
          "height": 415
        },
        "outputId": "da38dd27-99fc-4111-fefa-2c2898a80f5b"
      },
      "source": [
        "table[4]"
      ],
      "execution_count": null,
      "outputs": [
        {
          "output_type": "execute_result",
          "data": {
            "text/html": [
              "<div>\n",
              "<style scoped>\n",
              "    .dataframe tbody tr th:only-of-type {\n",
              "        vertical-align: middle;\n",
              "    }\n",
              "\n",
              "    .dataframe tbody tr th {\n",
              "        vertical-align: top;\n",
              "    }\n",
              "\n",
              "    .dataframe thead th {\n",
              "        text-align: right;\n",
              "    }\n",
              "</style>\n",
              "<table border=\"1\" class=\"dataframe\">\n",
              "  <thead>\n",
              "    <tr style=\"text-align: right;\">\n",
              "      <th></th>\n",
              "      <th>연번</th>\n",
              "      <th>환자</th>\n",
              "      <th>확진일</th>\n",
              "      <th>거주지</th>\n",
              "      <th>여행력</th>\n",
              "      <th>접촉력</th>\n",
              "      <th>조치사항</th>\n",
              "    </tr>\n",
              "  </thead>\n",
              "  <tbody>\n",
              "    <tr>\n",
              "      <th>0</th>\n",
              "      <td>1393</td>\n",
              "      <td>13283</td>\n",
              "      <td>7.08.</td>\n",
              "      <td>광진구</td>\n",
              "      <td>-</td>\n",
              "      <td>광진구 확진자 접촉</td>\n",
              "      <td>서울의료원</td>\n",
              "    </tr>\n",
              "    <tr>\n",
              "      <th>1</th>\n",
              "      <td>1392</td>\n",
              "      <td>13271</td>\n",
              "      <td>7.08.</td>\n",
              "      <td>동작구</td>\n",
              "      <td>-</td>\n",
              "      <td>강남역삼동 금융회사</td>\n",
              "      <td>서남병원</td>\n",
              "    </tr>\n",
              "    <tr>\n",
              "      <th>2</th>\n",
              "      <td>1391</td>\n",
              "      <td>13250</td>\n",
              "      <td>7.08.</td>\n",
              "      <td>구로구</td>\n",
              "      <td>-</td>\n",
              "      <td>왕성교회 관련</td>\n",
              "      <td>생활치료센터</td>\n",
              "    </tr>\n",
              "    <tr>\n",
              "      <th>3</th>\n",
              "      <td>1390</td>\n",
              "      <td>13261</td>\n",
              "      <td>7.08.</td>\n",
              "      <td>노원구</td>\n",
              "      <td>우즈베키스탄</td>\n",
              "      <td>해외 접촉 추정</td>\n",
              "      <td>서울의료원</td>\n",
              "    </tr>\n",
              "    <tr>\n",
              "      <th>4</th>\n",
              "      <td>1389</td>\n",
              "      <td>13259</td>\n",
              "      <td>7.08.</td>\n",
              "      <td>중구</td>\n",
              "      <td>우즈베키스탄</td>\n",
              "      <td>해외 접촉 추정</td>\n",
              "      <td>순천향대병원</td>\n",
              "    </tr>\n",
              "    <tr>\n",
              "      <th>...</th>\n",
              "      <td>...</td>\n",
              "      <td>...</td>\n",
              "      <td>...</td>\n",
              "      <td>...</td>\n",
              "      <td>...</td>\n",
              "      <td>...</td>\n",
              "      <td>...</td>\n",
              "    </tr>\n",
              "    <tr>\n",
              "      <th>1388</th>\n",
              "      <td>5</td>\n",
              "      <td>9</td>\n",
              "      <td>1.31.</td>\n",
              "      <td>성북구</td>\n",
              "      <td>-</td>\n",
              "      <td>#5 접촉</td>\n",
              "      <td>서울의료원(퇴원)</td>\n",
              "    </tr>\n",
              "    <tr>\n",
              "      <th>1389</th>\n",
              "      <td>4</td>\n",
              "      <td>7</td>\n",
              "      <td>1.30.</td>\n",
              "      <td>마포구</td>\n",
              "      <td>중국 우한시</td>\n",
              "      <td>해외 접촉</td>\n",
              "      <td>서울의료원(퇴원)</td>\n",
              "    </tr>\n",
              "    <tr>\n",
              "      <th>1390</th>\n",
              "      <td>3</td>\n",
              "      <td>6</td>\n",
              "      <td>1.30.</td>\n",
              "      <td>종로구</td>\n",
              "      <td>-</td>\n",
              "      <td>#3 접촉</td>\n",
              "      <td>서울대학교병원(퇴원)</td>\n",
              "    </tr>\n",
              "    <tr>\n",
              "      <th>1391</th>\n",
              "      <td>2</td>\n",
              "      <td>5</td>\n",
              "      <td>1.30.</td>\n",
              "      <td>중랑구</td>\n",
              "      <td>중국 우한시</td>\n",
              "      <td>해외 접촉</td>\n",
              "      <td>서울의료원(퇴원)</td>\n",
              "    </tr>\n",
              "    <tr>\n",
              "      <th>1392</th>\n",
              "      <td>1</td>\n",
              "      <td>2</td>\n",
              "      <td>1.24.</td>\n",
              "      <td>강서구</td>\n",
              "      <td>중국 우한시</td>\n",
              "      <td>해외 접촉</td>\n",
              "      <td>국립중앙의료원(퇴원)</td>\n",
              "    </tr>\n",
              "  </tbody>\n",
              "</table>\n",
              "<p>1393 rows × 7 columns</p>\n",
              "</div>"
            ],
            "text/plain": [
              "        연번     환자    확진일  거주지     여행력         접촉력         조치사항\n",
              "0     1393  13283  7.08.  광진구       -  광진구 확진자 접촉        서울의료원\n",
              "1     1392  13271  7.08.  동작구       -  강남역삼동 금융회사         서남병원\n",
              "2     1391  13250  7.08.  구로구       -     왕성교회 관련       생활치료센터\n",
              "3     1390  13261  7.08.  노원구  우즈베키스탄    해외 접촉 추정        서울의료원\n",
              "4     1389  13259  7.08.   중구  우즈베키스탄    해외 접촉 추정       순천향대병원\n",
              "...    ...    ...    ...  ...     ...         ...          ...\n",
              "1388     5      9  1.31.  성북구       -       #5 접촉    서울의료원(퇴원)\n",
              "1389     4      7  1.30.  마포구  중국 우한시       해외 접촉    서울의료원(퇴원)\n",
              "1390     3      6  1.30.  종로구       -       #3 접촉  서울대학교병원(퇴원)\n",
              "1391     2      5  1.30.  중랑구  중국 우한시       해외 접촉    서울의료원(퇴원)\n",
              "1392     1      2  1.24.  강서구  중국 우한시       해외 접촉  국립중앙의료원(퇴원)\n",
              "\n",
              "[1393 rows x 7 columns]"
            ]
          },
          "metadata": {
            "tags": []
          },
          "execution_count": 15
        }
      ]
    },
    {
      "cell_type": "code",
      "metadata": {
        "id": "OaSOREVWtP6m",
        "colab_type": "code",
        "colab": {
          "base_uri": "https://localhost:8080/",
          "height": 36
        },
        "outputId": "82700117-cbe3-47c3-a15d-fe589e91d8bd"
      },
      "source": [
        "df = table[4]\n",
        "df.shape\n",
        "#행렬표시"
      ],
      "execution_count": null,
      "outputs": [
        {
          "output_type": "execute_result",
          "data": {
            "text/plain": [
              "(1393, 7)"
            ]
          },
          "metadata": {
            "tags": []
          },
          "execution_count": 17
        }
      ]
    },
    {
      "cell_type": "code",
      "metadata": {
        "id": "mIJGqgMatr0G",
        "colab_type": "code",
        "colab": {
          "base_uri": "https://localhost:8080/",
          "height": 202
        },
        "outputId": "81a3539e-976d-4a6e-dc36-c3e72959b0aa"
      },
      "source": [
        "df.head()"
      ],
      "execution_count": null,
      "outputs": [
        {
          "output_type": "execute_result",
          "data": {
            "text/html": [
              "<div>\n",
              "<style scoped>\n",
              "    .dataframe tbody tr th:only-of-type {\n",
              "        vertical-align: middle;\n",
              "    }\n",
              "\n",
              "    .dataframe tbody tr th {\n",
              "        vertical-align: top;\n",
              "    }\n",
              "\n",
              "    .dataframe thead th {\n",
              "        text-align: right;\n",
              "    }\n",
              "</style>\n",
              "<table border=\"1\" class=\"dataframe\">\n",
              "  <thead>\n",
              "    <tr style=\"text-align: right;\">\n",
              "      <th></th>\n",
              "      <th>연번</th>\n",
              "      <th>환자</th>\n",
              "      <th>확진일</th>\n",
              "      <th>거주지</th>\n",
              "      <th>여행력</th>\n",
              "      <th>접촉력</th>\n",
              "      <th>조치사항</th>\n",
              "    </tr>\n",
              "  </thead>\n",
              "  <tbody>\n",
              "    <tr>\n",
              "      <th>0</th>\n",
              "      <td>1393</td>\n",
              "      <td>13283</td>\n",
              "      <td>7.08.</td>\n",
              "      <td>광진구</td>\n",
              "      <td>-</td>\n",
              "      <td>광진구 확진자 접촉</td>\n",
              "      <td>서울의료원</td>\n",
              "    </tr>\n",
              "    <tr>\n",
              "      <th>1</th>\n",
              "      <td>1392</td>\n",
              "      <td>13271</td>\n",
              "      <td>7.08.</td>\n",
              "      <td>동작구</td>\n",
              "      <td>-</td>\n",
              "      <td>강남역삼동 금융회사</td>\n",
              "      <td>서남병원</td>\n",
              "    </tr>\n",
              "    <tr>\n",
              "      <th>2</th>\n",
              "      <td>1391</td>\n",
              "      <td>13250</td>\n",
              "      <td>7.08.</td>\n",
              "      <td>구로구</td>\n",
              "      <td>-</td>\n",
              "      <td>왕성교회 관련</td>\n",
              "      <td>생활치료센터</td>\n",
              "    </tr>\n",
              "    <tr>\n",
              "      <th>3</th>\n",
              "      <td>1390</td>\n",
              "      <td>13261</td>\n",
              "      <td>7.08.</td>\n",
              "      <td>노원구</td>\n",
              "      <td>우즈베키스탄</td>\n",
              "      <td>해외 접촉 추정</td>\n",
              "      <td>서울의료원</td>\n",
              "    </tr>\n",
              "    <tr>\n",
              "      <th>4</th>\n",
              "      <td>1389</td>\n",
              "      <td>13259</td>\n",
              "      <td>7.08.</td>\n",
              "      <td>중구</td>\n",
              "      <td>우즈베키스탄</td>\n",
              "      <td>해외 접촉 추정</td>\n",
              "      <td>순천향대병원</td>\n",
              "    </tr>\n",
              "  </tbody>\n",
              "</table>\n",
              "</div>"
            ],
            "text/plain": [
              "     연번     환자    확진일  거주지     여행력         접촉력    조치사항\n",
              "0  1393  13283  7.08.  광진구       -  광진구 확진자 접촉   서울의료원\n",
              "1  1392  13271  7.08.  동작구       -  강남역삼동 금융회사    서남병원\n",
              "2  1391  13250  7.08.  구로구       -     왕성교회 관련  생활치료센터\n",
              "3  1390  13261  7.08.  노원구  우즈베키스탄    해외 접촉 추정   서울의료원\n",
              "4  1389  13259  7.08.   중구  우즈베키스탄    해외 접촉 추정  순천향대병원"
            ]
          },
          "metadata": {
            "tags": []
          },
          "execution_count": 18
        }
      ]
    },
    {
      "cell_type": "code",
      "metadata": {
        "id": "r7ZThRh5t6Uz",
        "colab_type": "code",
        "colab": {
          "base_uri": "https://localhost:8080/",
          "height": 167
        },
        "outputId": "38f088dd-edb6-4715-a72b-854b2a8c7559"
      },
      "source": [
        "df.loc[0]\n",
        "#1번 데이터만 가져옴"
      ],
      "execution_count": null,
      "outputs": [
        {
          "output_type": "execute_result",
          "data": {
            "text/plain": [
              "연번            1393\n",
              "환자           13283\n",
              "확진일          7.08.\n",
              "거주지            광진구\n",
              "여행력              -\n",
              "접촉력     광진구 확진자 접촉\n",
              "조치사항         서울의료원\n",
              "Name: 0, dtype: object"
            ]
          },
          "metadata": {
            "tags": []
          },
          "execution_count": 20
        }
      ]
    },
    {
      "cell_type": "code",
      "metadata": {
        "id": "0H69SKt9uHw4",
        "colab_type": "code",
        "colab": {
          "base_uri": "https://localhost:8080/",
          "height": 36
        },
        "outputId": "3db14170-77f2-416d-87f5-330239d2c2a0"
      },
      "source": [
        "df.loc[0,'확진일']"
      ],
      "execution_count": null,
      "outputs": [
        {
          "output_type": "execute_result",
          "data": {
            "application/vnd.google.colaboratory.intrinsic": {
              "type": "string"
            },
            "text/plain": [
              "'7.08.'"
            ]
          },
          "metadata": {
            "tags": []
          },
          "execution_count": 21
        }
      ]
    },
    {
      "cell_type": "code",
      "metadata": {
        "id": "MDynVx1_uW7m",
        "colab_type": "code",
        "colab": {
          "base_uri": "https://localhost:8080/",
          "height": 36
        },
        "outputId": "bfcf76eb-2aad-476b-81d6-5eac3c37c547"
      },
      "source": [
        "last_day = df.loc[0,'확진일']\n",
        "last_day"
      ],
      "execution_count": null,
      "outputs": [
        {
          "output_type": "execute_result",
          "data": {
            "application/vnd.google.colaboratory.intrinsic": {
              "type": "string"
            },
            "text/plain": [
              "'7.08.'"
            ]
          },
          "metadata": {
            "tags": []
          },
          "execution_count": 22
        }
      ]
    },
    {
      "cell_type": "code",
      "metadata": {
        "id": "HfBLsNrQujKT",
        "colab_type": "code",
        "colab": {
          "base_uri": "https://localhost:8080/",
          "height": 36
        },
        "outputId": "3c0b247f-1dd5-4163-9adc-dc4e73fb01ca"
      },
      "source": [
        "last_day = df.loc[0,'확진일']\n",
        "last_day = last_day.replace('.', '_')\n",
        "last_day\n",
        "#.을 _(언더바)로 변경"
      ],
      "execution_count": null,
      "outputs": [
        {
          "output_type": "execute_result",
          "data": {
            "application/vnd.google.colaboratory.intrinsic": {
              "type": "string"
            },
            "text/plain": [
              "'7_08_'"
            ]
          },
          "metadata": {
            "tags": []
          },
          "execution_count": 25
        }
      ]
    },
    {
      "cell_type": "code",
      "metadata": {
        "id": "FyfW_LtHuyJQ",
        "colab_type": "code",
        "colab": {
          "base_uri": "https://localhost:8080/",
          "height": 36
        },
        "outputId": "e5319463-6738-4d6f-ec52-77fb36ffa011"
      },
      "source": [
        "file_name = f'seoul-covid19_{last_day}.csv'\n",
        "file_name\n",
        "#파일명 만들기"
      ],
      "execution_count": null,
      "outputs": [
        {
          "output_type": "execute_result",
          "data": {
            "application/vnd.google.colaboratory.intrinsic": {
              "type": "string"
            },
            "text/plain": [
              "'seoul-covid19_7_08_.csv'"
            ]
          },
          "metadata": {
            "tags": []
          },
          "execution_count": 28
        }
      ]
    },
    {
      "cell_type": "code",
      "metadata": {
        "id": "nRCOqFIfwk55",
        "colab_type": "code",
        "colab": {}
      },
      "source": [
        "df.to_csv(file_name, index=False)\n",
        "#index=False(index는 저장하지 않기)"
      ],
      "execution_count": null,
      "outputs": []
    },
    {
      "cell_type": "code",
      "metadata": {
        "id": "_Poveeq8v1Xs",
        "colab_type": "code",
        "colab": {}
      },
      "source": [
        "df.to_csv(file_name)\n",
        "#파일로 저장"
      ],
      "execution_count": null,
      "outputs": []
    },
    {
      "cell_type": "code",
      "metadata": {
        "id": "US26BJPbvjfD",
        "colab_type": "code",
        "colab": {
          "base_uri": "https://localhost:8080/",
          "height": 415
        },
        "outputId": "d4e7be10-36d4-4089-f778-5b8fac5d5178"
      },
      "source": [
        "df"
      ],
      "execution_count": null,
      "outputs": [
        {
          "output_type": "execute_result",
          "data": {
            "text/html": [
              "<div>\n",
              "<style scoped>\n",
              "    .dataframe tbody tr th:only-of-type {\n",
              "        vertical-align: middle;\n",
              "    }\n",
              "\n",
              "    .dataframe tbody tr th {\n",
              "        vertical-align: top;\n",
              "    }\n",
              "\n",
              "    .dataframe thead th {\n",
              "        text-align: right;\n",
              "    }\n",
              "</style>\n",
              "<table border=\"1\" class=\"dataframe\">\n",
              "  <thead>\n",
              "    <tr style=\"text-align: right;\">\n",
              "      <th></th>\n",
              "      <th>연번</th>\n",
              "      <th>환자</th>\n",
              "      <th>확진일</th>\n",
              "      <th>거주지</th>\n",
              "      <th>여행력</th>\n",
              "      <th>접촉력</th>\n",
              "      <th>조치사항</th>\n",
              "    </tr>\n",
              "  </thead>\n",
              "  <tbody>\n",
              "    <tr>\n",
              "      <th>0</th>\n",
              "      <td>1393</td>\n",
              "      <td>13283</td>\n",
              "      <td>7.08.</td>\n",
              "      <td>광진구</td>\n",
              "      <td>-</td>\n",
              "      <td>광진구 확진자 접촉</td>\n",
              "      <td>서울의료원</td>\n",
              "    </tr>\n",
              "    <tr>\n",
              "      <th>1</th>\n",
              "      <td>1392</td>\n",
              "      <td>13271</td>\n",
              "      <td>7.08.</td>\n",
              "      <td>동작구</td>\n",
              "      <td>-</td>\n",
              "      <td>강남역삼동 금융회사</td>\n",
              "      <td>서남병원</td>\n",
              "    </tr>\n",
              "    <tr>\n",
              "      <th>2</th>\n",
              "      <td>1391</td>\n",
              "      <td>13250</td>\n",
              "      <td>7.08.</td>\n",
              "      <td>구로구</td>\n",
              "      <td>-</td>\n",
              "      <td>왕성교회 관련</td>\n",
              "      <td>생활치료센터</td>\n",
              "    </tr>\n",
              "    <tr>\n",
              "      <th>3</th>\n",
              "      <td>1390</td>\n",
              "      <td>13261</td>\n",
              "      <td>7.08.</td>\n",
              "      <td>노원구</td>\n",
              "      <td>우즈베키스탄</td>\n",
              "      <td>해외 접촉 추정</td>\n",
              "      <td>서울의료원</td>\n",
              "    </tr>\n",
              "    <tr>\n",
              "      <th>4</th>\n",
              "      <td>1389</td>\n",
              "      <td>13259</td>\n",
              "      <td>7.08.</td>\n",
              "      <td>중구</td>\n",
              "      <td>우즈베키스탄</td>\n",
              "      <td>해외 접촉 추정</td>\n",
              "      <td>순천향대병원</td>\n",
              "    </tr>\n",
              "    <tr>\n",
              "      <th>...</th>\n",
              "      <td>...</td>\n",
              "      <td>...</td>\n",
              "      <td>...</td>\n",
              "      <td>...</td>\n",
              "      <td>...</td>\n",
              "      <td>...</td>\n",
              "      <td>...</td>\n",
              "    </tr>\n",
              "    <tr>\n",
              "      <th>1388</th>\n",
              "      <td>5</td>\n",
              "      <td>9</td>\n",
              "      <td>1.31.</td>\n",
              "      <td>성북구</td>\n",
              "      <td>-</td>\n",
              "      <td>#5 접촉</td>\n",
              "      <td>서울의료원(퇴원)</td>\n",
              "    </tr>\n",
              "    <tr>\n",
              "      <th>1389</th>\n",
              "      <td>4</td>\n",
              "      <td>7</td>\n",
              "      <td>1.30.</td>\n",
              "      <td>마포구</td>\n",
              "      <td>중국 우한시</td>\n",
              "      <td>해외 접촉</td>\n",
              "      <td>서울의료원(퇴원)</td>\n",
              "    </tr>\n",
              "    <tr>\n",
              "      <th>1390</th>\n",
              "      <td>3</td>\n",
              "      <td>6</td>\n",
              "      <td>1.30.</td>\n",
              "      <td>종로구</td>\n",
              "      <td>-</td>\n",
              "      <td>#3 접촉</td>\n",
              "      <td>서울대학교병원(퇴원)</td>\n",
              "    </tr>\n",
              "    <tr>\n",
              "      <th>1391</th>\n",
              "      <td>2</td>\n",
              "      <td>5</td>\n",
              "      <td>1.30.</td>\n",
              "      <td>중랑구</td>\n",
              "      <td>중국 우한시</td>\n",
              "      <td>해외 접촉</td>\n",
              "      <td>서울의료원(퇴원)</td>\n",
              "    </tr>\n",
              "    <tr>\n",
              "      <th>1392</th>\n",
              "      <td>1</td>\n",
              "      <td>2</td>\n",
              "      <td>1.24.</td>\n",
              "      <td>강서구</td>\n",
              "      <td>중국 우한시</td>\n",
              "      <td>해외 접촉</td>\n",
              "      <td>국립중앙의료원(퇴원)</td>\n",
              "    </tr>\n",
              "  </tbody>\n",
              "</table>\n",
              "<p>1393 rows × 7 columns</p>\n",
              "</div>"
            ],
            "text/plain": [
              "        연번     환자    확진일  거주지     여행력         접촉력         조치사항\n",
              "0     1393  13283  7.08.  광진구       -  광진구 확진자 접촉        서울의료원\n",
              "1     1392  13271  7.08.  동작구       -  강남역삼동 금융회사         서남병원\n",
              "2     1391  13250  7.08.  구로구       -     왕성교회 관련       생활치료센터\n",
              "3     1390  13261  7.08.  노원구  우즈베키스탄    해외 접촉 추정        서울의료원\n",
              "4     1389  13259  7.08.   중구  우즈베키스탄    해외 접촉 추정       순천향대병원\n",
              "...    ...    ...    ...  ...     ...         ...          ...\n",
              "1388     5      9  1.31.  성북구       -       #5 접촉    서울의료원(퇴원)\n",
              "1389     4      7  1.30.  마포구  중국 우한시       해외 접촉    서울의료원(퇴원)\n",
              "1390     3      6  1.30.  종로구       -       #3 접촉  서울대학교병원(퇴원)\n",
              "1391     2      5  1.30.  중랑구  중국 우한시       해외 접촉    서울의료원(퇴원)\n",
              "1392     1      2  1.24.  강서구  중국 우한시       해외 접촉  국립중앙의료원(퇴원)\n",
              "\n",
              "[1393 rows x 7 columns]"
            ]
          },
          "metadata": {
            "tags": []
          },
          "execution_count": 46
        }
      ]
    },
    {
      "cell_type": "code",
      "metadata": {
        "id": "BRs4F2x4wAMj",
        "colab_type": "code",
        "colab": {
          "base_uri": "https://localhost:8080/",
          "height": 415
        },
        "outputId": "81cc3b90-d47e-4bd0-a553-3c935ea14a32"
      },
      "source": [
        "pd.read_csv(file_name)\n",
        "#저장한 파일 불러오기"
      ],
      "execution_count": null,
      "outputs": [
        {
          "output_type": "execute_result",
          "data": {
            "text/html": [
              "<div>\n",
              "<style scoped>\n",
              "    .dataframe tbody tr th:only-of-type {\n",
              "        vertical-align: middle;\n",
              "    }\n",
              "\n",
              "    .dataframe tbody tr th {\n",
              "        vertical-align: top;\n",
              "    }\n",
              "\n",
              "    .dataframe thead th {\n",
              "        text-align: right;\n",
              "    }\n",
              "</style>\n",
              "<table border=\"1\" class=\"dataframe\">\n",
              "  <thead>\n",
              "    <tr style=\"text-align: right;\">\n",
              "      <th></th>\n",
              "      <th>Unnamed: 0</th>\n",
              "      <th>연번</th>\n",
              "      <th>환자</th>\n",
              "      <th>확진일</th>\n",
              "      <th>거주지</th>\n",
              "      <th>여행력</th>\n",
              "      <th>접촉력</th>\n",
              "      <th>조치사항</th>\n",
              "    </tr>\n",
              "  </thead>\n",
              "  <tbody>\n",
              "    <tr>\n",
              "      <th>0</th>\n",
              "      <td>0</td>\n",
              "      <td>1393</td>\n",
              "      <td>13283</td>\n",
              "      <td>7.08.</td>\n",
              "      <td>광진구</td>\n",
              "      <td>-</td>\n",
              "      <td>광진구 확진자 접촉</td>\n",
              "      <td>서울의료원</td>\n",
              "    </tr>\n",
              "    <tr>\n",
              "      <th>1</th>\n",
              "      <td>1</td>\n",
              "      <td>1392</td>\n",
              "      <td>13271</td>\n",
              "      <td>7.08.</td>\n",
              "      <td>동작구</td>\n",
              "      <td>-</td>\n",
              "      <td>강남역삼동 금융회사</td>\n",
              "      <td>서남병원</td>\n",
              "    </tr>\n",
              "    <tr>\n",
              "      <th>2</th>\n",
              "      <td>2</td>\n",
              "      <td>1391</td>\n",
              "      <td>13250</td>\n",
              "      <td>7.08.</td>\n",
              "      <td>구로구</td>\n",
              "      <td>-</td>\n",
              "      <td>왕성교회 관련</td>\n",
              "      <td>생활치료센터</td>\n",
              "    </tr>\n",
              "    <tr>\n",
              "      <th>3</th>\n",
              "      <td>3</td>\n",
              "      <td>1390</td>\n",
              "      <td>13261</td>\n",
              "      <td>7.08.</td>\n",
              "      <td>노원구</td>\n",
              "      <td>우즈베키스탄</td>\n",
              "      <td>해외 접촉 추정</td>\n",
              "      <td>서울의료원</td>\n",
              "    </tr>\n",
              "    <tr>\n",
              "      <th>4</th>\n",
              "      <td>4</td>\n",
              "      <td>1389</td>\n",
              "      <td>13259</td>\n",
              "      <td>7.08.</td>\n",
              "      <td>중구</td>\n",
              "      <td>우즈베키스탄</td>\n",
              "      <td>해외 접촉 추정</td>\n",
              "      <td>순천향대병원</td>\n",
              "    </tr>\n",
              "    <tr>\n",
              "      <th>...</th>\n",
              "      <td>...</td>\n",
              "      <td>...</td>\n",
              "      <td>...</td>\n",
              "      <td>...</td>\n",
              "      <td>...</td>\n",
              "      <td>...</td>\n",
              "      <td>...</td>\n",
              "      <td>...</td>\n",
              "    </tr>\n",
              "    <tr>\n",
              "      <th>1388</th>\n",
              "      <td>1388</td>\n",
              "      <td>5</td>\n",
              "      <td>9</td>\n",
              "      <td>1.31.</td>\n",
              "      <td>성북구</td>\n",
              "      <td>-</td>\n",
              "      <td>#5 접촉</td>\n",
              "      <td>서울의료원(퇴원)</td>\n",
              "    </tr>\n",
              "    <tr>\n",
              "      <th>1389</th>\n",
              "      <td>1389</td>\n",
              "      <td>4</td>\n",
              "      <td>7</td>\n",
              "      <td>1.30.</td>\n",
              "      <td>마포구</td>\n",
              "      <td>중국 우한시</td>\n",
              "      <td>해외 접촉</td>\n",
              "      <td>서울의료원(퇴원)</td>\n",
              "    </tr>\n",
              "    <tr>\n",
              "      <th>1390</th>\n",
              "      <td>1390</td>\n",
              "      <td>3</td>\n",
              "      <td>6</td>\n",
              "      <td>1.30.</td>\n",
              "      <td>종로구</td>\n",
              "      <td>-</td>\n",
              "      <td>#3 접촉</td>\n",
              "      <td>서울대학교병원(퇴원)</td>\n",
              "    </tr>\n",
              "    <tr>\n",
              "      <th>1391</th>\n",
              "      <td>1391</td>\n",
              "      <td>2</td>\n",
              "      <td>5</td>\n",
              "      <td>1.30.</td>\n",
              "      <td>중랑구</td>\n",
              "      <td>중국 우한시</td>\n",
              "      <td>해외 접촉</td>\n",
              "      <td>서울의료원(퇴원)</td>\n",
              "    </tr>\n",
              "    <tr>\n",
              "      <th>1392</th>\n",
              "      <td>1392</td>\n",
              "      <td>1</td>\n",
              "      <td>2</td>\n",
              "      <td>1.24.</td>\n",
              "      <td>강서구</td>\n",
              "      <td>중국 우한시</td>\n",
              "      <td>해외 접촉</td>\n",
              "      <td>국립중앙의료원(퇴원)</td>\n",
              "    </tr>\n",
              "  </tbody>\n",
              "</table>\n",
              "<p>1393 rows × 8 columns</p>\n",
              "</div>"
            ],
            "text/plain": [
              "      Unnamed: 0    연번     환자    확진일  거주지     여행력         접촉력         조치사항\n",
              "0              0  1393  13283  7.08.  광진구       -  광진구 확진자 접촉        서울의료원\n",
              "1              1  1392  13271  7.08.  동작구       -  강남역삼동 금융회사         서남병원\n",
              "2              2  1391  13250  7.08.  구로구       -     왕성교회 관련       생활치료센터\n",
              "3              3  1390  13261  7.08.  노원구  우즈베키스탄    해외 접촉 추정        서울의료원\n",
              "4              4  1389  13259  7.08.   중구  우즈베키스탄    해외 접촉 추정       순천향대병원\n",
              "...          ...   ...    ...    ...  ...     ...         ...          ...\n",
              "1388        1388     5      9  1.31.  성북구       -       #5 접촉    서울의료원(퇴원)\n",
              "1389        1389     4      7  1.30.  마포구  중국 우한시       해외 접촉    서울의료원(퇴원)\n",
              "1390        1390     3      6  1.30.  종로구       -       #3 접촉  서울대학교병원(퇴원)\n",
              "1391        1391     2      5  1.30.  중랑구  중국 우한시       해외 접촉    서울의료원(퇴원)\n",
              "1392        1392     1      2  1.24.  강서구  중국 우한시       해외 접촉  국립중앙의료원(퇴원)\n",
              "\n",
              "[1393 rows x 8 columns]"
            ]
          },
          "metadata": {
            "tags": []
          },
          "execution_count": 44
        }
      ]
    },
    {
      "cell_type": "code",
      "metadata": {
        "id": "WHQ6ILPWwJ-C",
        "colab_type": "code",
        "colab": {}
      },
      "source": [
        "df.to_csv(file_name, index=False, encoding='cp949')\n",
        "#엑셀에서 열어볼 수 있게 저장"
      ],
      "execution_count": null,
      "outputs": []
    },
    {
      "cell_type": "code",
      "metadata": {
        "id": "FJSP4YXVx470",
        "colab_type": "code",
        "colab": {
          "base_uri": "https://localhost:8080/",
          "height": 415
        },
        "outputId": "1b20ea09-ae3c-4c34-b979-ec8baa21240f"
      },
      "source": [
        "pd.read_csv(file_name, encoding='cp949')\n",
        "#엑셀로 저장한 파일 불러오기"
      ],
      "execution_count": null,
      "outputs": [
        {
          "output_type": "execute_result",
          "data": {
            "text/html": [
              "<div>\n",
              "<style scoped>\n",
              "    .dataframe tbody tr th:only-of-type {\n",
              "        vertical-align: middle;\n",
              "    }\n",
              "\n",
              "    .dataframe tbody tr th {\n",
              "        vertical-align: top;\n",
              "    }\n",
              "\n",
              "    .dataframe thead th {\n",
              "        text-align: right;\n",
              "    }\n",
              "</style>\n",
              "<table border=\"1\" class=\"dataframe\">\n",
              "  <thead>\n",
              "    <tr style=\"text-align: right;\">\n",
              "      <th></th>\n",
              "      <th>연번</th>\n",
              "      <th>환자</th>\n",
              "      <th>확진일</th>\n",
              "      <th>거주지</th>\n",
              "      <th>여행력</th>\n",
              "      <th>접촉력</th>\n",
              "      <th>조치사항</th>\n",
              "    </tr>\n",
              "  </thead>\n",
              "  <tbody>\n",
              "    <tr>\n",
              "      <th>0</th>\n",
              "      <td>1393</td>\n",
              "      <td>13283</td>\n",
              "      <td>7.08.</td>\n",
              "      <td>광진구</td>\n",
              "      <td>-</td>\n",
              "      <td>광진구 확진자 접촉</td>\n",
              "      <td>서울의료원</td>\n",
              "    </tr>\n",
              "    <tr>\n",
              "      <th>1</th>\n",
              "      <td>1392</td>\n",
              "      <td>13271</td>\n",
              "      <td>7.08.</td>\n",
              "      <td>동작구</td>\n",
              "      <td>-</td>\n",
              "      <td>강남역삼동 금융회사</td>\n",
              "      <td>서남병원</td>\n",
              "    </tr>\n",
              "    <tr>\n",
              "      <th>2</th>\n",
              "      <td>1391</td>\n",
              "      <td>13250</td>\n",
              "      <td>7.08.</td>\n",
              "      <td>구로구</td>\n",
              "      <td>-</td>\n",
              "      <td>왕성교회 관련</td>\n",
              "      <td>생활치료센터</td>\n",
              "    </tr>\n",
              "    <tr>\n",
              "      <th>3</th>\n",
              "      <td>1390</td>\n",
              "      <td>13261</td>\n",
              "      <td>7.08.</td>\n",
              "      <td>노원구</td>\n",
              "      <td>우즈베키스탄</td>\n",
              "      <td>해외 접촉 추정</td>\n",
              "      <td>서울의료원</td>\n",
              "    </tr>\n",
              "    <tr>\n",
              "      <th>4</th>\n",
              "      <td>1389</td>\n",
              "      <td>13259</td>\n",
              "      <td>7.08.</td>\n",
              "      <td>중구</td>\n",
              "      <td>우즈베키스탄</td>\n",
              "      <td>해외 접촉 추정</td>\n",
              "      <td>순천향대병원</td>\n",
              "    </tr>\n",
              "    <tr>\n",
              "      <th>...</th>\n",
              "      <td>...</td>\n",
              "      <td>...</td>\n",
              "      <td>...</td>\n",
              "      <td>...</td>\n",
              "      <td>...</td>\n",
              "      <td>...</td>\n",
              "      <td>...</td>\n",
              "    </tr>\n",
              "    <tr>\n",
              "      <th>1388</th>\n",
              "      <td>5</td>\n",
              "      <td>9</td>\n",
              "      <td>1.31.</td>\n",
              "      <td>성북구</td>\n",
              "      <td>-</td>\n",
              "      <td>#5 접촉</td>\n",
              "      <td>서울의료원(퇴원)</td>\n",
              "    </tr>\n",
              "    <tr>\n",
              "      <th>1389</th>\n",
              "      <td>4</td>\n",
              "      <td>7</td>\n",
              "      <td>1.30.</td>\n",
              "      <td>마포구</td>\n",
              "      <td>중국 우한시</td>\n",
              "      <td>해외 접촉</td>\n",
              "      <td>서울의료원(퇴원)</td>\n",
              "    </tr>\n",
              "    <tr>\n",
              "      <th>1390</th>\n",
              "      <td>3</td>\n",
              "      <td>6</td>\n",
              "      <td>1.30.</td>\n",
              "      <td>종로구</td>\n",
              "      <td>-</td>\n",
              "      <td>#3 접촉</td>\n",
              "      <td>서울대학교병원(퇴원)</td>\n",
              "    </tr>\n",
              "    <tr>\n",
              "      <th>1391</th>\n",
              "      <td>2</td>\n",
              "      <td>5</td>\n",
              "      <td>1.30.</td>\n",
              "      <td>중랑구</td>\n",
              "      <td>중국 우한시</td>\n",
              "      <td>해외 접촉</td>\n",
              "      <td>서울의료원(퇴원)</td>\n",
              "    </tr>\n",
              "    <tr>\n",
              "      <th>1392</th>\n",
              "      <td>1</td>\n",
              "      <td>2</td>\n",
              "      <td>1.24.</td>\n",
              "      <td>강서구</td>\n",
              "      <td>중국 우한시</td>\n",
              "      <td>해외 접촉</td>\n",
              "      <td>국립중앙의료원(퇴원)</td>\n",
              "    </tr>\n",
              "  </tbody>\n",
              "</table>\n",
              "<p>1393 rows × 7 columns</p>\n",
              "</div>"
            ],
            "text/plain": [
              "        연번     환자    확진일  거주지     여행력         접촉력         조치사항\n",
              "0     1393  13283  7.08.  광진구       -  광진구 확진자 접촉        서울의료원\n",
              "1     1392  13271  7.08.  동작구       -  강남역삼동 금융회사         서남병원\n",
              "2     1391  13250  7.08.  구로구       -     왕성교회 관련       생활치료센터\n",
              "3     1390  13261  7.08.  노원구  우즈베키스탄    해외 접촉 추정        서울의료원\n",
              "4     1389  13259  7.08.   중구  우즈베키스탄    해외 접촉 추정       순천향대병원\n",
              "...    ...    ...    ...  ...     ...         ...          ...\n",
              "1388     5      9  1.31.  성북구       -       #5 접촉    서울의료원(퇴원)\n",
              "1389     4      7  1.30.  마포구  중국 우한시       해외 접촉    서울의료원(퇴원)\n",
              "1390     3      6  1.30.  종로구       -       #3 접촉  서울대학교병원(퇴원)\n",
              "1391     2      5  1.30.  중랑구  중국 우한시       해외 접촉    서울의료원(퇴원)\n",
              "1392     1      2  1.24.  강서구  중국 우한시       해외 접촉  국립중앙의료원(퇴원)\n",
              "\n",
              "[1393 rows x 7 columns]"
            ]
          },
          "metadata": {
            "tags": []
          },
          "execution_count": 48
        }
      ]
    },
    {
      "cell_type": "code",
      "metadata": {
        "id": "SbFnc8VPySBj",
        "colab_type": "code",
        "colab": {}
      },
      "source": [
        ""
      ],
      "execution_count": null,
      "outputs": []
    }
  ]
}