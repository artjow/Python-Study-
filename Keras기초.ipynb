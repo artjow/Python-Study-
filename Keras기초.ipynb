{
  "nbformat": 4,
  "nbformat_minor": 0,
  "metadata": {
    "colab": {
      "name": "Keras기초.ipynb",
      "provenance": [],
      "include_colab_link": true
    },
    "kernelspec": {
      "name": "python3",
      "display_name": "Python 3"
    }
  },
  "cells": [
    {
      "cell_type": "markdown",
      "metadata": {
        "id": "view-in-github",
        "colab_type": "text"
      },
      "source": [
        "<a href=\"https://colab.research.google.com/github/chohyungrae/Python-Study-/blob/master/Keras%EA%B8%B0%EC%B4%88.ipynb\" target=\"_parent\"><img src=\"https://colab.research.google.com/assets/colab-badge.svg\" alt=\"Open In Colab\"/></a>"
      ]
    },
    {
      "cell_type": "markdown",
      "metadata": {
        "id": "fUGvZh361n-3"
      },
      "source": [
        "# 케라스 임포트해서 사용하는 방법"
      ]
    },
    {
      "cell_type": "code",
      "metadata": {
        "colab": {
          "base_uri": "https://localhost:8080/",
          "height": 36
        },
        "id": "wb8eQP5vyWjF",
        "outputId": "303398d8-8b9c-4721-83de-e322e3822b10"
      },
      "source": [
        "import numpy as np\r\n",
        "import tensorflow as tf\r\n",
        "tf.__version__"
      ],
      "execution_count": null,
      "outputs": [
        {
          "output_type": "execute_result",
          "data": {
            "application/vnd.google.colaboratory.intrinsic+json": {
              "type": "string"
            },
            "text/plain": [
              "'2.4.1'"
            ]
          },
          "metadata": {
            "tags": []
          },
          "execution_count": 1
        }
      ]
    },
    {
      "cell_type": "code",
      "metadata": {
        "colab": {
          "base_uri": "https://localhost:8080/",
          "height": 36
        },
        "id": "wOANBoKKymM5",
        "outputId": "d9033427-8291-4ccc-8979-8f64c42cf1dd"
      },
      "source": [
        "from tensorflow import keras\r\n",
        "keras.__version__"
      ],
      "execution_count": null,
      "outputs": [
        {
          "output_type": "execute_result",
          "data": {
            "application/vnd.google.colaboratory.intrinsic+json": {
              "type": "string"
            },
            "text/plain": [
              "'2.4.0'"
            ]
          },
          "metadata": {
            "tags": []
          },
          "execution_count": 3
        }
      ]
    },
    {
      "cell_type": "code",
      "metadata": {
        "colab": {
          "base_uri": "https://localhost:8080/"
        },
        "id": "APIcMc4Jy2Qf",
        "outputId": "b7a66133-f5c1-4c4e-bd96-d82fdb13172c"
      },
      "source": [
        "keras.layers.Dense(10, activation='sigmoid')"
      ],
      "execution_count": null,
      "outputs": [
        {
          "output_type": "execute_result",
          "data": {
            "text/plain": [
              "<tensorflow.python.keras.layers.core.Dense at 0x7fadd8243630>"
            ]
          },
          "metadata": {
            "tags": []
          },
          "execution_count": 7
        }
      ]
    },
    {
      "cell_type": "code",
      "metadata": {
        "colab": {
          "base_uri": "https://localhost:8080/"
        },
        "id": "zOLqBktXzSoo",
        "outputId": "914613d2-f3e1-44f8-d303-feecab1c122b"
      },
      "source": [
        "keras.Model()"
      ],
      "execution_count": null,
      "outputs": [
        {
          "output_type": "execute_result",
          "data": {
            "text/plain": [
              "<tensorflow.python.keras.engine.training.Model at 0x7fadd821e898>"
            ]
          },
          "metadata": {
            "tags": []
          },
          "execution_count": 8
        }
      ]
    },
    {
      "cell_type": "code",
      "metadata": {
        "colab": {
          "base_uri": "https://localhost:8080/"
        },
        "id": "_fr-yzWqz0h7",
        "outputId": "d710a440-8590-4c6d-c3c1-6a4adbc78190"
      },
      "source": [
        "keras.models.Sequential()"
      ],
      "execution_count": null,
      "outputs": [
        {
          "output_type": "execute_result",
          "data": {
            "text/plain": [
              "<tensorflow.python.keras.engine.sequential.Sequential at 0x7fadd8241128>"
            ]
          },
          "metadata": {
            "tags": []
          },
          "execution_count": 9
        }
      ]
    },
    {
      "cell_type": "code",
      "metadata": {
        "id": "O3envIA3z90u"
      },
      "source": [
        "from tensorflow.keras.layers import Dense, Input, Flatten, Activation\r\n",
        "from tensorflow.keras.models import Sequential\r\n",
        "from tensorflow.keras import Model"
      ],
      "execution_count": null,
      "outputs": []
    },
    {
      "cell_type": "code",
      "metadata": {
        "colab": {
          "base_uri": "https://localhost:8080/"
        },
        "id": "m_n2mCXQ0qsa",
        "outputId": "41235b4c-ba43-459e-c13c-a1c104cc5783"
      },
      "source": [
        "Dense(10, activation='relu')"
      ],
      "execution_count": null,
      "outputs": [
        {
          "output_type": "execute_result",
          "data": {
            "text/plain": [
              "<tensorflow.python.keras.layers.core.Dense at 0x7fad9e729898>"
            ]
          },
          "metadata": {
            "tags": []
          },
          "execution_count": 11
        }
      ]
    },
    {
      "cell_type": "code",
      "metadata": {
        "colab": {
          "base_uri": "https://localhost:8080/"
        },
        "id": "y0gpfxvT05s0",
        "outputId": "2b51f18c-bef1-4add-bf54-54292a1b0a67"
      },
      "source": [
        "Flatten(input_shape=[28,28])"
      ],
      "execution_count": null,
      "outputs": [
        {
          "output_type": "execute_result",
          "data": {
            "text/plain": [
              "<tensorflow.python.keras.layers.core.Flatten at 0x7fad92d98cc0>"
            ]
          },
          "metadata": {
            "tags": []
          },
          "execution_count": 12
        }
      ]
    },
    {
      "cell_type": "code",
      "metadata": {
        "colab": {
          "base_uri": "https://localhost:8080/"
        },
        "id": "0Qglk0fH1In5",
        "outputId": "02ca350e-4d9d-4a6b-ddff-8e52a00cd422"
      },
      "source": [
        "x_train = np.random.randn(5500,2)\r\n",
        "Input(shape=x_train.shape[1:])"
      ],
      "execution_count": null,
      "outputs": [
        {
          "output_type": "execute_result",
          "data": {
            "text/plain": [
              "<KerasTensor: shape=(None, 2) dtype=float32 (created by layer 'input_1')>"
            ]
          },
          "metadata": {
            "tags": []
          },
          "execution_count": 14
        }
      ]
    },
    {
      "cell_type": "code",
      "metadata": {
        "colab": {
          "base_uri": "https://localhost:8080/"
        },
        "id": "nmSnEbVz1TqT",
        "outputId": "d6093674-f2b8-4fa8-80a8-21f893b58190"
      },
      "source": [
        "#객체할당(레이어선언)\r\n",
        "dense = Dense(10, activation='relu', name = 'Dense Layer')\r\n",
        "dense"
      ],
      "execution_count": null,
      "outputs": [
        {
          "output_type": "execute_result",
          "data": {
            "text/plain": [
              "<tensorflow.python.keras.layers.core.Dense at 0x7fad92990ef0>"
            ]
          },
          "metadata": {
            "tags": []
          },
          "execution_count": 20
        }
      ]
    },
    {
      "cell_type": "code",
      "metadata": {
        "colab": {
          "base_uri": "https://localhost:8080/"
        },
        "id": "8Pkx8PVP2yB6",
        "outputId": "5bc869b1-cf3d-409d-c9e5-3e29b7e8d46a"
      },
      "source": [
        "dense2 = Dense(15, activation='softmax')\r\n",
        "dense2"
      ],
      "execution_count": null,
      "outputs": [
        {
          "output_type": "execute_result",
          "data": {
            "text/plain": [
              "<tensorflow.python.keras.layers.core.Dense at 0x7fad929904e0>"
            ]
          },
          "metadata": {
            "tags": []
          },
          "execution_count": 21
        }
      ]
    },
    {
      "cell_type": "code",
      "metadata": {
        "colab": {
          "base_uri": "https://localhost:8080/"
        },
        "id": "J4eTrcvZ3VAW",
        "outputId": "83148863-a8e7-4487-b153-c7a96406a17f"
      },
      "source": [
        "#Activation함수\r\n",
        "dense = Dense(10, kernel_initializer='he_normal', name = 'Dense layer')\r\n",
        "dense = Activation(dense)\r\n",
        "dense"
      ],
      "execution_count": null,
      "outputs": [
        {
          "output_type": "execute_result",
          "data": {
            "text/plain": [
              "<tensorflow.python.keras.layers.core.Activation at 0x7fad929a3d30>"
            ]
          },
          "metadata": {
            "tags": []
          },
          "execution_count": 22
        }
      ]
    },
    {
      "cell_type": "code",
      "metadata": {
        "colab": {
          "base_uri": "https://localhost:8080/"
        },
        "id": "E-4BMgRx4HyU",
        "outputId": "12c8d4a9-64f7-4c32-89c9-339bfa4b9d77"
      },
      "source": [
        "#Flatten 레이어\r\n",
        "Flatten(input_shape = (28,28))\r\n"
      ],
      "execution_count": null,
      "outputs": [
        {
          "output_type": "execute_result",
          "data": {
            "text/plain": [
              "<tensorflow.python.keras.layers.core.Flatten at 0x7fad929a3630>"
            ]
          },
          "metadata": {
            "tags": []
          },
          "execution_count": 23
        }
      ]
    },
    {
      "cell_type": "code",
      "metadata": {
        "id": "vyhCfeMFxt1U"
      },
      "source": [
        "from tensorflow.keras.layers import Dense, Input, Flatten\r\n",
        "from tensorflow.keras.models import Sequential, Model\r\n",
        "from tensorflow.keras.utils import plot_model"
      ],
      "execution_count": 7,
      "outputs": []
    },
    {
      "cell_type": "code",
      "metadata": {
        "id": "V8jtLljRz1h0"
      },
      "source": [
        "model = Sequential()\r\n",
        "model.add(Input(shape=(28,28)))\r\n",
        "model.add(Dense(300, activation='relu'))\r\n",
        "model.add(Dense(100, activation='relu'))\r\n",
        "model.add(Dense(10, activation='softmax'))"
      ],
      "execution_count": 8,
      "outputs": []
    },
    {
      "cell_type": "code",
      "metadata": {
        "colab": {
          "base_uri": "https://localhost:8080/"
        },
        "id": "Qp2AIXXk0zuI",
        "outputId": "67290b75-06c3-45de-f110-7bb80dde0f74"
      },
      "source": [
        "#모델의구조확인\r\n",
        "model.summary()"
      ],
      "execution_count": 9,
      "outputs": [
        {
          "output_type": "stream",
          "text": [
            "Model: \"sequential\"\n",
            "_________________________________________________________________\n",
            "Layer (type)                 Output Shape              Param #   \n",
            "=================================================================\n",
            "dense (Dense)                (None, 28, 300)           8700      \n",
            "_________________________________________________________________\n",
            "dense_1 (Dense)              (None, 28, 100)           30100     \n",
            "_________________________________________________________________\n",
            "dense_2 (Dense)              (None, 28, 10)            1010      \n",
            "=================================================================\n",
            "Total params: 39,810\n",
            "Trainable params: 39,810\n",
            "Non-trainable params: 0\n",
            "_________________________________________________________________\n"
          ],
          "name": "stdout"
        }
      ]
    },
    {
      "cell_type": "code",
      "metadata": {
        "colab": {
          "base_uri": "https://localhost:8080/",
          "height": 369
        },
        "id": "i-LGoNDG0_-Z",
        "outputId": "411d857c-70d5-4fef-be2c-d07097cbbd1e"
      },
      "source": [
        "#그림으로 모델구조 설명\r\n",
        "plot_model(model)"
      ],
      "execution_count": 10,
      "outputs": [
        {
          "output_type": "execute_result",
          "data": {
            "image/png": "[encoded data removed]",
            "text/plain": [
              "<IPython.core.display.Image object>"
            ]
          },
          "metadata": {
            "tags": []
          },
          "execution_count": 10
        }
      ]
    },
    {
      "cell_type": "code",
      "metadata": {
        "colab": {
          "base_uri": "https://localhost:8080/",
          "height": 369
        },
        "id": "AS_s164R1Yrv",
        "outputId": "c50b3ed0-c66c-45c1-fec3-f41bdb71d777"
      },
      "source": [
        "#저장\r\n",
        "plot_model(model, to_file = 'model1.png')"
      ],
      "execution_count": 11,
      "outputs": [
        {
          "output_type": "execute_result",
          "data": {
            "image/png": "[encoded data removed]",
            "text/plain": [
              "<IPython.core.display.Image object>"
            ]
          },
          "metadata": {
            "tags": []
          },
          "execution_count": 11
        }
      ]
    },
    {
      "cell_type": "code",
      "metadata": {
        "colab": {
          "base_uri": "https://localhost:8080/"
        },
        "id": "nPGR9NAP1v3k",
        "outputId": "8089671c-3cc3-408a-d5fd-b43fa6894272"
      },
      "source": [
        "!ls"
      ],
      "execution_count": 12,
      "outputs": [
        {
          "output_type": "stream",
          "text": [
            "model1.png  model.png  sample_data\n"
          ],
          "name": "stdout"
        }
      ]
    },
    {
      "cell_type": "code",
      "metadata": {
        "id": "UbouboYL3CDU"
      },
      "source": [
        ""
      ],
      "execution_count": null,
      "outputs": []
    }
  ]
}