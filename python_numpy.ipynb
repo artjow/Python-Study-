{
  "nbformat": 4,
  "nbformat_minor": 0,
  "metadata": {
    "colab": {
      "name": "python_numpy.ipynb",
      "provenance": [],
      "authorship_tag": "ABX9TyPC8c8s7PmJVcrFFowz3lpm",
      "include_colab_link": true
    },
    "kernelspec": {
      "name": "python3",
      "display_name": "Python 3"
    }
  },
  "cells": [
    {
      "cell_type": "markdown",
      "metadata": {
        "id": "view-in-github",
        "colab_type": "text"
      },
      "source": [
        "<a href=\"https://colab.research.google.com/github/chohyungrae/Python-Study-/blob/master/python_numpy.ipynb\" target=\"_parent\"><img src=\"https://colab.research.google.com/assets/colab-badge.svg\" alt=\"Open In Colab\"/></a>"
      ]
    },
    {
      "cell_type": "code",
      "metadata": {
        "id": "JfW4TyfqnFlp"
      },
      "source": [
        "import numpy as np"
      ],
      "execution_count": 1,
      "outputs": []
    },
    {
      "cell_type": "code",
      "metadata": {
        "colab": {
          "base_uri": "https://localhost:8080/"
        },
        "id": "l_v38AzanM6I",
        "outputId": "3305ad27-03a3-4e23-e182-7da8678ced9f"
      },
      "source": [
        "a = np.arange(21)\r\n",
        "a"
      ],
      "execution_count": 2,
      "outputs": [
        {
          "output_type": "execute_result",
          "data": {
            "text/plain": [
              "array([ 0,  1,  2,  3,  4,  5,  6,  7,  8,  9, 10, 11, 12, 13, 14, 15, 16,\n",
              "       17, 18, 19, 20])"
            ]
          },
          "metadata": {
            "tags": []
          },
          "execution_count": 2
        }
      ]
    },
    {
      "cell_type": "code",
      "metadata": {
        "colab": {
          "base_uri": "https://localhost:8080/"
        },
        "id": "u-f8FjvBnTMf",
        "outputId": "6b685197-8971-4ba6-dc8c-f827422b1fe8"
      },
      "source": [
        "b = a. reshape(3,7)\r\n",
        "b"
      ],
      "execution_count": 4,
      "outputs": [
        {
          "output_type": "execute_result",
          "data": {
            "text/plain": [
              "array([[ 0,  1,  2,  3,  4,  5,  6],\n",
              "       [ 7,  8,  9, 10, 11, 12, 13],\n",
              "       [14, 15, 16, 17, 18, 19, 20]])"
            ]
          },
          "metadata": {
            "tags": []
          },
          "execution_count": 4
        }
      ]
    },
    {
      "cell_type": "code",
      "metadata": {
        "colab": {
          "base_uri": "https://localhost:8080/"
        },
        "id": "7OUd0w5Nnazr",
        "outputId": "c86038cf-3850-4591-e30d-d193a5e4f159"
      },
      "source": [
        "a.shape"
      ],
      "execution_count": 5,
      "outputs": [
        {
          "output_type": "execute_result",
          "data": {
            "text/plain": [
              "(21,)"
            ]
          },
          "metadata": {
            "tags": []
          },
          "execution_count": 5
        }
      ]
    },
    {
      "cell_type": "code",
      "metadata": {
        "colab": {
          "base_uri": "https://localhost:8080/"
        },
        "id": "SpIQF0iang2-",
        "outputId": "e8b85b4f-d6b8-4c28-f9e3-ebef7cd2cf30"
      },
      "source": [
        "b.shape"
      ],
      "execution_count": 6,
      "outputs": [
        {
          "output_type": "execute_result",
          "data": {
            "text/plain": [
              "(3, 7)"
            ]
          },
          "metadata": {
            "tags": []
          },
          "execution_count": 6
        }
      ]
    },
    {
      "cell_type": "code",
      "metadata": {
        "colab": {
          "base_uri": "https://localhost:8080/"
        },
        "id": "_x9YePyVnlMB",
        "outputId": "5c03fa84-9015-44a1-ca67-e0a752bf2cfb"
      },
      "source": [
        "a.ndim #차원"
      ],
      "execution_count": 8,
      "outputs": [
        {
          "output_type": "execute_result",
          "data": {
            "text/plain": [
              "1"
            ]
          },
          "metadata": {
            "tags": []
          },
          "execution_count": 8
        }
      ]
    },
    {
      "cell_type": "code",
      "metadata": {
        "colab": {
          "base_uri": "https://localhost:8080/"
        },
        "id": "sZobyNsKnqJK",
        "outputId": "9be1ec60-825f-47ea-8ea5-05f8a7e1e0b7"
      },
      "source": [
        "b.ndim"
      ],
      "execution_count": 9,
      "outputs": [
        {
          "output_type": "execute_result",
          "data": {
            "text/plain": [
              "2"
            ]
          },
          "metadata": {
            "tags": []
          },
          "execution_count": 9
        }
      ]
    },
    {
      "cell_type": "code",
      "metadata": {
        "colab": {
          "base_uri": "https://localhost:8080/"
        },
        "id": "FHkP0fvHnzUk",
        "outputId": "02d88a09-6813-4832-c793-ff5e177c3476"
      },
      "source": [
        "a.dtype"
      ],
      "execution_count": 10,
      "outputs": [
        {
          "output_type": "execute_result",
          "data": {
            "text/plain": [
              "dtype('int64')"
            ]
          },
          "metadata": {
            "tags": []
          },
          "execution_count": 10
        }
      ]
    },
    {
      "cell_type": "code",
      "metadata": {
        "colab": {
          "base_uri": "https://localhost:8080/"
        },
        "id": "VOZ3fJYYn-Oo",
        "outputId": "2849b3fb-930c-46af-dcc3-0b38262a11c6"
      },
      "source": [
        "c = np.array([(1,2,3),(4,5.5,6)])\r\n",
        "c"
      ],
      "execution_count": 14,
      "outputs": [
        {
          "output_type": "execute_result",
          "data": {
            "text/plain": [
              "array([[1. , 2. , 3. ],\n",
              "       [4. , 5.5, 6. ]])"
            ]
          },
          "metadata": {
            "tags": []
          },
          "execution_count": 14
        }
      ]
    },
    {
      "cell_type": "code",
      "metadata": {
        "colab": {
          "base_uri": "https://localhost:8080/"
        },
        "id": "XYYKHyoDn3kE",
        "outputId": "f1aa7f49-0041-4850-c5f6-8d4c1a16484a"
      },
      "source": [
        "c.dtype"
      ],
      "execution_count": 15,
      "outputs": [
        {
          "output_type": "execute_result",
          "data": {
            "text/plain": [
              "dtype('float64')"
            ]
          },
          "metadata": {
            "tags": []
          },
          "execution_count": 15
        }
      ]
    },
    {
      "cell_type": "code",
      "metadata": {
        "colab": {
          "base_uri": "https://localhost:8080/"
        },
        "id": "3Vb1CgHoowmz",
        "outputId": "55809495-a346-4d88-a10c-2eb783a2d4b5"
      },
      "source": [
        "np.zeros(((3,5)))"
      ],
      "execution_count": 17,
      "outputs": [
        {
          "output_type": "execute_result",
          "data": {
            "text/plain": [
              "array([[0., 0., 0., 0., 0.],\n",
              "       [0., 0., 0., 0., 0.],\n",
              "       [0., 0., 0., 0., 0.]])"
            ]
          },
          "metadata": {
            "tags": []
          },
          "execution_count": 17
        }
      ]
    },
    {
      "cell_type": "code",
      "metadata": {
        "colab": {
          "base_uri": "https://localhost:8080/"
        },
        "id": "Xsjr74THpQfv",
        "outputId": "9e2d7f93-ca5e-4e7d-a9ad-3429069cd466"
      },
      "source": [
        "np.ones((3,5))"
      ],
      "execution_count": 18,
      "outputs": [
        {
          "output_type": "execute_result",
          "data": {
            "text/plain": [
              "array([[1., 1., 1., 1., 1.],\n",
              "       [1., 1., 1., 1., 1.],\n",
              "       [1., 1., 1., 1., 1.]])"
            ]
          },
          "metadata": {
            "tags": []
          },
          "execution_count": 18
        }
      ]
    },
    {
      "cell_type": "code",
      "metadata": {
        "colab": {
          "base_uri": "https://localhost:8080/"
        },
        "id": "rttpGRBNpYkf",
        "outputId": "34e52837-6316-4067-c1c6-9f227d48c2d3"
      },
      "source": [
        "np.full((3,3), 777.7) #특정숫자 넣기"
      ],
      "execution_count": 20,
      "outputs": [
        {
          "output_type": "execute_result",
          "data": {
            "text/plain": [
              "array([[777.7, 777.7, 777.7],\n",
              "       [777.7, 777.7, 777.7],\n",
              "       [777.7, 777.7, 777.7]])"
            ]
          },
          "metadata": {
            "tags": []
          },
          "execution_count": 20
        }
      ]
    },
    {
      "cell_type": "code",
      "metadata": {
        "colab": {
          "base_uri": "https://localhost:8080/"
        },
        "id": "jw6z8y3OpfyY",
        "outputId": "54732aa9-2078-4360-c7b1-b53b34044446"
      },
      "source": [
        "np.arange(1,20,2) #1부터 20까지 2개씩 띄워서"
      ],
      "execution_count": 22,
      "outputs": [
        {
          "output_type": "execute_result",
          "data": {
            "text/plain": [
              "array([ 1,  3,  5,  7,  9, 11, 13, 15, 17, 19])"
            ]
          },
          "metadata": {
            "tags": []
          },
          "execution_count": 22
        }
      ]
    },
    {
      "cell_type": "code",
      "metadata": {
        "colab": {
          "base_uri": "https://localhost:8080/"
        },
        "id": "8nFZsjfipovr",
        "outputId": "f8b053ae-2b50-489c-9a74-5d8bced37ce7"
      },
      "source": [
        "np.linspace(0,10,2)#시작과 끝점을 정해주고 2개를 써라"
      ],
      "execution_count": 24,
      "outputs": [
        {
          "output_type": "execute_result",
          "data": {
            "text/plain": [
              "array([ 0., 10.])"
            ]
          },
          "metadata": {
            "tags": []
          },
          "execution_count": 24
        }
      ]
    },
    {
      "cell_type": "code",
      "metadata": {
        "colab": {
          "base_uri": "https://localhost:8080/"
        },
        "id": "4AztBKoCp4WT",
        "outputId": "8e623502-ed8f-4fa3-fc5a-9cce8e421bb7"
      },
      "source": [
        "e = np.array([1,2,3,4])\r\n",
        "f = np.arange(4)\r\n",
        "f"
      ],
      "execution_count": 25,
      "outputs": [
        {
          "output_type": "execute_result",
          "data": {
            "text/plain": [
              "array([0, 1, 2, 3])"
            ]
          },
          "metadata": {
            "tags": []
          },
          "execution_count": 25
        }
      ]
    },
    {
      "cell_type": "code",
      "metadata": {
        "colab": {
          "base_uri": "https://localhost:8080/"
        },
        "id": "mQ3n8niMqRZd",
        "outputId": "4a3564d0-2c8f-4c0a-e67a-0380feb417d7"
      },
      "source": [
        "e*f"
      ],
      "execution_count": 26,
      "outputs": [
        {
          "output_type": "execute_result",
          "data": {
            "text/plain": [
              "array([ 0,  2,  6, 12])"
            ]
          },
          "metadata": {
            "tags": []
          },
          "execution_count": 26
        }
      ]
    },
    {
      "cell_type": "code",
      "metadata": {
        "colab": {
          "base_uri": "https://localhost:8080/"
        },
        "id": "7S4HN9UCqWS-",
        "outputId": "15bdb441-d52c-4d2f-c069-297e3ce109d8"
      },
      "source": [
        "e-f"
      ],
      "execution_count": 27,
      "outputs": [
        {
          "output_type": "execute_result",
          "data": {
            "text/plain": [
              "array([1, 1, 1, 1])"
            ]
          },
          "metadata": {
            "tags": []
          },
          "execution_count": 27
        }
      ]
    },
    {
      "cell_type": "code",
      "metadata": {
        "colab": {
          "base_uri": "https://localhost:8080/"
        },
        "id": "z--zvpn4qi25",
        "outputId": "f669f126-7c0d-4c5a-e495-8c433a1908ef"
      },
      "source": [
        "e*3"
      ],
      "execution_count": 28,
      "outputs": [
        {
          "output_type": "execute_result",
          "data": {
            "text/plain": [
              "array([ 3,  6,  9, 12])"
            ]
          },
          "metadata": {
            "tags": []
          },
          "execution_count": 28
        }
      ]
    },
    {
      "cell_type": "code",
      "metadata": {
        "colab": {
          "base_uri": "https://localhost:8080/"
        },
        "id": "3bQ4bdDZqwjF",
        "outputId": "d8d2bd58-c13b-4c26-f96c-4f61bb5b9677"
      },
      "source": [
        "e**3"
      ],
      "execution_count": 29,
      "outputs": [
        {
          "output_type": "execute_result",
          "data": {
            "text/plain": [
              "array([ 1,  8, 27, 64])"
            ]
          },
          "metadata": {
            "tags": []
          },
          "execution_count": 29
        }
      ]
    },
    {
      "cell_type": "code",
      "metadata": {
        "colab": {
          "base_uri": "https://localhost:8080/"
        },
        "id": "E7jH2mrqqzmd",
        "outputId": "31925484-5502-4afb-c099-1ef7553db7f9"
      },
      "source": [
        "g = np.arange(9).reshape(3,3)\r\n",
        "h = np.arange(9).reshape(3,3)+1\r\n",
        "h"
      ],
      "execution_count": 30,
      "outputs": [
        {
          "output_type": "execute_result",
          "data": {
            "text/plain": [
              "array([[1, 2, 3],\n",
              "       [4, 5, 6],\n",
              "       [7, 8, 9]])"
            ]
          },
          "metadata": {
            "tags": []
          },
          "execution_count": 30
        }
      ]
    },
    {
      "cell_type": "code",
      "metadata": {
        "colab": {
          "base_uri": "https://localhost:8080/"
        },
        "id": "lp8A68P7rGib",
        "outputId": "75533798-9e9f-42e0-e675-8eae0d591a0b"
      },
      "source": [
        "g"
      ],
      "execution_count": 31,
      "outputs": [
        {
          "output_type": "execute_result",
          "data": {
            "text/plain": [
              "array([[0, 1, 2],\n",
              "       [3, 4, 5],\n",
              "       [6, 7, 8]])"
            ]
          },
          "metadata": {
            "tags": []
          },
          "execution_count": 31
        }
      ]
    },
    {
      "cell_type": "code",
      "metadata": {
        "colab": {
          "base_uri": "https://localhost:8080/"
        },
        "id": "x0u6ijD5rRgH",
        "outputId": "7e542fed-6ef5-45e1-a267-2ac6d4f58f2b"
      },
      "source": [
        "g*h"
      ],
      "execution_count": 32,
      "outputs": [
        {
          "output_type": "execute_result",
          "data": {
            "text/plain": [
              "array([[ 0,  2,  6],\n",
              "       [12, 20, 30],\n",
              "       [42, 56, 72]])"
            ]
          },
          "metadata": {
            "tags": []
          },
          "execution_count": 32
        }
      ]
    },
    {
      "cell_type": "code",
      "metadata": {
        "colab": {
          "base_uri": "https://localhost:8080/"
        },
        "id": "WiFLs8kJraZO",
        "outputId": "9b388d30-3fc7-4f57-fe67-6c796a5d3f61"
      },
      "source": [
        "g**h #지수"
      ],
      "execution_count": 33,
      "outputs": [
        {
          "output_type": "execute_result",
          "data": {
            "text/plain": [
              "array([[        0,         1,         8],\n",
              "       [       81,      1024,     15625],\n",
              "       [   279936,   5764801, 134217728]])"
            ]
          },
          "metadata": {
            "tags": []
          },
          "execution_count": 33
        }
      ]
    },
    {
      "cell_type": "code",
      "metadata": {
        "colab": {
          "base_uri": "https://localhost:8080/"
        },
        "id": "irL3mwKVrh7A",
        "outputId": "eac5886f-79cd-4a98-f7ed-b9dd7e733f1d"
      },
      "source": [
        "g**h"
      ],
      "execution_count": 34,
      "outputs": [
        {
          "output_type": "execute_result",
          "data": {
            "text/plain": [
              "array([[        0,         1,         8],\n",
              "       [       81,      1024,     15625],\n",
              "       [   279936,   5764801, 134217728]])"
            ]
          },
          "metadata": {
            "tags": []
          },
          "execution_count": 34
        }
      ]
    },
    {
      "cell_type": "code",
      "metadata": {
        "colab": {
          "base_uri": "https://localhost:8080/"
        },
        "id": "C3vnw6PHrwWl",
        "outputId": "92b6bcf3-fd31-475c-8508-491314e10e1e"
      },
      "source": [
        "g>3"
      ],
      "execution_count": 35,
      "outputs": [
        {
          "output_type": "execute_result",
          "data": {
            "text/plain": [
              "array([[False, False, False],\n",
              "       [False,  True,  True],\n",
              "       [ True,  True,  True]])"
            ]
          },
          "metadata": {
            "tags": []
          },
          "execution_count": 35
        }
      ]
    },
    {
      "cell_type": "code",
      "metadata": {
        "colab": {
          "base_uri": "https://localhost:8080/"
        },
        "id": "VNz5YZv0sB6_",
        "outputId": "2045c87d-77a4-4f28-e6c2-5dfdc7b00063"
      },
      "source": [
        "i = np.array([[[[1,2],[3,4]]]], dtype = np.float64)\r\n",
        "i"
      ],
      "execution_count": 36,
      "outputs": [
        {
          "output_type": "execute_result",
          "data": {
            "text/plain": [
              "array([[[[1., 2.],\n",
              "         [3., 4.]]]])"
            ]
          },
          "metadata": {
            "tags": []
          },
          "execution_count": 36
        }
      ]
    },
    {
      "cell_type": "code",
      "metadata": {
        "colab": {
          "base_uri": "https://localhost:8080/"
        },
        "id": "zIWxPAmBsll5",
        "outputId": "d3b0f2b3-f4ea-41b6-e1a1-96ebac13ed94"
      },
      "source": [
        "i.dtype"
      ],
      "execution_count": 37,
      "outputs": [
        {
          "output_type": "execute_result",
          "data": {
            "text/plain": [
              "dtype('float64')"
            ]
          },
          "metadata": {
            "tags": []
          },
          "execution_count": 37
        }
      ]
    },
    {
      "cell_type": "code",
      "metadata": {
        "colab": {
          "base_uri": "https://localhost:8080/"
        },
        "id": "ykBga04Zt5wy",
        "outputId": "187d5f4b-d5ab-499d-978d-521cb7eff571"
      },
      "source": [
        "i.ndim"
      ],
      "execution_count": 38,
      "outputs": [
        {
          "output_type": "execute_result",
          "data": {
            "text/plain": [
              "4"
            ]
          },
          "metadata": {
            "tags": []
          },
          "execution_count": 38
        }
      ]
    },
    {
      "cell_type": "code",
      "metadata": {
        "colab": {
          "base_uri": "https://localhost:8080/"
        },
        "id": "gTzD_JS_t8gf",
        "outputId": "8526d4d4-ab96-4543-8a95-98f4648ea499"
      },
      "source": [
        "#랜덤\r\n",
        "k = np.random.random((5,2))\r\n",
        "k"
      ],
      "execution_count": 52,
      "outputs": [
        {
          "output_type": "execute_result",
          "data": {
            "text/plain": [
              "array([[0.95860656, 0.13160745],\n",
              "       [0.70420248, 0.85631535],\n",
              "       [0.72764623, 0.41345459],\n",
              "       [0.99724668, 0.25101778],\n",
              "       [0.24889914, 0.28755935]])"
            ]
          },
          "metadata": {
            "tags": []
          },
          "execution_count": 52
        }
      ]
    },
    {
      "cell_type": "code",
      "metadata": {
        "colab": {
          "base_uri": "https://localhost:8080/"
        },
        "id": "t9wm8AbXufVu",
        "outputId": "c9a7520c-c59c-4c7c-ff0b-3aef4a8de2b2"
      },
      "source": [
        "k.min()"
      ],
      "execution_count": 55,
      "outputs": [
        {
          "output_type": "execute_result",
          "data": {
            "text/plain": [
              "0.1316074460278649"
            ]
          },
          "metadata": {
            "tags": []
          },
          "execution_count": 55
        }
      ]
    },
    {
      "cell_type": "code",
      "metadata": {
        "colab": {
          "base_uri": "https://localhost:8080/"
        },
        "id": "O3AooPCYun0g",
        "outputId": "5d5483d8-ac1e-495e-979c-d0d6f91a3db7"
      },
      "source": [
        "k.max()"
      ],
      "execution_count": 56,
      "outputs": [
        {
          "output_type": "execute_result",
          "data": {
            "text/plain": [
              "0.9972466798584038"
            ]
          },
          "metadata": {
            "tags": []
          },
          "execution_count": 56
        }
      ]
    },
    {
      "cell_type": "code",
      "metadata": {
        "colab": {
          "base_uri": "https://localhost:8080/"
        },
        "id": "GfET0sVOvr-E",
        "outputId": "abb00798-1ae4-484c-8030-0205caffdd48"
      },
      "source": [
        "k.mean()"
      ],
      "execution_count": 57,
      "outputs": [
        {
          "output_type": "execute_result",
          "data": {
            "text/plain": [
              "0.5576555594244663"
            ]
          },
          "metadata": {
            "tags": []
          },
          "execution_count": 57
        }
      ]
    },
    {
      "cell_type": "code",
      "metadata": {
        "colab": {
          "base_uri": "https://localhost:8080/"
        },
        "id": "ycfHwJ44vvak",
        "outputId": "d3c1fcba-b719-41a3-e315-2a2cbe6b49cd"
      },
      "source": [
        "k.sum()"
      ],
      "execution_count": 58,
      "outputs": [
        {
          "output_type": "execute_result",
          "data": {
            "text/plain": [
              "5.576555594244663"
            ]
          },
          "metadata": {
            "tags": []
          },
          "execution_count": 58
        }
      ]
    },
    {
      "cell_type": "code",
      "metadata": {
        "colab": {
          "base_uri": "https://localhost:8080/"
        },
        "id": "6JBFb1VAvx9L",
        "outputId": "a72c9495-9de5-4b7a-a523-e638f9670918"
      },
      "source": [
        "k.sum(axis=0)"
      ],
      "execution_count": 59,
      "outputs": [
        {
          "output_type": "execute_result",
          "data": {
            "text/plain": [
              "array([3.63660108, 1.93995452])"
            ]
          },
          "metadata": {
            "tags": []
          },
          "execution_count": 59
        }
      ]
    },
    {
      "cell_type": "code",
      "metadata": {
        "colab": {
          "base_uri": "https://localhost:8080/"
        },
        "id": "LIr_M66iv16S",
        "outputId": "4ef39fdd-990c-48eb-ef14-1c83772c659f"
      },
      "source": [
        "k.sum(axis=1)"
      ],
      "execution_count": 60,
      "outputs": [
        {
          "output_type": "execute_result",
          "data": {
            "text/plain": [
              "array([1.090214  , 1.56051783, 1.14110082, 1.24826446, 0.53645849])"
            ]
          },
          "metadata": {
            "tags": []
          },
          "execution_count": 60
        }
      ]
    },
    {
      "cell_type": "code",
      "metadata": {
        "colab": {
          "base_uri": "https://localhost:8080/"
        },
        "id": "GOkwDkIVv6mV",
        "outputId": "484ea552-7731-4d90-e76c-cce116d110f7"
      },
      "source": [
        "np.exp(k)"
      ],
      "execution_count": 61,
      "outputs": [
        {
          "output_type": "execute_result",
          "data": {
            "text/plain": [
              "array([[2.60805975, 1.14066046],\n",
              "       [2.02223326, 2.35446931],\n",
              "       [2.07020209, 1.51203222],\n",
              "       [2.71080782, 1.28533294],\n",
              "       [1.28261266, 1.33316971]])"
            ]
          },
          "metadata": {
            "tags": []
          },
          "execution_count": 61
        }
      ]
    },
    {
      "cell_type": "code",
      "metadata": {
        "colab": {
          "base_uri": "https://localhost:8080/"
        },
        "id": "t67exF2jv93n",
        "outputId": "96388d9b-5126-4725-a25d-fff3cd15f169"
      },
      "source": [
        "np.add(k,k)"
      ],
      "execution_count": 62,
      "outputs": [
        {
          "output_type": "execute_result",
          "data": {
            "text/plain": [
              "array([[1.91721311, 0.26321489],\n",
              "       [1.40840495, 1.71263071],\n",
              "       [1.45529246, 0.82690918],\n",
              "       [1.99449336, 0.50203556],\n",
              "       [0.49779828, 0.57511869]])"
            ]
          },
          "metadata": {
            "tags": []
          },
          "execution_count": 62
        }
      ]
    },
    {
      "cell_type": "code",
      "metadata": {
        "colab": {
          "base_uri": "https://localhost:8080/"
        },
        "id": "00HhvP7JwKYE",
        "outputId": "3f92e261-33d1-414f-c14c-2434172c42ec"
      },
      "source": [
        "np.sin(k) #싸인 값"
      ],
      "execution_count": 64,
      "outputs": [
        {
          "output_type": "execute_result",
          "data": {
            "text/plain": [
              "array([[0.8183916 , 0.13122786],\n",
              "       [0.64742622, 0.75543342],\n",
              "       [0.66511382, 0.40177522],\n",
              "       [0.83998017, 0.24838997],\n",
              "       [0.24633717, 0.28361263]])"
            ]
          },
          "metadata": {
            "tags": []
          },
          "execution_count": 64
        }
      ]
    },
    {
      "cell_type": "code",
      "metadata": {
        "colab": {
          "base_uri": "https://localhost:8080/"
        },
        "id": "3w9K6C2zwO-E",
        "outputId": "4a09ef13-53b6-45b3-c596-9681397a4c14"
      },
      "source": [
        "np.sin(k[0,0])"
      ],
      "execution_count": 65,
      "outputs": [
        {
          "output_type": "execute_result",
          "data": {
            "text/plain": [
              "0.8183916048562659"
            ]
          },
          "metadata": {
            "tags": []
          },
          "execution_count": 65
        }
      ]
    },
    {
      "cell_type": "code",
      "metadata": {
        "colab": {
          "base_uri": "https://localhost:8080/"
        },
        "id": "fIwlBjEVwa_c",
        "outputId": "f61a14cf-c770-4138-d09b-44f695f02310"
      },
      "source": [
        "k"
      ],
      "execution_count": 66,
      "outputs": [
        {
          "output_type": "execute_result",
          "data": {
            "text/plain": [
              "array([[0.95860656, 0.13160745],\n",
              "       [0.70420248, 0.85631535],\n",
              "       [0.72764623, 0.41345459],\n",
              "       [0.99724668, 0.25101778],\n",
              "       [0.24889914, 0.28755935]])"
            ]
          },
          "metadata": {
            "tags": []
          },
          "execution_count": 66
        }
      ]
    },
    {
      "cell_type": "code",
      "metadata": {
        "colab": {
          "base_uri": "https://localhost:8080/"
        },
        "id": "I0Dk-lVywdeT",
        "outputId": "04c9b5fa-5add-4164-d56d-c2a994afef6c"
      },
      "source": [
        "k[3]"
      ],
      "execution_count": 67,
      "outputs": [
        {
          "output_type": "execute_result",
          "data": {
            "text/plain": [
              "array([0.99724668, 0.25101778])"
            ]
          },
          "metadata": {
            "tags": []
          },
          "execution_count": 67
        }
      ]
    },
    {
      "cell_type": "code",
      "metadata": {
        "colab": {
          "base_uri": "https://localhost:8080/"
        },
        "id": "LRTB-epUwgMk",
        "outputId": "0fb7f02a-54e8-40e0-e60f-32037d1faa67"
      },
      "source": [
        "k[3:]"
      ],
      "execution_count": 68,
      "outputs": [
        {
          "output_type": "execute_result",
          "data": {
            "text/plain": [
              "array([[0.99724668, 0.25101778],\n",
              "       [0.24889914, 0.28755935]])"
            ]
          },
          "metadata": {
            "tags": []
          },
          "execution_count": 68
        }
      ]
    },
    {
      "cell_type": "code",
      "metadata": {
        "colab": {
          "base_uri": "https://localhost:8080/"
        },
        "id": "k4kdcn7BwkPq",
        "outputId": "da422a4c-452c-497e-9837-89e43c89505a"
      },
      "source": [
        "k[:3,:1]"
      ],
      "execution_count": 69,
      "outputs": [
        {
          "output_type": "execute_result",
          "data": {
            "text/plain": [
              "array([[0.95860656],\n",
              "       [0.70420248],\n",
              "       [0.72764623]])"
            ]
          },
          "metadata": {
            "tags": []
          },
          "execution_count": 69
        }
      ]
    },
    {
      "cell_type": "code",
      "metadata": {
        "colab": {
          "base_uri": "https://localhost:8080/"
        },
        "id": "_uQJ1cV6woBH",
        "outputId": "78644038-66c6-485d-902b-8bdecb969761"
      },
      "source": [
        "k[:3]"
      ],
      "execution_count": 70,
      "outputs": [
        {
          "output_type": "execute_result",
          "data": {
            "text/plain": [
              "array([[0.95860656, 0.13160745],\n",
              "       [0.70420248, 0.85631535],\n",
              "       [0.72764623, 0.41345459]])"
            ]
          },
          "metadata": {
            "tags": []
          },
          "execution_count": 70
        }
      ]
    },
    {
      "cell_type": "code",
      "metadata": {
        "colab": {
          "base_uri": "https://localhost:8080/"
        },
        "id": "YHAmPGMhw1Oj",
        "outputId": "57381d04-458c-412d-baec-0c9ea2551295"
      },
      "source": [
        "k"
      ],
      "execution_count": 72,
      "outputs": [
        {
          "output_type": "execute_result",
          "data": {
            "text/plain": [
              "array([[0.95860656, 0.13160745],\n",
              "       [0.70420248, 0.85631535],\n",
              "       [0.72764623, 0.41345459],\n",
              "       [0.99724668, 0.25101778],\n",
              "       [0.24889914, 0.28755935]])"
            ]
          },
          "metadata": {
            "tags": []
          },
          "execution_count": 72
        }
      ]
    },
    {
      "cell_type": "code",
      "metadata": {
        "colab": {
          "base_uri": "https://localhost:8080/"
        },
        "id": "u00BB36Nxmhn",
        "outputId": "d09b805b-5c70-407f-91d9-b0633752401c"
      },
      "source": [
        "k[:3,1]"
      ],
      "execution_count": 73,
      "outputs": [
        {
          "output_type": "execute_result",
          "data": {
            "text/plain": [
              "array([0.13160745, 0.85631535, 0.41345459])"
            ]
          },
          "metadata": {
            "tags": []
          },
          "execution_count": 73
        }
      ]
    },
    {
      "cell_type": "code",
      "metadata": {
        "colab": {
          "base_uri": "https://localhost:8080/"
        },
        "id": "RzrgpXo5xsNI",
        "outputId": "2c7ed9b7-83af-4ade-f248-e2a758cbd856"
      },
      "source": [
        "k[0,1]"
      ],
      "execution_count": 74,
      "outputs": [
        {
          "output_type": "execute_result",
          "data": {
            "text/plain": [
              "0.1316074460278649"
            ]
          },
          "metadata": {
            "tags": []
          },
          "execution_count": 74
        }
      ]
    },
    {
      "cell_type": "code",
      "metadata": {
        "colab": {
          "base_uri": "https://localhost:8080/"
        },
        "id": "7-Qpck2px01I",
        "outputId": "8cfa159b-fcad-4d9b-abc2-593f8cb07cfc"
      },
      "source": [
        "k[0,1] = 3.333 #위치에 있는 값 바꾸기\r\n",
        "k"
      ],
      "execution_count": 76,
      "outputs": [
        {
          "output_type": "execute_result",
          "data": {
            "text/plain": [
              "array([[0.95860656, 3.333     ],\n",
              "       [0.70420248, 0.85631535],\n",
              "       [0.72764623, 0.41345459],\n",
              "       [0.99724668, 0.25101778],\n",
              "       [0.24889914, 0.28755935]])"
            ]
          },
          "metadata": {
            "tags": []
          },
          "execution_count": 76
        }
      ]
    },
    {
      "cell_type": "code",
      "metadata": {
        "colab": {
          "base_uri": "https://localhost:8080/"
        },
        "id": "XdZ4sGmyyCX0",
        "outputId": "58e281fc-1eb4-4078-8ff7-53fe616777be"
      },
      "source": [
        "k[-1]"
      ],
      "execution_count": 77,
      "outputs": [
        {
          "output_type": "execute_result",
          "data": {
            "text/plain": [
              "array([0.24889914, 0.28755935])"
            ]
          },
          "metadata": {
            "tags": []
          },
          "execution_count": 77
        }
      ]
    },
    {
      "cell_type": "code",
      "metadata": {
        "colab": {
          "base_uri": "https://localhost:8080/"
        },
        "id": "ZRoJEAUCyYZ8",
        "outputId": "ec6a103e-993f-4bd8-d813-6e8c51c855e6"
      },
      "source": [
        "k"
      ],
      "execution_count": 78,
      "outputs": [
        {
          "output_type": "execute_result",
          "data": {
            "text/plain": [
              "array([[0.95860656, 3.333     ],\n",
              "       [0.70420248, 0.85631535],\n",
              "       [0.72764623, 0.41345459],\n",
              "       [0.99724668, 0.25101778],\n",
              "       [0.24889914, 0.28755935]])"
            ]
          },
          "metadata": {
            "tags": []
          },
          "execution_count": 78
        }
      ]
    },
    {
      "cell_type": "code",
      "metadata": {
        "colab": {
          "base_uri": "https://localhost:8080/"
        },
        "id": "zpr21cybycFb",
        "outputId": "a23849ef-e672-41f2-fe15-0992212e6272"
      },
      "source": [
        "k[-3]"
      ],
      "execution_count": 79,
      "outputs": [
        {
          "output_type": "execute_result",
          "data": {
            "text/plain": [
              "array([0.72764623, 0.41345459])"
            ]
          },
          "metadata": {
            "tags": []
          },
          "execution_count": 79
        }
      ]
    },
    {
      "cell_type": "code",
      "metadata": {
        "colab": {
          "base_uri": "https://localhost:8080/"
        },
        "id": "3xBn-PYuyeyG",
        "outputId": "ad8dabdf-b595-45ca-d4fc-434ea99348e3"
      },
      "source": [
        "k[:-1]"
      ],
      "execution_count": 80,
      "outputs": [
        {
          "output_type": "execute_result",
          "data": {
            "text/plain": [
              "array([[0.95860656, 3.333     ],\n",
              "       [0.70420248, 0.85631535],\n",
              "       [0.72764623, 0.41345459],\n",
              "       [0.99724668, 0.25101778]])"
            ]
          },
          "metadata": {
            "tags": []
          },
          "execution_count": 80
        }
      ]
    },
    {
      "cell_type": "code",
      "metadata": {
        "colab": {
          "base_uri": "https://localhost:8080/"
        },
        "id": "yoIu6JL-yjx2",
        "outputId": "4941b612-c962-48a3-c6d6-cb424fed99d5"
      },
      "source": [
        "k[:-1,-2]"
      ],
      "execution_count": 81,
      "outputs": [
        {
          "output_type": "execute_result",
          "data": {
            "text/plain": [
              "array([0.95860656, 0.70420248, 0.72764623, 0.99724668])"
            ]
          },
          "metadata": {
            "tags": []
          },
          "execution_count": 81
        }
      ]
    },
    {
      "cell_type": "code",
      "metadata": {
        "colab": {
          "base_uri": "https://localhost:8080/"
        },
        "id": "uhulU8fSy5YZ",
        "outputId": "f01b060b-474b-48a7-b89f-9c8f00ad6034"
      },
      "source": [
        "for i in k[1:3]: \r\n",
        "  print(i)"
      ],
      "execution_count": 82,
      "outputs": [
        {
          "output_type": "stream",
          "text": [
            "[0.70420248 0.85631535]\n",
            "[0.72764623 0.41345459]\n"
          ],
          "name": "stdout"
        }
      ]
    },
    {
      "cell_type": "code",
      "metadata": {
        "id": "XLb9tc_GzYqf"
      },
      "source": [
        ""
      ],
      "execution_count": null,
      "outputs": []
    }
  ]
}