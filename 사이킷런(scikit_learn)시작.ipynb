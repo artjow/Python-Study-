{
  "nbformat": 4,
  "nbformat_minor": 0,
  "metadata": {
    "colab": {
      "name": "사이킷런(scikit-learn)시작.ipynb",
      "provenance": [],
      "authorship_tag": "ABX9TyMwnVyBFsKBAz5cBmaBduvE",
      "include_colab_link": true
    },
    "kernelspec": {
      "name": "python3",
      "display_name": "Python 3"
    }
  },
  "cells": [
    {
      "cell_type": "markdown",
      "metadata": {
        "id": "view-in-github",
        "colab_type": "text"
      },
      "source": [
        "<a href=\"https://colab.research.google.com/github/chohyungrae/Python-Study-/blob/master/%EC%82%AC%EC%9D%B4%ED%82%B7%EB%9F%B0(scikit_learn)%EC%8B%9C%EC%9E%91.ipynb\" target=\"_parent\"><img src=\"https://colab.research.google.com/assets/colab-badge.svg\" alt=\"Open In Colab\"/></a>"
      ]
    },
    {
      "cell_type": "markdown",
      "metadata": {
        "id": "Sly2PFhd2UUn"
      },
      "source": [
        "https://www.youtube.com/watch?v=eVxGhCRN-xA"
      ]
    },
    {
      "cell_type": "code",
      "metadata": {
        "id": "AU8Z-Ubk0m6X"
      },
      "source": [
        "import numpy as np\r\n",
        "import matplotlib.pyplot as plt\r\n",
        "plt.style.use(['seaborn-whitegrid'])"
      ],
      "execution_count": 1,
      "outputs": []
    },
    {
      "cell_type": "code",
      "metadata": {
        "colab": {
          "base_uri": "https://localhost:8080/",
          "height": 281
        },
        "id": "z_C7SerA03Ug",
        "outputId": "6ebadb13-9c0b-418e-830a-3cf238ae8983"
      },
      "source": [
        "x = 10*np.random.rand(50)\r\n",
        "y = 2*x+np.random.rand(50)\r\n",
        "plt.scatter(x,y)"
      ],
      "execution_count": 2,
      "outputs": [
        {
          "output_type": "execute_result",
          "data": {
            "text/plain": [
              "<matplotlib.collections.PathCollection at 0x7fc2c7b817f0>"
            ]
          },
          "metadata": {
            "tags": []
          },
          "execution_count": 2
        },
        {
          "output_type": "display_data",
          "data": {
            "image/png": "[encoded data removed]",
            "text/plain": [
              "<Figure size 432x288 with 1 Axes>"
            ]
          },
          "metadata": {
            "tags": [],
            "needs_background": "light"
          }
        }
      ]
    },
    {
      "cell_type": "code",
      "metadata": {
        "id": "vcon3K_g1QG6"
      },
      "source": [
        "#1.적절한 estimator클래스를 임포트해서 모델의 클래스 선택\r\n",
        "from sklearn.linear_model import LinearRegression"
      ],
      "execution_count": 3,
      "outputs": []
    },
    {
      "cell_type": "code",
      "metadata": {
        "id": "h6vKAm6B2MPB"
      },
      "source": [
        ""
      ],
      "execution_count": null,
      "outputs": []
    }
  ]
}