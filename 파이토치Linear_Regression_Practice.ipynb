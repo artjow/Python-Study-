{
  "nbformat": 4,
  "nbformat_minor": 0,
  "metadata": {
    "colab": {
      "name": "파이토치Linear Regression Practice.ipynb",
      "provenance": [],
      "authorship_tag": "ABX9TyMmiuW2cOz7hVH66xoHiVFb",
      "include_colab_link": true
    },
    "kernelspec": {
      "name": "python3",
      "display_name": "Python 3"
    }
  },
  "cells": [
    {
      "cell_type": "markdown",
      "metadata": {
        "id": "view-in-github",
        "colab_type": "text"
      },
      "source": [
        "<a href=\"https://colab.research.google.com/github/chohyungrae/Python-Study-/blob/master/%ED%8C%8C%EC%9D%B4%ED%86%A0%EC%B9%98Linear_Regression_Practice.ipynb\" target=\"_parent\"><img src=\"https://colab.research.google.com/assets/colab-badge.svg\" alt=\"Open In Colab\"/></a>"
      ]
    },
    {
      "cell_type": "markdown",
      "metadata": {
        "id": "FvjgEcaqYBNW"
      },
      "source": [
        "https://www.youtube.com/watch?v=nQqMT0wbthw&list=PLSAJwo7mw8jn8iaXwT4MqLbZnS-LJwnBd&index=3"
      ]
    },
    {
      "cell_type": "code",
      "metadata": {
        "id": "QUkrK2kiX3YK"
      },
      "source": [
        "X=list(range(10))\r\n",
        "Y=[0,1,3,3,4,5,6,6,7,9]"
      ],
      "execution_count": 8,
      "outputs": []
    },
    {
      "cell_type": "code",
      "metadata": {
        "colab": {
          "base_uri": "https://localhost:8080/",
          "height": 284
        },
        "id": "BBohBQ2tYUNo",
        "outputId": "5b359df9-f042-43dc-9bf6-4cb96126771b"
      },
      "source": [
        "import matplotlib.pyplot as plt\r\n",
        "plt.plot(X,Y)\r\n"
      ],
      "execution_count": 9,
      "outputs": [
        {
          "output_type": "execute_result",
          "data": {
            "text/plain": [
              "[<matplotlib.lines.Line2D at 0x7f15c045b390>]"
            ]
          },
          "metadata": {
            "tags": []
          },
          "execution_count": 9
        },
        {
          "output_type": "display_data",
          "data": {
            "image/png": "[encoded data removed]",
            "text/plain": [
              "<Figure size 432x288 with 1 Axes>"
            ]
          },
          "metadata": {
            "tags": [],
            "needs_background": "light"
          }
        }
      ]
    },
    {
      "cell_type": "code",
      "metadata": {
        "colab": {
          "base_uri": "https://localhost:8080/",
          "height": 284
        },
        "id": "sq1h3VIfYcSp",
        "outputId": "42172518-7a0f-4b74-b0bd-7b95d04a5443"
      },
      "source": [
        "plt.plot(X,Y)\r\n",
        "plt.scatter(X,Y)"
      ],
      "execution_count": 11,
      "outputs": [
        {
          "output_type": "execute_result",
          "data": {
            "text/plain": [
              "<matplotlib.collections.PathCollection at 0x7f15bfda06d0>"
            ]
          },
          "metadata": {
            "tags": []
          },
          "execution_count": 11
        },
        {
          "output_type": "display_data",
          "data": {
            "image/png": "[encoded data removed]",
            "text/plain": [
              "<Figure size 432x288 with 1 Axes>"
            ]
          },
          "metadata": {
            "tags": [],
            "needs_background": "light"
          }
        }
      ]
    },
    {
      "cell_type": "code",
      "metadata": {
        "colab": {
          "base_uri": "https://localhost:8080/"
        },
        "id": "9WVUFUKuZmVc",
        "outputId": "60d797c9-427e-4a41-fe48-6819ed4d8934"
      },
      "source": [
        "class H():\r\n",
        "  def __init__(self, w):\r\n",
        "    self.w = w\r\n",
        "\r\n",
        "  def forward(self, x):\r\n",
        "    return self.w * x\r\n",
        "\r\n",
        "def cost(h,X,Y):\r\n",
        "  error = 0\r\n",
        "  for i in range(len(X)):\r\n",
        "    error +=(h.forward(X[i]) - Y[i])**2\r\n",
        "  error = error / len(X)\r\n",
        "  return error\r\n",
        "\r\n",
        "h = H(4)\r\n",
        "cost(h,X,Y)"
      ],
      "execution_count": 13,
      "outputs": [
        {
          "output_type": "execute_result",
          "data": {
            "text/plain": [
              "264.6"
            ]
          },
          "metadata": {
            "tags": []
          },
          "execution_count": 13
        }
      ]
    },
    {
      "cell_type": "code",
      "metadata": {
        "colab": {
          "base_uri": "https://localhost:8080/"
        },
        "id": "FedOYxw8bHYx",
        "outputId": "a375c56e-e6cf-4df1-cf80-47628d3b0495"
      },
      "source": [
        "for i in range(100):\r\n",
        "  w = i * 0.1\r\n",
        "  h = H(w)\r\n",
        "  c = cost(h,X,Y)\r\n",
        "  print(c)"
      ],
      "execution_count": 15,
      "outputs": [
        {
          "output_type": "stream",
          "text": [
            "26.2\n",
            "21.044999999999998\n",
            "16.46\n",
            "12.444999999999997\n",
            "9.0\n",
            "6.125\n",
            "3.819999999999998\n",
            "2.084999999999999\n",
            "0.9199999999999996\n",
            "0.32499999999999996\n",
            "0.3\n",
            "0.8450000000000006\n",
            "1.9600000000000026\n",
            "3.645000000000001\n",
            "5.900000000000003\n",
            "8.725\n",
            "12.120000000000001\n",
            "16.085000000000008\n",
            "20.619999999999997\n",
            "25.725000000000005\n",
            "31.4\n",
            "37.64500000000001\n",
            "44.460000000000015\n",
            "51.84500000000001\n",
            "59.800000000000026\n",
            "68.325\n",
            "77.42\n",
            "87.08500000000002\n",
            "97.32000000000002\n",
            "108.12500000000004\n",
            "119.5\n",
            "131.44500000000002\n",
            "143.96\n",
            "157.04500000000002\n",
            "170.70000000000005\n",
            "184.925\n",
            "199.72\n",
            "215.08500000000004\n",
            "231.02000000000007\n",
            "247.525\n",
            "264.6\n",
            "282.24500000000006\n",
            "300.46000000000004\n",
            "319.24499999999995\n",
            "338.6\n",
            "358.525\n",
            "379.02000000000015\n",
            "400.08500000000004\n",
            "421.72000000000014\n",
            "443.92500000000007\n",
            "466.7\n",
            "490.0450000000002\n",
            "513.96\n",
            "538.4450000000002\n",
            "563.5000000000001\n",
            "589.125\n",
            "615.32\n",
            "642.085\n",
            "669.4200000000003\n",
            "697.325\n",
            "725.8\n",
            "754.8450000000001\n",
            "784.46\n",
            "814.6450000000002\n",
            "845.4000000000002\n",
            "876.725\n",
            "908.6200000000001\n",
            "941.085\n",
            "974.1200000000002\n",
            "1007.7250000000001\n",
            "1041.9\n",
            "1076.645\n",
            "1111.96\n",
            "1147.8450000000005\n",
            "1184.3000000000004\n",
            "1221.325\n",
            "1258.92\n",
            "1297.085\n",
            "1335.8200000000002\n",
            "1375.1250000000005\n",
            "1415.0\n",
            "1455.4449999999997\n",
            "1496.4600000000005\n",
            "1538.0450000000005\n",
            "1580.2000000000003\n",
            "1622.925\n",
            "1666.2199999999998\n",
            "1710.0850000000003\n",
            "1754.5200000000004\n",
            "1799.525\n",
            "1845.1\n",
            "1891.2449999999997\n",
            "1937.9600000000005\n",
            "1985.2450000000003\n",
            "2033.1\n",
            "2081.525\n",
            "2130.520000000001\n",
            "2180.0850000000005\n",
            "2230.2200000000003\n",
            "2280.925\n"
          ],
          "name": "stdout"
        }
      ]
    },
    {
      "cell_type": "code",
      "metadata": {
        "id": "6tYKmH6LcLeS"
      },
      "source": [
        ""
      ],
      "execution_count": null,
      "outputs": []
    }
  ]
}