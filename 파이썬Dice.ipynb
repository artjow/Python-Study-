{
  "nbformat": 4,
  "nbformat_minor": 0,
  "metadata": {
    "colab": {
      "name": "파이썬Dice.ipynb",
      "provenance": [],
      "authorship_tag": "ABX9TyOmshBLUIJ3UBBHVH6E48WI",
      "include_colab_link": true
    },
    "kernelspec": {
      "name": "python3",
      "display_name": "Python 3"
    }
  },
  "cells": [
    {
      "cell_type": "markdown",
      "metadata": {
        "id": "view-in-github",
        "colab_type": "text"
      },
      "source": [
        "<a href=\"https://colab.research.google.com/github/chohyungrae/Python-Study-/blob/master/%ED%8C%8C%EC%9D%B4%EC%8D%ACDice.ipynb\" target=\"_parent\"><img src=\"https://colab.research.google.com/assets/colab-badge.svg\" alt=\"Open In Colab\"/></a>"
      ]
    },
    {
      "cell_type": "markdown",
      "metadata": {
        "id": "3B1tyLsGYyiv"
      },
      "source": [
        "파이썬 게임 프로젝트들\r\n",
        "https://data-flair.training/blogs/python-project-ideas/"
      ]
    },
    {
      "cell_type": "code",
      "metadata": {
        "colab": {
          "base_uri": "https://localhost:8080/"
        },
        "id": "OMl9Dk2uV8mK",
        "outputId": "07393a34-9aa1-490c-cd80-7778dc6f9cd2"
      },
      "source": [
        "'''\r\n",
        "주사위 굴리는 것을 시뮬레이션하기 위해 random 모듈의 \r\n",
        "randint() 함수를 사용합니다. 다음 코드가 실행되면 \r\n",
        "1~6 중 하나의 숫자가 무작위로 출력됩니다.\r\n",
        "'''\r\n",
        "\r\n",
        "import random\r\n",
        "print(random.randint(1,6))"
      ],
      "execution_count": 3,
      "outputs": [
        {
          "output_type": "stream",
          "text": [
            "4\n"
          ],
          "name": "stdout"
        }
      ]
    },
    {
      "cell_type": "code",
      "metadata": {
        "colab": {
          "base_uri": "https://localhost:8080/"
        },
        "id": "_7X-mB4JWKnL",
        "outputId": "591c457f-f0c7-4475-f874-ed90e23e5b38"
      },
      "source": [
        "#주사위를 여러 번 굴리는 상황을 시뮬레이션하기 위해 for 반복문을 사용하고, \r\n",
        "#생성된 랜덤 숫자는 dice라는 이름의 리스트에 순서대로 저장합시다. \r\n",
        "#먼저 주사위를 5번 던진 상황을 생각해서 다음과 같이 코드를 작성합니다.\r\n",
        "\r\n",
        "import random\r\n",
        "dice = []\r\n",
        "for i in range(5):\r\n",
        "  dice.append(random.randint(1,6))\r\n",
        "  print(dice)"
      ],
      "execution_count": 4,
      "outputs": [
        {
          "output_type": "stream",
          "text": [
            "[5]\n",
            "[5, 1]\n",
            "[5, 1, 3]\n",
            "[5, 1, 3, 1]\n",
            "[5, 1, 3, 1, 3]\n"
          ],
          "name": "stdout"
        }
      ]
    },
    {
      "cell_type": "markdown",
      "metadata": {
        "id": "iewYLCB_X2yi"
      },
      "source": [
        " # 주사위 게임을 프로젝트"
      ]
    },
    {
      "cell_type": "code",
      "metadata": {
        "colab": {
          "base_uri": "https://localhost:8080/"
        },
        "id": "BShz4BPnX3fh",
        "outputId": "d0e05177-ec6b-4142-d458-9c9654e21d16"
      },
      "source": [
        "import random\r\n",
        "\r\n",
        "while True:\r\n",
        "\r\n",
        "        yes_or_no = input(\"주사위 게임을 더 하시겠습니까?\")\r\n",
        "\r\n",
        "        if yes_or_no == \"yes\":\r\n",
        "            print(\"첫번재 주사위 숫자 : {}\".format(random.randrange(1,7)))\r\n",
        "            print(\"두번재 주사위 숫자 : {}\".format(random.randrange(1,7)))\r\n",
        "\r\n",
        "        elif yes_or_no == \"no\":\r\n",
        "            print(\"주사위 게임을 종료합니다\")\r\n",
        "            break\r\n",
        "\r\n",
        "        else:\r\n",
        "            print(\"yes 또는 no 를 입력해주세요!\")\r\n",
        "            continue"
      ],
      "execution_count": 5,
      "outputs": [
        {
          "output_type": "stream",
          "text": [
            "주사위 게임을 더 하시겠습니까?y\n",
            "yes 또는 no 를 입력해주세요!\n",
            "주사위 게임을 더 하시겠습니까?n\n",
            "yes 또는 no 를 입력해주세요!\n",
            "주사위 게임을 더 하시겠습니까?no\n",
            "주사위 게임을 종료합니다\n"
          ],
          "name": "stdout"
        }
      ]
    },
    {
      "cell_type": "code",
      "metadata": {
        "colab": {
          "base_uri": "https://localhost:8080/",
          "height": 185
        },
        "id": "YQW7ra5pYA1z",
        "outputId": "6c8ae0ac-ca4c-4807-f50e-891abd9110d2"
      },
      "source": [
        "'''\r\n",
        "1. 예외를 잡아야 한다.\r\n",
        "yes 또는 no 이외의 다른 문구를 입력하는 경우도 있을 것이다. 그것을 잡아서\r\n",
        "유저가 게임에서 원하는 문구를 입력하도록 유도해야한다. 그리고 예외를 입력했다고해서\r\n",
        "유저가 더이상 게임을 참여하지 못하게 만드는 것이 아니라, 이를 바로잡아 유저가 계속 게임에\r\n",
        "참여시킬 수 있도록 만들어야 한다.\r\n",
        "그래서 else 문을 사용하여 예외를 잡고, 원래 게임으로 돌아갈 수 있도록 continue 문을 사용했다.\r\n",
        "--> 나중에 위 코드에서 더 발전시켜서 이전에 구현한 숫자 맞추기 게임에서 사용한 \r\n",
        "     이중 if 문을 사용하여 사용자가 입력하는 문구를 좀 더 세밀하게 잡을 수 있게 만들 수 있다고 \r\n",
        "     생각한다.\r\n",
        "\r\n",
        "2. 유저가 원할 때, 게임을 종료시킬 수 있어야 한다.\r\n",
        "유저는 무한정으로 게임을 할 수는 없다. 유저가 원할 때 게임을 종료할 수 있어야 한다.\r\n",
        "이를 위해서 elif 문에 break 문을 구현했다.\r\n",
        "\r\n",
        " 프로젝트 주의사항\r\n",
        "처음에는 저번 프로젝트에 사용한 try - except 문을 사용하려고 했으나\r\n",
        "디버깅 결과 except 문으로 커버하고자 하는 예외가 너무 넓었기에 except 가 \r\n",
        "계속 작동하지 않는 문제가 발생했고, 결국에는 try - except 문을 버리고 if - else 문으로 \r\n",
        "선회했다.\r\n",
        "'''"
      ],
      "execution_count": 6,
      "outputs": [
        {
          "output_type": "execute_result",
          "data": {
            "application/vnd.google.colaboratory.intrinsic+json": {
              "type": "string"
            },
            "text/plain": [
              "'\\n1. 예외를 잡아야 한다.\\nyes 또는 no 이외의 다른 문구를 입력하는 경우도 있을 것이다. 그것을 잡아서\\n유저가 게임에서 원하는 문구를 입력하도록 유도해야한다. 그리고 예외를 입력했다고해서\\n유저가 더이상 게임을 참여하지 못하게 만드는 것이 아니라, 이를 바로잡아 유저가 계속 게임에\\n참여시킬 수 있도록 만들어야 한다.\\n그래서 else 문을 사용하여 예외를 잡고, 원래 게임으로 돌아갈 수 있도록 continue 문을 사용했다.\\n--> 나중에 위 코드에서 더 발전시켜서 이전에 구현한 숫자 맞추기 게임에서 사용한 \\n     이중 if 문을 사용하여 사용자가 입력하는 문구를 좀 더 세밀하게 잡을 수 있게 만들 수 있다고 \\n     생각한다.\\n\\n2. 유저가 원할 때, 게임을 종료시킬 수 있어야 한다.\\n유저는 무한정으로 게임을 할 수는 없다. 유저가 원할 때 게임을 종료할 수 있어야 한다.\\n이를 위해서 elif 문에 break 문을 구현했다.\\n\\n 프로젝트 주의사항\\n처음에는 저번 프로젝트에 사용한 try - except 문을 사용하려고 했으나\\n디버깅 결과 except 문으로 커버하고자 하는 예외가 너무 넓었기에 except 가 \\n계속 작동하지 않는 문제가 발생했고, 결국에는 try - except 문을 버리고 if - else 문으로 \\n선회했다.\\n'"
            ]
          },
          "metadata": {
            "tags": []
          },
          "execution_count": 6
        }
      ]
    },
    {
      "cell_type": "code",
      "metadata": {
        "id": "fWldA9BAYaPk"
      },
      "source": [
        ""
      ],
      "execution_count": null,
      "outputs": []
    }
  ]
}